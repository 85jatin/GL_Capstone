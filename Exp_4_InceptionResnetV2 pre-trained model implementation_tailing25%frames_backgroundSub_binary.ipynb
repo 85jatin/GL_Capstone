{
 "cells": [
  {
   "cell_type": "markdown",
   "metadata": {},
   "source": [
    "Video Classification Model : https://towardsdatascience.com/transfer-learning-using-mobilenet-and-keras-c75daf7ff299"
   ]
  },
  {
   "cell_type": "markdown",
   "metadata": {},
   "source": [
    "## STEP 1:  import the required libraries"
   ]
  },
  {
   "cell_type": "code",
   "execution_count": 1,
   "metadata": {},
   "outputs": [
    {
     "name": "stderr",
     "output_type": "stream",
     "text": [
      "Using TensorFlow backend.\n"
     ]
    }
   ],
   "source": [
    "import keras\n",
    "from keras.models import Sequential\n",
    "from keras.layers import Dense, InputLayer, Dropout, Flatten\n",
    "from keras.layers import Conv2D, MaxPooling2D, GlobalMaxPooling2D\n",
    "from keras.preprocessing import image\n",
    "import numpy as np\n",
    "import pandas as pd\n",
    "import matplotlib.pyplot as plt\n",
    "from tqdm import tqdm\n",
    "from sklearn.model_selection import train_test_split\n",
    "import cv2\n",
    "from glob import glob\n",
    "import os\n",
    "\n",
    "from keras import backend as K\n",
    "from keras.layers.core import Dense, Activation\n",
    "from keras.optimizers import Adam\n",
    "from keras.metrics import categorical_crossentropy\n",
    "from keras.preprocessing.image import ImageDataGenerator\n",
    "from keras.models import Model\n",
    "from keras.applications import imagenet_utils\n",
    "from keras.applications import MobileNet\n",
    "from keras.applications.inception_v3 import InceptionV3\n",
    "from tensorflow.python.keras.applications.inception_resnet_v2 import InceptionResNetV2, preprocess_input\n",
    "from keras.applications.mobilenet import preprocess_input\n",
    "from IPython.display import Image\n",
    "from keras.optimizers import Adam"
   ]
  },
  {
   "cell_type": "markdown",
   "metadata": {},
   "source": [
    "## STEP 2: Read each frame and their corresponding tag"
   ]
  },
  {
   "cell_type": "code",
   "execution_count": 2,
   "metadata": {},
   "outputs": [
    {
     "data": {
      "text/html": [
       "<div>\n",
       "<style scoped>\n",
       "    .dataframe tbody tr th:only-of-type {\n",
       "        vertical-align: middle;\n",
       "    }\n",
       "\n",
       "    .dataframe tbody tr th {\n",
       "        vertical-align: top;\n",
       "    }\n",
       "\n",
       "    .dataframe thead th {\n",
       "        text-align: right;\n",
       "    }\n",
       "</style>\n",
       "<table border=\"1\" class=\"dataframe\">\n",
       "  <thead>\n",
       "    <tr style=\"text-align: right;\">\n",
       "      <th></th>\n",
       "      <th>image</th>\n",
       "      <th>class</th>\n",
       "    </tr>\n",
       "  </thead>\n",
       "  <tbody>\n",
       "    <tr>\n",
       "      <td>0</td>\n",
       "      <td>A_OffSide_shot1.mp4_frame100.jpg</td>\n",
       "      <td>OffSide</td>\n",
       "    </tr>\n",
       "    <tr>\n",
       "      <td>1</td>\n",
       "      <td>A_OffSide_shot1.mp4_frame101.jpg</td>\n",
       "      <td>OffSide</td>\n",
       "    </tr>\n",
       "    <tr>\n",
       "      <td>2</td>\n",
       "      <td>A_OffSide_shot1.mp4_frame102.jpg</td>\n",
       "      <td>OffSide</td>\n",
       "    </tr>\n",
       "    <tr>\n",
       "      <td>3</td>\n",
       "      <td>A_OffSide_shot1.mp4_frame103.jpg</td>\n",
       "      <td>OffSide</td>\n",
       "    </tr>\n",
       "    <tr>\n",
       "      <td>4</td>\n",
       "      <td>A_OffSide_shot1.mp4_frame104.jpg</td>\n",
       "      <td>OffSide</td>\n",
       "    </tr>\n",
       "  </tbody>\n",
       "</table>\n",
       "</div>"
      ],
      "text/plain": [
       "                              image    class\n",
       "0  A_OffSide_shot1.mp4_frame100.jpg  OffSide\n",
       "1  A_OffSide_shot1.mp4_frame101.jpg  OffSide\n",
       "2  A_OffSide_shot1.mp4_frame102.jpg  OffSide\n",
       "3  A_OffSide_shot1.mp4_frame103.jpg  OffSide\n",
       "4  A_OffSide_shot1.mp4_frame104.jpg  OffSide"
      ]
     },
     "execution_count": 2,
     "metadata": {},
     "output_type": "execute_result"
    }
   ],
   "source": [
    "train = pd.read_csv('train_new.csv')\n",
    "train.head()"
   ]
  },
  {
   "cell_type": "markdown",
   "metadata": {},
   "source": [
    "## STEP 3: Read the frames and then store them as a NumPy array"
   ]
  },
  {
   "cell_type": "code",
   "execution_count": 3,
   "metadata": {},
   "outputs": [
    {
     "name": "stderr",
     "output_type": "stream",
     "text": [
      "100%|██████████████████████████████████████████████████████████████████████████████████████████████████████████████████████████████████| 2596/2596 [00:38<00:00, 67.47it/s]\n"
     ]
    },
    {
     "data": {
      "text/plain": [
       "(2596, 299, 299, 3)"
      ]
     },
     "execution_count": 3,
     "metadata": {},
     "output_type": "execute_result"
    }
   ],
   "source": [
    "# creating an empty list\n",
    "train_image = []\n",
    "\n",
    "# for loop to read and store frames\n",
    "for i in tqdm(range(train.shape[0])):\n",
    "    # loading the image and keeping the target size as (224,224,3)\n",
    "    img = image.load_img('train_1/'+train['image'][i], target_size=(299,299,))\n",
    "    # converting it to array\n",
    "    img = image.img_to_array(img)\n",
    "    # normalizing the pixel value\n",
    "    img = img/255\n",
    "    # appending the image to the train_image list\n",
    "    train_image.append(img)\n",
    "    \n",
    "# converting the list to numpy array\n",
    "X = np.array(train_image)\n",
    "\n",
    "# shape of the array\n",
    "X.shape"
   ]
  },
  {
   "cell_type": "markdown",
   "metadata": {},
   "source": [
    "## STEP 4: Create the validation set"
   ]
  },
  {
   "cell_type": "code",
   "execution_count": 4,
   "metadata": {},
   "outputs": [],
   "source": [
    "# separating the target\n",
    "y = train['class']"
   ]
  },
  {
   "cell_type": "code",
   "execution_count": 5,
   "metadata": {},
   "outputs": [],
   "source": [
    "# creating the training and validation set\n",
    "X_train, X_test, y_train, y_test = train_test_split(X, y, random_state=42, test_size=0.2, stratify = y)"
   ]
  },
  {
   "cell_type": "markdown",
   "metadata": {},
   "source": [
    "## STEP 5: Create 4 different columns in the target, one for each category"
   ]
  },
  {
   "cell_type": "code",
   "execution_count": 6,
   "metadata": {},
   "outputs": [],
   "source": [
    "# creating dummies of target variable for train and validation set\n",
    "y_train = pd.get_dummies(y_train)\n",
    "y_test = pd.get_dummies(y_test)"
   ]
  },
  {
   "cell_type": "code",
   "execution_count": 7,
   "metadata": {},
   "outputs": [
    {
     "data": {
      "text/plain": [
       "OffSide    1756\n",
       "Legside     840\n",
       "Name: class, dtype: int64"
      ]
     },
     "execution_count": 7,
     "metadata": {},
     "output_type": "execute_result"
    }
   ],
   "source": [
    "train['class'].value_counts()"
   ]
  },
  {
   "cell_type": "markdown",
   "metadata": {},
   "source": [
    "## STEP 6: Use the InceptionResnetV3 pre-trained model to create the base model"
   ]
  },
  {
   "cell_type": "markdown",
   "metadata": {},
   "source": [
    "Lets now re-use InceptionResnetV3 as it records best performance, freeze the base layers and lets add and train the top few layers (https://medium.com/neuralspace/kaggle-1-winning-approach-for-image-classification-challenge-9c1188157a86)"
   ]
  },
  {
   "cell_type": "code",
   "execution_count": 23,
   "metadata": {
    "scrolled": true
   },
   "outputs": [
    {
     "name": "stdout",
     "output_type": "stream",
     "text": [
      "Downloading data from https://github.com/fchollet/deep-learning-models/releases/download/v0.7/inception_resnet_v2_weights_tf_dim_ordering_tf_kernels_notop.h5\n"
     ]
    },
    {
     "name": "stdout",
     "output_type": "stream",
     "text": [
      " 53985280/219055592 [======>.......................] - ETA: 2:03:3 - ETA: 1:22:5 - ETA: 1:13:5 - ETA: 1:10:3 - ETA: 48:09  - ETA: 48:2 - ETA: 32:4 - ETA: 28:5 - ETA: 27:1 - ETA: 19:3 - ETA: 17:5 - ETA: 16:2 - ETA: 12:3 - ETA: 10:2 - ETA: 10:2 - ETA: 9:3 - ETA: 7: - ETA: 7: - ETA: 7: - ETA: 7: - ETA: 6: - ETA: 6: - ETA: 6: - ETA: 6: - ETA: 5: - ETA: 5: - ETA: 5: - ETA: 5: - ETA: 5: - ETA: 4: - ETA: 4: - ETA: 4: - ETA: 4: - ETA: 4: - ETA: 4: - ETA: 4: - ETA: 4: - ETA: 4: - ETA: 4: - ETA: 4: - ETA: 4: - ETA: 4: - ETA: 4: - ETA: 4: - ETA: 4: - ETA: 4: - ETA: 4: - ETA: 4: - ETA: 4: - ETA: 4: - ETA: 4: - ETA: 4: - ETA: 4: - ETA: 4: - ETA: 4: - ETA: 4: - ETA: 4: - ETA: 4: - ETA: 4: - ETA: 4: - ETA: 4: - ETA: 4: - ETA: 4: - ETA: 4: - ETA: 4: - ETA: 4: - ETA: 4: - ETA: 4: - ETA: 4: - ETA: 4: - ETA: 4: - ETA: 3: - ETA: 3: - ETA: 3: - ETA: 3: - ETA: 3: - ETA: 3: - ETA: 3: - ETA: 3: - ETA: 3: - ETA: 3: - ETA: 3: - ETA: 3: - ETA: 3: - ETA: 3: - ETA: 3: - ETA: 3: - ETA: 3: - ETA: 3: - ETA: 3: - ETA: 3: - ETA: 3: - ETA: 3: - ETA: 3: - ETA: 3: - ETA: 3: - ETA: 3: - ETA: 3: - ETA: 3: - ETA: 3: - ETA: 3: - ETA: 3: - ETA: 3: - ETA: 3: - ETA: 3: - ETA: 3: - ETA: 3: - ETA: 3: - ETA: 3: - ETA: 3: - ETA: 3: - ETA: 3: - ETA: 3: - ETA: 3: - ETA: 3: - ETA: 3: - ETA: 3: - ETA: 3: - ETA: 3: - ETA: 3: - ETA: 3: - ETA: 3: - ETA: 3: - ETA: 3: - ETA: 3: - ETA: 3: - ETA: 3: - ETA: 3: - ETA: 3: - ETA: 3: - ETA: 3: - ETA: 3: - ETA: 3: - ETA: 3: - ETA: 3: - ETA: 3: - ETA: 3: - ETA: 3: - ETA: 3: - ETA: 3: - ETA: 3: - ETA: 3: - ETA: 3: - ETA: 3: - ETA: 3: - ETA: 3: - ETA: 3: - ETA: 3: - ETA: 3: - ETA: 3: - ETA: 3: - ETA: 3: - ETA: 3: - ETA: 3: - ETA: 3: - ETA: 3: - ETA: 3: - ETA: 3: - ETA: 3: - ETA: 3: - ETA: 3: - ETA: 3: - ETA: 3: - ETA: 3: - ETA: 3: - ETA: 3: - ETA: 3: - ETA: 3: - ETA: 3: - ETA: 3: - ETA: 3: - ETA: 3: - ETA: 3: - ETA: 3: - ETA: 3: - ETA: 3: - ETA: 3: - ETA: 3: - ETA: 3: - ETA: 3: - ETA: 3: - ETA: 3: - ETA: 3: - ETA: 3: - ETA: 3: - ETA: 3: - ETA: 3: - ETA: 3: - ETA: 3: - ETA: 3: - ETA: 3: - ETA: 3: - ETA: 3: - ETA: 3: - ETA: 3: - ETA: 3: - ETA: 3: - ETA: 3: - ETA: 3: - ETA: 3: - ETA: 3: - ETA: 3: - ETA: 3: - ETA: 3: - ETA: 3: - ETA: 3: - ETA: 3: - ETA: 3: - ETA: 3: - ETA: 3: - ETA: 3: - ETA: 3: - ETA: 3: - ETA: 3: - ETA: 3: - ETA: 3: - ETA: 3: - ETA: 3: - ETA: 3: - ETA: 3: - ETA: 3: - ETA: 3: - ETA: 3: - ETA: 3: - ETA: 3: - ETA: 3: - ETA: 3: - ETA: 3: - ETA: 3: - ETA: 3: - ETA: 3: - ETA: 3: - ETA: 3: - ETA: 3: - ETA: 3: - ETA: 3: - ETA: 4: - ETA: 4: - ETA: 4: - ETA: 4: - ETA: 4: - ETA: 4: - ETA: 4: - ETA: 4: - ETA: 4: - ETA: 4: - ETA: 4: - ETA: 4: - ETA: 4: - ETA: 4: - ETA: 4: - ETA: 4: - ETA: 4: - ETA: 4: - ETA: 4: - ETA: 4: - ETA: 4: - ETA: 4: - ETA: 4: - ETA: 4: - ETA: 4: - ETA: 4: - ETA: 4: - ETA: 4: - ETA: 4: - ETA: 4: - ETA: 4: - ETA: 4: - ETA: 4: - ETA: 4: - ETA: 4: - ETA: 4: - ETA: 4: - ETA: 4: - ETA: 4: - ETA: 4: - ETA: 4: - ETA: 4: - ETA: 4: - ETA: 4: - ETA: 4: - ETA: 4: - ETA: 4: - ETA: 4: - ETA: 4: - ETA: 4: - ETA: 4: - ETA: 4: - ETA: 4: - ETA: 4: - ETA: 4: - ETA: 4: - ETA: 4: - ETA: 4: - ETA: 4: - ETA: 4: - ETA: 4: - ETA: 4: - ETA: 4: - ETA: 4: - ETA: 4: - ETA: 4: - ETA: 4: - ETA: 4: - ETA: 4: - ETA: 4: - ETA: 5: - ETA: 5: - ETA: 5: - ETA: 5: - ETA: 5: - ETA: 5: - ETA: 5: - ETA: 5: - ETA: 5: - ETA: 5: - ETA: 5: - ETA: 5: - ETA: 5: - ETA: 5: - ETA: 5: - ETA: 5: - ETA: 6: - ETA: 6: - ETA: 6: - ETA: 6: - ETA: 6: - ETA: 6: - ETA: 6: - ETA: 6: - ETA: 6: - ETA: 6: - ETA: 6: - ETA: 6: - ETA: 6: - ETA: 6: - ETA: 6: - ETA: 6: - ETA: 6: - ETA: 7: - ETA: 7: - ETA: 7: - ETA: 7: - ETA: 7: - ETA: 7: - ETA: 7: - ETA: 7: - ETA: 7: - ETA: 7: - ETA: 7: - ETA: 7: - ETA: 7: - ETA: 8: - ETA: 8: - ETA: 8: - ETA: 8: - ETA: 8: - ETA: 8: - ETA: 8: - ETA: 8: - ETA: 8: - ETA: 8: - ETA: 9: - ETA: 9: - ETA: 9: - ETA: 9: - ETA: 9: - ETA: 9: - ETA: 9: - ETA: 9: - ETA: 9: - ETA: 9: - ETA: 9: - ETA: 9: - ETA: 9: - ETA: 9: - ETA: 9: - ETA: 9: - ETA: 9: - ETA: 9: - ETA: 9: - ETA: 9: - ETA: 10:0 - ETA: 10:0 - ETA: 10:0 - ETA: 10:1 - ETA: 10:1 - ETA: 10:1 - ETA: 10:1 - ETA: 10:2 - ETA: 10:2 - ETA: 10:2 - ETA: 10:3 - ETA: 10:3 - ETA: 10:3 - ETA: 10:3 - ETA: 10:3 - ETA: 10:3 - ETA: 10:4 - ETA: 10:4 - ETA: 10:4 - ETA: 10:4 - ETA: 10:4 - ETA: 10:4 - ETA: 10:5 - ETA: 10:5 - ETA: 10:5 - ETA: 10:5 - ETA: 10:5 - ETA: 10:5 - ETA: 10:5 - ETA: 10:5 - ETA: 11:0 - ETA: 11:0 - ETA: 11:0 - ETA: 11:0 - ETA: 11:0 - ETA: 11:0 - ETA: 11:0 - ETA: 11:0 - ETA: 11:0 - ETA: 11:0 - ETA: 11:0 - ETA: 11:1 - ETA: 11:1 - ETA: 11:1 - ETA: 11:1 - ETA: 11:1 - ETA: 11:1 - ETA: 11:1 - ETA: 11:1 - ETA: 11:1 - ETA: 11:1 - ETA: 11:2 - ETA: 11:2 - ETA: 11:2 - ETA: 11:2 - ETA: 11:2 - ETA: 11:2 - ETA: 11:2 - ETA: 11:2 - ETA: 11:2 - ETA: 11:3 - ETA: 11:3 - ETA: 11:3 - ETA: 11:3 - ETA: 11:3 - ETA: 11:3 - ETA: 11:3 - ETA: 11:3 - ETA: 11:3 - ETA: 11:3 - ETA: 11:3 - ETA: 11:3 - ETA: 11:4 - ETA: 11:4 - ETA: 11:4 - ETA: 11:4 - ETA: 11:5 - ETA: 11:5 - ETA: 11:5 - ETA: 12:0 - ETA: 12:0 - ETA: 12:0 - ETA: 12:1 - ETA: 12:1 - ETA: 12:1 - ETA: 12:1 - ETA: 12:1 - ETA: 12:2 - ETA: 12:2 - ETA: 12:2 - ETA: 12:2 - ETA: 12:3 - ETA: 12:2 - ETA: 12:3 - ETA: 12:3 - ETA: 12:3 - ETA: 12:3 - ETA: 12:3 - ETA: 12:3 - ETA: 12:4 - ETA: 12:4 - ETA: 12:4 - ETA: 12:4 - ETA: 12:4 - ETA: 12:5 - ETA: 12:5 - ETA: 12:5 - ETA: 12:5 - ETA: 12:5 - ETA: 13:0 - ETA: 13:0 - ETA: 13:0 - ETA: 13:0 - ETA: 13:0 - ETA: 13:0 - ETA: 13:0 - ETA: 13:0 - ETA: 13:1 - ETA: 13:1 - ETA: 13:1 - ETA: 13:1 - ETA: 13:1 - ETA: 13:1 - ETA: 13:2 - ETA: 13:3 - ETA: 13:3 - ETA: 13:3 - ETA: 13:3 - ETA: 13:3 - ETA: 13:4 - ETA: 13:4 - ETA: 13:4 - ETA: 13:4 - ETA: 13:4 - ETA: 13:4 - ETA: 13:4 - ETA: 13:4 - ETA: 13:4 - ETA: 13:4 - ETA: 13:4 - ETA: 13:4 - ETA: 13:4 - ETA: 13:4 - ETA: 13:4 - ETA: 13:4 - ETA: 13:3 - ETA: 13:4 - ETA: 13:4 - ETA: 13:4 - ETA: 13:4 - ETA: 13:4 - ETA: 13:4 - ETA: 13:3 - ETA: 13:4 - ETA: 13:4 - ETA: 13:3 - ETA: 13:4 - ETA: 13:3 - ETA: 13:3 - ETA: 13:3 - ETA: 13:3 - ETA: 13:3 - ETA: 13:3 - ETA: 13:3 - ETA: 13:3 - ETA: 13:3 - ETA: 13:3 - ETA: 13:3 - ETA: 13:3 - ETA: 13:3 - ETA: 13:3 - ETA: 13:3 - ETA: 13:3 - ETA: 13:3 - ETA: 13:3 - ETA: 13:3 - ETA: 13:3 - ETA: 13:3 - ETA: 13:3 - ETA: 13:3 - ETA: 13:3 - ETA: 13:3 - ETA: 13:3 - ETA: 13:3 - ETA: 13:3 - ETA: 13:3 - ETA: 13:2 - ETA: 13:2 - ETA: 13:2 - ETA: 13:2 - ETA: 13:2 - ETA: 13:2 - ETA: 13:2 - ETA: 13:2 - ETA: 13:2 - ETA: 13:2 - ETA: 13:2 - ETA: 13:2 - ETA: 13:2 - ETA: 13:1 - ETA: 13:1 - ETA: 13:1 - ETA: 13:1 - ETA: 13:1 - ETA: 13:1 - ETA: 13:1 - ETA: 13:1 - ETA: 13:1 - ETA: 13:1 - ETA: 13:0 - ETA: 13:0 - ETA: 13:0 - ETA: 13:0 - ETA: 13:0 - ETA: 13:0 - ETA: 13:0 - ETA: 12:5 - ETA: 12:5 - ETA: 12:5 - ETA: 12:5 - ETA: 12:5 - ETA: 12:5 - ETA: 12:4 - ETA: 12:4 - ETA: 12:4 - ETA: 12:4 - ETA: 12:4 - ETA: 12:4 - ETA: 12:3 - ETA: 12:3 - ETA: 12:3 - ETA: 12:3 - ETA: 12:2 - ETA: 12:2 - ETA: 12:2 - ETA: 12:1 - ETA: 12:1 - ETA: 12:1 - ETA: 12:1 - ETA: 12:1 - ETA: 12:0 - ETA: 12:0 - ETA: 12:0 - ETA: 12:0 - ETA: 11:5 - ETA: 11:5 - ETA: 11:5 - ETA: 11:5 - ETA: 11:4 - ETA: 11:4 - ETA: 11:4 - ETA: 11:3 - ETA: 11:3 - ETA: 11:3 - ETA: 11:3 - ETA: 11:2 - ETA: 11:2 - ETA: 11:2 - ETA: 11:2 - ETA: 11:1 - ETA: 11:1 - ETA: 11:1 - ETA: 11:1 - ETA: 11:0 - ETA: 11:0 - ETA: 10:5 - ETA: 10:5 - ETA: 10:5 - ETA: 10:4 - ETA: 10:4 - ETA: 10:4 - ETA: 10:4 - ETA: 10:3 - ETA: 10:3 - ETA: 10:3 - ETA: 10:2 - ETA: 10:2 - ETA: 10:2 - ETA: 10:1 - ETA: 10:1 - ETA: 10:1 - ETA: 10:1 - ETA: 10:0 - ETA: 10:0 - ETA: 10:0 - ETA: 9:5 - ETA: 9: - ETA: 9: - ETA: 9: - ETA: 9: - ETA: 9: - ETA: 9: - ETA: 9: - ETA: 9: - ETA: 9: - ETA: 9: - ETA: 9: - ETA: 9: - ETA: 9: - ETA: 9: - ETA: 9: - ETA: 9: - ETA: 9: - ETA: 9: - ETA: 9: - ETA: 9: - ETA: 9: - ETA: 8: - ETA: 8: - ETA: 8: - ETA: 8: - ETA: 8: - ETA: 8: - ETA: 8: - ETA: 8: - ETA: 8: - ETA: 8: - ETA: 8: - ETA: 8: - ETA: 8: - ETA: 8: - ETA: 8: - ETA: 8: - ETA: 8: - ETA: 8: - ETA: 7: - ETA: 7: - ETA: 7: - ETA: 7: - ETA: 7: - ETA: 7: - ETA: 7: - ETA: 7: - ETA: 7: - ETA: 7: - ETA: 7: - ETA: 7: - ETA: 7: - ETA: 7: - ETA: 7: - ETA: 7: - ETA: 7: - ETA: 7: - ETA: 7: - ETA: 7: - ETA: 6: - ETA: 6: - ETA: 6: - ETA: 6: - ETA: 6: - ETA: 6: - ETA: 6: - ETA: 6: - ETA: 6: - ETA: 6: - ETA: 6: - ETA: 6: - ETA: 6: - ETA: 6: - ETA: 6: - ETA: 6: - ETA: 6: - ETA: 6: - ETA: 6: - ETA: 6: - ETA: 6: - ETA: 6: - ETA: 6: - ETA: 6: - ETA: 6: - ETA: 6:02"
     ]
    },
    {
     "name": "stdout",
     "output_type": "stream",
     "text": [
      "214384640/219055592 [============================>.] - ETA: 6: - ETA: 5: - ETA: 5: - ETA: 5: - ETA: 5: - ETA: 5: - ETA: 5: - ETA: 5: - ETA: 5: - ETA: 5: - ETA: 5: - ETA: 5: - ETA: 5: - ETA: 5: - ETA: 5: - ETA: 5: - ETA: 5: - ETA: 5: - ETA: 5: - ETA: 5: - ETA: 5: - ETA: 5: - ETA: 5: - ETA: 5: - ETA: 5: - ETA: 5: - ETA: 5: - ETA: 5: - ETA: 5: - ETA: 5: - ETA: 5: - ETA: 5: - ETA: 5: - ETA: 5: - ETA: 5: - ETA: 5: - ETA: 5: - ETA: 5: - ETA: 5: - ETA: 4: - ETA: 4: - ETA: 4: - ETA: 4: - ETA: 4: - ETA: 4: - ETA: 4: - ETA: 4: - ETA: 4: - ETA: 4: - ETA: 4: - ETA: 4: - ETA: 4: - ETA: 4: - ETA: 4: - ETA: 4: - ETA: 4: - ETA: 4: - ETA: 4: - ETA: 4: - ETA: 4: - ETA: 4: - ETA: 4: - ETA: 4: - ETA: 4: - ETA: 4: - ETA: 4: - ETA: 4: - ETA: 4: - ETA: 4: - ETA: 4: - ETA: 4: - ETA: 4: - ETA: 4: - ETA: 4: - ETA: 4: - ETA: 4: - ETA: 4: - ETA: 4: - ETA: 4: - ETA: 4: - ETA: 4: - ETA: 4: - ETA: 4: - ETA: 4: - ETA: 4: - ETA: 4: - ETA: 4: - ETA: 4: - ETA: 4: - ETA: 4: - ETA: 4: - ETA: 4: - ETA: 4: - ETA: 4: - ETA: 4: - ETA: 4: - ETA: 4: - ETA: 4: - ETA: 4: - ETA: 4: - ETA: 4: - ETA: 4: - ETA: 4: - ETA: 4: - ETA: 4: - ETA: 4: - ETA: 4: - ETA: 4: - ETA: 4: - ETA: 4: - ETA: 4: - ETA: 4: - ETA: 4: - ETA: 3: - ETA: 3: - ETA: 3: - ETA: 3: - ETA: 3: - ETA: 3: - ETA: 3: - ETA: 3: - ETA: 3: - ETA: 3: - ETA: 3: - ETA: 3: - ETA: 3: - ETA: 3: - ETA: 3: - ETA: 3: - ETA: 3: - ETA: 3: - ETA: 3: - ETA: 3: - ETA: 3: - ETA: 3: - ETA: 3: - ETA: 3: - ETA: 3: - ETA: 3: - ETA: 3: - ETA: 3: - ETA: 3: - ETA: 3: - ETA: 3: - ETA: 3: - ETA: 3: - ETA: 3: - ETA: 3: - ETA: 3: - ETA: 3: - ETA: 3: - ETA: 3: - ETA: 3: - ETA: 3: - ETA: 3: - ETA: 3: - ETA: 3: - ETA: 3: - ETA: 3: - ETA: 3: - ETA: 3: - ETA: 3: - ETA: 3: - ETA: 3: - ETA: 3: - ETA: 3: - ETA: 3: - ETA: 3: - ETA: 3: - ETA: 3: - ETA: 3: - ETA: 3: - ETA: 3: - ETA: 3: - ETA: 3: - ETA: 3: - ETA: 3: - ETA: 3: - ETA: 3: - ETA: 3: - ETA: 3: - ETA: 3: - ETA: 3: - ETA: 3: - ETA: 3: - ETA: 3: - ETA: 3: - ETA: 3: - ETA: 3: - ETA: 3: - ETA: 3: - ETA: 3: - ETA: 3: - ETA: 3: - ETA: 3: - ETA: 3: - ETA: 3: - ETA: 3: - ETA: 3: - ETA: 3: - ETA: 3: - ETA: 3: - ETA: 3: - ETA: 3: - ETA: 3: - ETA: 3: - ETA: 2: - ETA: 2: - ETA: 2: - ETA: 2: - ETA: 2: - ETA: 2: - ETA: 2: - ETA: 2: - ETA: 2: - ETA: 2: - ETA: 2: - ETA: 2: - ETA: 2: - ETA: 2: - ETA: 2: - ETA: 2: - ETA: 2: - ETA: 2: - ETA: 2: - ETA: 2: - ETA: 2: - ETA: 2: - ETA: 2: - ETA: 2: - ETA: 2: - ETA: 2: - ETA: 2: - ETA: 2: - ETA: 2: - ETA: 2: - ETA: 2: - ETA: 2: - ETA: 2: - ETA: 2: - ETA: 2: - ETA: 2: - ETA: 2: - ETA: 2: - ETA: 2: - ETA: 2: - ETA: 2: - ETA: 2: - ETA: 2: - ETA: 2: - ETA: 2: - ETA: 2: - ETA: 2: - ETA: 2: - ETA: 2: - ETA: 2: - ETA: 2: - ETA: 2: - ETA: 2: - ETA: 2: - ETA: 2: - ETA: 2: - ETA: 2: - ETA: 2: - ETA: 2: - ETA: 2: - ETA: 2: - ETA: 2: - ETA: 2: - ETA: 2: - ETA: 2: - ETA: 2: - ETA: 2: - ETA: 2: - ETA: 2: - ETA: 2: - ETA: 2: - ETA: 2: - ETA: 2: - ETA: 2: - ETA: 2: - ETA: 2: - ETA: 2: - ETA: 2: - ETA: 2: - ETA: 2: - ETA: 2: - ETA: 2: - ETA: 2: - ETA: 2: - ETA: 2: - ETA: 2: - ETA: 2: - ETA: 2: - ETA: 2: - ETA: 2: - ETA: 2: - ETA: 2: - ETA: 2: - ETA: 2: - ETA: 2: - ETA: 2: - ETA: 2: - ETA: 2: - ETA: 2: - ETA: 2: - ETA: 2: - ETA: 2: - ETA: 2: - ETA: 2: - ETA: 2: - ETA: 2: - ETA: 2: - ETA: 2: - ETA: 2: - ETA: 2: - ETA: 2: - ETA: 2: - ETA: 2: - ETA: 2: - ETA: 2: - ETA: 2: - ETA: 2: - ETA: 2: - ETA: 2: - ETA: 2: - ETA: 1: - ETA: 1: - ETA: 1: - ETA: 1: - ETA: 1: - ETA: 1: - ETA: 1: - ETA: 1: - ETA: 1: - ETA: 1: - ETA: 1: - ETA: 1: - ETA: 1: - ETA: 1: - ETA: 1: - ETA: 1: - ETA: 1: - ETA: 1: - ETA: 1: - ETA: 1: - ETA: 1: - ETA: 1: - ETA: 1: - ETA: 1: - ETA: 1: - ETA: 1: - ETA: 1: - ETA: 1: - ETA: 1: - ETA: 1: - ETA: 1: - ETA: 1: - ETA: 1: - ETA: 1: - ETA: 1: - ETA: 1: - ETA: 1: - ETA: 1: - ETA: 1: - ETA: 1: - ETA: 1: - ETA: 1: - ETA: 1: - ETA: 1: - ETA: 1: - ETA: 1: - ETA: 1: - ETA: 1: - ETA: 1: - ETA: 1: - ETA: 1: - ETA: 1: - ETA: 1: - ETA: 1: - ETA: 1: - ETA: 1: - ETA: 1: - ETA: 1: - ETA: 1: - ETA: 1: - ETA: 1: - ETA: 1: - ETA: 1: - ETA: 1: - ETA: 1: - ETA: 1: - ETA: 1: - ETA: 1: - ETA: 1: - ETA: 1: - ETA: 1: - ETA: 1: - ETA: 1: - ETA: 1: - ETA: 1: - ETA: 1: - ETA: 1: - ETA: 1: - ETA: 1: - ETA: 1: - ETA: 1: - ETA: 1: - ETA: 1: - ETA: 1: - ETA: 1: - ETA: 1: - ETA: 1: - ETA: 1: - ETA: 1: - ETA: 1: - ETA: 1: - ETA: 1: - ETA: 1: - ETA: 1: - ETA: 1: - ETA: 1: - ETA: 1: - ETA: 1: - ETA: 1: - ETA: 1: - ETA: 1: - ETA: 1: - ETA: 1: - ETA: 1: - ETA: 1: - ETA: 1: - ETA: 1: - ETA: 1: - ETA: 1: - ETA: 1: - ETA: 1: - ETA: 1: - ETA: 1: - ETA: 1: - ETA: 1: - ETA: 1: - ETA: 1: - ETA: 1: - ETA: 1: - ETA: 1: - ETA: 1: - ETA: 1: - ETA: 1: - ETA: 1: - ETA: 1: - ETA: 1: - ETA: 1: - ETA: 1: - ETA: 1: - ETA: 1: - ETA: 1: - ETA: 1: - ETA: 1: - ETA: 1: - ETA: 1: - ETA: 1: - ETA: 1: - ETA: 1: - ETA: 1: - ETA: 1: - ETA: 1: - ETA: 1: - ETA: 1: - ETA: 1: - ETA: 1: - ETA: 1: - ETA: 1: - ETA: 1: - ETA: 1: - ETA: 1: - ETA: 1: - ETA: 1: - ETA: 1: - ETA: 1: - ETA: 1: - ETA: 1: - ETA: 1: - ETA: 1: - ETA: 1: - ETA: 1: - ETA: 1: - ETA: 1: - ETA: 1: - ETA: 1: - ETA: 1: - ETA: 1: - ETA: 1: - ETA: 1: - ETA: 1: - ETA: 1: - ETA: 1: - ETA: 1: - ETA: 1: - ETA: 1: - ETA: 1: - ETA: 1: - ETA: 1: - ETA: 1: - ETA: 1: - ETA: 1: - ETA: 1: - ETA: 1: - ETA: 1: - ETA: 1: - ETA: 1: - ETA: 1: - ETA: 1: - ETA: 1: - ETA: 1: - ETA: 1: - ETA: 1: - ETA: 1: - ETA: 1: - ETA: 1: - ETA: 1: - ETA: 1: - ETA: 1: - ETA: 1: - ETA: 1: - ETA: 1: - ETA: 1: - ETA: 1: - ETA: 59s - ETA: 59 - ETA: 59 - ETA: 59 - ETA: 58 - ETA: 58 - ETA: 58 - ETA: 58 - ETA: 57 - ETA: 57 - ETA: 57 - ETA: 57 - ETA: 57 - ETA: 56 - ETA: 56 - ETA: 56 - ETA: 55 - ETA: 55 - ETA: 55 - ETA: 55 - ETA: 54 - ETA: 54 - ETA: 54 - ETA: 54 - ETA: 54 - ETA: 53 - ETA: 53 - ETA: 53 - ETA: 52 - ETA: 52 - ETA: 52 - ETA: 52 - ETA: 52 - ETA: 51 - ETA: 51 - ETA: 51 - ETA: 51 - ETA: 50 - ETA: 50 - ETA: 50 - ETA: 50 - ETA: 49 - ETA: 49 - ETA: 49 - ETA: 49 - ETA: 49 - ETA: 48 - ETA: 48 - ETA: 48 - ETA: 48 - ETA: 47 - ETA: 47 - ETA: 47 - ETA: 47 - ETA: 46 - ETA: 46 - ETA: 46 - ETA: 46 - ETA: 45 - ETA: 45 - ETA: 45 - ETA: 45 - ETA: 44 - ETA: 44 - ETA: 44 - ETA: 44 - ETA: 43 - ETA: 43 - ETA: 43 - ETA: 43 - ETA: 42 - ETA: 42 - ETA: 42 - ETA: 42 - ETA: 42 - ETA: 41 - ETA: 41 - ETA: 41 - ETA: 41 - ETA: 40 - ETA: 40 - ETA: 40 - ETA: 40 - ETA: 39 - ETA: 39 - ETA: 39 - ETA: 39 - ETA: 39 - ETA: 38 - ETA: 38 - ETA: 38 - ETA: 38 - ETA: 37 - ETA: 37 - ETA: 37 - ETA: 37 - ETA: 37 - ETA: 36 - ETA: 36 - ETA: 34 - ETA: 34 - ETA: 34 - ETA: 34 - ETA: 34 - ETA: 33 - ETA: 33 - ETA: 33 - ETA: 33 - ETA: 33 - ETA: 33 - ETA: 33 - ETA: 32 - ETA: 32 - ETA: 32 - ETA: 32 - ETA: 32 - ETA: 31 - ETA: 31 - ETA: 31 - ETA: 31 - ETA: 31 - ETA: 30 - ETA: 30 - ETA: 30 - ETA: 30 - ETA: 30 - ETA: 29 - ETA: 29 - ETA: 29 - ETA: 29 - ETA: 29 - ETA: 28 - ETA: 28 - ETA: 28 - ETA: 28 - ETA: 28 - ETA: 28 - ETA: 28 - ETA: 26 - ETA: 26 - ETA: 26 - ETA: 26 - ETA: 26 - ETA: 26 - ETA: 25 - ETA: 25 - ETA: 25 - ETA: 25 - ETA: 25 - ETA: 25 - ETA: 25 - ETA: 24 - ETA: 24 - ETA: 24 - ETA: 24 - ETA: 24 - ETA: 23 - ETA: 23 - ETA: 23 - ETA: 23 - ETA: 23 - ETA: 23 - ETA: 23 - ETA: 22 - ETA: 22 - ETA: 22 - ETA: 22 - ETA: 22 - ETA: 22 - ETA: 21 - ETA: 21 - ETA: 21 - ETA: 21 - ETA: 21 - ETA: 20 - ETA: 20 - ETA: 20 - ETA: 20 - ETA: 20 - ETA: 20 - ETA: 20 - ETA: 19 - ETA: 19 - ETA: 19 - ETA: 19 - ETA: 19 - ETA: 19 - ETA: 18 - ETA: 18 - ETA: 18 - ETA: 18 - ETA: 18 - ETA: 18 - ETA: 18 - ETA: 17 - ETA: 17 - ETA: 17 - ETA: 17 - ETA: 17 - ETA: 16 - ETA: 16 - ETA: 16 - ETA: 16 - ETA: 16 - ETA: 16 - ETA: 16 - ETA: 16 - ETA: 16 - ETA: 15 - ETA: 15 - ETA: 15 - ETA: 15 - ETA: 15 - ETA: 15 - ETA: 14 - ETA: 14 - ETA: 14 - ETA: 14 - ETA: 14 - ETA: 14 - ETA: 13 - ETA: 13 - ETA: 13 - ETA: 13 - ETA: 13 - ETA: 13 - ETA: 13 - ETA: 13 - ETA: 13 - ETA: 13 - ETA: 13 - ETA: 13 - ETA: 13 - ETA: 12 - ETA: 12 - ETA: 12 - ETA: 12 - ETA: 12 - ETA: 11 - ETA: 11 - ETA: 11 - ETA: 11 - ETA: 11 - ETA: 11 - ETA: 11 - ETA: 11 - ETA: 10 - ETA: 10 - ETA: 10 - ETA: 10 - ETA: 10 - ETA: 10 - ETA: 9 - ETA:  - ETA:  - ETA:  - ETA:  - ETA:  - ETA:  - ETA:  - ETA:  - ETA:  - ETA:  - ETA:  - ETA:  - ETA:  - ETA:  - ETA:  - ETA:  - ETA:  - ETA:  - ETA:  - ETA:  - ETA:  - ETA:  - ETA:  - ETA:  - ETA:  - ETA:  - ETA:  - ETA:  - ETA:  - ETA:  - ETA:  - ETA:  - ETA:  - ETA:  - ETA:  - ETA:  - ETA:  - ETA:  - ETA:  - ETA:  - ETA:  - ETA: 3s"
     ]
    },
    {
     "name": "stdout",
     "output_type": "stream",
     "text": [
      "219062272/219055592 [==============================] - ETA:  - ETA:  - ETA:  - ETA:  - ETA:  - ETA:  - ETA:  - ETA:  - ETA:  - ETA:  - ETA:  - ETA:  - ETA:  - ETA:  - ETA:  - ETA:  - ETA:  - ETA:  - ETA:  - ETA:  - ETA:  - ETA:  - 172s 1us/step\n"
     ]
    }
   ],
   "source": [
    "#imports the mobilenet model and discards the last 1000 neuron layer.\n",
    "base_model = InceptionResNetV2(weights='imagenet',include_top=False) \n"
   ]
  },
  {
   "cell_type": "markdown",
   "metadata": {},
   "source": [
    "## STEP 7: Extract features from this pre-trained model for our training and validation images"
   ]
  },
  {
   "cell_type": "code",
   "execution_count": 24,
   "metadata": {},
   "outputs": [
    {
     "data": {
      "text/plain": [
       "(2076, 8, 8, 1536)"
      ]
     },
     "execution_count": 24,
     "metadata": {},
     "output_type": "execute_result"
    }
   ],
   "source": [
    "# extracting features for training frames\n",
    "X_train = base_model.predict(X_train)\n",
    "X_train.shape"
   ]
  },
  {
   "cell_type": "code",
   "execution_count": 25,
   "metadata": {},
   "outputs": [
    {
     "data": {
      "text/plain": [
       "(520, 8, 8, 1536)"
      ]
     },
     "execution_count": 25,
     "metadata": {},
     "output_type": "execute_result"
    }
   ],
   "source": [
    "# extracting features for validation frames\n",
    "X_test = base_model.predict(X_test)\n",
    "X_test.shape"
   ]
  },
  {
   "cell_type": "code",
   "execution_count": 26,
   "metadata": {},
   "outputs": [],
   "source": [
    "shape_X_train = X_train.shape\n",
    "shape_X_test = X_test.shape"
   ]
  },
  {
   "cell_type": "markdown",
   "metadata": {},
   "source": [
    "## STEP 8: reshape the images into a single dimension"
   ]
  },
  {
   "cell_type": "code",
   "execution_count": 27,
   "metadata": {},
   "outputs": [],
   "source": [
    "# reshaping the training as well as validation frames in single dimension\n",
    "X_train = X_train.reshape(shape_X_train[0], shape_X_train[1]*shape_X_train[2]*shape_X_train[3])\n",
    "X_test = X_test.reshape(shape_X_test[0], shape_X_test[1]*shape_X_test[2]*shape_X_test[3])"
   ]
  },
  {
   "cell_type": "markdown",
   "metadata": {},
   "source": [
    "## STEP 9: Normalize the pixel values (between 0 and 1, helps the model to converge faster)"
   ]
  },
  {
   "cell_type": "code",
   "execution_count": 28,
   "metadata": {},
   "outputs": [],
   "source": [
    "# normalizing the pixel values\n",
    "max = X_train.max()\n",
    "X_train = X_train/max\n",
    "X_test = X_test/max"
   ]
  },
  {
   "cell_type": "markdown",
   "metadata": {},
   "source": [
    "## STEP 10: Create the architecture of the model"
   ]
  },
  {
   "cell_type": "code",
   "execution_count": 29,
   "metadata": {},
   "outputs": [
    {
     "data": {
      "text/plain": [
       "(2076, 98304)"
      ]
     },
     "execution_count": 29,
     "metadata": {},
     "output_type": "execute_result"
    }
   ],
   "source": [
    "# shape of images\n",
    "X_train.shape"
   ]
  },
  {
   "cell_type": "code",
   "execution_count": 30,
   "metadata": {},
   "outputs": [],
   "source": [
    "shape_X_train = X_train.shape"
   ]
  },
  {
   "cell_type": "code",
   "execution_count": 31,
   "metadata": {},
   "outputs": [
    {
     "name": "stdout",
     "output_type": "stream",
     "text": [
      "WARNING:tensorflow:From C:\\Users\\Jatin_Thakkar\\AppData\\Local\\Continuum\\anaconda3\\envs\\tensorflow_env\\lib\\site-packages\\keras\\backend\\tensorflow_backend.py:3445: calling dropout (from tensorflow.python.ops.nn_ops) with keep_prob is deprecated and will be removed in a future version.\n",
      "Instructions for updating:\n",
      "Please use `rate` instead of `keep_prob`. Rate should be set to `rate = 1 - keep_prob`.\n"
     ]
    }
   ],
   "source": [
    "#defining the model architecture\n",
    "model = Sequential()\n",
    "model.add(Dense(1024, activation='relu', input_shape=(shape_X_train[1],)))\n",
    "model.add(Dropout(0.5))\n",
    "model.add(Dense(512, activation='relu'))\n",
    "model.add(Dropout(0.5))\n",
    "model.add(Dense(256, activation='relu'))\n",
    "model.add(Dropout(0.5))\n",
    "model.add(Dense(128, activation='relu'))\n",
    "model.add(Dropout(0.5))\n",
    "model.add(Dense(2, activation='sigmoid'))"
   ]
  },
  {
   "cell_type": "markdown",
   "metadata": {},
   "source": [
    "## STEP 11: Train our model using the training frames and validate using validation frames"
   ]
  },
  {
   "cell_type": "code",
   "execution_count": 32,
   "metadata": {},
   "outputs": [],
   "source": [
    "# defining a function to save the weights of best model\n",
    "from keras.callbacks import ModelCheckpoint\n",
    "mcp_save = ModelCheckpoint('weight_InceptionResnetV2.hdf5', save_best_only=True, monitor='val_loss', mode='min', verbose=1)"
   ]
  },
  {
   "cell_type": "markdown",
   "metadata": {},
   "source": [
    "Improving Generalization Performance by Switching from Adam to SGD\n",
    "(https://towardsdatascience.com/normalized-direction-preserving-adam-switching-from-adam-to-sgd-and-nesterov-momentum-adam-with-460be5ddf686)"
   ]
  },
  {
   "cell_type": "code",
   "execution_count": 33,
   "metadata": {},
   "outputs": [
    {
     "name": "stdout",
     "output_type": "stream",
     "text": [
      "WARNING:tensorflow:From C:\\Users\\Jatin_Thakkar\\AppData\\Local\\Continuum\\anaconda3\\envs\\tensorflow_env\\lib\\site-packages\\keras\\optimizers.py:790: The name tf.train.Optimizer is deprecated. Please use tf.compat.v1.train.Optimizer instead.\n",
      "\n",
      "WARNING:tensorflow:From C:\\Users\\Jatin_Thakkar\\AppData\\Local\\Continuum\\anaconda3\\envs\\tensorflow_env\\lib\\site-packages\\tensorflow\\python\\ops\\nn_impl.py:180: add_dispatch_support.<locals>.wrapper (from tensorflow.python.ops.array_ops) is deprecated and will be removed in a future version.\n",
      "Instructions for updating:\n",
      "Use tf.where in 2.0, which has the same broadcast rule as np.where\n"
     ]
    }
   ],
   "source": [
    "# compiling the model\n",
    "from keras.optimizers import SGD\n",
    "opt = SGD()\n",
    "model.compile(loss='binary_crossentropy',optimizer=opt,metrics=['accuracy'])"
   ]
  },
  {
   "cell_type": "code",
   "execution_count": 34,
   "metadata": {},
   "outputs": [
    {
     "name": "stdout",
     "output_type": "stream",
     "text": [
      "_________________________________________________________________\n",
      "Layer (type)                 Output Shape              Param #   \n",
      "=================================================================\n",
      "dense_1 (Dense)              (None, 1024)              100664320 \n",
      "_________________________________________________________________\n",
      "dropout_1 (Dropout)          (None, 1024)              0         \n",
      "_________________________________________________________________\n",
      "dense_2 (Dense)              (None, 512)               524800    \n",
      "_________________________________________________________________\n",
      "dropout_2 (Dropout)          (None, 512)               0         \n",
      "_________________________________________________________________\n",
      "dense_3 (Dense)              (None, 256)               131328    \n",
      "_________________________________________________________________\n",
      "dropout_3 (Dropout)          (None, 256)               0         \n",
      "_________________________________________________________________\n",
      "dense_4 (Dense)              (None, 128)               32896     \n",
      "_________________________________________________________________\n",
      "dropout_4 (Dropout)          (None, 128)               0         \n",
      "_________________________________________________________________\n",
      "dense_5 (Dense)              (None, 2)                 258       \n",
      "=================================================================\n",
      "Total params: 101,353,602\n",
      "Trainable params: 101,353,602\n",
      "Non-trainable params: 0\n",
      "_________________________________________________________________\n"
     ]
    }
   ],
   "source": [
    "model.summary()"
   ]
  },
  {
   "cell_type": "code",
   "execution_count": 35,
   "metadata": {
    "scrolled": true
   },
   "outputs": [
    {
     "name": "stdout",
     "output_type": "stream",
     "text": [
      "Train on 2076 samples, validate on 520 samples\n",
      "Epoch 1/100\n",
      "2076/2076 [==============================] - ETA: 9:51 - loss: 0.6964 - acc: 0.476 - ETA: 4:56 - loss: 0.6926 - acc: 0.496 - ETA: 3:18 - loss: 0.6925 - acc: 0.502 - ETA: 2:29 - loss: 0.6935 - acc: 0.505 - ETA: 1:58 - loss: 0.6927 - acc: 0.517 - ETA: 1:38 - loss: 0.6927 - acc: 0.526 - ETA: 1:23 - loss: 0.6908 - acc: 0.535 - ETA: 1:12 - loss: 0.6898 - acc: 0.542 - ETA: 1:03 - loss: 0.6884 - acc: 0.554 - ETA: 55s - loss: 0.6896 - acc: 0.551 - ETA: 49s - loss: 0.6894 - acc: 0.55 - ETA: 44s - loss: 0.6892 - acc: 0.55 - ETA: 39s - loss: 0.6899 - acc: 0.55 - ETA: 35s - loss: 0.6903 - acc: 0.55 - ETA: 32s - loss: 0.6898 - acc: 0.55 - ETA: 29s - loss: 0.6888 - acc: 0.55 - ETA: 26s - loss: 0.6878 - acc: 0.56 - ETA: 24s - loss: 0.6868 - acc: 0.56 - ETA: 21s - loss: 0.6866 - acc: 0.56 - ETA: 19s - loss: 0.6863 - acc: 0.56 - ETA: 17s - loss: 0.6852 - acc: 0.57 - ETA: 16s - loss: 0.6852 - acc: 0.57 - ETA: 14s - loss: 0.6844 - acc: 0.57 - ETA: 12s - loss: 0.6833 - acc: 0.58 - ETA: 11s - loss: 0.6823 - acc: 0.58 - ETA: 9s - loss: 0.6822 - acc: 0.5862 - ETA: 7s - loss: 0.6811 - acc: 0.591 - ETA: 6s - loss: 0.6802 - acc: 0.596 - ETA: 4s - loss: 0.6805 - acc: 0.596 - ETA: 3s - loss: 0.6805 - acc: 0.596 - ETA: 1s - loss: 0.6795 - acc: 0.598 - ETA: 0s - loss: 0.6784 - acc: 0.603 - 47s 22ms/step - loss: 0.6784 - acc: 0.6036 - val_loss: 0.6603 - val_acc: 0.6769\n",
      "\n",
      "Epoch 00001: val_loss improved from inf to 0.66026, saving model to weight_InceptionResnetV2.hdf5\n",
      "Epoch 2/100\n",
      "2076/2076 [==============================] - ETA: 28s - loss: 0.6532 - acc: 0.67 - ETA: 24s - loss: 0.6559 - acc: 0.64 - ETA: 22s - loss: 0.6689 - acc: 0.61 - ETA: 20s - loss: 0.6677 - acc: 0.61 - ETA: 19s - loss: 0.6658 - acc: 0.62 - ETA: 18s - loss: 0.6633 - acc: 0.64 - ETA: 17s - loss: 0.6625 - acc: 0.64 - ETA: 16s - loss: 0.6618 - acc: 0.64 - ETA: 15s - loss: 0.6606 - acc: 0.64 - ETA: 14s - loss: 0.6608 - acc: 0.64 - ETA: 14s - loss: 0.6617 - acc: 0.64 - ETA: 13s - loss: 0.6610 - acc: 0.64 - ETA: 12s - loss: 0.6615 - acc: 0.63 - ETA: 11s - loss: 0.6611 - acc: 0.63 - ETA: 11s - loss: 0.6594 - acc: 0.64 - ETA: 10s - loss: 0.6599 - acc: 0.64 - ETA: 9s - loss: 0.6580 - acc: 0.6480 - ETA: 9s - loss: 0.6575 - acc: 0.650 - ETA: 8s - loss: 0.6583 - acc: 0.649 - ETA: 8s - loss: 0.6568 - acc: 0.652 - ETA: 7s - loss: 0.6556 - acc: 0.655 - ETA: 6s - loss: 0.6544 - acc: 0.657 - ETA: 6s - loss: 0.6531 - acc: 0.660 - ETA: 5s - loss: 0.6536 - acc: 0.656 - ETA: 4s - loss: 0.6522 - acc: 0.659 - ETA: 4s - loss: 0.6515 - acc: 0.659 - ETA: 3s - loss: 0.6512 - acc: 0.658 - ETA: 2s - loss: 0.6505 - acc: 0.659 - ETA: 2s - loss: 0.6509 - acc: 0.658 - ETA: 1s - loss: 0.6514 - acc: 0.658 - ETA: 0s - loss: 0.6504 - acc: 0.658 - ETA: 0s - loss: 0.6494 - acc: 0.659 - 22s 10ms/step - loss: 0.6485 - acc: 0.6611 - val_loss: 0.6284 - val_acc: 0.6769\n",
      "\n",
      "Epoch 00002: val_loss improved from 0.66026 to 0.62842, saving model to weight_InceptionResnetV2.hdf5\n",
      "Epoch 3/100\n",
      "2076/2076 [==============================] - ETA: 18s - loss: 0.6028 - acc: 0.74 - ETA: 19s - loss: 0.6053 - acc: 0.74 - ETA: 18s - loss: 0.6061 - acc: 0.73 - ETA: 18s - loss: 0.6152 - acc: 0.70 - ETA: 17s - loss: 0.6311 - acc: 0.68 - ETA: 16s - loss: 0.6325 - acc: 0.67 - ETA: 16s - loss: 0.6362 - acc: 0.66 - ETA: 15s - loss: 0.6327 - acc: 0.67 - ETA: 14s - loss: 0.6313 - acc: 0.67 - ETA: 14s - loss: 0.6329 - acc: 0.67 - ETA: 14s - loss: 0.6281 - acc: 0.68 - ETA: 14s - loss: 0.6274 - acc: 0.68 - ETA: 13s - loss: 0.6275 - acc: 0.68 - ETA: 13s - loss: 0.6269 - acc: 0.68 - ETA: 12s - loss: 0.6255 - acc: 0.68 - ETA: 11s - loss: 0.6247 - acc: 0.68 - ETA: 10s - loss: 0.6235 - acc: 0.68 - ETA: 9s - loss: 0.6246 - acc: 0.6858 - ETA: 9s - loss: 0.6260 - acc: 0.682 - ETA: 8s - loss: 0.6255 - acc: 0.681 - ETA: 7s - loss: 0.6289 - acc: 0.677 - ETA: 6s - loss: 0.6298 - acc: 0.674 - ETA: 6s - loss: 0.6317 - acc: 0.669 - ETA: 5s - loss: 0.6357 - acc: 0.664 - ETA: 4s - loss: 0.6370 - acc: 0.660 - ETA: 4s - loss: 0.6363 - acc: 0.661 - ETA: 3s - loss: 0.6365 - acc: 0.660 - ETA: 2s - loss: 0.6344 - acc: 0.664 - ETA: 2s - loss: 0.6360 - acc: 0.661 - ETA: 1s - loss: 0.6358 - acc: 0.663 - ETA: 0s - loss: 0.6353 - acc: 0.663 - ETA: 0s - loss: 0.6335 - acc: 0.666 - 25s 12ms/step - loss: 0.6329 - acc: 0.6664 - val_loss: 0.6101 - val_acc: 0.6769\n",
      "\n",
      "Epoch 00003: val_loss improved from 0.62842 to 0.61010, saving model to weight_InceptionResnetV2.hdf5\n",
      "Epoch 4/100\n",
      "2076/2076 [==============================] - ETA: 17s - loss: 0.6037 - acc: 0.71 - ETA: 18s - loss: 0.5929 - acc: 0.73 - ETA: 17s - loss: 0.6206 - acc: 0.68 - ETA: 16s - loss: 0.6303 - acc: 0.66 - ETA: 15s - loss: 0.6311 - acc: 0.66 - ETA: 15s - loss: 0.6310 - acc: 0.66 - ETA: 14s - loss: 0.6233 - acc: 0.67 - ETA: 14s - loss: 0.6248 - acc: 0.67 - ETA: 13s - loss: 0.6275 - acc: 0.67 - ETA: 12s - loss: 0.6309 - acc: 0.66 - ETA: 12s - loss: 0.6288 - acc: 0.66 - ETA: 11s - loss: 0.6292 - acc: 0.66 - ETA: 11s - loss: 0.6290 - acc: 0.66 - ETA: 10s - loss: 0.6290 - acc: 0.66 - ETA: 10s - loss: 0.6326 - acc: 0.66 - ETA: 9s - loss: 0.6348 - acc: 0.6562 - ETA: 9s - loss: 0.6327 - acc: 0.658 - ETA: 8s - loss: 0.6338 - acc: 0.656 - ETA: 7s - loss: 0.6289 - acc: 0.663 - ETA: 7s - loss: 0.6299 - acc: 0.660 - ETA: 6s - loss: 0.6296 - acc: 0.661 - ETA: 6s - loss: 0.6288 - acc: 0.661 - ETA: 5s - loss: 0.6290 - acc: 0.661 - ETA: 4s - loss: 0.6278 - acc: 0.662 - ETA: 4s - loss: 0.6262 - acc: 0.665 - ETA: 3s - loss: 0.6271 - acc: 0.663 - ETA: 3s - loss: 0.6284 - acc: 0.660 - ETA: 2s - loss: 0.6275 - acc: 0.662 - ETA: 2s - loss: 0.6268 - acc: 0.663 - ETA: 1s - loss: 0.6261 - acc: 0.664 - ETA: 0s - loss: 0.6252 - acc: 0.666 - ETA: 0s - loss: 0.6232 - acc: 0.669 - 20s 10ms/step - loss: 0.6221 - acc: 0.6708 - val_loss: 0.5953 - val_acc: 0.6769\n",
      "\n",
      "Epoch 00004: val_loss improved from 0.61010 to 0.59531, saving model to weight_InceptionResnetV2.hdf5\n",
      "Epoch 5/100\n",
      "2076/2076 [==============================] - ETA: 17s - loss: 0.5787 - acc: 0.68 - ETA: 17s - loss: 0.5804 - acc: 0.71 - ETA: 16s - loss: 0.6057 - acc: 0.67 - ETA: 16s - loss: 0.5956 - acc: 0.69 - ETA: 15s - loss: 0.6064 - acc: 0.68 - ETA: 15s - loss: 0.6064 - acc: 0.68 - ETA: 14s - loss: 0.6040 - acc: 0.69 - ETA: 14s - loss: 0.6036 - acc: 0.69 - ETA: 13s - loss: 0.6051 - acc: 0.68 - ETA: 13s - loss: 0.6053 - acc: 0.68 - ETA: 12s - loss: 0.6029 - acc: 0.68 - ETA: 12s - loss: 0.6031 - acc: 0.68 - ETA: 11s - loss: 0.6072 - acc: 0.68 - ETA: 11s - loss: 0.6028 - acc: 0.68 - ETA: 10s - loss: 0.6066 - acc: 0.67 - ETA: 9s - loss: 0.6032 - acc: 0.6841 - ETA: 9s - loss: 0.6024 - acc: 0.684 - ETA: 8s - loss: 0.6066 - acc: 0.678 - ETA: 7s - loss: 0.6081 - acc: 0.676 - ETA: 7s - loss: 0.6103 - acc: 0.672 - ETA: 6s - loss: 0.6111 - acc: 0.671 - ETA: 6s - loss: 0.6123 - acc: 0.668 - ETA: 5s - loss: 0.6122 - acc: 0.669 - ETA: 4s - loss: 0.6096 - acc: 0.672 - ETA: 4s - loss: 0.6083 - acc: 0.674 - ETA: 3s - loss: 0.6084 - acc: 0.674 - ETA: 3s - loss: 0.6103 - acc: 0.674 - ETA: 2s - loss: 0.6091 - acc: 0.674 - ETA: 2s - loss: 0.6100 - acc: 0.673 - ETA: 1s - loss: 0.6104 - acc: 0.673 - ETA: 0s - loss: 0.6107 - acc: 0.672 - ETA: 0s - loss: 0.6094 - acc: 0.675 - 21s 10ms/step - loss: 0.6083 - acc: 0.6758 - val_loss: 0.5800 - val_acc: 0.6769\n",
      "\n",
      "Epoch 00005: val_loss improved from 0.59531 to 0.57998, saving model to weight_InceptionResnetV2.hdf5\n",
      "Epoch 6/100\n"
     ]
    },
    {
     "name": "stdout",
     "output_type": "stream",
     "text": [
      "2076/2076 [==============================] - ETA: 17s - loss: 0.5842 - acc: 0.71 - ETA: 17s - loss: 0.5893 - acc: 0.68 - ETA: 18s - loss: 0.5751 - acc: 0.70 - ETA: 19s - loss: 0.5889 - acc: 0.68 - ETA: 19s - loss: 0.5970 - acc: 0.67 - ETA: 18s - loss: 0.5871 - acc: 0.69 - ETA: 17s - loss: 0.5870 - acc: 0.68 - ETA: 17s - loss: 0.5825 - acc: 0.69 - ETA: 16s - loss: 0.5837 - acc: 0.69 - ETA: 15s - loss: 0.5814 - acc: 0.69 - ETA: 14s - loss: 0.5804 - acc: 0.70 - ETA: 13s - loss: 0.5836 - acc: 0.69 - ETA: 13s - loss: 0.5875 - acc: 0.68 - ETA: 12s - loss: 0.5865 - acc: 0.68 - ETA: 11s - loss: 0.5899 - acc: 0.67 - ETA: 10s - loss: 0.5892 - acc: 0.68 - ETA: 10s - loss: 0.5915 - acc: 0.67 - ETA: 9s - loss: 0.5946 - acc: 0.6736 - ETA: 8s - loss: 0.5927 - acc: 0.678 - ETA: 8s - loss: 0.5900 - acc: 0.682 - ETA: 7s - loss: 0.5924 - acc: 0.681 - ETA: 6s - loss: 0.5920 - acc: 0.682 - ETA: 6s - loss: 0.5911 - acc: 0.683 - ETA: 5s - loss: 0.5902 - acc: 0.683 - ETA: 4s - loss: 0.5912 - acc: 0.682 - ETA: 4s - loss: 0.5927 - acc: 0.681 - ETA: 3s - loss: 0.5927 - acc: 0.681 - ETA: 2s - loss: 0.5937 - acc: 0.680 - ETA: 2s - loss: 0.5950 - acc: 0.680 - ETA: 1s - loss: 0.5958 - acc: 0.679 - ETA: 0s - loss: 0.5965 - acc: 0.679 - ETA: 0s - loss: 0.5955 - acc: 0.680 - 22s 11ms/step - loss: 0.5965 - acc: 0.6792 - val_loss: 0.5661 - val_acc: 0.6769\n",
      "\n",
      "Epoch 00006: val_loss improved from 0.57998 to 0.56609, saving model to weight_InceptionResnetV2.hdf5\n",
      "Epoch 7/100\n",
      "2076/2076 [==============================] - ETA: 17s - loss: 0.6728 - acc: 0.60 - ETA: 17s - loss: 0.6368 - acc: 0.63 - ETA: 16s - loss: 0.5912 - acc: 0.70 - ETA: 15s - loss: 0.5940 - acc: 0.68 - ETA: 15s - loss: 0.5779 - acc: 0.69 - ETA: 15s - loss: 0.5746 - acc: 0.69 - ETA: 14s - loss: 0.5707 - acc: 0.70 - ETA: 14s - loss: 0.5710 - acc: 0.70 - ETA: 13s - loss: 0.5773 - acc: 0.69 - ETA: 13s - loss: 0.5816 - acc: 0.68 - ETA: 12s - loss: 0.5749 - acc: 0.69 - ETA: 11s - loss: 0.5726 - acc: 0.69 - ETA: 11s - loss: 0.5747 - acc: 0.69 - ETA: 11s - loss: 0.5774 - acc: 0.69 - ETA: 11s - loss: 0.5764 - acc: 0.69 - ETA: 10s - loss: 0.5762 - acc: 0.69 - ETA: 9s - loss: 0.5782 - acc: 0.6866 - ETA: 9s - loss: 0.5798 - acc: 0.683 - ETA: 8s - loss: 0.5790 - acc: 0.684 - ETA: 7s - loss: 0.5776 - acc: 0.685 - ETA: 7s - loss: 0.5809 - acc: 0.681 - ETA: 6s - loss: 0.5792 - acc: 0.684 - ETA: 5s - loss: 0.5776 - acc: 0.686 - ETA: 5s - loss: 0.5768 - acc: 0.687 - ETA: 4s - loss: 0.5759 - acc: 0.686 - ETA: 3s - loss: 0.5743 - acc: 0.689 - ETA: 3s - loss: 0.5759 - acc: 0.687 - ETA: 2s - loss: 0.5764 - acc: 0.685 - ETA: 2s - loss: 0.5792 - acc: 0.682 - ETA: 1s - loss: 0.5808 - acc: 0.681 - ETA: 0s - loss: 0.5801 - acc: 0.681 - ETA: 0s - loss: 0.5809 - acc: 0.679 - 21s 10ms/step - loss: 0.5816 - acc: 0.6787 - val_loss: 0.5492 - val_acc: 0.6769\n",
      "\n",
      "Epoch 00007: val_loss improved from 0.56609 to 0.54925, saving model to weight_InceptionResnetV2.hdf5\n",
      "Epoch 8/100\n",
      "2076/2076 [==============================] - ETA: 17s - loss: 0.5609 - acc: 0.68 - ETA: 17s - loss: 0.5945 - acc: 0.64 - ETA: 16s - loss: 0.6047 - acc: 0.62 - ETA: 18s - loss: 0.5800 - acc: 0.66 - ETA: 19s - loss: 0.5702 - acc: 0.68 - ETA: 18s - loss: 0.5705 - acc: 0.68 - ETA: 17s - loss: 0.5674 - acc: 0.69 - ETA: 16s - loss: 0.5747 - acc: 0.67 - ETA: 15s - loss: 0.5741 - acc: 0.67 - ETA: 14s - loss: 0.5709 - acc: 0.68 - ETA: 13s - loss: 0.5621 - acc: 0.69 - ETA: 12s - loss: 0.5645 - acc: 0.69 - ETA: 12s - loss: 0.5622 - acc: 0.69 - ETA: 11s - loss: 0.5632 - acc: 0.69 - ETA: 10s - loss: 0.5672 - acc: 0.68 - ETA: 10s - loss: 0.5671 - acc: 0.68 - ETA: 9s - loss: 0.5661 - acc: 0.6857 - ETA: 8s - loss: 0.5654 - acc: 0.687 - ETA: 8s - loss: 0.5658 - acc: 0.685 - ETA: 7s - loss: 0.5654 - acc: 0.687 - ETA: 6s - loss: 0.5645 - acc: 0.689 - ETA: 6s - loss: 0.5657 - acc: 0.688 - ETA: 5s - loss: 0.5651 - acc: 0.688 - ETA: 5s - loss: 0.5689 - acc: 0.683 - ETA: 4s - loss: 0.5679 - acc: 0.684 - ETA: 3s - loss: 0.5691 - acc: 0.684 - ETA: 3s - loss: 0.5719 - acc: 0.682 - ETA: 2s - loss: 0.5718 - acc: 0.681 - ETA: 2s - loss: 0.5742 - acc: 0.678 - ETA: 1s - loss: 0.5750 - acc: 0.677 - ETA: 0s - loss: 0.5727 - acc: 0.679 - ETA: 0s - loss: 0.5721 - acc: 0.680 - 21s 10ms/step - loss: 0.5703 - acc: 0.6833 - val_loss: 0.5323 - val_acc: 0.6769\n",
      "\n",
      "Epoch 00008: val_loss improved from 0.54925 to 0.53231, saving model to weight_InceptionResnetV2.hdf5\n",
      "Epoch 9/100\n",
      "2076/2076 [==============================] - ETA: 20s - loss: 0.5200 - acc: 0.76 - ETA: 19s - loss: 0.5133 - acc: 0.75 - ETA: 18s - loss: 0.5130 - acc: 0.75 - ETA: 18s - loss: 0.5375 - acc: 0.73 - ETA: 18s - loss: 0.5373 - acc: 0.72 - ETA: 17s - loss: 0.5466 - acc: 0.70 - ETA: 16s - loss: 0.5632 - acc: 0.68 - ETA: 15s - loss: 0.5638 - acc: 0.68 - ETA: 14s - loss: 0.5685 - acc: 0.67 - ETA: 14s - loss: 0.5721 - acc: 0.67 - ETA: 13s - loss: 0.5724 - acc: 0.67 - ETA: 12s - loss: 0.5661 - acc: 0.68 - ETA: 12s - loss: 0.5644 - acc: 0.68 - ETA: 11s - loss: 0.5625 - acc: 0.68 - ETA: 10s - loss: 0.5586 - acc: 0.69 - ETA: 10s - loss: 0.5623 - acc: 0.68 - ETA: 9s - loss: 0.5603 - acc: 0.6875 - ETA: 9s - loss: 0.5599 - acc: 0.688 - ETA: 8s - loss: 0.5559 - acc: 0.689 - ETA: 7s - loss: 0.5532 - acc: 0.694 - ETA: 7s - loss: 0.5543 - acc: 0.691 - ETA: 6s - loss: 0.5578 - acc: 0.687 - ETA: 6s - loss: 0.5555 - acc: 0.688 - ETA: 5s - loss: 0.5546 - acc: 0.688 - ETA: 4s - loss: 0.5550 - acc: 0.687 - ETA: 4s - loss: 0.5570 - acc: 0.685 - ETA: 3s - loss: 0.5558 - acc: 0.685 - ETA: 2s - loss: 0.5549 - acc: 0.686 - ETA: 2s - loss: 0.5568 - acc: 0.685 - ETA: 1s - loss: 0.5556 - acc: 0.686 - ETA: 0s - loss: 0.5555 - acc: 0.686 - ETA: 0s - loss: 0.5571 - acc: 0.683 - 24s 12ms/step - loss: 0.5578 - acc: 0.6830 - val_loss: 0.5160 - val_acc: 0.6798\n",
      "\n",
      "Epoch 00009: val_loss improved from 0.53231 to 0.51601, saving model to weight_InceptionResnetV2.hdf5\n",
      "Epoch 10/100\n",
      "2076/2076 [==============================] - ETA: 22s - loss: 0.5399 - acc: 0.71 - ETA: 21s - loss: 0.5420 - acc: 0.70 - ETA: 20s - loss: 0.5343 - acc: 0.71 - ETA: 19s - loss: 0.5515 - acc: 0.70 - ETA: 19s - loss: 0.5574 - acc: 0.71 - ETA: 18s - loss: 0.5472 - acc: 0.72 - ETA: 17s - loss: 0.5488 - acc: 0.71 - ETA: 16s - loss: 0.5515 - acc: 0.71 - ETA: 16s - loss: 0.5491 - acc: 0.71 - ETA: 15s - loss: 0.5432 - acc: 0.72 - ETA: 14s - loss: 0.5445 - acc: 0.71 - ETA: 13s - loss: 0.5498 - acc: 0.70 - ETA: 13s - loss: 0.5489 - acc: 0.70 - ETA: 12s - loss: 0.5488 - acc: 0.69 - ETA: 11s - loss: 0.5510 - acc: 0.69 - ETA: 11s - loss: 0.5530 - acc: 0.69 - ETA: 11s - loss: 0.5522 - acc: 0.69 - ETA: 10s - loss: 0.5501 - acc: 0.69 - ETA: 9s - loss: 0.5485 - acc: 0.6965 - ETA: 8s - loss: 0.5538 - acc: 0.692 - ETA: 8s - loss: 0.5535 - acc: 0.693 - ETA: 7s - loss: 0.5485 - acc: 0.698 - ETA: 6s - loss: 0.5486 - acc: 0.697 - ETA: 6s - loss: 0.5519 - acc: 0.694 - ETA: 5s - loss: 0.5512 - acc: 0.695 - ETA: 4s - loss: 0.5520 - acc: 0.692 - ETA: 3s - loss: 0.5516 - acc: 0.691 - ETA: 3s - loss: 0.5500 - acc: 0.693 - ETA: 2s - loss: 0.5499 - acc: 0.691 - ETA: 1s - loss: 0.5508 - acc: 0.690 - ETA: 1s - loss: 0.5490 - acc: 0.691 - ETA: 0s - loss: 0.5486 - acc: 0.691 - 24s 12ms/step - loss: 0.5478 - acc: 0.6915 - val_loss: 0.4989 - val_acc: 0.6933\n",
      "\n",
      "Epoch 00010: val_loss improved from 0.51601 to 0.49889, saving model to weight_InceptionResnetV2.hdf5\n",
      "Epoch 11/100\n"
     ]
    },
    {
     "name": "stdout",
     "output_type": "stream",
     "text": [
      "2076/2076 [==============================] - ETA: 18s - loss: 0.5291 - acc: 0.69 - ETA: 18s - loss: 0.4953 - acc: 0.71 - ETA: 17s - loss: 0.5313 - acc: 0.71 - ETA: 16s - loss: 0.5216 - acc: 0.72 - ETA: 16s - loss: 0.5220 - acc: 0.71 - ETA: 15s - loss: 0.5283 - acc: 0.71 - ETA: 15s - loss: 0.5197 - acc: 0.71 - ETA: 14s - loss: 0.5145 - acc: 0.72 - ETA: 13s - loss: 0.5229 - acc: 0.71 - ETA: 13s - loss: 0.5341 - acc: 0.68 - ETA: 12s - loss: 0.5326 - acc: 0.69 - ETA: 12s - loss: 0.5225 - acc: 0.70 - ETA: 11s - loss: 0.5230 - acc: 0.70 - ETA: 10s - loss: 0.5239 - acc: 0.70 - ETA: 10s - loss: 0.5246 - acc: 0.70 - ETA: 9s - loss: 0.5287 - acc: 0.6978 - ETA: 9s - loss: 0.5343 - acc: 0.691 - ETA: 8s - loss: 0.5344 - acc: 0.690 - ETA: 8s - loss: 0.5340 - acc: 0.689 - ETA: 7s - loss: 0.5346 - acc: 0.692 - ETA: 6s - loss: 0.5358 - acc: 0.691 - ETA: 6s - loss: 0.5315 - acc: 0.696 - ETA: 5s - loss: 0.5326 - acc: 0.695 - ETA: 5s - loss: 0.5324 - acc: 0.695 - ETA: 4s - loss: 0.5342 - acc: 0.693 - ETA: 3s - loss: 0.5328 - acc: 0.694 - ETA: 3s - loss: 0.5317 - acc: 0.696 - ETA: 2s - loss: 0.5307 - acc: 0.698 - ETA: 2s - loss: 0.5327 - acc: 0.697 - ETA: 1s - loss: 0.5312 - acc: 0.698 - ETA: 0s - loss: 0.5318 - acc: 0.697 - ETA: 0s - loss: 0.5343 - acc: 0.693 - 21s 10ms/step - loss: 0.5353 - acc: 0.6939 - val_loss: 0.4830 - val_acc: 0.7240\n",
      "\n",
      "Epoch 00011: val_loss improved from 0.49889 to 0.48301, saving model to weight_InceptionResnetV2.hdf5\n",
      "Epoch 12/100\n",
      "2076/2076 [==============================] - ETA: 18s - loss: 0.5601 - acc: 0.69 - ETA: 17s - loss: 0.5036 - acc: 0.73 - ETA: 18s - loss: 0.4995 - acc: 0.72 - ETA: 18s - loss: 0.5299 - acc: 0.67 - ETA: 19s - loss: 0.5254 - acc: 0.69 - ETA: 18s - loss: 0.5328 - acc: 0.69 - ETA: 18s - loss: 0.5237 - acc: 0.70 - ETA: 17s - loss: 0.5233 - acc: 0.70 - ETA: 16s - loss: 0.5186 - acc: 0.70 - ETA: 15s - loss: 0.5187 - acc: 0.70 - ETA: 14s - loss: 0.5178 - acc: 0.70 - ETA: 13s - loss: 0.5189 - acc: 0.70 - ETA: 12s - loss: 0.5121 - acc: 0.71 - ETA: 11s - loss: 0.5128 - acc: 0.71 - ETA: 11s - loss: 0.5136 - acc: 0.71 - ETA: 10s - loss: 0.5130 - acc: 0.71 - ETA: 9s - loss: 0.5148 - acc: 0.7142 - ETA: 9s - loss: 0.5133 - acc: 0.716 - ETA: 8s - loss: 0.5149 - acc: 0.712 - ETA: 7s - loss: 0.5158 - acc: 0.711 - ETA: 7s - loss: 0.5177 - acc: 0.710 - ETA: 6s - loss: 0.5177 - acc: 0.709 - ETA: 5s - loss: 0.5162 - acc: 0.711 - ETA: 5s - loss: 0.5181 - acc: 0.707 - ETA: 4s - loss: 0.5210 - acc: 0.703 - ETA: 3s - loss: 0.5195 - acc: 0.704 - ETA: 3s - loss: 0.5210 - acc: 0.702 - ETA: 2s - loss: 0.5207 - acc: 0.702 - ETA: 2s - loss: 0.5210 - acc: 0.701 - ETA: 1s - loss: 0.5200 - acc: 0.702 - ETA: 0s - loss: 0.5214 - acc: 0.703 - ETA: 0s - loss: 0.5228 - acc: 0.700 - 22s 11ms/step - loss: 0.5223 - acc: 0.7021 - val_loss: 0.4664 - val_acc: 0.7500\n",
      "\n",
      "Epoch 00012: val_loss improved from 0.48301 to 0.46639, saving model to weight_InceptionResnetV2.hdf5\n",
      "Epoch 13/100\n",
      "2076/2076 [==============================] - ETA: 17s - loss: 0.4535 - acc: 0.77 - ETA: 16s - loss: 0.4525 - acc: 0.75 - ETA: 16s - loss: 0.4659 - acc: 0.74 - ETA: 15s - loss: 0.4665 - acc: 0.73 - ETA: 15s - loss: 0.4701 - acc: 0.74 - ETA: 14s - loss: 0.4899 - acc: 0.72 - ETA: 14s - loss: 0.4954 - acc: 0.72 - ETA: 14s - loss: 0.4983 - acc: 0.71 - ETA: 13s - loss: 0.4993 - acc: 0.71 - ETA: 13s - loss: 0.5045 - acc: 0.70 - ETA: 12s - loss: 0.4977 - acc: 0.72 - ETA: 11s - loss: 0.4939 - acc: 0.72 - ETA: 11s - loss: 0.4984 - acc: 0.72 - ETA: 11s - loss: 0.4922 - acc: 0.72 - ETA: 10s - loss: 0.4949 - acc: 0.72 - ETA: 10s - loss: 0.5005 - acc: 0.71 - ETA: 9s - loss: 0.5048 - acc: 0.7109 - ETA: 8s - loss: 0.5048 - acc: 0.711 - ETA: 8s - loss: 0.5123 - acc: 0.706 - ETA: 7s - loss: 0.5118 - acc: 0.705 - ETA: 7s - loss: 0.5120 - acc: 0.705 - ETA: 6s - loss: 0.5106 - acc: 0.709 - ETA: 5s - loss: 0.5097 - acc: 0.708 - ETA: 5s - loss: 0.5102 - acc: 0.706 - ETA: 4s - loss: 0.5132 - acc: 0.702 - ETA: 4s - loss: 0.5127 - acc: 0.703 - ETA: 3s - loss: 0.5093 - acc: 0.706 - ETA: 2s - loss: 0.5077 - acc: 0.708 - ETA: 2s - loss: 0.5088 - acc: 0.706 - ETA: 1s - loss: 0.5104 - acc: 0.705 - ETA: 0s - loss: 0.5097 - acc: 0.705 - ETA: 0s - loss: 0.5094 - acc: 0.706 - 22s 11ms/step - loss: 0.5089 - acc: 0.7076 - val_loss: 0.4489 - val_acc: 0.7875\n",
      "\n",
      "Epoch 00013: val_loss improved from 0.46639 to 0.44891, saving model to weight_InceptionResnetV2.hdf5\n",
      "Epoch 14/100\n",
      "2076/2076 [==============================] - ETA: 20s - loss: 0.5267 - acc: 0.67 - ETA: 20s - loss: 0.5184 - acc: 0.66 - ETA: 20s - loss: 0.5056 - acc: 0.68 - ETA: 20s - loss: 0.5130 - acc: 0.68 - ETA: 19s - loss: 0.5134 - acc: 0.68 - ETA: 18s - loss: 0.5013 - acc: 0.69 - ETA: 17s - loss: 0.4973 - acc: 0.70 - ETA: 17s - loss: 0.5033 - acc: 0.70 - ETA: 16s - loss: 0.5027 - acc: 0.70 - ETA: 15s - loss: 0.5005 - acc: 0.70 - ETA: 14s - loss: 0.5019 - acc: 0.70 - ETA: 13s - loss: 0.5013 - acc: 0.70 - ETA: 12s - loss: 0.5052 - acc: 0.70 - ETA: 12s - loss: 0.5038 - acc: 0.70 - ETA: 11s - loss: 0.5041 - acc: 0.70 - ETA: 10s - loss: 0.5060 - acc: 0.70 - ETA: 9s - loss: 0.5044 - acc: 0.7068 - ETA: 9s - loss: 0.5022 - acc: 0.710 - ETA: 8s - loss: 0.4957 - acc: 0.715 - ETA: 8s - loss: 0.5000 - acc: 0.713 - ETA: 7s - loss: 0.5011 - acc: 0.713 - ETA: 6s - loss: 0.4989 - acc: 0.713 - ETA: 6s - loss: 0.4975 - acc: 0.715 - ETA: 5s - loss: 0.4942 - acc: 0.720 - ETA: 4s - loss: 0.4919 - acc: 0.721 - ETA: 4s - loss: 0.4919 - acc: 0.720 - ETA: 3s - loss: 0.4897 - acc: 0.723 - ETA: 2s - loss: 0.4880 - acc: 0.724 - ETA: 2s - loss: 0.4902 - acc: 0.722 - ETA: 1s - loss: 0.4878 - acc: 0.726 - ETA: 0s - loss: 0.4906 - acc: 0.722 - ETA: 0s - loss: 0.4910 - acc: 0.721 - 23s 11ms/step - loss: 0.4907 - acc: 0.7204 - val_loss: 0.4318 - val_acc: 0.8212\n",
      "\n",
      "Epoch 00014: val_loss improved from 0.44891 to 0.43179, saving model to weight_InceptionResnetV2.hdf5\n",
      "Epoch 15/100\n",
      "2076/2076 [==============================] - ETA: 18s - loss: 0.4489 - acc: 0.71 - ETA: 19s - loss: 0.4289 - acc: 0.75 - ETA: 17s - loss: 0.4226 - acc: 0.77 - ETA: 17s - loss: 0.4289 - acc: 0.77 - ETA: 16s - loss: 0.4307 - acc: 0.78 - ETA: 15s - loss: 0.4418 - acc: 0.76 - ETA: 15s - loss: 0.4446 - acc: 0.76 - ETA: 16s - loss: 0.4419 - acc: 0.76 - ETA: 16s - loss: 0.4433 - acc: 0.75 - ETA: 15s - loss: 0.4475 - acc: 0.75 - ETA: 14s - loss: 0.4541 - acc: 0.75 - ETA: 13s - loss: 0.4550 - acc: 0.74 - ETA: 13s - loss: 0.4611 - acc: 0.73 - ETA: 12s - loss: 0.4596 - acc: 0.74 - ETA: 11s - loss: 0.4583 - acc: 0.74 - ETA: 10s - loss: 0.4649 - acc: 0.73 - ETA: 10s - loss: 0.4689 - acc: 0.73 - ETA: 9s - loss: 0.4689 - acc: 0.7352 - ETA: 9s - loss: 0.4708 - acc: 0.731 - ETA: 8s - loss: 0.4744 - acc: 0.727 - ETA: 7s - loss: 0.4751 - acc: 0.726 - ETA: 7s - loss: 0.4770 - acc: 0.726 - ETA: 6s - loss: 0.4752 - acc: 0.727 - ETA: 5s - loss: 0.4753 - acc: 0.729 - ETA: 4s - loss: 0.4759 - acc: 0.729 - ETA: 4s - loss: 0.4732 - acc: 0.733 - ETA: 3s - loss: 0.4765 - acc: 0.728 - ETA: 2s - loss: 0.4753 - acc: 0.729 - ETA: 2s - loss: 0.4772 - acc: 0.729 - ETA: 1s - loss: 0.4774 - acc: 0.729 - ETA: 0s - loss: 0.4767 - acc: 0.729 - ETA: 0s - loss: 0.4754 - acc: 0.731 - 23s 11ms/step - loss: 0.4737 - acc: 0.7331 - val_loss: 0.4159 - val_acc: 0.8337\n",
      "\n",
      "Epoch 00015: val_loss improved from 0.43179 to 0.41589, saving model to weight_InceptionResnetV2.hdf5\n",
      "Epoch 16/100\n"
     ]
    },
    {
     "name": "stdout",
     "output_type": "stream",
     "text": [
      "2076/2076 [==============================] - ETA: 17s - loss: 0.3848 - acc: 0.81 - ETA: 17s - loss: 0.4004 - acc: 0.78 - ETA: 17s - loss: 0.3979 - acc: 0.78 - ETA: 16s - loss: 0.4228 - acc: 0.76 - ETA: 16s - loss: 0.4308 - acc: 0.76 - ETA: 15s - loss: 0.4375 - acc: 0.75 - ETA: 14s - loss: 0.4431 - acc: 0.74 - ETA: 14s - loss: 0.4480 - acc: 0.75 - ETA: 13s - loss: 0.4625 - acc: 0.74 - ETA: 13s - loss: 0.4589 - acc: 0.74 - ETA: 12s - loss: 0.4560 - acc: 0.74 - ETA: 12s - loss: 0.4610 - acc: 0.74 - ETA: 11s - loss: 0.4620 - acc: 0.73 - ETA: 10s - loss: 0.4620 - acc: 0.73 - ETA: 10s - loss: 0.4565 - acc: 0.74 - ETA: 9s - loss: 0.4513 - acc: 0.7495 - ETA: 9s - loss: 0.4494 - acc: 0.749 - ETA: 8s - loss: 0.4486 - acc: 0.749 - ETA: 8s - loss: 0.4482 - acc: 0.750 - ETA: 7s - loss: 0.4470 - acc: 0.752 - ETA: 6s - loss: 0.4484 - acc: 0.749 - ETA: 6s - loss: 0.4495 - acc: 0.746 - ETA: 5s - loss: 0.4524 - acc: 0.742 - ETA: 5s - loss: 0.4537 - acc: 0.742 - ETA: 4s - loss: 0.4570 - acc: 0.739 - ETA: 3s - loss: 0.4575 - acc: 0.738 - ETA: 3s - loss: 0.4566 - acc: 0.740 - ETA: 2s - loss: 0.4572 - acc: 0.741 - ETA: 2s - loss: 0.4565 - acc: 0.742 - ETA: 1s - loss: 0.4568 - acc: 0.743 - ETA: 0s - loss: 0.4567 - acc: 0.742 - ETA: 0s - loss: 0.4579 - acc: 0.743 - 21s 10ms/step - loss: 0.4582 - acc: 0.7425 - val_loss: 0.3992 - val_acc: 0.8558\n",
      "\n",
      "Epoch 00016: val_loss improved from 0.41589 to 0.39923, saving model to weight_InceptionResnetV2.hdf5\n",
      "Epoch 17/100\n",
      "2076/2076 [==============================] - ETA: 18s - loss: 0.5010 - acc: 0.71 - ETA: 17s - loss: 0.4837 - acc: 0.72 - ETA: 17s - loss: 0.4690 - acc: 0.73 - ETA: 16s - loss: 0.4587 - acc: 0.74 - ETA: 16s - loss: 0.4643 - acc: 0.74 - ETA: 15s - loss: 0.4724 - acc: 0.73 - ETA: 14s - loss: 0.4709 - acc: 0.73 - ETA: 14s - loss: 0.4759 - acc: 0.73 - ETA: 13s - loss: 0.4748 - acc: 0.74 - ETA: 12s - loss: 0.4748 - acc: 0.73 - ETA: 12s - loss: 0.4673 - acc: 0.74 - ETA: 11s - loss: 0.4632 - acc: 0.75 - ETA: 11s - loss: 0.4629 - acc: 0.75 - ETA: 10s - loss: 0.4625 - acc: 0.74 - ETA: 10s - loss: 0.4571 - acc: 0.74 - ETA: 9s - loss: 0.4560 - acc: 0.7476 - ETA: 8s - loss: 0.4514 - acc: 0.754 - ETA: 8s - loss: 0.4520 - acc: 0.753 - ETA: 7s - loss: 0.4491 - acc: 0.758 - ETA: 7s - loss: 0.4477 - acc: 0.758 - ETA: 6s - loss: 0.4475 - acc: 0.759 - ETA: 6s - loss: 0.4491 - acc: 0.758 - ETA: 5s - loss: 0.4461 - acc: 0.761 - ETA: 4s - loss: 0.4450 - acc: 0.765 - ETA: 4s - loss: 0.4411 - acc: 0.767 - ETA: 3s - loss: 0.4432 - acc: 0.764 - ETA: 3s - loss: 0.4444 - acc: 0.763 - ETA: 2s - loss: 0.4451 - acc: 0.762 - ETA: 2s - loss: 0.4434 - acc: 0.763 - ETA: 1s - loss: 0.4434 - acc: 0.763 - ETA: 0s - loss: 0.4414 - acc: 0.764 - ETA: 0s - loss: 0.4404 - acc: 0.766 - 22s 11ms/step - loss: 0.4394 - acc: 0.7664 - val_loss: 0.3822 - val_acc: 0.8433\n",
      "\n",
      "Epoch 00017: val_loss improved from 0.39923 to 0.38222, saving model to weight_InceptionResnetV2.hdf5\n",
      "Epoch 18/100\n",
      "2076/2076 [==============================] - ETA: 20s - loss: 0.4037 - acc: 0.77 - ETA: 18s - loss: 0.4562 - acc: 0.76 - ETA: 17s - loss: 0.4843 - acc: 0.73 - ETA: 17s - loss: 0.4803 - acc: 0.74 - ETA: 16s - loss: 0.4789 - acc: 0.75 - ETA: 15s - loss: 0.4799 - acc: 0.74 - ETA: 15s - loss: 0.4655 - acc: 0.75 - ETA: 14s - loss: 0.4633 - acc: 0.75 - ETA: 13s - loss: 0.4603 - acc: 0.75 - ETA: 13s - loss: 0.4680 - acc: 0.75 - ETA: 12s - loss: 0.4612 - acc: 0.75 - ETA: 12s - loss: 0.4607 - acc: 0.75 - ETA: 11s - loss: 0.4619 - acc: 0.75 - ETA: 10s - loss: 0.4564 - acc: 0.76 - ETA: 10s - loss: 0.4536 - acc: 0.77 - ETA: 9s - loss: 0.4474 - acc: 0.7754 - ETA: 9s - loss: 0.4468 - acc: 0.774 - ETA: 8s - loss: 0.4468 - acc: 0.773 - ETA: 7s - loss: 0.4462 - acc: 0.775 - ETA: 7s - loss: 0.4437 - acc: 0.776 - ETA: 6s - loss: 0.4413 - acc: 0.778 - ETA: 6s - loss: 0.4396 - acc: 0.778 - ETA: 5s - loss: 0.4384 - acc: 0.779 - ETA: 5s - loss: 0.4374 - acc: 0.779 - ETA: 4s - loss: 0.4347 - acc: 0.783 - ETA: 3s - loss: 0.4310 - acc: 0.787 - ETA: 3s - loss: 0.4299 - acc: 0.788 - ETA: 2s - loss: 0.4256 - acc: 0.792 - ETA: 2s - loss: 0.4274 - acc: 0.789 - ETA: 1s - loss: 0.4246 - acc: 0.790 - ETA: 0s - loss: 0.4255 - acc: 0.789 - ETA: 0s - loss: 0.4261 - acc: 0.789 - 21s 10ms/step - loss: 0.4253 - acc: 0.7909 - val_loss: 0.3642 - val_acc: 0.8538\n",
      "\n",
      "Epoch 00018: val_loss improved from 0.38222 to 0.36417, saving model to weight_InceptionResnetV2.hdf5\n",
      "Epoch 19/100\n",
      "2076/2076 [==============================] - ETA: 21s - loss: 0.3834 - acc: 0.80 - ETA: 23s - loss: 0.3978 - acc: 0.81 - ETA: 21s - loss: 0.3883 - acc: 0.83 - ETA: 19s - loss: 0.4039 - acc: 0.80 - ETA: 18s - loss: 0.4098 - acc: 0.79 - ETA: 17s - loss: 0.4113 - acc: 0.79 - ETA: 16s - loss: 0.4170 - acc: 0.79 - ETA: 15s - loss: 0.4048 - acc: 0.80 - ETA: 14s - loss: 0.4091 - acc: 0.79 - ETA: 14s - loss: 0.4111 - acc: 0.79 - ETA: 13s - loss: 0.4100 - acc: 0.80 - ETA: 12s - loss: 0.4122 - acc: 0.79 - ETA: 12s - loss: 0.4102 - acc: 0.79 - ETA: 11s - loss: 0.4098 - acc: 0.80 - ETA: 10s - loss: 0.4131 - acc: 0.80 - ETA: 10s - loss: 0.4161 - acc: 0.79 - ETA: 9s - loss: 0.4149 - acc: 0.7978 - ETA: 8s - loss: 0.4119 - acc: 0.799 - ETA: 8s - loss: 0.4108 - acc: 0.801 - ETA: 7s - loss: 0.4133 - acc: 0.799 - ETA: 6s - loss: 0.4125 - acc: 0.801 - ETA: 6s - loss: 0.4162 - acc: 0.798 - ETA: 5s - loss: 0.4176 - acc: 0.796 - ETA: 5s - loss: 0.4151 - acc: 0.797 - ETA: 4s - loss: 0.4130 - acc: 0.799 - ETA: 3s - loss: 0.4135 - acc: 0.799 - ETA: 3s - loss: 0.4128 - acc: 0.800 - ETA: 2s - loss: 0.4126 - acc: 0.802 - ETA: 2s - loss: 0.4116 - acc: 0.803 - ETA: 1s - loss: 0.4107 - acc: 0.805 - ETA: 0s - loss: 0.4105 - acc: 0.804 - ETA: 0s - loss: 0.4093 - acc: 0.805 - 21s 10ms/step - loss: 0.4100 - acc: 0.8025 - val_loss: 0.3457 - val_acc: 0.8731\n",
      "\n",
      "Epoch 00019: val_loss improved from 0.36417 to 0.34568, saving model to weight_InceptionResnetV2.hdf5\n",
      "Epoch 20/100\n",
      "2076/2076 [==============================] - ETA: 17s - loss: 0.5211 - acc: 0.75 - ETA: 17s - loss: 0.4646 - acc: 0.78 - ETA: 16s - loss: 0.4244 - acc: 0.81 - ETA: 16s - loss: 0.3968 - acc: 0.83 - ETA: 15s - loss: 0.3999 - acc: 0.82 - ETA: 15s - loss: 0.4019 - acc: 0.81 - ETA: 17s - loss: 0.4029 - acc: 0.81 - ETA: 16s - loss: 0.4008 - acc: 0.81 - ETA: 15s - loss: 0.4106 - acc: 0.80 - ETA: 14s - loss: 0.4006 - acc: 0.81 - ETA: 14s - loss: 0.4054 - acc: 0.81 - ETA: 13s - loss: 0.4077 - acc: 0.80 - ETA: 12s - loss: 0.4003 - acc: 0.81 - ETA: 11s - loss: 0.3997 - acc: 0.81 - ETA: 11s - loss: 0.4021 - acc: 0.81 - ETA: 10s - loss: 0.3997 - acc: 0.81 - ETA: 9s - loss: 0.3984 - acc: 0.8148 - ETA: 9s - loss: 0.4000 - acc: 0.813 - ETA: 8s - loss: 0.4007 - acc: 0.814 - ETA: 7s - loss: 0.3991 - acc: 0.816 - ETA: 7s - loss: 0.4004 - acc: 0.814 - ETA: 6s - loss: 0.4000 - acc: 0.811 - ETA: 5s - loss: 0.3972 - acc: 0.815 - ETA: 5s - loss: 0.3971 - acc: 0.816 - ETA: 4s - loss: 0.3940 - acc: 0.817 - ETA: 3s - loss: 0.3937 - acc: 0.816 - ETA: 3s - loss: 0.3941 - acc: 0.815 - ETA: 2s - loss: 0.3934 - acc: 0.816 - ETA: 2s - loss: 0.3929 - acc: 0.815 - ETA: 1s - loss: 0.3935 - acc: 0.815 - ETA: 0s - loss: 0.3924 - acc: 0.814 - ETA: 0s - loss: 0.3908 - acc: 0.815 - 21s 10ms/step - loss: 0.3906 - acc: 0.8167 - val_loss: 0.3291 - val_acc: 0.8731\n",
      "\n",
      "Epoch 00020: val_loss improved from 0.34568 to 0.32909, saving model to weight_InceptionResnetV2.hdf5\n",
      "Epoch 21/100\n"
     ]
    },
    {
     "name": "stdout",
     "output_type": "stream",
     "text": [
      "2076/2076 [==============================] - ETA: 18s - loss: 0.2714 - acc: 0.91 - ETA: 18s - loss: 0.3158 - acc: 0.86 - ETA: 17s - loss: 0.3335 - acc: 0.85 - ETA: 16s - loss: 0.3252 - acc: 0.86 - ETA: 16s - loss: 0.3358 - acc: 0.86 - ETA: 15s - loss: 0.3354 - acc: 0.86 - ETA: 15s - loss: 0.3412 - acc: 0.86 - ETA: 14s - loss: 0.3465 - acc: 0.85 - ETA: 13s - loss: 0.3486 - acc: 0.86 - ETA: 13s - loss: 0.3582 - acc: 0.85 - ETA: 12s - loss: 0.3625 - acc: 0.84 - ETA: 12s - loss: 0.3683 - acc: 0.83 - ETA: 11s - loss: 0.3714 - acc: 0.83 - ETA: 10s - loss: 0.3698 - acc: 0.83 - ETA: 10s - loss: 0.3727 - acc: 0.83 - ETA: 9s - loss: 0.3706 - acc: 0.8350 - ETA: 9s - loss: 0.3753 - acc: 0.829 - ETA: 8s - loss: 0.3740 - acc: 0.830 - ETA: 7s - loss: 0.3748 - acc: 0.832 - ETA: 7s - loss: 0.3727 - acc: 0.835 - ETA: 6s - loss: 0.3717 - acc: 0.835 - ETA: 6s - loss: 0.3680 - acc: 0.838 - ETA: 5s - loss: 0.3680 - acc: 0.837 - ETA: 5s - loss: 0.3677 - acc: 0.838 - ETA: 4s - loss: 0.3664 - acc: 0.838 - ETA: 4s - loss: 0.3648 - acc: 0.840 - ETA: 3s - loss: 0.3631 - acc: 0.841 - ETA: 2s - loss: 0.3669 - acc: 0.839 - ETA: 2s - loss: 0.3660 - acc: 0.841 - ETA: 1s - loss: 0.3646 - acc: 0.840 - ETA: 0s - loss: 0.3671 - acc: 0.840 - ETA: 0s - loss: 0.3685 - acc: 0.838 - 22s 11ms/step - loss: 0.3701 - acc: 0.8384 - val_loss: 0.3273 - val_acc: 0.9096\n",
      "\n",
      "Epoch 00021: val_loss improved from 0.32909 to 0.32735, saving model to weight_InceptionResnetV2.hdf5\n",
      "Epoch 22/100\n",
      "2076/2076 [==============================] - ETA: 17s - loss: 0.3554 - acc: 0.85 - ETA: 16s - loss: 0.3417 - acc: 0.85 - ETA: 16s - loss: 0.3412 - acc: 0.85 - ETA: 16s - loss: 0.3505 - acc: 0.85 - ETA: 15s - loss: 0.3423 - acc: 0.86 - ETA: 15s - loss: 0.3309 - acc: 0.86 - ETA: 14s - loss: 0.3360 - acc: 0.86 - ETA: 13s - loss: 0.3395 - acc: 0.86 - ETA: 13s - loss: 0.3446 - acc: 0.85 - ETA: 12s - loss: 0.3552 - acc: 0.84 - ETA: 12s - loss: 0.3553 - acc: 0.85 - ETA: 11s - loss: 0.3609 - acc: 0.85 - ETA: 10s - loss: 0.3615 - acc: 0.84 - ETA: 10s - loss: 0.3646 - acc: 0.84 - ETA: 9s - loss: 0.3643 - acc: 0.8479 - ETA: 9s - loss: 0.3627 - acc: 0.847 - ETA: 8s - loss: 0.3558 - acc: 0.852 - ETA: 8s - loss: 0.3588 - acc: 0.849 - ETA: 7s - loss: 0.3550 - acc: 0.852 - ETA: 6s - loss: 0.3547 - acc: 0.851 - ETA: 6s - loss: 0.3558 - acc: 0.847 - ETA: 5s - loss: 0.3556 - acc: 0.846 - ETA: 5s - loss: 0.3552 - acc: 0.846 - ETA: 4s - loss: 0.3531 - acc: 0.848 - ETA: 4s - loss: 0.3537 - acc: 0.846 - ETA: 3s - loss: 0.3529 - acc: 0.847 - ETA: 3s - loss: 0.3528 - acc: 0.846 - ETA: 2s - loss: 0.3534 - acc: 0.847 - ETA: 1s - loss: 0.3520 - acc: 0.847 - ETA: 1s - loss: 0.3526 - acc: 0.847 - ETA: 0s - loss: 0.3513 - acc: 0.849 - ETA: 0s - loss: 0.3491 - acc: 0.849 - 20s 10ms/step - loss: 0.3479 - acc: 0.8509 - val_loss: 0.2933 - val_acc: 0.8865\n",
      "\n",
      "Epoch 00022: val_loss improved from 0.32735 to 0.29332, saving model to weight_InceptionResnetV2.hdf5\n",
      "Epoch 23/100\n",
      "2076/2076 [==============================] - ETA: 19s - loss: 0.3234 - acc: 0.83 - ETA: 17s - loss: 0.3741 - acc: 0.82 - ETA: 17s - loss: 0.3296 - acc: 0.85 - ETA: 16s - loss: 0.3213 - acc: 0.86 - ETA: 16s - loss: 0.3236 - acc: 0.87 - ETA: 15s - loss: 0.3171 - acc: 0.87 - ETA: 14s - loss: 0.3228 - acc: 0.87 - ETA: 14s - loss: 0.3241 - acc: 0.87 - ETA: 13s - loss: 0.3241 - acc: 0.87 - ETA: 13s - loss: 0.3264 - acc: 0.86 - ETA: 12s - loss: 0.3292 - acc: 0.86 - ETA: 12s - loss: 0.3248 - acc: 0.87 - ETA: 11s - loss: 0.3227 - acc: 0.87 - ETA: 11s - loss: 0.3259 - acc: 0.87 - ETA: 10s - loss: 0.3250 - acc: 0.87 - ETA: 9s - loss: 0.3267 - acc: 0.8730 - ETA: 9s - loss: 0.3244 - acc: 0.876 - ETA: 8s - loss: 0.3214 - acc: 0.878 - ETA: 8s - loss: 0.3209 - acc: 0.878 - ETA: 7s - loss: 0.3237 - acc: 0.878 - ETA: 6s - loss: 0.3243 - acc: 0.877 - ETA: 6s - loss: 0.3275 - acc: 0.872 - ETA: 5s - loss: 0.3281 - acc: 0.874 - ETA: 5s - loss: 0.3300 - acc: 0.873 - ETA: 4s - loss: 0.3296 - acc: 0.874 - ETA: 3s - loss: 0.3296 - acc: 0.873 - ETA: 3s - loss: 0.3301 - acc: 0.873 - ETA: 2s - loss: 0.3290 - acc: 0.873 - ETA: 2s - loss: 0.3281 - acc: 0.873 - ETA: 1s - loss: 0.3267 - acc: 0.874 - ETA: 0s - loss: 0.3303 - acc: 0.871 - ETA: 0s - loss: 0.3298 - acc: 0.872 - 21s 10ms/step - loss: 0.3318 - acc: 0.8719 - val_loss: 0.2697 - val_acc: 0.9115\n",
      "\n",
      "Epoch 00023: val_loss improved from 0.29332 to 0.26965, saving model to weight_InceptionResnetV2.hdf5\n",
      "Epoch 24/100\n",
      "2076/2076 [==============================] - ETA: 19s - loss: 0.2910 - acc: 0.92 - ETA: 20s - loss: 0.2729 - acc: 0.91 - ETA: 18s - loss: 0.2650 - acc: 0.91 - ETA: 18s - loss: 0.2740 - acc: 0.90 - ETA: 17s - loss: 0.2921 - acc: 0.90 - ETA: 17s - loss: 0.2920 - acc: 0.90 - ETA: 16s - loss: 0.2936 - acc: 0.90 - ETA: 15s - loss: 0.2920 - acc: 0.90 - ETA: 14s - loss: 0.2949 - acc: 0.90 - ETA: 14s - loss: 0.2990 - acc: 0.89 - ETA: 13s - loss: 0.2992 - acc: 0.89 - ETA: 12s - loss: 0.2957 - acc: 0.89 - ETA: 12s - loss: 0.2978 - acc: 0.89 - ETA: 11s - loss: 0.2939 - acc: 0.89 - ETA: 11s - loss: 0.2973 - acc: 0.89 - ETA: 10s - loss: 0.3028 - acc: 0.88 - ETA: 10s - loss: 0.3023 - acc: 0.88 - ETA: 9s - loss: 0.3050 - acc: 0.8867 - ETA: 8s - loss: 0.3030 - acc: 0.889 - ETA: 8s - loss: 0.3033 - acc: 0.889 - ETA: 7s - loss: 0.3064 - acc: 0.887 - ETA: 6s - loss: 0.3080 - acc: 0.887 - ETA: 6s - loss: 0.3082 - acc: 0.886 - ETA: 5s - loss: 0.3063 - acc: 0.889 - ETA: 4s - loss: 0.3070 - acc: 0.889 - ETA: 4s - loss: 0.3089 - acc: 0.887 - ETA: 3s - loss: 0.3082 - acc: 0.888 - ETA: 2s - loss: 0.3059 - acc: 0.889 - ETA: 2s - loss: 0.3069 - acc: 0.888 - ETA: 1s - loss: 0.3085 - acc: 0.887 - ETA: 0s - loss: 0.3076 - acc: 0.888 - ETA: 0s - loss: 0.3065 - acc: 0.890 - 22s 11ms/step - loss: 0.3060 - acc: 0.8907 - val_loss: 0.2513 - val_acc: 0.9202\n",
      "\n",
      "Epoch 00024: val_loss improved from 0.26965 to 0.25132, saving model to weight_InceptionResnetV2.hdf5\n",
      "Epoch 25/100\n",
      "2076/2076 [==============================] - ETA: 18s - loss: 0.2663 - acc: 0.92 - ETA: 17s - loss: 0.2978 - acc: 0.89 - ETA: 16s - loss: 0.2859 - acc: 0.90 - ETA: 16s - loss: 0.2940 - acc: 0.90 - ETA: 15s - loss: 0.2989 - acc: 0.89 - ETA: 15s - loss: 0.3021 - acc: 0.89 - ETA: 14s - loss: 0.3119 - acc: 0.88 - ETA: 14s - loss: 0.3162 - acc: 0.88 - ETA: 15s - loss: 0.3118 - acc: 0.88 - ETA: 15s - loss: 0.3131 - acc: 0.88 - ETA: 14s - loss: 0.3104 - acc: 0.88 - ETA: 13s - loss: 0.3081 - acc: 0.88 - ETA: 13s - loss: 0.3057 - acc: 0.88 - ETA: 12s - loss: 0.3006 - acc: 0.88 - ETA: 11s - loss: 0.2993 - acc: 0.89 - ETA: 11s - loss: 0.2969 - acc: 0.89 - ETA: 10s - loss: 0.2978 - acc: 0.89 - ETA: 9s - loss: 0.2983 - acc: 0.8915 - ETA: 9s - loss: 0.3002 - acc: 0.893 - ETA: 8s - loss: 0.2998 - acc: 0.893 - ETA: 7s - loss: 0.2997 - acc: 0.894 - ETA: 7s - loss: 0.2976 - acc: 0.893 - ETA: 6s - loss: 0.2969 - acc: 0.893 - ETA: 5s - loss: 0.2954 - acc: 0.893 - ETA: 5s - loss: 0.2941 - acc: 0.895 - ETA: 4s - loss: 0.2951 - acc: 0.897 - ETA: 3s - loss: 0.2963 - acc: 0.895 - ETA: 3s - loss: 0.2948 - acc: 0.895 - ETA: 2s - loss: 0.2926 - acc: 0.898 - ETA: 1s - loss: 0.2926 - acc: 0.897 - ETA: 1s - loss: 0.2917 - acc: 0.897 - ETA: 0s - loss: 0.2918 - acc: 0.897 - 24s 12ms/step - loss: 0.2924 - acc: 0.8967 - val_loss: 0.2324 - val_acc: 0.9250\n",
      "\n",
      "Epoch 00025: val_loss improved from 0.25132 to 0.23237, saving model to weight_InceptionResnetV2.hdf5\n",
      "Epoch 26/100\n"
     ]
    },
    {
     "name": "stdout",
     "output_type": "stream",
     "text": [
      "2076/2076 [==============================] - ETA: 17s - loss: 0.2603 - acc: 0.91 - ETA: 17s - loss: 0.2445 - acc: 0.91 - ETA: 16s - loss: 0.2588 - acc: 0.92 - ETA: 16s - loss: 0.2530 - acc: 0.92 - ETA: 15s - loss: 0.2615 - acc: 0.91 - ETA: 15s - loss: 0.2718 - acc: 0.91 - ETA: 14s - loss: 0.2699 - acc: 0.91 - ETA: 14s - loss: 0.2722 - acc: 0.90 - ETA: 13s - loss: 0.2675 - acc: 0.91 - ETA: 12s - loss: 0.2706 - acc: 0.90 - ETA: 12s - loss: 0.2800 - acc: 0.90 - ETA: 11s - loss: 0.2780 - acc: 0.90 - ETA: 11s - loss: 0.2793 - acc: 0.90 - ETA: 10s - loss: 0.2782 - acc: 0.90 - ETA: 9s - loss: 0.2776 - acc: 0.9073 - ETA: 9s - loss: 0.2768 - acc: 0.906 - ETA: 8s - loss: 0.2774 - acc: 0.904 - ETA: 8s - loss: 0.2783 - acc: 0.902 - ETA: 7s - loss: 0.2755 - acc: 0.905 - ETA: 7s - loss: 0.2737 - acc: 0.907 - ETA: 6s - loss: 0.2704 - acc: 0.908 - ETA: 6s - loss: 0.2712 - acc: 0.908 - ETA: 5s - loss: 0.2738 - acc: 0.905 - ETA: 4s - loss: 0.2733 - acc: 0.906 - ETA: 4s - loss: 0.2719 - acc: 0.907 - ETA: 3s - loss: 0.2700 - acc: 0.909 - ETA: 3s - loss: 0.2713 - acc: 0.909 - ETA: 2s - loss: 0.2699 - acc: 0.910 - ETA: 1s - loss: 0.2668 - acc: 0.912 - ETA: 1s - loss: 0.2672 - acc: 0.911 - ETA: 0s - loss: 0.2674 - acc: 0.911 - ETA: 0s - loss: 0.2670 - acc: 0.911 - 20s 10ms/step - loss: 0.2667 - acc: 0.9116 - val_loss: 0.2146 - val_acc: 0.9317\n",
      "\n",
      "Epoch 00026: val_loss improved from 0.23237 to 0.21464, saving model to weight_InceptionResnetV2.hdf5\n",
      "Epoch 27/100\n",
      "2076/2076 [==============================] - ETA: 17s - loss: 0.2812 - acc: 0.91 - ETA: 16s - loss: 0.2583 - acc: 0.91 - ETA: 16s - loss: 0.2436 - acc: 0.92 - ETA: 16s - loss: 0.2427 - acc: 0.92 - ETA: 15s - loss: 0.2426 - acc: 0.92 - ETA: 15s - loss: 0.2501 - acc: 0.92 - ETA: 14s - loss: 0.2509 - acc: 0.92 - ETA: 13s - loss: 0.2623 - acc: 0.91 - ETA: 13s - loss: 0.2568 - acc: 0.92 - ETA: 12s - loss: 0.2540 - acc: 0.92 - ETA: 12s - loss: 0.2513 - acc: 0.92 - ETA: 11s - loss: 0.2471 - acc: 0.92 - ETA: 11s - loss: 0.2478 - acc: 0.92 - ETA: 10s - loss: 0.2479 - acc: 0.91 - ETA: 10s - loss: 0.2449 - acc: 0.92 - ETA: 9s - loss: 0.2482 - acc: 0.9209 - ETA: 8s - loss: 0.2510 - acc: 0.918 - ETA: 8s - loss: 0.2520 - acc: 0.917 - ETA: 7s - loss: 0.2514 - acc: 0.919 - ETA: 7s - loss: 0.2498 - acc: 0.919 - ETA: 6s - loss: 0.2492 - acc: 0.921 - ETA: 5s - loss: 0.2472 - acc: 0.921 - ETA: 5s - loss: 0.2468 - acc: 0.921 - ETA: 4s - loss: 0.2473 - acc: 0.922 - ETA: 4s - loss: 0.2452 - acc: 0.923 - ETA: 3s - loss: 0.2444 - acc: 0.924 - ETA: 3s - loss: 0.2459 - acc: 0.923 - ETA: 2s - loss: 0.2470 - acc: 0.921 - ETA: 2s - loss: 0.2464 - acc: 0.920 - ETA: 1s - loss: 0.2467 - acc: 0.921 - ETA: 0s - loss: 0.2472 - acc: 0.920 - ETA: 0s - loss: 0.2487 - acc: 0.919 - 21s 10ms/step - loss: 0.2479 - acc: 0.9198 - val_loss: 0.1997 - val_acc: 0.9365\n",
      "\n",
      "Epoch 00027: val_loss improved from 0.21464 to 0.19973, saving model to weight_InceptionResnetV2.hdf5\n",
      "Epoch 28/100\n",
      "2076/2076 [==============================] - ETA: 18s - loss: 0.2323 - acc: 0.96 - ETA: 17s - loss: 0.2294 - acc: 0.94 - ETA: 16s - loss: 0.2196 - acc: 0.94 - ETA: 16s - loss: 0.2336 - acc: 0.93 - ETA: 15s - loss: 0.2343 - acc: 0.93 - ETA: 14s - loss: 0.2362 - acc: 0.93 - ETA: 14s - loss: 0.2501 - acc: 0.92 - ETA: 13s - loss: 0.2448 - acc: 0.92 - ETA: 13s - loss: 0.2402 - acc: 0.92 - ETA: 12s - loss: 0.2350 - acc: 0.93 - ETA: 12s - loss: 0.2410 - acc: 0.92 - ETA: 11s - loss: 0.2467 - acc: 0.92 - ETA: 11s - loss: 0.2479 - acc: 0.92 - ETA: 10s - loss: 0.2449 - acc: 0.92 - ETA: 9s - loss: 0.2462 - acc: 0.9255 - ETA: 9s - loss: 0.2442 - acc: 0.924 - ETA: 8s - loss: 0.2392 - acc: 0.926 - ETA: 8s - loss: 0.2333 - acc: 0.930 - ETA: 7s - loss: 0.2297 - acc: 0.932 - ETA: 7s - loss: 0.2298 - acc: 0.931 - ETA: 6s - loss: 0.2291 - acc: 0.931 - ETA: 5s - loss: 0.2339 - acc: 0.927 - ETA: 5s - loss: 0.2316 - acc: 0.929 - ETA: 4s - loss: 0.2279 - acc: 0.932 - ETA: 4s - loss: 0.2279 - acc: 0.932 - ETA: 3s - loss: 0.2248 - acc: 0.933 - ETA: 3s - loss: 0.2251 - acc: 0.933 - ETA: 2s - loss: 0.2224 - acc: 0.933 - ETA: 1s - loss: 0.2228 - acc: 0.932 - ETA: 1s - loss: 0.2216 - acc: 0.932 - ETA: 0s - loss: 0.2220 - acc: 0.932 - ETA: 0s - loss: 0.2217 - acc: 0.931 - 20s 10ms/step - loss: 0.2222 - acc: 0.9316 - val_loss: 0.1875 - val_acc: 0.9394\n",
      "\n",
      "Epoch 00028: val_loss improved from 0.19973 to 0.18748, saving model to weight_InceptionResnetV2.hdf5\n",
      "Epoch 29/100\n",
      "2076/2076 [==============================] - ETA: 19s - loss: 0.1787 - acc: 0.96 - ETA: 18s - loss: 0.1810 - acc: 0.94 - ETA: 17s - loss: 0.2229 - acc: 0.92 - ETA: 16s - loss: 0.2276 - acc: 0.91 - ETA: 16s - loss: 0.2315 - acc: 0.91 - ETA: 15s - loss: 0.2411 - acc: 0.90 - ETA: 15s - loss: 0.2328 - acc: 0.91 - ETA: 14s - loss: 0.2263 - acc: 0.91 - ETA: 14s - loss: 0.2321 - acc: 0.91 - ETA: 13s - loss: 0.2245 - acc: 0.91 - ETA: 13s - loss: 0.2282 - acc: 0.91 - ETA: 12s - loss: 0.2233 - acc: 0.92 - ETA: 11s - loss: 0.2195 - acc: 0.92 - ETA: 11s - loss: 0.2249 - acc: 0.92 - ETA: 10s - loss: 0.2250 - acc: 0.92 - ETA: 9s - loss: 0.2276 - acc: 0.9229 - ETA: 9s - loss: 0.2244 - acc: 0.924 - ETA: 8s - loss: 0.2237 - acc: 0.924 - ETA: 7s - loss: 0.2231 - acc: 0.923 - ETA: 7s - loss: 0.2225 - acc: 0.923 - ETA: 6s - loss: 0.2237 - acc: 0.923 - ETA: 6s - loss: 0.2232 - acc: 0.924 - ETA: 5s - loss: 0.2229 - acc: 0.924 - ETA: 5s - loss: 0.2216 - acc: 0.926 - ETA: 4s - loss: 0.2184 - acc: 0.929 - ETA: 3s - loss: 0.2179 - acc: 0.929 - ETA: 3s - loss: 0.2184 - acc: 0.928 - ETA: 2s - loss: 0.2166 - acc: 0.930 - ETA: 2s - loss: 0.2151 - acc: 0.931 - ETA: 1s - loss: 0.2139 - acc: 0.932 - ETA: 0s - loss: 0.2126 - acc: 0.932 - ETA: 0s - loss: 0.2104 - acc: 0.933 - 21s 10ms/step - loss: 0.2113 - acc: 0.9326 - val_loss: 0.1624 - val_acc: 0.9481\n",
      "\n",
      "Epoch 00029: val_loss improved from 0.18748 to 0.16239, saving model to weight_InceptionResnetV2.hdf5\n",
      "Epoch 30/100\n",
      "2076/2076 [==============================] - ETA: 22s - loss: 0.2123 - acc: 0.96 - ETA: 22s - loss: 0.2447 - acc: 0.92 - ETA: 21s - loss: 0.2270 - acc: 0.93 - ETA: 20s - loss: 0.2175 - acc: 0.94 - ETA: 19s - loss: 0.2112 - acc: 0.94 - ETA: 18s - loss: 0.2132 - acc: 0.94 - ETA: 18s - loss: 0.2183 - acc: 0.94 - ETA: 17s - loss: 0.2131 - acc: 0.94 - ETA: 16s - loss: 0.2118 - acc: 0.94 - ETA: 16s - loss: 0.2146 - acc: 0.93 - ETA: 16s - loss: 0.2122 - acc: 0.94 - ETA: 15s - loss: 0.2122 - acc: 0.94 - ETA: 14s - loss: 0.2161 - acc: 0.93 - ETA: 13s - loss: 0.2122 - acc: 0.94 - ETA: 12s - loss: 0.2097 - acc: 0.94 - ETA: 12s - loss: 0.2064 - acc: 0.94 - ETA: 11s - loss: 0.2027 - acc: 0.94 - ETA: 10s - loss: 0.2013 - acc: 0.94 - ETA: 10s - loss: 0.1998 - acc: 0.94 - ETA: 9s - loss: 0.1991 - acc: 0.9480 - ETA: 8s - loss: 0.1959 - acc: 0.949 - ETA: 7s - loss: 0.1969 - acc: 0.948 - ETA: 7s - loss: 0.1968 - acc: 0.947 - ETA: 6s - loss: 0.1947 - acc: 0.947 - ETA: 5s - loss: 0.1954 - acc: 0.947 - ETA: 4s - loss: 0.1966 - acc: 0.945 - ETA: 3s - loss: 0.1976 - acc: 0.945 - ETA: 3s - loss: 0.1966 - acc: 0.945 - ETA: 2s - loss: 0.1950 - acc: 0.946 - ETA: 1s - loss: 0.1941 - acc: 0.946 - ETA: 1s - loss: 0.1943 - acc: 0.947 - ETA: 0s - loss: 0.1927 - acc: 0.947 - 24s 12ms/step - loss: 0.1933 - acc: 0.9473 - val_loss: 0.1516 - val_acc: 0.9548\n",
      "\n",
      "Epoch 00030: val_loss improved from 0.16239 to 0.15160, saving model to weight_InceptionResnetV2.hdf5\n",
      "Epoch 31/100\n"
     ]
    },
    {
     "name": "stdout",
     "output_type": "stream",
     "text": [
      "2076/2076 [==============================] - ETA: 17s - loss: 0.1386 - acc: 0.96 - ETA: 17s - loss: 0.1517 - acc: 0.96 - ETA: 16s - loss: 0.1620 - acc: 0.96 - ETA: 16s - loss: 0.1548 - acc: 0.97 - ETA: 15s - loss: 0.1598 - acc: 0.97 - ETA: 15s - loss: 0.1754 - acc: 0.96 - ETA: 14s - loss: 0.1700 - acc: 0.96 - ETA: 14s - loss: 0.1662 - acc: 0.96 - ETA: 13s - loss: 0.1651 - acc: 0.96 - ETA: 13s - loss: 0.1662 - acc: 0.96 - ETA: 12s - loss: 0.1694 - acc: 0.95 - ETA: 11s - loss: 0.1679 - acc: 0.96 - ETA: 11s - loss: 0.1673 - acc: 0.95 - ETA: 10s - loss: 0.1646 - acc: 0.96 - ETA: 10s - loss: 0.1646 - acc: 0.96 - ETA: 9s - loss: 0.1672 - acc: 0.9600 - ETA: 9s - loss: 0.1658 - acc: 0.960 - ETA: 8s - loss: 0.1702 - acc: 0.959 - ETA: 7s - loss: 0.1680 - acc: 0.961 - ETA: 7s - loss: 0.1721 - acc: 0.957 - ETA: 6s - loss: 0.1745 - acc: 0.955 - ETA: 6s - loss: 0.1721 - acc: 0.957 - ETA: 5s - loss: 0.1713 - acc: 0.958 - ETA: 4s - loss: 0.1707 - acc: 0.959 - ETA: 4s - loss: 0.1703 - acc: 0.959 - ETA: 3s - loss: 0.1689 - acc: 0.960 - ETA: 3s - loss: 0.1688 - acc: 0.959 - ETA: 2s - loss: 0.1688 - acc: 0.958 - ETA: 2s - loss: 0.1707 - acc: 0.956 - ETA: 1s - loss: 0.1735 - acc: 0.955 - ETA: 0s - loss: 0.1732 - acc: 0.955 - ETA: 0s - loss: 0.1748 - acc: 0.954 - 20s 10ms/step - loss: 0.1744 - acc: 0.9547 - val_loss: 0.1362 - val_acc: 0.9606\n",
      "\n",
      "Epoch 00031: val_loss improved from 0.15160 to 0.13624, saving model to weight_InceptionResnetV2.hdf5\n",
      "Epoch 32/100\n",
      "2076/2076 [==============================] - ETA: 17s - loss: 0.2162 - acc: 0.87 - ETA: 16s - loss: 0.2092 - acc: 0.91 - ETA: 16s - loss: 0.1891 - acc: 0.92 - ETA: 16s - loss: 0.1907 - acc: 0.92 - ETA: 15s - loss: 0.1830 - acc: 0.93 - ETA: 15s - loss: 0.1826 - acc: 0.93 - ETA: 14s - loss: 0.1779 - acc: 0.94 - ETA: 13s - loss: 0.1715 - acc: 0.94 - ETA: 13s - loss: 0.1735 - acc: 0.94 - ETA: 12s - loss: 0.1757 - acc: 0.95 - ETA: 12s - loss: 0.1766 - acc: 0.94 - ETA: 11s - loss: 0.1732 - acc: 0.95 - ETA: 10s - loss: 0.1675 - acc: 0.95 - ETA: 10s - loss: 0.1679 - acc: 0.95 - ETA: 9s - loss: 0.1719 - acc: 0.9526 - ETA: 9s - loss: 0.1709 - acc: 0.951 - ETA: 8s - loss: 0.1708 - acc: 0.950 - ETA: 8s - loss: 0.1704 - acc: 0.950 - ETA: 7s - loss: 0.1705 - acc: 0.951 - ETA: 7s - loss: 0.1685 - acc: 0.952 - ETA: 6s - loss: 0.1695 - acc: 0.952 - ETA: 5s - loss: 0.1681 - acc: 0.953 - ETA: 5s - loss: 0.1678 - acc: 0.952 - ETA: 4s - loss: 0.1686 - acc: 0.952 - ETA: 4s - loss: 0.1680 - acc: 0.952 - ETA: 3s - loss: 0.1657 - acc: 0.953 - ETA: 3s - loss: 0.1642 - acc: 0.954 - ETA: 2s - loss: 0.1646 - acc: 0.954 - ETA: 1s - loss: 0.1640 - acc: 0.955 - ETA: 1s - loss: 0.1635 - acc: 0.956 - ETA: 0s - loss: 0.1618 - acc: 0.956 - ETA: 0s - loss: 0.1629 - acc: 0.956 - 21s 10ms/step - loss: 0.1633 - acc: 0.9562 - val_loss: 0.1243 - val_acc: 0.9654\n",
      "\n",
      "Epoch 00032: val_loss improved from 0.13624 to 0.12435, saving model to weight_InceptionResnetV2.hdf5\n",
      "Epoch 33/100\n",
      "2076/2076 [==============================] - ETA: 17s - loss: 0.1174 - acc: 0.97 - ETA: 18s - loss: 0.1387 - acc: 0.97 - ETA: 17s - loss: 0.1515 - acc: 0.96 - ETA: 17s - loss: 0.1438 - acc: 0.97 - ETA: 17s - loss: 0.1482 - acc: 0.96 - ETA: 16s - loss: 0.1402 - acc: 0.97 - ETA: 15s - loss: 0.1423 - acc: 0.97 - ETA: 14s - loss: 0.1420 - acc: 0.96 - ETA: 14s - loss: 0.1541 - acc: 0.96 - ETA: 13s - loss: 0.1523 - acc: 0.96 - ETA: 12s - loss: 0.1546 - acc: 0.96 - ETA: 12s - loss: 0.1549 - acc: 0.96 - ETA: 11s - loss: 0.1545 - acc: 0.96 - ETA: 10s - loss: 0.1532 - acc: 0.96 - ETA: 10s - loss: 0.1509 - acc: 0.96 - ETA: 9s - loss: 0.1463 - acc: 0.9668 - ETA: 9s - loss: 0.1461 - acc: 0.967 - ETA: 8s - loss: 0.1505 - acc: 0.962 - ETA: 8s - loss: 0.1512 - acc: 0.961 - ETA: 7s - loss: 0.1506 - acc: 0.961 - ETA: 7s - loss: 0.1518 - acc: 0.961 - ETA: 6s - loss: 0.1507 - acc: 0.961 - ETA: 5s - loss: 0.1476 - acc: 0.962 - ETA: 5s - loss: 0.1457 - acc: 0.962 - ETA: 4s - loss: 0.1481 - acc: 0.960 - ETA: 3s - loss: 0.1482 - acc: 0.960 - ETA: 3s - loss: 0.1492 - acc: 0.960 - ETA: 2s - loss: 0.1494 - acc: 0.959 - ETA: 2s - loss: 0.1477 - acc: 0.960 - ETA: 1s - loss: 0.1470 - acc: 0.960 - ETA: 0s - loss: 0.1466 - acc: 0.960 - ETA: 0s - loss: 0.1455 - acc: 0.961 - 22s 10ms/step - loss: 0.1455 - acc: 0.9612 - val_loss: 0.1262 - val_acc: 0.9644\n",
      "\n",
      "Epoch 00033: val_loss did not improve from 0.12435\n",
      "Epoch 34/100\n",
      "2076/2076 [==============================] - ETA: 18s - loss: 0.0852 - acc: 1.00 - ETA: 18s - loss: 0.1077 - acc: 0.98 - ETA: 19s - loss: 0.1074 - acc: 0.98 - ETA: 19s - loss: 0.1151 - acc: 0.98 - ETA: 18s - loss: 0.1149 - acc: 0.98 - ETA: 17s - loss: 0.1154 - acc: 0.98 - ETA: 16s - loss: 0.1224 - acc: 0.98 - ETA: 15s - loss: 0.1235 - acc: 0.97 - ETA: 15s - loss: 0.1244 - acc: 0.98 - ETA: 14s - loss: 0.1256 - acc: 0.97 - ETA: 13s - loss: 0.1262 - acc: 0.97 - ETA: 12s - loss: 0.1279 - acc: 0.97 - ETA: 12s - loss: 0.1299 - acc: 0.97 - ETA: 11s - loss: 0.1312 - acc: 0.97 - ETA: 11s - loss: 0.1326 - acc: 0.97 - ETA: 10s - loss: 0.1350 - acc: 0.96 - ETA: 9s - loss: 0.1399 - acc: 0.9683 - ETA: 9s - loss: 0.1387 - acc: 0.968 - ETA: 8s - loss: 0.1376 - acc: 0.970 - ETA: 7s - loss: 0.1379 - acc: 0.969 - ETA: 7s - loss: 0.1369 - acc: 0.969 - ETA: 6s - loss: 0.1367 - acc: 0.969 - ETA: 5s - loss: 0.1368 - acc: 0.969 - ETA: 5s - loss: 0.1362 - acc: 0.970 - ETA: 4s - loss: 0.1357 - acc: 0.970 - ETA: 4s - loss: 0.1366 - acc: 0.969 - ETA: 3s - loss: 0.1360 - acc: 0.969 - ETA: 2s - loss: 0.1360 - acc: 0.968 - ETA: 2s - loss: 0.1354 - acc: 0.969 - ETA: 1s - loss: 0.1345 - acc: 0.970 - ETA: 0s - loss: 0.1344 - acc: 0.970 - ETA: 0s - loss: 0.1330 - acc: 0.970 - 22s 10ms/step - loss: 0.1326 - acc: 0.9711 - val_loss: 0.1131 - val_acc: 0.9673\n",
      "\n",
      "Epoch 00034: val_loss improved from 0.12435 to 0.11311, saving model to weight_InceptionResnetV2.hdf5\n",
      "Epoch 35/100\n",
      "2076/2076 [==============================] - ETA: 30s - loss: 0.1380 - acc: 0.97 - ETA: 27s - loss: 0.1470 - acc: 0.96 - ETA: 24s - loss: 0.1420 - acc: 0.97 - ETA: 22s - loss: 0.1479 - acc: 0.97 - ETA: 20s - loss: 0.1444 - acc: 0.97 - ETA: 19s - loss: 0.1433 - acc: 0.97 - ETA: 18s - loss: 0.1389 - acc: 0.97 - ETA: 17s - loss: 0.1295 - acc: 0.97 - ETA: 16s - loss: 0.1256 - acc: 0.98 - ETA: 15s - loss: 0.1313 - acc: 0.97 - ETA: 14s - loss: 0.1328 - acc: 0.97 - ETA: 14s - loss: 0.1297 - acc: 0.97 - ETA: 13s - loss: 0.1276 - acc: 0.97 - ETA: 13s - loss: 0.1249 - acc: 0.97 - ETA: 13s - loss: 0.1251 - acc: 0.97 - ETA: 12s - loss: 0.1243 - acc: 0.97 - ETA: 11s - loss: 0.1238 - acc: 0.97 - ETA: 10s - loss: 0.1225 - acc: 0.97 - ETA: 9s - loss: 0.1219 - acc: 0.9749 - ETA: 9s - loss: 0.1185 - acc: 0.975 - ETA: 8s - loss: 0.1190 - acc: 0.975 - ETA: 7s - loss: 0.1200 - acc: 0.974 - ETA: 6s - loss: 0.1211 - acc: 0.972 - ETA: 5s - loss: 0.1197 - acc: 0.973 - ETA: 5s - loss: 0.1193 - acc: 0.973 - ETA: 4s - loss: 0.1195 - acc: 0.973 - ETA: 3s - loss: 0.1187 - acc: 0.974 - ETA: 3s - loss: 0.1186 - acc: 0.972 - ETA: 2s - loss: 0.1179 - acc: 0.973 - ETA: 1s - loss: 0.1198 - acc: 0.972 - ETA: 1s - loss: 0.1193 - acc: 0.971 - ETA: 0s - loss: 0.1185 - acc: 0.972 - 26s 12ms/step - loss: 0.1179 - acc: 0.9725 - val_loss: 0.0979 - val_acc: 0.9788\n",
      "\n",
      "Epoch 00035: val_loss improved from 0.11311 to 0.09788, saving model to weight_InceptionResnetV2.hdf5\n",
      "Epoch 36/100\n"
     ]
    },
    {
     "name": "stdout",
     "output_type": "stream",
     "text": [
      "2076/2076 [==============================] - ETA: 20s - loss: 0.1024 - acc: 0.98 - ETA: 19s - loss: 0.0820 - acc: 0.99 - ETA: 18s - loss: 0.0839 - acc: 0.98 - ETA: 18s - loss: 0.0829 - acc: 0.99 - ETA: 17s - loss: 0.0875 - acc: 0.99 - ETA: 16s - loss: 0.0833 - acc: 0.99 - ETA: 15s - loss: 0.0973 - acc: 0.98 - ETA: 15s - loss: 0.1001 - acc: 0.98 - ETA: 14s - loss: 0.0985 - acc: 0.98 - ETA: 13s - loss: 0.1000 - acc: 0.98 - ETA: 13s - loss: 0.1028 - acc: 0.98 - ETA: 12s - loss: 0.1055 - acc: 0.97 - ETA: 11s - loss: 0.1069 - acc: 0.97 - ETA: 11s - loss: 0.1058 - acc: 0.97 - ETA: 10s - loss: 0.1032 - acc: 0.98 - ETA: 10s - loss: 0.1024 - acc: 0.98 - ETA: 9s - loss: 0.1006 - acc: 0.9821 - ETA: 8s - loss: 0.1015 - acc: 0.982 - ETA: 8s - loss: 0.0999 - acc: 0.983 - ETA: 7s - loss: 0.1022 - acc: 0.982 - ETA: 6s - loss: 0.1073 - acc: 0.979 - ETA: 6s - loss: 0.1079 - acc: 0.978 - ETA: 5s - loss: 0.1081 - acc: 0.978 - ETA: 5s - loss: 0.1103 - acc: 0.976 - ETA: 4s - loss: 0.1098 - acc: 0.976 - ETA: 3s - loss: 0.1100 - acc: 0.976 - ETA: 3s - loss: 0.1108 - acc: 0.975 - ETA: 2s - loss: 0.1116 - acc: 0.974 - ETA: 2s - loss: 0.1112 - acc: 0.975 - ETA: 1s - loss: 0.1100 - acc: 0.976 - ETA: 0s - loss: 0.1091 - acc: 0.976 - ETA: 0s - loss: 0.1079 - acc: 0.977 - 21s 10ms/step - loss: 0.1076 - acc: 0.9774 - val_loss: 0.0929 - val_acc: 0.9827\n",
      "\n",
      "Epoch 00036: val_loss improved from 0.09788 to 0.09287, saving model to weight_InceptionResnetV2.hdf5\n",
      "Epoch 37/100\n",
      "2076/2076 [==============================] - ETA: 17s - loss: 0.1264 - acc: 0.98 - ETA: 17s - loss: 0.1232 - acc: 0.97 - ETA: 16s - loss: 0.1229 - acc: 0.97 - ETA: 15s - loss: 0.1167 - acc: 0.97 - ETA: 15s - loss: 0.1170 - acc: 0.97 - ETA: 14s - loss: 0.1129 - acc: 0.97 - ETA: 14s - loss: 0.1062 - acc: 0.98 - ETA: 13s - loss: 0.1026 - acc: 0.98 - ETA: 12s - loss: 0.1033 - acc: 0.98 - ETA: 12s - loss: 0.1009 - acc: 0.98 - ETA: 11s - loss: 0.1006 - acc: 0.98 - ETA: 11s - loss: 0.1043 - acc: 0.97 - ETA: 10s - loss: 0.1020 - acc: 0.97 - ETA: 10s - loss: 0.1022 - acc: 0.97 - ETA: 9s - loss: 0.1011 - acc: 0.9781 - ETA: 9s - loss: 0.1018 - acc: 0.978 - ETA: 8s - loss: 0.1032 - acc: 0.978 - ETA: 8s - loss: 0.1011 - acc: 0.980 - ETA: 7s - loss: 0.0993 - acc: 0.981 - ETA: 6s - loss: 0.0999 - acc: 0.981 - ETA: 6s - loss: 0.1007 - acc: 0.981 - ETA: 5s - loss: 0.0994 - acc: 0.981 - ETA: 5s - loss: 0.0996 - acc: 0.980 - ETA: 4s - loss: 0.1005 - acc: 0.979 - ETA: 4s - loss: 0.1003 - acc: 0.980 - ETA: 3s - loss: 0.1023 - acc: 0.979 - ETA: 3s - loss: 0.1027 - acc: 0.979 - ETA: 2s - loss: 0.1013 - acc: 0.979 - ETA: 1s - loss: 0.1015 - acc: 0.979 - ETA: 1s - loss: 0.1012 - acc: 0.979 - ETA: 0s - loss: 0.1027 - acc: 0.979 - ETA: 0s - loss: 0.1050 - acc: 0.978 - 21s 10ms/step - loss: 0.1042 - acc: 0.9783 - val_loss: 0.0866 - val_acc: 0.9827\n",
      "\n",
      "Epoch 00037: val_loss improved from 0.09287 to 0.08657, saving model to weight_InceptionResnetV2.hdf5\n",
      "Epoch 38/100\n",
      "2076/2076 [==============================] - ETA: 17s - loss: 0.1082 - acc: 0.98 - ETA: 16s - loss: 0.0896 - acc: 0.98 - ETA: 16s - loss: 0.0846 - acc: 0.98 - ETA: 16s - loss: 0.0934 - acc: 0.98 - ETA: 15s - loss: 0.0853 - acc: 0.98 - ETA: 14s - loss: 0.0854 - acc: 0.98 - ETA: 14s - loss: 0.0851 - acc: 0.98 - ETA: 13s - loss: 0.0862 - acc: 0.98 - ETA: 12s - loss: 0.0864 - acc: 0.98 - ETA: 12s - loss: 0.0886 - acc: 0.98 - ETA: 11s - loss: 0.0892 - acc: 0.98 - ETA: 11s - loss: 0.0911 - acc: 0.98 - ETA: 10s - loss: 0.0894 - acc: 0.98 - ETA: 10s - loss: 0.0892 - acc: 0.98 - ETA: 9s - loss: 0.0896 - acc: 0.9807 - ETA: 9s - loss: 0.0867 - acc: 0.981 - ETA: 8s - loss: 0.0862 - acc: 0.982 - ETA: 8s - loss: 0.0855 - acc: 0.982 - ETA: 7s - loss: 0.0881 - acc: 0.980 - ETA: 6s - loss: 0.0865 - acc: 0.980 - ETA: 6s - loss: 0.0854 - acc: 0.981 - ETA: 5s - loss: 0.0865 - acc: 0.981 - ETA: 5s - loss: 0.0861 - acc: 0.981 - ETA: 4s - loss: 0.0857 - acc: 0.982 - ETA: 4s - loss: 0.0858 - acc: 0.983 - ETA: 3s - loss: 0.0866 - acc: 0.982 - ETA: 3s - loss: 0.0872 - acc: 0.982 - ETA: 2s - loss: 0.0883 - acc: 0.981 - ETA: 1s - loss: 0.0911 - acc: 0.980 - ETA: 1s - loss: 0.0929 - acc: 0.979 - ETA: 0s - loss: 0.0926 - acc: 0.979 - ETA: 0s - loss: 0.0920 - acc: 0.979 - 20s 9ms/step - loss: 0.0925 - acc: 0.9793 - val_loss: 0.0824 - val_acc: 0.9808\n",
      "\n",
      "Epoch 00038: val_loss improved from 0.08657 to 0.08239, saving model to weight_InceptionResnetV2.hdf5\n",
      "Epoch 39/100\n",
      "2076/2076 [==============================] - ETA: 18s - loss: 0.0820 - acc: 0.99 - ETA: 18s - loss: 0.0881 - acc: 0.98 - ETA: 17s - loss: 0.0922 - acc: 0.98 - ETA: 16s - loss: 0.0871 - acc: 0.98 - ETA: 15s - loss: 0.0941 - acc: 0.97 - ETA: 15s - loss: 0.0915 - acc: 0.97 - ETA: 14s - loss: 0.0892 - acc: 0.98 - ETA: 14s - loss: 0.0855 - acc: 0.98 - ETA: 13s - loss: 0.0859 - acc: 0.98 - ETA: 12s - loss: 0.0877 - acc: 0.98 - ETA: 12s - loss: 0.0894 - acc: 0.98 - ETA: 11s - loss: 0.0886 - acc: 0.98 - ETA: 11s - loss: 0.0852 - acc: 0.98 - ETA: 10s - loss: 0.0844 - acc: 0.99 - ETA: 9s - loss: 0.0837 - acc: 0.9896 - ETA: 9s - loss: 0.0849 - acc: 0.987 - ETA: 8s - loss: 0.0829 - acc: 0.988 - ETA: 8s - loss: 0.0823 - acc: 0.989 - ETA: 7s - loss: 0.0836 - acc: 0.988 - ETA: 7s - loss: 0.0816 - acc: 0.989 - ETA: 6s - loss: 0.0819 - acc: 0.989 - ETA: 5s - loss: 0.0822 - acc: 0.989 - ETA: 5s - loss: 0.0854 - acc: 0.986 - ETA: 4s - loss: 0.0849 - acc: 0.987 - ETA: 4s - loss: 0.0839 - acc: 0.987 - ETA: 3s - loss: 0.0841 - acc: 0.987 - ETA: 3s - loss: 0.0849 - acc: 0.986 - ETA: 2s - loss: 0.0854 - acc: 0.986 - ETA: 1s - loss: 0.0845 - acc: 0.986 - ETA: 1s - loss: 0.0855 - acc: 0.985 - ETA: 0s - loss: 0.0863 - acc: 0.984 - ETA: 0s - loss: 0.0864 - acc: 0.984 - 20s 10ms/step - loss: 0.0861 - acc: 0.9846 - val_loss: 0.0765 - val_acc: 0.9865\n",
      "\n",
      "Epoch 00039: val_loss improved from 0.08239 to 0.07654, saving model to weight_InceptionResnetV2.hdf5\n",
      "Epoch 40/100\n",
      "2076/2076 [==============================] - ETA: 17s - loss: 0.1110 - acc: 0.98 - ETA: 16s - loss: 0.0914 - acc: 0.99 - ETA: 16s - loss: 0.0813 - acc: 0.99 - ETA: 15s - loss: 0.0887 - acc: 0.98 - ETA: 15s - loss: 0.0934 - acc: 0.98 - ETA: 16s - loss: 0.0895 - acc: 0.98 - ETA: 15s - loss: 0.0878 - acc: 0.97 - ETA: 14s - loss: 0.0873 - acc: 0.98 - ETA: 13s - loss: 0.0868 - acc: 0.98 - ETA: 13s - loss: 0.0836 - acc: 0.98 - ETA: 12s - loss: 0.0810 - acc: 0.98 - ETA: 11s - loss: 0.0841 - acc: 0.98 - ETA: 11s - loss: 0.0828 - acc: 0.98 - ETA: 10s - loss: 0.0827 - acc: 0.98 - ETA: 10s - loss: 0.0820 - acc: 0.98 - ETA: 9s - loss: 0.0828 - acc: 0.9897 - ETA: 8s - loss: 0.0817 - acc: 0.989 - ETA: 8s - loss: 0.0805 - acc: 0.989 - ETA: 8s - loss: 0.0788 - acc: 0.990 - ETA: 7s - loss: 0.0773 - acc: 0.990 - ETA: 6s - loss: 0.0776 - acc: 0.990 - ETA: 6s - loss: 0.0778 - acc: 0.990 - ETA: 5s - loss: 0.0765 - acc: 0.991 - ETA: 5s - loss: 0.0762 - acc: 0.990 - ETA: 4s - loss: 0.0766 - acc: 0.990 - ETA: 4s - loss: 0.0754 - acc: 0.990 - ETA: 3s - loss: 0.0755 - acc: 0.989 - ETA: 2s - loss: 0.0740 - acc: 0.990 - ETA: 2s - loss: 0.0732 - acc: 0.990 - ETA: 1s - loss: 0.0739 - acc: 0.989 - ETA: 0s - loss: 0.0753 - acc: 0.987 - ETA: 0s - loss: 0.0765 - acc: 0.987 - 23s 11ms/step - loss: 0.0759 - acc: 0.9877 - val_loss: 0.0728 - val_acc: 0.9846\n",
      "\n",
      "Epoch 00040: val_loss improved from 0.07654 to 0.07279, saving model to weight_InceptionResnetV2.hdf5\n",
      "Epoch 41/100\n"
     ]
    },
    {
     "name": "stdout",
     "output_type": "stream",
     "text": [
      "2076/2076 [==============================] - ETA: 20s - loss: 0.0739 - acc: 0.99 - ETA: 19s - loss: 0.0690 - acc: 0.99 - ETA: 18s - loss: 0.0664 - acc: 0.99 - ETA: 17s - loss: 0.0622 - acc: 0.99 - ETA: 16s - loss: 0.0693 - acc: 0.99 - ETA: 16s - loss: 0.0696 - acc: 0.99 - ETA: 16s - loss: 0.0660 - acc: 0.99 - ETA: 16s - loss: 0.0654 - acc: 0.99 - ETA: 16s - loss: 0.0649 - acc: 0.99 - ETA: 15s - loss: 0.0643 - acc: 0.99 - ETA: 14s - loss: 0.0682 - acc: 0.99 - ETA: 13s - loss: 0.0686 - acc: 0.98 - ETA: 13s - loss: 0.0714 - acc: 0.98 - ETA: 12s - loss: 0.0731 - acc: 0.98 - ETA: 11s - loss: 0.0717 - acc: 0.98 - ETA: 10s - loss: 0.0702 - acc: 0.98 - ETA: 9s - loss: 0.0714 - acc: 0.9867 - ETA: 9s - loss: 0.0707 - acc: 0.986 - ETA: 8s - loss: 0.0711 - acc: 0.985 - ETA: 7s - loss: 0.0700 - acc: 0.986 - ETA: 7s - loss: 0.0727 - acc: 0.985 - ETA: 6s - loss: 0.0765 - acc: 0.984 - ETA: 5s - loss: 0.0752 - acc: 0.985 - ETA: 5s - loss: 0.0760 - acc: 0.984 - ETA: 4s - loss: 0.0755 - acc: 0.984 - ETA: 3s - loss: 0.0757 - acc: 0.984 - ETA: 3s - loss: 0.0765 - acc: 0.984 - ETA: 2s - loss: 0.0751 - acc: 0.985 - ETA: 2s - loss: 0.0751 - acc: 0.985 - ETA: 1s - loss: 0.0743 - acc: 0.985 - ETA: 0s - loss: 0.0735 - acc: 0.986 - ETA: 0s - loss: 0.0730 - acc: 0.986 - 21s 10ms/step - loss: 0.0735 - acc: 0.9868 - val_loss: 0.0693 - val_acc: 0.9817\n",
      "\n",
      "Epoch 00041: val_loss improved from 0.07279 to 0.06931, saving model to weight_InceptionResnetV2.hdf5\n",
      "Epoch 42/100\n",
      "2076/2076 [==============================] - ETA: 17s - loss: 0.0491 - acc: 0.98 - ETA: 17s - loss: 0.0797 - acc: 0.97 - ETA: 17s - loss: 0.0713 - acc: 0.98 - ETA: 16s - loss: 0.0712 - acc: 0.98 - ETA: 15s - loss: 0.0762 - acc: 0.98 - ETA: 15s - loss: 0.0717 - acc: 0.99 - ETA: 14s - loss: 0.0692 - acc: 0.99 - ETA: 14s - loss: 0.0683 - acc: 0.99 - ETA: 13s - loss: 0.0651 - acc: 0.99 - ETA: 12s - loss: 0.0636 - acc: 0.99 - ETA: 12s - loss: 0.0646 - acc: 0.99 - ETA: 11s - loss: 0.0663 - acc: 0.98 - ETA: 11s - loss: 0.0680 - acc: 0.98 - ETA: 10s - loss: 0.0668 - acc: 0.98 - ETA: 9s - loss: 0.0674 - acc: 0.9891 - ETA: 9s - loss: 0.0667 - acc: 0.989 - ETA: 8s - loss: 0.0670 - acc: 0.989 - ETA: 8s - loss: 0.0678 - acc: 0.989 - ETA: 7s - loss: 0.0675 - acc: 0.990 - ETA: 7s - loss: 0.0663 - acc: 0.990 - ETA: 6s - loss: 0.0660 - acc: 0.990 - ETA: 6s - loss: 0.0656 - acc: 0.990 - ETA: 5s - loss: 0.0663 - acc: 0.990 - ETA: 4s - loss: 0.0656 - acc: 0.990 - ETA: 4s - loss: 0.0656 - acc: 0.990 - ETA: 3s - loss: 0.0662 - acc: 0.990 - ETA: 3s - loss: 0.0666 - acc: 0.990 - ETA: 2s - loss: 0.0663 - acc: 0.990 - ETA: 1s - loss: 0.0659 - acc: 0.990 - ETA: 1s - loss: 0.0653 - acc: 0.991 - ETA: 0s - loss: 0.0655 - acc: 0.990 - ETA: 0s - loss: 0.0648 - acc: 0.991 - 22s 10ms/step - loss: 0.0651 - acc: 0.9908 - val_loss: 0.0784 - val_acc: 0.9750\n",
      "\n",
      "Epoch 00042: val_loss did not improve from 0.06931\n",
      "Epoch 43/100\n",
      "2076/2076 [==============================] - ETA: 20s - loss: 0.0695 - acc: 0.98 - ETA: 22s - loss: 0.0619 - acc: 0.98 - ETA: 22s - loss: 0.0946 - acc: 0.97 - ETA: 22s - loss: 0.0870 - acc: 0.97 - ETA: 21s - loss: 0.0831 - acc: 0.98 - ETA: 19s - loss: 0.0781 - acc: 0.98 - ETA: 18s - loss: 0.0757 - acc: 0.98 - ETA: 17s - loss: 0.0729 - acc: 0.98 - ETA: 16s - loss: 0.0714 - acc: 0.98 - ETA: 15s - loss: 0.0693 - acc: 0.98 - ETA: 15s - loss: 0.0698 - acc: 0.98 - ETA: 14s - loss: 0.0672 - acc: 0.98 - ETA: 13s - loss: 0.0671 - acc: 0.98 - ETA: 12s - loss: 0.0652 - acc: 0.98 - ETA: 12s - loss: 0.0646 - acc: 0.98 - ETA: 11s - loss: 0.0644 - acc: 0.98 - ETA: 11s - loss: 0.0632 - acc: 0.98 - ETA: 10s - loss: 0.0633 - acc: 0.98 - ETA: 9s - loss: 0.0637 - acc: 0.9889 - ETA: 8s - loss: 0.0621 - acc: 0.989 - ETA: 7s - loss: 0.0608 - acc: 0.990 - ETA: 7s - loss: 0.0604 - acc: 0.989 - ETA: 6s - loss: 0.0606 - acc: 0.990 - ETA: 5s - loss: 0.0602 - acc: 0.989 - ETA: 5s - loss: 0.0601 - acc: 0.990 - ETA: 4s - loss: 0.0608 - acc: 0.989 - ETA: 3s - loss: 0.0607 - acc: 0.989 - ETA: 3s - loss: 0.0608 - acc: 0.988 - ETA: 2s - loss: 0.0608 - acc: 0.989 - ETA: 1s - loss: 0.0600 - acc: 0.989 - ETA: 0s - loss: 0.0593 - acc: 0.989 - ETA: 0s - loss: 0.0592 - acc: 0.989 - 25s 12ms/step - loss: 0.0596 - acc: 0.9894 - val_loss: 0.0774 - val_acc: 0.9779\n",
      "\n",
      "Epoch 00043: val_loss did not improve from 0.06931\n",
      "Epoch 44/100\n",
      "2076/2076 [==============================] - ETA: 20s - loss: 0.0831 - acc: 0.98 - ETA: 20s - loss: 0.0780 - acc: 0.98 - ETA: 19s - loss: 0.0641 - acc: 0.99 - ETA: 19s - loss: 0.0648 - acc: 0.99 - ETA: 18s - loss: 0.0605 - acc: 0.99 - ETA: 17s - loss: 0.0563 - acc: 0.99 - ETA: 16s - loss: 0.0582 - acc: 0.99 - ETA: 15s - loss: 0.0562 - acc: 0.99 - ETA: 14s - loss: 0.0590 - acc: 0.99 - ETA: 14s - loss: 0.0581 - acc: 0.99 - ETA: 13s - loss: 0.0573 - acc: 0.99 - ETA: 12s - loss: 0.0565 - acc: 0.99 - ETA: 12s - loss: 0.0581 - acc: 0.99 - ETA: 11s - loss: 0.0630 - acc: 0.99 - ETA: 11s - loss: 0.0618 - acc: 0.99 - ETA: 11s - loss: 0.0611 - acc: 0.99 - ETA: 10s - loss: 0.0612 - acc: 0.99 - ETA: 10s - loss: 0.0606 - acc: 0.99 - ETA: 9s - loss: 0.0601 - acc: 0.9930 - ETA: 8s - loss: 0.0592 - acc: 0.993 - ETA: 8s - loss: 0.0588 - acc: 0.993 - ETA: 7s - loss: 0.0585 - acc: 0.994 - ETA: 6s - loss: 0.0572 - acc: 0.994 - ETA: 5s - loss: 0.0569 - acc: 0.993 - ETA: 5s - loss: 0.0565 - acc: 0.993 - ETA: 4s - loss: 0.0563 - acc: 0.993 - ETA: 3s - loss: 0.0563 - acc: 0.993 - ETA: 3s - loss: 0.0553 - acc: 0.993 - ETA: 2s - loss: 0.0548 - acc: 0.994 - ETA: 1s - loss: 0.0564 - acc: 0.993 - ETA: 0s - loss: 0.0556 - acc: 0.993 - ETA: 0s - loss: 0.0551 - acc: 0.993 - 23s 11ms/step - loss: 0.0548 - acc: 0.9937 - val_loss: 0.0700 - val_acc: 0.9817\n",
      "\n",
      "Epoch 00044: val_loss did not improve from 0.06931\n",
      "Epoch 45/100\n",
      "2076/2076 [==============================] - ETA: 17s - loss: 0.0475 - acc: 1.00 - ETA: 17s - loss: 0.0455 - acc: 1.00 - ETA: 16s - loss: 0.0612 - acc: 0.99 - ETA: 15s - loss: 0.0603 - acc: 0.99 - ETA: 15s - loss: 0.0555 - acc: 0.99 - ETA: 14s - loss: 0.0569 - acc: 0.99 - ETA: 14s - loss: 0.0558 - acc: 0.99 - ETA: 13s - loss: 0.0558 - acc: 0.99 - ETA: 13s - loss: 0.0550 - acc: 0.99 - ETA: 12s - loss: 0.0536 - acc: 0.99 - ETA: 12s - loss: 0.0516 - acc: 0.99 - ETA: 11s - loss: 0.0502 - acc: 0.99 - ETA: 11s - loss: 0.0493 - acc: 0.99 - ETA: 10s - loss: 0.0483 - acc: 0.99 - ETA: 10s - loss: 0.0482 - acc: 0.99 - ETA: 9s - loss: 0.0499 - acc: 0.9946 - ETA: 8s - loss: 0.0500 - acc: 0.994 - ETA: 8s - loss: 0.0488 - acc: 0.995 - ETA: 7s - loss: 0.0483 - acc: 0.995 - ETA: 7s - loss: 0.0477 - acc: 0.995 - ETA: 7s - loss: 0.0468 - acc: 0.995 - ETA: 6s - loss: 0.0466 - acc: 0.995 - ETA: 6s - loss: 0.0476 - acc: 0.994 - ETA: 5s - loss: 0.0473 - acc: 0.995 - ETA: 4s - loss: 0.0478 - acc: 0.994 - ETA: 4s - loss: 0.0474 - acc: 0.994 - ETA: 3s - loss: 0.0469 - acc: 0.995 - ETA: 2s - loss: 0.0466 - acc: 0.995 - ETA: 2s - loss: 0.0475 - acc: 0.994 - ETA: 1s - loss: 0.0477 - acc: 0.995 - ETA: 1s - loss: 0.0481 - acc: 0.994 - ETA: 0s - loss: 0.0486 - acc: 0.994 - 25s 12ms/step - loss: 0.0484 - acc: 0.9945 - val_loss: 0.0590 - val_acc: 0.9894\n",
      "\n",
      "Epoch 00045: val_loss improved from 0.06931 to 0.05899, saving model to weight_InceptionResnetV2.hdf5\n",
      "Epoch 46/100\n"
     ]
    },
    {
     "name": "stdout",
     "output_type": "stream",
     "text": [
      "2076/2076 [==============================] - ETA: 18s - loss: 0.0528 - acc: 1.00 - ETA: 18s - loss: 0.0452 - acc: 1.00 - ETA: 18s - loss: 0.0461 - acc: 1.00 - ETA: 18s - loss: 0.0442 - acc: 1.00 - ETA: 17s - loss: 0.0423 - acc: 1.00 - ETA: 16s - loss: 0.0417 - acc: 1.00 - ETA: 15s - loss: 0.0434 - acc: 1.00 - ETA: 15s - loss: 0.0429 - acc: 1.00 - ETA: 14s - loss: 0.0409 - acc: 1.00 - ETA: 13s - loss: 0.0402 - acc: 1.00 - ETA: 13s - loss: 0.0415 - acc: 0.99 - ETA: 12s - loss: 0.0419 - acc: 0.99 - ETA: 11s - loss: 0.0422 - acc: 0.99 - ETA: 11s - loss: 0.0420 - acc: 0.99 - ETA: 10s - loss: 0.0414 - acc: 0.99 - ETA: 10s - loss: 0.0443 - acc: 0.99 - ETA: 9s - loss: 0.0478 - acc: 0.9945 - ETA: 8s - loss: 0.0510 - acc: 0.991 - ETA: 8s - loss: 0.0511 - acc: 0.991 - ETA: 7s - loss: 0.0513 - acc: 0.991 - ETA: 6s - loss: 0.0504 - acc: 0.991 - ETA: 6s - loss: 0.0502 - acc: 0.991 - ETA: 5s - loss: 0.0502 - acc: 0.991 - ETA: 5s - loss: 0.0495 - acc: 0.992 - ETA: 4s - loss: 0.0489 - acc: 0.992 - ETA: 4s - loss: 0.0488 - acc: 0.992 - ETA: 3s - loss: 0.0482 - acc: 0.992 - ETA: 2s - loss: 0.0478 - acc: 0.992 - ETA: 2s - loss: 0.0477 - acc: 0.992 - ETA: 1s - loss: 0.0472 - acc: 0.992 - ETA: 0s - loss: 0.0475 - acc: 0.992 - ETA: 0s - loss: 0.0468 - acc: 0.992 - 22s 11ms/step - loss: 0.0465 - acc: 0.9925 - val_loss: 0.0700 - val_acc: 0.9817\n",
      "\n",
      "Epoch 00046: val_loss did not improve from 0.05899\n",
      "Epoch 47/100\n",
      "2076/2076 [==============================] - ETA: 18s - loss: 0.0307 - acc: 1.00 - ETA: 17s - loss: 0.0284 - acc: 0.99 - ETA: 16s - loss: 0.0315 - acc: 0.99 - ETA: 16s - loss: 0.0442 - acc: 0.98 - ETA: 15s - loss: 0.0421 - acc: 0.98 - ETA: 15s - loss: 0.0417 - acc: 0.99 - ETA: 15s - loss: 0.0431 - acc: 0.99 - ETA: 14s - loss: 0.0450 - acc: 0.99 - ETA: 13s - loss: 0.0423 - acc: 0.99 - ETA: 13s - loss: 0.0420 - acc: 0.99 - ETA: 12s - loss: 0.0405 - acc: 0.99 - ETA: 11s - loss: 0.0402 - acc: 0.99 - ETA: 11s - loss: 0.0398 - acc: 0.99 - ETA: 10s - loss: 0.0420 - acc: 0.99 - ETA: 10s - loss: 0.0436 - acc: 0.99 - ETA: 9s - loss: 0.0429 - acc: 0.9932 - ETA: 8s - loss: 0.0423 - acc: 0.993 - ETA: 8s - loss: 0.0423 - acc: 0.993 - ETA: 7s - loss: 0.0424 - acc: 0.993 - ETA: 7s - loss: 0.0419 - acc: 0.994 - ETA: 6s - loss: 0.0422 - acc: 0.994 - ETA: 5s - loss: 0.0416 - acc: 0.994 - ETA: 5s - loss: 0.0413 - acc: 0.994 - ETA: 4s - loss: 0.0437 - acc: 0.994 - ETA: 4s - loss: 0.0433 - acc: 0.994 - ETA: 3s - loss: 0.0433 - acc: 0.994 - ETA: 3s - loss: 0.0431 - acc: 0.994 - ETA: 2s - loss: 0.0428 - acc: 0.995 - ETA: 1s - loss: 0.0429 - acc: 0.994 - ETA: 1s - loss: 0.0429 - acc: 0.995 - ETA: 0s - loss: 0.0427 - acc: 0.995 - ETA: 0s - loss: 0.0421 - acc: 0.995 - 20s 10ms/step - loss: 0.0419 - acc: 0.9954 - val_loss: 0.0569 - val_acc: 0.9904\n",
      "\n",
      "Epoch 00047: val_loss improved from 0.05899 to 0.05692, saving model to weight_InceptionResnetV2.hdf5\n",
      "Epoch 48/100\n",
      "2076/2076 [==============================] - ETA: 31s - loss: 0.0440 - acc: 1.00 - ETA: 26s - loss: 0.0373 - acc: 0.99 - ETA: 23s - loss: 0.0412 - acc: 0.98 - ETA: 21s - loss: 0.0428 - acc: 0.98 - ETA: 19s - loss: 0.0439 - acc: 0.98 - ETA: 18s - loss: 0.0449 - acc: 0.98 - ETA: 17s - loss: 0.0429 - acc: 0.99 - ETA: 16s - loss: 0.0429 - acc: 0.99 - ETA: 15s - loss: 0.0405 - acc: 0.99 - ETA: 14s - loss: 0.0430 - acc: 0.99 - ETA: 13s - loss: 0.0419 - acc: 0.99 - ETA: 12s - loss: 0.0421 - acc: 0.99 - ETA: 12s - loss: 0.0409 - acc: 0.99 - ETA: 11s - loss: 0.0412 - acc: 0.99 - ETA: 10s - loss: 0.0407 - acc: 0.99 - ETA: 10s - loss: 0.0401 - acc: 0.99 - ETA: 9s - loss: 0.0391 - acc: 0.9949 - ETA: 8s - loss: 0.0419 - acc: 0.994 - ETA: 8s - loss: 0.0417 - acc: 0.994 - ETA: 7s - loss: 0.0415 - acc: 0.994 - ETA: 6s - loss: 0.0408 - acc: 0.995 - ETA: 6s - loss: 0.0411 - acc: 0.995 - ETA: 5s - loss: 0.0413 - acc: 0.994 - ETA: 5s - loss: 0.0408 - acc: 0.995 - ETA: 4s - loss: 0.0405 - acc: 0.995 - ETA: 3s - loss: 0.0403 - acc: 0.995 - ETA: 3s - loss: 0.0400 - acc: 0.995 - ETA: 2s - loss: 0.0398 - acc: 0.995 - ETA: 2s - loss: 0.0390 - acc: 0.996 - ETA: 1s - loss: 0.0398 - acc: 0.995 - ETA: 0s - loss: 0.0390 - acc: 0.995 - ETA: 0s - loss: 0.0389 - acc: 0.995 - 21s 10ms/step - loss: 0.0386 - acc: 0.9959 - val_loss: 0.0622 - val_acc: 0.9875\n",
      "\n",
      "Epoch 00048: val_loss did not improve from 0.05692\n",
      "Epoch 49/100\n",
      "2076/2076 [==============================] - ETA: 18s - loss: 0.0537 - acc: 0.98 - ETA: 17s - loss: 0.0494 - acc: 0.98 - ETA: 17s - loss: 0.0472 - acc: 0.98 - ETA: 16s - loss: 0.0532 - acc: 0.99 - ETA: 16s - loss: 0.0495 - acc: 0.99 - ETA: 15s - loss: 0.0458 - acc: 0.99 - ETA: 15s - loss: 0.0459 - acc: 0.99 - ETA: 14s - loss: 0.0482 - acc: 0.99 - ETA: 13s - loss: 0.0465 - acc: 0.99 - ETA: 13s - loss: 0.0461 - acc: 0.99 - ETA: 12s - loss: 0.0463 - acc: 0.99 - ETA: 12s - loss: 0.0450 - acc: 0.99 - ETA: 11s - loss: 0.0436 - acc: 0.99 - ETA: 10s - loss: 0.0432 - acc: 0.99 - ETA: 10s - loss: 0.0424 - acc: 0.99 - ETA: 9s - loss: 0.0421 - acc: 0.9922 - ETA: 9s - loss: 0.0414 - acc: 0.991 - ETA: 8s - loss: 0.0410 - acc: 0.992 - ETA: 8s - loss: 0.0402 - acc: 0.992 - ETA: 7s - loss: 0.0394 - acc: 0.993 - ETA: 6s - loss: 0.0390 - acc: 0.993 - ETA: 6s - loss: 0.0387 - acc: 0.993 - ETA: 5s - loss: 0.0378 - acc: 0.993 - ETA: 5s - loss: 0.0375 - acc: 0.994 - ETA: 4s - loss: 0.0370 - acc: 0.994 - ETA: 3s - loss: 0.0365 - acc: 0.994 - ETA: 3s - loss: 0.0361 - acc: 0.994 - ETA: 2s - loss: 0.0357 - acc: 0.995 - ETA: 2s - loss: 0.0352 - acc: 0.995 - ETA: 1s - loss: 0.0349 - acc: 0.995 - ETA: 0s - loss: 0.0346 - acc: 0.995 - ETA: 0s - loss: 0.0352 - acc: 0.995 - 21s 10ms/step - loss: 0.0355 - acc: 0.9947 - val_loss: 0.0531 - val_acc: 0.9923\n",
      "\n",
      "Epoch 00049: val_loss improved from 0.05692 to 0.05310, saving model to weight_InceptionResnetV2.hdf5\n",
      "Epoch 50/100\n",
      "2076/2076 [==============================] - ETA: 17s - loss: 0.0139 - acc: 1.00 - ETA: 17s - loss: 0.0249 - acc: 1.00 - ETA: 16s - loss: 0.0331 - acc: 0.99 - ETA: 16s - loss: 0.0336 - acc: 0.99 - ETA: 16s - loss: 0.0355 - acc: 0.99 - ETA: 15s - loss: 0.0349 - acc: 0.99 - ETA: 14s - loss: 0.0354 - acc: 0.99 - ETA: 14s - loss: 0.0370 - acc: 0.99 - ETA: 14s - loss: 0.0376 - acc: 0.99 - ETA: 13s - loss: 0.0377 - acc: 0.99 - ETA: 12s - loss: 0.0370 - acc: 0.99 - ETA: 12s - loss: 0.0355 - acc: 0.99 - ETA: 12s - loss: 0.0351 - acc: 0.99 - ETA: 11s - loss: 0.0340 - acc: 0.99 - ETA: 10s - loss: 0.0348 - acc: 0.99 - ETA: 10s - loss: 0.0346 - acc: 0.99 - ETA: 9s - loss: 0.0341 - acc: 0.9972 - ETA: 9s - loss: 0.0346 - acc: 0.997 - ETA: 8s - loss: 0.0339 - acc: 0.997 - ETA: 7s - loss: 0.0337 - acc: 0.997 - ETA: 7s - loss: 0.0348 - acc: 0.996 - ETA: 6s - loss: 0.0348 - acc: 0.996 - ETA: 5s - loss: 0.0352 - acc: 0.996 - ETA: 5s - loss: 0.0347 - acc: 0.996 - ETA: 4s - loss: 0.0357 - acc: 0.996 - ETA: 3s - loss: 0.0359 - acc: 0.996 - ETA: 3s - loss: 0.0360 - acc: 0.996 - ETA: 2s - loss: 0.0359 - acc: 0.996 - ETA: 2s - loss: 0.0354 - acc: 0.996 - ETA: 1s - loss: 0.0363 - acc: 0.996 - ETA: 0s - loss: 0.0361 - acc: 0.996 - ETA: 0s - loss: 0.0363 - acc: 0.995 - 22s 11ms/step - loss: 0.0359 - acc: 0.9959 - val_loss: 0.0577 - val_acc: 0.9894\n",
      "\n",
      "Epoch 00050: val_loss did not improve from 0.05310\n",
      "Epoch 51/100\n"
     ]
    },
    {
     "name": "stdout",
     "output_type": "stream",
     "text": [
      "2076/2076 [==============================] - ETA: 19s - loss: 0.0249 - acc: 1.00 - ETA: 18s - loss: 0.0186 - acc: 1.00 - ETA: 17s - loss: 0.0182 - acc: 1.00 - ETA: 17s - loss: 0.0194 - acc: 1.00 - ETA: 16s - loss: 0.0242 - acc: 0.99 - ETA: 15s - loss: 0.0282 - acc: 0.99 - ETA: 15s - loss: 0.0283 - acc: 0.99 - ETA: 14s - loss: 0.0289 - acc: 0.99 - ETA: 14s - loss: 0.0287 - acc: 0.99 - ETA: 13s - loss: 0.0288 - acc: 0.99 - ETA: 12s - loss: 0.0292 - acc: 0.99 - ETA: 12s - loss: 0.0291 - acc: 0.99 - ETA: 11s - loss: 0.0289 - acc: 0.99 - ETA: 11s - loss: 0.0310 - acc: 0.99 - ETA: 10s - loss: 0.0315 - acc: 0.99 - ETA: 10s - loss: 0.0321 - acc: 0.99 - ETA: 9s - loss: 0.0319 - acc: 0.9945 - ETA: 8s - loss: 0.0313 - acc: 0.994 - ETA: 8s - loss: 0.0316 - acc: 0.995 - ETA: 7s - loss: 0.0334 - acc: 0.994 - ETA: 7s - loss: 0.0323 - acc: 0.994 - ETA: 6s - loss: 0.0320 - acc: 0.995 - ETA: 5s - loss: 0.0325 - acc: 0.994 - ETA: 5s - loss: 0.0318 - acc: 0.994 - ETA: 4s - loss: 0.0318 - acc: 0.995 - ETA: 4s - loss: 0.0315 - acc: 0.995 - ETA: 3s - loss: 0.0314 - acc: 0.995 - ETA: 2s - loss: 0.0314 - acc: 0.995 - ETA: 2s - loss: 0.0320 - acc: 0.995 - ETA: 1s - loss: 0.0317 - acc: 0.995 - ETA: 0s - loss: 0.0315 - acc: 0.996 - ETA: 0s - loss: 0.0311 - acc: 0.996 - 22s 11ms/step - loss: 0.0309 - acc: 0.9961 - val_loss: 0.0525 - val_acc: 0.9913\n",
      "\n",
      "Epoch 00051: val_loss improved from 0.05310 to 0.05247, saving model to weight_InceptionResnetV2.hdf5\n",
      "Epoch 52/100\n",
      "2076/2076 [==============================] - ETA: 21s - loss: 0.0233 - acc: 1.00 - ETA: 21s - loss: 0.0217 - acc: 1.00 - ETA: 20s - loss: 0.0221 - acc: 1.00 - ETA: 19s - loss: 0.0198 - acc: 1.00 - ETA: 19s - loss: 0.0228 - acc: 0.99 - ETA: 18s - loss: 0.0223 - acc: 0.99 - ETA: 17s - loss: 0.0224 - acc: 0.99 - ETA: 16s - loss: 0.0237 - acc: 0.99 - ETA: 15s - loss: 0.0249 - acc: 0.99 - ETA: 15s - loss: 0.0258 - acc: 0.99 - ETA: 14s - loss: 0.0263 - acc: 0.99 - ETA: 13s - loss: 0.0258 - acc: 0.99 - ETA: 13s - loss: 0.0277 - acc: 0.99 - ETA: 12s - loss: 0.0274 - acc: 0.99 - ETA: 11s - loss: 0.0276 - acc: 0.99 - ETA: 11s - loss: 0.0290 - acc: 0.99 - ETA: 10s - loss: 0.0304 - acc: 0.99 - ETA: 9s - loss: 0.0297 - acc: 0.9961 - ETA: 9s - loss: 0.0294 - acc: 0.996 - ETA: 8s - loss: 0.0296 - acc: 0.995 - ETA: 7s - loss: 0.0299 - acc: 0.995 - ETA: 7s - loss: 0.0294 - acc: 0.995 - ETA: 6s - loss: 0.0292 - acc: 0.995 - ETA: 5s - loss: 0.0288 - acc: 0.995 - ETA: 5s - loss: 0.0291 - acc: 0.995 - ETA: 4s - loss: 0.0300 - acc: 0.995 - ETA: 3s - loss: 0.0295 - acc: 0.995 - ETA: 3s - loss: 0.0296 - acc: 0.995 - ETA: 2s - loss: 0.0299 - acc: 0.995 - ETA: 1s - loss: 0.0293 - acc: 0.995 - ETA: 0s - loss: 0.0288 - acc: 0.996 - ETA: 0s - loss: 0.0289 - acc: 0.996 - 24s 12ms/step - loss: 0.0288 - acc: 0.9961 - val_loss: 0.0534 - val_acc: 0.9923\n",
      "\n",
      "Epoch 00052: val_loss did not improve from 0.05247\n",
      "Epoch 53/100\n",
      "2076/2076 [==============================] - ETA: 20s - loss: 0.0312 - acc: 1.00 - ETA: 19s - loss: 0.0282 - acc: 0.99 - ETA: 19s - loss: 0.0306 - acc: 0.99 - ETA: 19s - loss: 0.0282 - acc: 0.99 - ETA: 18s - loss: 0.0264 - acc: 0.99 - ETA: 18s - loss: 0.0264 - acc: 0.99 - ETA: 17s - loss: 0.0248 - acc: 0.99 - ETA: 16s - loss: 0.0239 - acc: 0.99 - ETA: 17s - loss: 0.0230 - acc: 0.99 - ETA: 16s - loss: 0.0227 - acc: 0.99 - ETA: 15s - loss: 0.0241 - acc: 0.99 - ETA: 14s - loss: 0.0243 - acc: 0.99 - ETA: 13s - loss: 0.0251 - acc: 0.99 - ETA: 12s - loss: 0.0256 - acc: 0.99 - ETA: 11s - loss: 0.0257 - acc: 0.99 - ETA: 11s - loss: 0.0262 - acc: 0.99 - ETA: 10s - loss: 0.0270 - acc: 0.99 - ETA: 9s - loss: 0.0264 - acc: 0.9974 - ETA: 8s - loss: 0.0261 - acc: 0.997 - ETA: 8s - loss: 0.0257 - acc: 0.997 - ETA: 7s - loss: 0.0261 - acc: 0.997 - ETA: 6s - loss: 0.0280 - acc: 0.996 - ETA: 6s - loss: 0.0279 - acc: 0.996 - ETA: 5s - loss: 0.0277 - acc: 0.997 - ETA: 4s - loss: 0.0276 - acc: 0.997 - ETA: 4s - loss: 0.0279 - acc: 0.997 - ETA: 3s - loss: 0.0286 - acc: 0.996 - ETA: 2s - loss: 0.0296 - acc: 0.996 - ETA: 2s - loss: 0.0302 - acc: 0.995 - ETA: 1s - loss: 0.0299 - acc: 0.995 - ETA: 0s - loss: 0.0301 - acc: 0.996 - ETA: 0s - loss: 0.0298 - acc: 0.996 - 22s 10ms/step - loss: 0.0296 - acc: 0.9961 - val_loss: 0.0525 - val_acc: 0.9923\n",
      "\n",
      "Epoch 00053: val_loss did not improve from 0.05247\n",
      "Epoch 54/100\n",
      "2076/2076 [==============================] - ETA: 17s - loss: 0.0160 - acc: 1.00 - ETA: 17s - loss: 0.0232 - acc: 1.00 - ETA: 17s - loss: 0.0202 - acc: 1.00 - ETA: 17s - loss: 0.0207 - acc: 1.00 - ETA: 18s - loss: 0.0236 - acc: 0.99 - ETA: 17s - loss: 0.0272 - acc: 0.99 - ETA: 17s - loss: 0.0334 - acc: 0.99 - ETA: 16s - loss: 0.0323 - acc: 0.99 - ETA: 15s - loss: 0.0307 - acc: 0.99 - ETA: 14s - loss: 0.0299 - acc: 0.99 - ETA: 14s - loss: 0.0287 - acc: 0.99 - ETA: 13s - loss: 0.0276 - acc: 0.99 - ETA: 12s - loss: 0.0282 - acc: 0.99 - ETA: 12s - loss: 0.0284 - acc: 0.99 - ETA: 11s - loss: 0.0290 - acc: 0.99 - ETA: 10s - loss: 0.0281 - acc: 0.99 - ETA: 9s - loss: 0.0277 - acc: 0.9977 - ETA: 9s - loss: 0.0272 - acc: 0.997 - ETA: 8s - loss: 0.0274 - acc: 0.997 - ETA: 7s - loss: 0.0276 - acc: 0.998 - ETA: 7s - loss: 0.0278 - acc: 0.998 - ETA: 6s - loss: 0.0283 - acc: 0.997 - ETA: 5s - loss: 0.0285 - acc: 0.997 - ETA: 5s - loss: 0.0285 - acc: 0.997 - ETA: 4s - loss: 0.0285 - acc: 0.997 - ETA: 4s - loss: 0.0289 - acc: 0.997 - ETA: 3s - loss: 0.0287 - acc: 0.997 - ETA: 2s - loss: 0.0287 - acc: 0.997 - ETA: 2s - loss: 0.0284 - acc: 0.997 - ETA: 1s - loss: 0.0285 - acc: 0.997 - ETA: 0s - loss: 0.0290 - acc: 0.996 - ETA: 0s - loss: 0.0292 - acc: 0.996 - 22s 10ms/step - loss: 0.0291 - acc: 0.9969 - val_loss: 0.0540 - val_acc: 0.9923\n",
      "\n",
      "Epoch 00054: val_loss did not improve from 0.05247\n",
      "Epoch 55/100\n",
      "2076/2076 [==============================] - ETA: 20s - loss: 0.0312 - acc: 1.00 - ETA: 18s - loss: 0.0247 - acc: 1.00 - ETA: 17s - loss: 0.0209 - acc: 1.00 - ETA: 16s - loss: 0.0197 - acc: 1.00 - ETA: 16s - loss: 0.0220 - acc: 0.99 - ETA: 15s - loss: 0.0217 - acc: 0.99 - ETA: 15s - loss: 0.0222 - acc: 0.99 - ETA: 14s - loss: 0.0220 - acc: 0.99 - ETA: 13s - loss: 0.0231 - acc: 0.99 - ETA: 13s - loss: 0.0247 - acc: 0.99 - ETA: 12s - loss: 0.0257 - acc: 0.99 - ETA: 12s - loss: 0.0262 - acc: 0.99 - ETA: 11s - loss: 0.0261 - acc: 0.99 - ETA: 10s - loss: 0.0256 - acc: 0.99 - ETA: 10s - loss: 0.0249 - acc: 0.99 - ETA: 9s - loss: 0.0241 - acc: 0.9976 - ETA: 9s - loss: 0.0245 - acc: 0.997 - ETA: 8s - loss: 0.0243 - acc: 0.997 - ETA: 7s - loss: 0.0244 - acc: 0.997 - ETA: 7s - loss: 0.0239 - acc: 0.997 - ETA: 6s - loss: 0.0240 - acc: 0.997 - ETA: 6s - loss: 0.0236 - acc: 0.997 - ETA: 5s - loss: 0.0261 - acc: 0.997 - ETA: 5s - loss: 0.0270 - acc: 0.997 - ETA: 4s - loss: 0.0266 - acc: 0.997 - ETA: 3s - loss: 0.0264 - acc: 0.997 - ETA: 3s - loss: 0.0259 - acc: 0.997 - ETA: 2s - loss: 0.0259 - acc: 0.997 - ETA: 2s - loss: 0.0256 - acc: 0.997 - ETA: 1s - loss: 0.0256 - acc: 0.997 - ETA: 0s - loss: 0.0253 - acc: 0.997 - ETA: 0s - loss: 0.0252 - acc: 0.997 - 21s 10ms/step - loss: 0.0252 - acc: 0.9976 - val_loss: 0.0546 - val_acc: 0.9923\n",
      "\n",
      "Epoch 00055: val_loss did not improve from 0.05247\n",
      "Epoch 56/100\n"
     ]
    },
    {
     "name": "stdout",
     "output_type": "stream",
     "text": [
      "2076/2076 [==============================] - ETA: 17s - loss: 0.0520 - acc: 0.97 - ETA: 18s - loss: 0.0369 - acc: 0.98 - ETA: 18s - loss: 0.0292 - acc: 0.99 - ETA: 17s - loss: 0.0307 - acc: 0.99 - ETA: 18s - loss: 0.0296 - acc: 0.99 - ETA: 20s - loss: 0.0264 - acc: 0.99 - ETA: 19s - loss: 0.0280 - acc: 0.99 - ETA: 17s - loss: 0.0274 - acc: 0.99 - ETA: 16s - loss: 0.0261 - acc: 0.99 - ETA: 15s - loss: 0.0262 - acc: 0.99 - ETA: 14s - loss: 0.0257 - acc: 0.99 - ETA: 13s - loss: 0.0256 - acc: 0.99 - ETA: 13s - loss: 0.0261 - acc: 0.99 - ETA: 12s - loss: 0.0256 - acc: 0.99 - ETA: 11s - loss: 0.0246 - acc: 0.99 - ETA: 11s - loss: 0.0237 - acc: 0.99 - ETA: 10s - loss: 0.0231 - acc: 0.99 - ETA: 9s - loss: 0.0231 - acc: 0.9983 - ETA: 8s - loss: 0.0226 - acc: 0.998 - ETA: 8s - loss: 0.0221 - acc: 0.998 - ETA: 7s - loss: 0.0218 - acc: 0.998 - ETA: 6s - loss: 0.0216 - acc: 0.998 - ETA: 6s - loss: 0.0220 - acc: 0.998 - ETA: 5s - loss: 0.0220 - acc: 0.998 - ETA: 4s - loss: 0.0226 - acc: 0.997 - ETA: 4s - loss: 0.0229 - acc: 0.997 - ETA: 3s - loss: 0.0229 - acc: 0.998 - ETA: 2s - loss: 0.0224 - acc: 0.998 - ETA: 2s - loss: 0.0223 - acc: 0.998 - ETA: 1s - loss: 0.0221 - acc: 0.998 - ETA: 0s - loss: 0.0227 - acc: 0.998 - ETA: 0s - loss: 0.0226 - acc: 0.998 - 23s 11ms/step - loss: 0.0238 - acc: 0.9976 - val_loss: 0.0740 - val_acc: 0.9788\n",
      "\n",
      "Epoch 00056: val_loss did not improve from 0.05247\n",
      "Epoch 57/100\n",
      "2076/2076 [==============================] - ETA: 23s - loss: 0.0242 - acc: 1.00 - ETA: 27s - loss: 0.0284 - acc: 1.00 - ETA: 25s - loss: 0.0251 - acc: 1.00 - ETA: 24s - loss: 0.0290 - acc: 0.99 - ETA: 24s - loss: 0.0291 - acc: 0.99 - ETA: 24s - loss: 0.0353 - acc: 0.99 - ETA: 22s - loss: 0.0323 - acc: 0.99 - ETA: 20s - loss: 0.0300 - acc: 0.99 - ETA: 19s - loss: 0.0295 - acc: 0.99 - ETA: 18s - loss: 0.0290 - acc: 0.99 - ETA: 17s - loss: 0.0275 - acc: 0.99 - ETA: 15s - loss: 0.0288 - acc: 0.99 - ETA: 14s - loss: 0.0276 - acc: 0.99 - ETA: 13s - loss: 0.0266 - acc: 0.99 - ETA: 12s - loss: 0.0258 - acc: 0.99 - ETA: 12s - loss: 0.0254 - acc: 0.99 - ETA: 11s - loss: 0.0249 - acc: 0.99 - ETA: 10s - loss: 0.0245 - acc: 0.99 - ETA: 9s - loss: 0.0241 - acc: 0.9975 - ETA: 9s - loss: 0.0239 - acc: 0.997 - ETA: 8s - loss: 0.0237 - acc: 0.997 - ETA: 7s - loss: 0.0236 - acc: 0.997 - ETA: 7s - loss: 0.0234 - acc: 0.998 - ETA: 6s - loss: 0.0243 - acc: 0.997 - ETA: 5s - loss: 0.0250 - acc: 0.996 - ETA: 4s - loss: 0.0248 - acc: 0.997 - ETA: 3s - loss: 0.0246 - acc: 0.997 - ETA: 3s - loss: 0.0246 - acc: 0.997 - ETA: 2s - loss: 0.0249 - acc: 0.997 - ETA: 1s - loss: 0.0250 - acc: 0.996 - ETA: 1s - loss: 0.0245 - acc: 0.997 - ETA: 0s - loss: 0.0245 - acc: 0.997 - 26s 13ms/step - loss: 0.0245 - acc: 0.9971 - val_loss: 0.0515 - val_acc: 0.9904\n",
      "\n",
      "Epoch 00057: val_loss improved from 0.05247 to 0.05154, saving model to weight_InceptionResnetV2.hdf5\n",
      "Epoch 58/100\n",
      "2076/2076 [==============================] - ETA: 18s - loss: 0.0133 - acc: 1.00 - ETA: 18s - loss: 0.0412 - acc: 0.99 - ETA: 17s - loss: 0.0335 - acc: 0.99 - ETA: 16s - loss: 0.0317 - acc: 0.99 - ETA: 16s - loss: 0.0286 - acc: 0.99 - ETA: 15s - loss: 0.0257 - acc: 0.99 - ETA: 14s - loss: 0.0246 - acc: 0.99 - ETA: 14s - loss: 0.0241 - acc: 0.99 - ETA: 13s - loss: 0.0231 - acc: 0.99 - ETA: 12s - loss: 0.0233 - acc: 0.99 - ETA: 12s - loss: 0.0227 - acc: 0.99 - ETA: 11s - loss: 0.0221 - acc: 0.99 - ETA: 11s - loss: 0.0221 - acc: 0.99 - ETA: 10s - loss: 0.0216 - acc: 0.99 - ETA: 10s - loss: 0.0214 - acc: 0.99 - ETA: 9s - loss: 0.0209 - acc: 0.9990 - ETA: 8s - loss: 0.0219 - acc: 0.998 - ETA: 8s - loss: 0.0236 - acc: 0.996 - ETA: 7s - loss: 0.0248 - acc: 0.995 - ETA: 7s - loss: 0.0243 - acc: 0.996 - ETA: 6s - loss: 0.0248 - acc: 0.995 - ETA: 6s - loss: 0.0255 - acc: 0.995 - ETA: 5s - loss: 0.0254 - acc: 0.995 - ETA: 5s - loss: 0.0249 - acc: 0.996 - ETA: 4s - loss: 0.0244 - acc: 0.996 - ETA: 3s - loss: 0.0246 - acc: 0.996 - ETA: 3s - loss: 0.0242 - acc: 0.996 - ETA: 2s - loss: 0.0248 - acc: 0.996 - ETA: 2s - loss: 0.0250 - acc: 0.996 - ETA: 1s - loss: 0.0250 - acc: 0.996 - ETA: 0s - loss: 0.0248 - acc: 0.996 - ETA: 0s - loss: 0.0250 - acc: 0.995 - 22s 10ms/step - loss: 0.0248 - acc: 0.9959 - val_loss: 0.0592 - val_acc: 0.9894\n",
      "\n",
      "Epoch 00058: val_loss did not improve from 0.05154\n",
      "Epoch 59/100\n",
      "2076/2076 [==============================] - ETA: 20s - loss: 0.0130 - acc: 1.00 - ETA: 19s - loss: 0.0208 - acc: 0.99 - ETA: 18s - loss: 0.0204 - acc: 0.99 - ETA: 18s - loss: 0.0188 - acc: 0.99 - ETA: 21s - loss: 0.0198 - acc: 0.99 - ETA: 21s - loss: 0.0200 - acc: 0.99 - ETA: 20s - loss: 0.0198 - acc: 0.99 - ETA: 19s - loss: 0.0196 - acc: 0.99 - ETA: 18s - loss: 0.0206 - acc: 0.99 - ETA: 17s - loss: 0.0222 - acc: 0.99 - ETA: 16s - loss: 0.0218 - acc: 0.99 - ETA: 15s - loss: 0.0228 - acc: 0.99 - ETA: 14s - loss: 0.0228 - acc: 0.99 - ETA: 13s - loss: 0.0224 - acc: 0.99 - ETA: 12s - loss: 0.0235 - acc: 0.99 - ETA: 12s - loss: 0.0238 - acc: 0.99 - ETA: 11s - loss: 0.0230 - acc: 0.99 - ETA: 10s - loss: 0.0223 - acc: 0.99 - ETA: 9s - loss: 0.0219 - acc: 0.9984 - ETA: 8s - loss: 0.0217 - acc: 0.998 - ETA: 8s - loss: 0.0214 - acc: 0.998 - ETA: 7s - loss: 0.0210 - acc: 0.998 - ETA: 6s - loss: 0.0211 - acc: 0.998 - ETA: 5s - loss: 0.0211 - acc: 0.998 - ETA: 5s - loss: 0.0218 - acc: 0.998 - ETA: 4s - loss: 0.0222 - acc: 0.997 - ETA: 3s - loss: 0.0225 - acc: 0.997 - ETA: 3s - loss: 0.0222 - acc: 0.997 - ETA: 2s - loss: 0.0220 - acc: 0.997 - ETA: 1s - loss: 0.0218 - acc: 0.997 - ETA: 1s - loss: 0.0215 - acc: 0.997 - ETA: 0s - loss: 0.0216 - acc: 0.997 - 24s 12ms/step - loss: 0.0217 - acc: 0.9978 - val_loss: 0.0518 - val_acc: 0.9923\n",
      "\n",
      "Epoch 00059: val_loss did not improve from 0.05154\n",
      "Epoch 60/100\n",
      "2076/2076 [==============================] - ETA: 20s - loss: 0.0206 - acc: 1.00 - ETA: 19s - loss: 0.0173 - acc: 1.00 - ETA: 19s - loss: 0.0152 - acc: 1.00 - ETA: 18s - loss: 0.0209 - acc: 0.99 - ETA: 18s - loss: 0.0189 - acc: 0.99 - ETA: 19s - loss: 0.0197 - acc: 0.99 - ETA: 19s - loss: 0.0193 - acc: 0.99 - ETA: 19s - loss: 0.0190 - acc: 0.99 - ETA: 18s - loss: 0.0192 - acc: 0.99 - ETA: 18s - loss: 0.0194 - acc: 0.99 - ETA: 17s - loss: 0.0195 - acc: 0.99 - ETA: 16s - loss: 0.0226 - acc: 0.99 - ETA: 15s - loss: 0.0217 - acc: 0.99 - ETA: 14s - loss: 0.0216 - acc: 0.99 - ETA: 13s - loss: 0.0214 - acc: 0.99 - ETA: 12s - loss: 0.0208 - acc: 0.99 - ETA: 12s - loss: 0.0204 - acc: 0.99 - ETA: 11s - loss: 0.0205 - acc: 0.99 - ETA: 10s - loss: 0.0203 - acc: 0.99 - ETA: 9s - loss: 0.0207 - acc: 0.9984 - ETA: 9s - loss: 0.0220 - acc: 0.997 - ETA: 8s - loss: 0.0225 - acc: 0.997 - ETA: 7s - loss: 0.0227 - acc: 0.997 - ETA: 6s - loss: 0.0225 - acc: 0.997 - ETA: 6s - loss: 0.0232 - acc: 0.997 - ETA: 5s - loss: 0.0232 - acc: 0.997 - ETA: 4s - loss: 0.0231 - acc: 0.997 - ETA: 3s - loss: 0.0231 - acc: 0.997 - ETA: 2s - loss: 0.0228 - acc: 0.997 - ETA: 1s - loss: 0.0224 - acc: 0.997 - ETA: 1s - loss: 0.0220 - acc: 0.997 - ETA: 0s - loss: 0.0217 - acc: 0.997 - 30s 14ms/step - loss: 0.0216 - acc: 0.9978 - val_loss: 0.0562 - val_acc: 0.9913\n",
      "\n",
      "Epoch 00060: val_loss did not improve from 0.05154\n",
      "Epoch 61/100\n"
     ]
    },
    {
     "name": "stdout",
     "output_type": "stream",
     "text": [
      "2076/2076 [==============================] - ETA: 22s - loss: 0.0133 - acc: 1.00 - ETA: 24s - loss: 0.0152 - acc: 1.00 - ETA: 22s - loss: 0.0144 - acc: 1.00 - ETA: 21s - loss: 0.0213 - acc: 0.99 - ETA: 22s - loss: 0.0200 - acc: 0.99 - ETA: 20s - loss: 0.0199 - acc: 0.99 - ETA: 19s - loss: 0.0192 - acc: 0.99 - ETA: 19s - loss: 0.0211 - acc: 0.99 - ETA: 18s - loss: 0.0225 - acc: 0.99 - ETA: 17s - loss: 0.0237 - acc: 0.99 - ETA: 16s - loss: 0.0223 - acc: 0.99 - ETA: 16s - loss: 0.0224 - acc: 0.99 - ETA: 15s - loss: 0.0226 - acc: 0.99 - ETA: 14s - loss: 0.0219 - acc: 0.99 - ETA: 13s - loss: 0.0214 - acc: 0.99 - ETA: 13s - loss: 0.0213 - acc: 0.99 - ETA: 12s - loss: 0.0207 - acc: 0.99 - ETA: 11s - loss: 0.0211 - acc: 0.99 - ETA: 10s - loss: 0.0213 - acc: 0.99 - ETA: 9s - loss: 0.0210 - acc: 0.9969 - ETA: 9s - loss: 0.0208 - acc: 0.997 - ETA: 8s - loss: 0.0203 - acc: 0.997 - ETA: 7s - loss: 0.0205 - acc: 0.997 - ETA: 6s - loss: 0.0204 - acc: 0.997 - ETA: 5s - loss: 0.0203 - acc: 0.997 - ETA: 5s - loss: 0.0203 - acc: 0.997 - ETA: 4s - loss: 0.0201 - acc: 0.997 - ETA: 3s - loss: 0.0198 - acc: 0.997 - ETA: 2s - loss: 0.0197 - acc: 0.997 - ETA: 1s - loss: 0.0197 - acc: 0.997 - ETA: 1s - loss: 0.0200 - acc: 0.997 - ETA: 0s - loss: 0.0198 - acc: 0.997 - 29s 14ms/step - loss: 0.0199 - acc: 0.9978 - val_loss: 0.0502 - val_acc: 0.9923\n",
      "\n",
      "Epoch 00061: val_loss improved from 0.05154 to 0.05023, saving model to weight_InceptionResnetV2.hdf5\n",
      "Epoch 62/100\n",
      "2076/2076 [==============================] - ETA: 23s - loss: 0.0202 - acc: 1.00 - ETA: 23s - loss: 0.0186 - acc: 1.00 - ETA: 22s - loss: 0.0183 - acc: 1.00 - ETA: 23s - loss: 0.0181 - acc: 1.00 - ETA: 22s - loss: 0.0167 - acc: 1.00 - ETA: 21s - loss: 0.0174 - acc: 1.00 - ETA: 20s - loss: 0.0185 - acc: 1.00 - ETA: 19s - loss: 0.0178 - acc: 1.00 - ETA: 18s - loss: 0.0177 - acc: 1.00 - ETA: 17s - loss: 0.0179 - acc: 1.00 - ETA: 17s - loss: 0.0179 - acc: 1.00 - ETA: 16s - loss: 0.0176 - acc: 1.00 - ETA: 16s - loss: 0.0168 - acc: 1.00 - ETA: 15s - loss: 0.0177 - acc: 0.99 - ETA: 14s - loss: 0.0173 - acc: 0.99 - ETA: 13s - loss: 0.0168 - acc: 0.99 - ETA: 13s - loss: 0.0167 - acc: 0.99 - ETA: 12s - loss: 0.0165 - acc: 0.99 - ETA: 11s - loss: 0.0164 - acc: 0.99 - ETA: 11s - loss: 0.0162 - acc: 0.99 - ETA: 10s - loss: 0.0162 - acc: 0.99 - ETA: 9s - loss: 0.0161 - acc: 0.9993 - ETA: 8s - loss: 0.0166 - acc: 0.998 - ETA: 7s - loss: 0.0170 - acc: 0.998 - ETA: 6s - loss: 0.0174 - acc: 0.998 - ETA: 5s - loss: 0.0173 - acc: 0.998 - ETA: 4s - loss: 0.0175 - acc: 0.998 - ETA: 3s - loss: 0.0175 - acc: 0.998 - ETA: 2s - loss: 0.0174 - acc: 0.998 - ETA: 2s - loss: 0.0176 - acc: 0.998 - ETA: 1s - loss: 0.0173 - acc: 0.998 - ETA: 0s - loss: 0.0175 - acc: 0.998 - 31s 15ms/step - loss: 0.0175 - acc: 0.9986 - val_loss: 0.0512 - val_acc: 0.9923\n",
      "\n",
      "Epoch 00062: val_loss did not improve from 0.05023\n",
      "Epoch 63/100\n",
      "2076/2076 [==============================] - ETA: 21s - loss: 0.0171 - acc: 1.00 - ETA: 20s - loss: 0.0161 - acc: 1.00 - ETA: 19s - loss: 0.0146 - acc: 1.00 - ETA: 19s - loss: 0.0142 - acc: 1.00 - ETA: 19s - loss: 0.0135 - acc: 1.00 - ETA: 19s - loss: 0.0145 - acc: 1.00 - ETA: 18s - loss: 0.0135 - acc: 1.00 - ETA: 18s - loss: 0.0132 - acc: 1.00 - ETA: 17s - loss: 0.0139 - acc: 1.00 - ETA: 16s - loss: 0.0135 - acc: 1.00 - ETA: 16s - loss: 0.0137 - acc: 1.00 - ETA: 15s - loss: 0.0142 - acc: 1.00 - ETA: 15s - loss: 0.0148 - acc: 0.99 - ETA: 14s - loss: 0.0144 - acc: 0.99 - ETA: 14s - loss: 0.0172 - acc: 0.99 - ETA: 13s - loss: 0.0169 - acc: 0.99 - ETA: 12s - loss: 0.0172 - acc: 0.99 - ETA: 11s - loss: 0.0170 - acc: 0.99 - ETA: 11s - loss: 0.0169 - acc: 0.99 - ETA: 10s - loss: 0.0176 - acc: 0.99 - ETA: 9s - loss: 0.0184 - acc: 0.9978 - ETA: 8s - loss: 0.0203 - acc: 0.997 - ETA: 7s - loss: 0.0199 - acc: 0.997 - ETA: 6s - loss: 0.0200 - acc: 0.997 - ETA: 6s - loss: 0.0199 - acc: 0.997 - ETA: 5s - loss: 0.0198 - acc: 0.997 - ETA: 4s - loss: 0.0199 - acc: 0.997 - ETA: 3s - loss: 0.0196 - acc: 0.997 - ETA: 2s - loss: 0.0196 - acc: 0.997 - ETA: 1s - loss: 0.0194 - acc: 0.997 - ETA: 1s - loss: 0.0197 - acc: 0.997 - ETA: 0s - loss: 0.0197 - acc: 0.997 - 28s 13ms/step - loss: 0.0195 - acc: 0.9974 - val_loss: 0.0566 - val_acc: 0.9913\n",
      "\n",
      "Epoch 00063: val_loss did not improve from 0.05023\n",
      "Epoch 64/100\n",
      "2076/2076 [==============================] - ETA: 22s - loss: 0.0221 - acc: 1.00 - ETA: 21s - loss: 0.0200 - acc: 1.00 - ETA: 20s - loss: 0.0168 - acc: 1.00 - ETA: 20s - loss: 0.0184 - acc: 0.99 - ETA: 19s - loss: 0.0182 - acc: 0.99 - ETA: 18s - loss: 0.0182 - acc: 0.99 - ETA: 17s - loss: 0.0178 - acc: 0.99 - ETA: 16s - loss: 0.0186 - acc: 0.99 - ETA: 16s - loss: 0.0175 - acc: 0.99 - ETA: 15s - loss: 0.0212 - acc: 0.99 - ETA: 14s - loss: 0.0217 - acc: 0.99 - ETA: 13s - loss: 0.0215 - acc: 0.99 - ETA: 13s - loss: 0.0223 - acc: 0.99 - ETA: 13s - loss: 0.0220 - acc: 0.99 - ETA: 12s - loss: 0.0219 - acc: 0.99 - ETA: 11s - loss: 0.0221 - acc: 0.99 - ETA: 10s - loss: 0.0219 - acc: 0.99 - ETA: 10s - loss: 0.0215 - acc: 0.99 - ETA: 9s - loss: 0.0210 - acc: 0.9967 - ETA: 8s - loss: 0.0213 - acc: 0.996 - ETA: 7s - loss: 0.0205 - acc: 0.996 - ETA: 7s - loss: 0.0204 - acc: 0.996 - ETA: 6s - loss: 0.0203 - acc: 0.996 - ETA: 5s - loss: 0.0199 - acc: 0.997 - ETA: 4s - loss: 0.0197 - acc: 0.997 - ETA: 4s - loss: 0.0198 - acc: 0.997 - ETA: 3s - loss: 0.0199 - acc: 0.997 - ETA: 2s - loss: 0.0197 - acc: 0.997 - ETA: 2s - loss: 0.0193 - acc: 0.997 - ETA: 1s - loss: 0.0190 - acc: 0.997 - ETA: 0s - loss: 0.0191 - acc: 0.997 - ETA: 0s - loss: 0.0189 - acc: 0.997 - 23s 11ms/step - loss: 0.0188 - acc: 0.9978 - val_loss: 0.0544 - val_acc: 0.9923\n",
      "\n",
      "Epoch 00064: val_loss did not improve from 0.05023\n",
      "Epoch 65/100\n",
      "2076/2076 [==============================] - ETA: 25s - loss: 0.0229 - acc: 1.00 - ETA: 22s - loss: 0.0192 - acc: 1.00 - ETA: 21s - loss: 0.0197 - acc: 1.00 - ETA: 20s - loss: 0.0171 - acc: 1.00 - ETA: 19s - loss: 0.0168 - acc: 1.00 - ETA: 17s - loss: 0.0155 - acc: 1.00 - ETA: 16s - loss: 0.0160 - acc: 1.00 - ETA: 16s - loss: 0.0151 - acc: 1.00 - ETA: 15s - loss: 0.0145 - acc: 1.00 - ETA: 14s - loss: 0.0143 - acc: 1.00 - ETA: 13s - loss: 0.0143 - acc: 1.00 - ETA: 12s - loss: 0.0145 - acc: 1.00 - ETA: 12s - loss: 0.0144 - acc: 1.00 - ETA: 12s - loss: 0.0145 - acc: 1.00 - ETA: 11s - loss: 0.0141 - acc: 1.00 - ETA: 11s - loss: 0.0148 - acc: 0.99 - ETA: 10s - loss: 0.0149 - acc: 0.99 - ETA: 9s - loss: 0.0150 - acc: 0.9996 - ETA: 8s - loss: 0.0162 - acc: 0.998 - ETA: 8s - loss: 0.0165 - acc: 0.998 - ETA: 7s - loss: 0.0162 - acc: 0.998 - ETA: 6s - loss: 0.0160 - acc: 0.998 - ETA: 6s - loss: 0.0161 - acc: 0.998 - ETA: 5s - loss: 0.0161 - acc: 0.998 - ETA: 4s - loss: 0.0159 - acc: 0.998 - ETA: 4s - loss: 0.0159 - acc: 0.998 - ETA: 3s - loss: 0.0156 - acc: 0.998 - ETA: 2s - loss: 0.0161 - acc: 0.998 - ETA: 2s - loss: 0.0159 - acc: 0.998 - ETA: 1s - loss: 0.0157 - acc: 0.998 - ETA: 0s - loss: 0.0159 - acc: 0.998 - ETA: 0s - loss: 0.0160 - acc: 0.998 - 22s 11ms/step - loss: 0.0158 - acc: 0.9983 - val_loss: 0.0529 - val_acc: 0.9923\n",
      "\n",
      "Epoch 00065: val_loss did not improve from 0.05023\n",
      "Epoch 66/100\n"
     ]
    },
    {
     "name": "stdout",
     "output_type": "stream",
     "text": [
      "2076/2076 [==============================] - ETA: 20s - loss: 0.0113 - acc: 1.00 - ETA: 18s - loss: 0.0126 - acc: 1.00 - ETA: 18s - loss: 0.0191 - acc: 0.99 - ETA: 17s - loss: 0.0173 - acc: 0.99 - ETA: 17s - loss: 0.0158 - acc: 0.99 - ETA: 17s - loss: 0.0159 - acc: 0.99 - ETA: 17s - loss: 0.0153 - acc: 0.99 - ETA: 16s - loss: 0.0147 - acc: 0.99 - ETA: 15s - loss: 0.0144 - acc: 0.99 - ETA: 14s - loss: 0.0147 - acc: 0.99 - ETA: 14s - loss: 0.0162 - acc: 0.99 - ETA: 13s - loss: 0.0168 - acc: 0.99 - ETA: 12s - loss: 0.0169 - acc: 0.99 - ETA: 11s - loss: 0.0171 - acc: 0.99 - ETA: 11s - loss: 0.0167 - acc: 0.99 - ETA: 10s - loss: 0.0161 - acc: 0.99 - ETA: 9s - loss: 0.0162 - acc: 0.9986 - ETA: 9s - loss: 0.0161 - acc: 0.998 - ETA: 8s - loss: 0.0161 - acc: 0.998 - ETA: 7s - loss: 0.0161 - acc: 0.998 - ETA: 7s - loss: 0.0160 - acc: 0.998 - ETA: 6s - loss: 0.0157 - acc: 0.998 - ETA: 6s - loss: 0.0157 - acc: 0.999 - ETA: 5s - loss: 0.0155 - acc: 0.999 - ETA: 5s - loss: 0.0154 - acc: 0.999 - ETA: 4s - loss: 0.0153 - acc: 0.999 - ETA: 3s - loss: 0.0151 - acc: 0.999 - ETA: 3s - loss: 0.0153 - acc: 0.999 - ETA: 2s - loss: 0.0155 - acc: 0.998 - ETA: 1s - loss: 0.0153 - acc: 0.999 - ETA: 1s - loss: 0.0153 - acc: 0.999 - ETA: 0s - loss: 0.0156 - acc: 0.999 - 25s 12ms/step - loss: 0.0156 - acc: 0.9990 - val_loss: 0.0549 - val_acc: 0.9942\n",
      "\n",
      "Epoch 00066: val_loss did not improve from 0.05023\n",
      "Epoch 67/100\n",
      "2076/2076 [==============================] - ETA: 18s - loss: 0.0171 - acc: 1.00 - ETA: 17s - loss: 0.0195 - acc: 1.00 - ETA: 17s - loss: 0.0164 - acc: 1.00 - ETA: 16s - loss: 0.0145 - acc: 1.00 - ETA: 16s - loss: 0.0128 - acc: 1.00 - ETA: 15s - loss: 0.0117 - acc: 1.00 - ETA: 15s - loss: 0.0119 - acc: 1.00 - ETA: 14s - loss: 0.0120 - acc: 1.00 - ETA: 13s - loss: 0.0116 - acc: 1.00 - ETA: 13s - loss: 0.0125 - acc: 1.00 - ETA: 12s - loss: 0.0140 - acc: 1.00 - ETA: 12s - loss: 0.0140 - acc: 1.00 - ETA: 11s - loss: 0.0140 - acc: 1.00 - ETA: 10s - loss: 0.0136 - acc: 1.00 - ETA: 10s - loss: 0.0138 - acc: 0.99 - ETA: 9s - loss: 0.0137 - acc: 0.9995 - ETA: 9s - loss: 0.0133 - acc: 0.999 - ETA: 8s - loss: 0.0135 - acc: 0.999 - ETA: 7s - loss: 0.0130 - acc: 0.999 - ETA: 7s - loss: 0.0133 - acc: 0.999 - ETA: 6s - loss: 0.0135 - acc: 0.999 - ETA: 6s - loss: 0.0136 - acc: 0.999 - ETA: 5s - loss: 0.0141 - acc: 0.999 - ETA: 4s - loss: 0.0139 - acc: 0.999 - ETA: 4s - loss: 0.0140 - acc: 0.999 - ETA: 3s - loss: 0.0140 - acc: 0.999 - ETA: 3s - loss: 0.0141 - acc: 0.999 - ETA: 2s - loss: 0.0144 - acc: 0.999 - ETA: 2s - loss: 0.0144 - acc: 0.999 - ETA: 1s - loss: 0.0140 - acc: 0.999 - ETA: 0s - loss: 0.0144 - acc: 0.999 - ETA: 0s - loss: 0.0145 - acc: 0.999 - 21s 10ms/step - loss: 0.0147 - acc: 0.9995 - val_loss: 0.0521 - val_acc: 0.9923\n",
      "\n",
      "Epoch 00067: val_loss did not improve from 0.05023\n",
      "Epoch 68/100\n",
      "2076/2076 [==============================] - ETA: 22s - loss: 0.0209 - acc: 0.99 - ETA: 31s - loss: 0.0158 - acc: 0.99 - ETA: 27s - loss: 0.0129 - acc: 0.99 - ETA: 24s - loss: 0.0129 - acc: 0.99 - ETA: 22s - loss: 0.0126 - acc: 0.99 - ETA: 20s - loss: 0.0130 - acc: 0.99 - ETA: 19s - loss: 0.0122 - acc: 0.99 - ETA: 19s - loss: 0.0123 - acc: 0.99 - ETA: 17s - loss: 0.0128 - acc: 0.99 - ETA: 16s - loss: 0.0126 - acc: 0.99 - ETA: 15s - loss: 0.0130 - acc: 0.99 - ETA: 14s - loss: 0.0128 - acc: 0.99 - ETA: 13s - loss: 0.0132 - acc: 0.99 - ETA: 13s - loss: 0.0129 - acc: 0.99 - ETA: 12s - loss: 0.0130 - acc: 0.99 - ETA: 12s - loss: 0.0132 - acc: 0.99 - ETA: 11s - loss: 0.0132 - acc: 0.99 - ETA: 10s - loss: 0.0131 - acc: 0.99 - ETA: 9s - loss: 0.0131 - acc: 0.9996 - ETA: 8s - loss: 0.0129 - acc: 0.999 - ETA: 8s - loss: 0.0134 - acc: 0.999 - ETA: 7s - loss: 0.0131 - acc: 0.999 - ETA: 6s - loss: 0.0127 - acc: 0.999 - ETA: 5s - loss: 0.0126 - acc: 0.999 - ETA: 5s - loss: 0.0122 - acc: 0.999 - ETA: 4s - loss: 0.0122 - acc: 0.999 - ETA: 3s - loss: 0.0119 - acc: 0.999 - ETA: 2s - loss: 0.0119 - acc: 0.999 - ETA: 2s - loss: 0.0122 - acc: 0.999 - ETA: 1s - loss: 0.0121 - acc: 0.999 - ETA: 0s - loss: 0.0121 - acc: 0.999 - ETA: 0s - loss: 0.0121 - acc: 0.999 - 23s 11ms/step - loss: 0.0126 - acc: 0.9990 - val_loss: 0.0555 - val_acc: 0.9875\n",
      "\n",
      "Epoch 00068: val_loss did not improve from 0.05023\n",
      "Epoch 69/100\n",
      "2076/2076 [==============================] - ETA: 17s - loss: 0.0135 - acc: 1.00 - ETA: 17s - loss: 0.0167 - acc: 1.00 - ETA: 16s - loss: 0.0142 - acc: 1.00 - ETA: 16s - loss: 0.0199 - acc: 0.99 - ETA: 15s - loss: 0.0200 - acc: 0.99 - ETA: 15s - loss: 0.0188 - acc: 0.99 - ETA: 14s - loss: 0.0244 - acc: 0.99 - ETA: 14s - loss: 0.0222 - acc: 0.99 - ETA: 13s - loss: 0.0225 - acc: 0.99 - ETA: 13s - loss: 0.0225 - acc: 0.99 - ETA: 12s - loss: 0.0218 - acc: 0.99 - ETA: 12s - loss: 0.0204 - acc: 0.99 - ETA: 11s - loss: 0.0209 - acc: 0.99 - ETA: 11s - loss: 0.0214 - acc: 0.99 - ETA: 10s - loss: 0.0208 - acc: 0.99 - ETA: 9s - loss: 0.0206 - acc: 0.9966 - ETA: 9s - loss: 0.0202 - acc: 0.996 - ETA: 8s - loss: 0.0196 - acc: 0.997 - ETA: 8s - loss: 0.0190 - acc: 0.997 - ETA: 7s - loss: 0.0182 - acc: 0.997 - ETA: 6s - loss: 0.0179 - acc: 0.997 - ETA: 6s - loss: 0.0174 - acc: 0.997 - ETA: 5s - loss: 0.0172 - acc: 0.997 - ETA: 5s - loss: 0.0169 - acc: 0.997 - ETA: 4s - loss: 0.0167 - acc: 0.997 - ETA: 3s - loss: 0.0163 - acc: 0.997 - ETA: 3s - loss: 0.0162 - acc: 0.998 - ETA: 2s - loss: 0.0159 - acc: 0.998 - ETA: 2s - loss: 0.0160 - acc: 0.998 - ETA: 1s - loss: 0.0156 - acc: 0.998 - ETA: 0s - loss: 0.0158 - acc: 0.998 - ETA: 0s - loss: 0.0159 - acc: 0.998 - 22s 11ms/step - loss: 0.0157 - acc: 0.9983 - val_loss: 0.0660 - val_acc: 0.9846\n",
      "\n",
      "Epoch 00069: val_loss did not improve from 0.05023\n",
      "Epoch 70/100\n",
      "2076/2076 [==============================] - ETA: 22s - loss: 0.0045 - acc: 1.00 - ETA: 20s - loss: 0.0074 - acc: 1.00 - ETA: 20s - loss: 0.0114 - acc: 1.00 - ETA: 19s - loss: 0.0113 - acc: 1.00 - ETA: 18s - loss: 0.0113 - acc: 1.00 - ETA: 17s - loss: 0.0103 - acc: 1.00 - ETA: 17s - loss: 0.0113 - acc: 1.00 - ETA: 16s - loss: 0.0116 - acc: 1.00 - ETA: 16s - loss: 0.0124 - acc: 1.00 - ETA: 15s - loss: 0.0123 - acc: 1.00 - ETA: 14s - loss: 0.0118 - acc: 1.00 - ETA: 14s - loss: 0.0118 - acc: 1.00 - ETA: 13s - loss: 0.0123 - acc: 1.00 - ETA: 13s - loss: 0.0122 - acc: 1.00 - ETA: 12s - loss: 0.0129 - acc: 1.00 - ETA: 11s - loss: 0.0139 - acc: 0.99 - ETA: 10s - loss: 0.0144 - acc: 0.99 - ETA: 10s - loss: 0.0147 - acc: 0.99 - ETA: 9s - loss: 0.0148 - acc: 0.9992 - ETA: 8s - loss: 0.0164 - acc: 0.997 - ETA: 8s - loss: 0.0162 - acc: 0.997 - ETA: 7s - loss: 0.0161 - acc: 0.997 - ETA: 6s - loss: 0.0159 - acc: 0.998 - ETA: 5s - loss: 0.0159 - acc: 0.998 - ETA: 5s - loss: 0.0157 - acc: 0.998 - ETA: 4s - loss: 0.0155 - acc: 0.998 - ETA: 3s - loss: 0.0154 - acc: 0.998 - ETA: 3s - loss: 0.0152 - acc: 0.998 - ETA: 2s - loss: 0.0154 - acc: 0.998 - ETA: 1s - loss: 0.0155 - acc: 0.998 - ETA: 1s - loss: 0.0160 - acc: 0.997 - ETA: 0s - loss: 0.0158 - acc: 0.997 - 25s 12ms/step - loss: 0.0157 - acc: 0.9978 - val_loss: 0.0516 - val_acc: 0.9923\n",
      "\n",
      "Epoch 00070: val_loss did not improve from 0.05023\n",
      "Epoch 71/100\n"
     ]
    },
    {
     "name": "stdout",
     "output_type": "stream",
     "text": [
      "2076/2076 [==============================] - ETA: 21s - loss: 0.0077 - acc: 1.00 - ETA: 20s - loss: 0.0127 - acc: 0.99 - ETA: 19s - loss: 0.0186 - acc: 0.99 - ETA: 19s - loss: 0.0184 - acc: 0.99 - ETA: 18s - loss: 0.0169 - acc: 0.99 - ETA: 17s - loss: 0.0158 - acc: 0.99 - ETA: 16s - loss: 0.0162 - acc: 0.99 - ETA: 16s - loss: 0.0149 - acc: 0.99 - ETA: 15s - loss: 0.0144 - acc: 0.99 - ETA: 14s - loss: 0.0143 - acc: 0.99 - ETA: 14s - loss: 0.0143 - acc: 0.99 - ETA: 13s - loss: 0.0146 - acc: 0.99 - ETA: 12s - loss: 0.0151 - acc: 0.99 - ETA: 12s - loss: 0.0150 - acc: 0.99 - ETA: 11s - loss: 0.0145 - acc: 0.99 - ETA: 10s - loss: 0.0141 - acc: 0.99 - ETA: 10s - loss: 0.0138 - acc: 0.99 - ETA: 9s - loss: 0.0134 - acc: 0.9987 - ETA: 8s - loss: 0.0143 - acc: 0.997 - ETA: 8s - loss: 0.0148 - acc: 0.998 - ETA: 7s - loss: 0.0151 - acc: 0.998 - ETA: 6s - loss: 0.0153 - acc: 0.998 - ETA: 6s - loss: 0.0149 - acc: 0.998 - ETA: 5s - loss: 0.0149 - acc: 0.998 - ETA: 4s - loss: 0.0148 - acc: 0.998 - ETA: 4s - loss: 0.0148 - acc: 0.998 - ETA: 3s - loss: 0.0146 - acc: 0.998 - ETA: 2s - loss: 0.0146 - acc: 0.998 - ETA: 2s - loss: 0.0144 - acc: 0.998 - ETA: 1s - loss: 0.0142 - acc: 0.998 - ETA: 0s - loss: 0.0146 - acc: 0.998 - ETA: 0s - loss: 0.0145 - acc: 0.998 - 22s 11ms/step - loss: 0.0145 - acc: 0.9986 - val_loss: 0.0532 - val_acc: 0.9923\n",
      "\n",
      "Epoch 00071: val_loss did not improve from 0.05023\n",
      "Epoch 72/100\n",
      "2076/2076 [==============================] - ETA: 18s - loss: 0.0048 - acc: 1.00 - ETA: 18s - loss: 0.0115 - acc: 1.00 - ETA: 17s - loss: 0.0116 - acc: 1.00 - ETA: 16s - loss: 0.0121 - acc: 1.00 - ETA: 15s - loss: 0.0130 - acc: 1.00 - ETA: 15s - loss: 0.0127 - acc: 1.00 - ETA: 14s - loss: 0.0134 - acc: 1.00 - ETA: 14s - loss: 0.0126 - acc: 1.00 - ETA: 13s - loss: 0.0130 - acc: 1.00 - ETA: 13s - loss: 0.0134 - acc: 1.00 - ETA: 12s - loss: 0.0130 - acc: 1.00 - ETA: 11s - loss: 0.0125 - acc: 1.00 - ETA: 11s - loss: 0.0123 - acc: 1.00 - ETA: 10s - loss: 0.0131 - acc: 0.99 - ETA: 10s - loss: 0.0129 - acc: 0.99 - ETA: 9s - loss: 0.0126 - acc: 0.9995 - ETA: 8s - loss: 0.0124 - acc: 0.999 - ETA: 8s - loss: 0.0128 - acc: 0.999 - ETA: 7s - loss: 0.0127 - acc: 0.999 - ETA: 7s - loss: 0.0123 - acc: 0.999 - ETA: 6s - loss: 0.0121 - acc: 0.999 - ETA: 5s - loss: 0.0120 - acc: 0.999 - ETA: 5s - loss: 0.0127 - acc: 0.999 - ETA: 4s - loss: 0.0126 - acc: 0.999 - ETA: 4s - loss: 0.0132 - acc: 0.998 - ETA: 3s - loss: 0.0131 - acc: 0.998 - ETA: 3s - loss: 0.0130 - acc: 0.998 - ETA: 2s - loss: 0.0134 - acc: 0.998 - ETA: 1s - loss: 0.0133 - acc: 0.998 - ETA: 1s - loss: 0.0130 - acc: 0.998 - ETA: 0s - loss: 0.0129 - acc: 0.998 - ETA: 0s - loss: 0.0130 - acc: 0.998 - 20s 10ms/step - loss: 0.0129 - acc: 0.9986 - val_loss: 0.0584 - val_acc: 0.9913\n",
      "\n",
      "Epoch 00072: val_loss did not improve from 0.05023\n",
      "Epoch 73/100\n",
      "2076/2076 [==============================] - ETA: 19s - loss: 0.0230 - acc: 0.98 - ETA: 17s - loss: 0.0251 - acc: 0.98 - ETA: 17s - loss: 0.0189 - acc: 0.98 - ETA: 16s - loss: 0.0149 - acc: 0.99 - ETA: 16s - loss: 0.0144 - acc: 0.99 - ETA: 15s - loss: 0.0149 - acc: 0.99 - ETA: 15s - loss: 0.0145 - acc: 0.99 - ETA: 14s - loss: 0.0136 - acc: 0.99 - ETA: 13s - loss: 0.0129 - acc: 0.99 - ETA: 12s - loss: 0.0126 - acc: 0.99 - ETA: 12s - loss: 0.0123 - acc: 0.99 - ETA: 11s - loss: 0.0118 - acc: 0.99 - ETA: 11s - loss: 0.0126 - acc: 0.99 - ETA: 10s - loss: 0.0125 - acc: 0.99 - ETA: 10s - loss: 0.0124 - acc: 0.99 - ETA: 9s - loss: 0.0124 - acc: 0.9980 - ETA: 8s - loss: 0.0125 - acc: 0.998 - ETA: 8s - loss: 0.0125 - acc: 0.998 - ETA: 7s - loss: 0.0126 - acc: 0.998 - ETA: 7s - loss: 0.0127 - acc: 0.998 - ETA: 6s - loss: 0.0134 - acc: 0.998 - ETA: 6s - loss: 0.0131 - acc: 0.998 - ETA: 5s - loss: 0.0129 - acc: 0.998 - ETA: 5s - loss: 0.0133 - acc: 0.998 - ETA: 4s - loss: 0.0131 - acc: 0.998 - ETA: 3s - loss: 0.0129 - acc: 0.998 - ETA: 3s - loss: 0.0128 - acc: 0.998 - ETA: 2s - loss: 0.0126 - acc: 0.998 - ETA: 2s - loss: 0.0126 - acc: 0.998 - ETA: 1s - loss: 0.0125 - acc: 0.998 - ETA: 0s - loss: 0.0123 - acc: 0.998 - ETA: 0s - loss: 0.0122 - acc: 0.998 - 21s 10ms/step - loss: 0.0123 - acc: 0.9988 - val_loss: 0.0543 - val_acc: 0.9942\n",
      "\n",
      "Epoch 00073: val_loss did not improve from 0.05023\n",
      "Epoch 74/100\n",
      "2076/2076 [==============================] - ETA: 17s - loss: 0.0061 - acc: 1.00 - ETA: 16s - loss: 0.0084 - acc: 1.00 - ETA: 16s - loss: 0.0112 - acc: 1.00 - ETA: 16s - loss: 0.0110 - acc: 1.00 - ETA: 15s - loss: 0.0107 - acc: 1.00 - ETA: 15s - loss: 0.0109 - acc: 1.00 - ETA: 14s - loss: 0.0102 - acc: 1.00 - ETA: 14s - loss: 0.0111 - acc: 1.00 - ETA: 13s - loss: 0.0105 - acc: 1.00 - ETA: 12s - loss: 0.0105 - acc: 1.00 - ETA: 12s - loss: 0.0112 - acc: 1.00 - ETA: 11s - loss: 0.0113 - acc: 1.00 - ETA: 11s - loss: 0.0120 - acc: 1.00 - ETA: 10s - loss: 0.0120 - acc: 1.00 - ETA: 10s - loss: 0.0117 - acc: 1.00 - ETA: 9s - loss: 0.0115 - acc: 1.0000 - ETA: 8s - loss: 0.0117 - acc: 1.000 - ETA: 8s - loss: 0.0117 - acc: 1.000 - ETA: 7s - loss: 0.0117 - acc: 1.000 - ETA: 7s - loss: 0.0115 - acc: 1.000 - ETA: 6s - loss: 0.0116 - acc: 1.000 - ETA: 6s - loss: 0.0115 - acc: 1.000 - ETA: 5s - loss: 0.0112 - acc: 1.000 - ETA: 5s - loss: 0.0111 - acc: 1.000 - ETA: 4s - loss: 0.0117 - acc: 0.999 - ETA: 3s - loss: 0.0116 - acc: 0.999 - ETA: 3s - loss: 0.0114 - acc: 0.999 - ETA: 2s - loss: 0.0112 - acc: 0.999 - ETA: 2s - loss: 0.0113 - acc: 0.999 - ETA: 1s - loss: 0.0111 - acc: 0.999 - ETA: 0s - loss: 0.0112 - acc: 0.999 - ETA: 0s - loss: 0.0111 - acc: 0.999 - 21s 10ms/step - loss: 0.0111 - acc: 0.9998 - val_loss: 0.0539 - val_acc: 0.9923\n",
      "\n",
      "Epoch 00074: val_loss did not improve from 0.05023\n",
      "Epoch 75/100\n",
      "2076/2076 [==============================] - ETA: 18s - loss: 0.0080 - acc: 1.00 - ETA: 17s - loss: 0.0103 - acc: 1.00 - ETA: 17s - loss: 0.0146 - acc: 0.99 - ETA: 16s - loss: 0.0155 - acc: 0.99 - ETA: 16s - loss: 0.0138 - acc: 0.99 - ETA: 15s - loss: 0.0134 - acc: 0.99 - ETA: 15s - loss: 0.0134 - acc: 0.99 - ETA: 14s - loss: 0.0130 - acc: 0.99 - ETA: 14s - loss: 0.0125 - acc: 0.99 - ETA: 13s - loss: 0.0118 - acc: 0.99 - ETA: 12s - loss: 0.0116 - acc: 0.99 - ETA: 12s - loss: 0.0114 - acc: 0.99 - ETA: 11s - loss: 0.0113 - acc: 0.99 - ETA: 10s - loss: 0.0109 - acc: 0.99 - ETA: 10s - loss: 0.0110 - acc: 0.99 - ETA: 9s - loss: 0.0117 - acc: 0.9995 - ETA: 9s - loss: 0.0113 - acc: 0.999 - ETA: 8s - loss: 0.0110 - acc: 0.999 - ETA: 7s - loss: 0.0109 - acc: 0.999 - ETA: 7s - loss: 0.0112 - acc: 0.999 - ETA: 6s - loss: 0.0119 - acc: 0.998 - ETA: 6s - loss: 0.0116 - acc: 0.998 - ETA: 5s - loss: 0.0114 - acc: 0.999 - ETA: 4s - loss: 0.0118 - acc: 0.999 - ETA: 4s - loss: 0.0116 - acc: 0.999 - ETA: 3s - loss: 0.0115 - acc: 0.999 - ETA: 3s - loss: 0.0115 - acc: 0.999 - ETA: 2s - loss: 0.0116 - acc: 0.999 - ETA: 2s - loss: 0.0118 - acc: 0.999 - ETA: 1s - loss: 0.0116 - acc: 0.999 - ETA: 0s - loss: 0.0118 - acc: 0.999 - ETA: 0s - loss: 0.0117 - acc: 0.999 - 22s 11ms/step - loss: 0.0116 - acc: 0.9993 - val_loss: 0.0527 - val_acc: 0.9923\n",
      "\n",
      "Epoch 00075: val_loss did not improve from 0.05023\n",
      "Epoch 76/100\n"
     ]
    },
    {
     "name": "stdout",
     "output_type": "stream",
     "text": [
      "2076/2076 [==============================] - ETA: 20s - loss: 0.0133 - acc: 1.00 - ETA: 19s - loss: 0.0139 - acc: 1.00 - ETA: 20s - loss: 0.0139 - acc: 1.00 - ETA: 19s - loss: 0.0134 - acc: 1.00 - ETA: 18s - loss: 0.0119 - acc: 1.00 - ETA: 18s - loss: 0.0119 - acc: 1.00 - ETA: 17s - loss: 0.0120 - acc: 1.00 - ETA: 17s - loss: 0.0129 - acc: 0.99 - ETA: 16s - loss: 0.0127 - acc: 0.99 - ETA: 16s - loss: 0.0125 - acc: 0.99 - ETA: 15s - loss: 0.0119 - acc: 0.99 - ETA: 14s - loss: 0.0115 - acc: 0.99 - ETA: 13s - loss: 0.0112 - acc: 0.99 - ETA: 13s - loss: 0.0115 - acc: 0.99 - ETA: 13s - loss: 0.0116 - acc: 0.99 - ETA: 12s - loss: 0.0112 - acc: 0.99 - ETA: 11s - loss: 0.0109 - acc: 0.99 - ETA: 11s - loss: 0.0111 - acc: 0.99 - ETA: 10s - loss: 0.0112 - acc: 0.99 - ETA: 9s - loss: 0.0111 - acc: 0.9996 - ETA: 8s - loss: 0.0115 - acc: 0.999 - ETA: 7s - loss: 0.0115 - acc: 0.999 - ETA: 6s - loss: 0.0112 - acc: 0.999 - ETA: 6s - loss: 0.0110 - acc: 0.999 - ETA: 5s - loss: 0.0110 - acc: 0.999 - ETA: 4s - loss: 0.0111 - acc: 0.999 - ETA: 3s - loss: 0.0110 - acc: 0.999 - ETA: 3s - loss: 0.0108 - acc: 0.999 - ETA: 2s - loss: 0.0105 - acc: 0.999 - ETA: 1s - loss: 0.0106 - acc: 0.999 - ETA: 1s - loss: 0.0105 - acc: 0.999 - ETA: 0s - loss: 0.0104 - acc: 0.999 - 24s 12ms/step - loss: 0.0104 - acc: 0.9998 - val_loss: 0.0568 - val_acc: 0.9923\n",
      "\n",
      "Epoch 00076: val_loss did not improve from 0.05023\n",
      "Epoch 77/100\n",
      "2076/2076 [==============================] - ETA: 17s - loss: 0.0061 - acc: 1.00 - ETA: 17s - loss: 0.0060 - acc: 1.00 - ETA: 17s - loss: 0.0078 - acc: 1.00 - ETA: 16s - loss: 0.0100 - acc: 0.99 - ETA: 15s - loss: 0.0098 - acc: 0.99 - ETA: 15s - loss: 0.0096 - acc: 0.99 - ETA: 14s - loss: 0.0099 - acc: 0.99 - ETA: 14s - loss: 0.0099 - acc: 0.99 - ETA: 13s - loss: 0.0098 - acc: 0.99 - ETA: 12s - loss: 0.0093 - acc: 0.99 - ETA: 12s - loss: 0.0097 - acc: 0.99 - ETA: 11s - loss: 0.0100 - acc: 0.99 - ETA: 11s - loss: 0.0099 - acc: 0.99 - ETA: 10s - loss: 0.0102 - acc: 0.99 - ETA: 10s - loss: 0.0099 - acc: 0.99 - ETA: 9s - loss: 0.0097 - acc: 0.9995 - ETA: 9s - loss: 0.0107 - acc: 0.998 - ETA: 8s - loss: 0.0105 - acc: 0.998 - ETA: 8s - loss: 0.0105 - acc: 0.998 - ETA: 7s - loss: 0.0110 - acc: 0.998 - ETA: 6s - loss: 0.0108 - acc: 0.998 - ETA: 6s - loss: 0.0105 - acc: 0.998 - ETA: 5s - loss: 0.0102 - acc: 0.998 - ETA: 5s - loss: 0.0101 - acc: 0.998 - ETA: 4s - loss: 0.0100 - acc: 0.998 - ETA: 3s - loss: 0.0100 - acc: 0.998 - ETA: 3s - loss: 0.0103 - acc: 0.998 - ETA: 2s - loss: 0.0101 - acc: 0.998 - ETA: 2s - loss: 0.0099 - acc: 0.998 - ETA: 1s - loss: 0.0100 - acc: 0.999 - ETA: 0s - loss: 0.0101 - acc: 0.999 - ETA: 0s - loss: 0.0099 - acc: 0.999 - 21s 10ms/step - loss: 0.0099 - acc: 0.9990 - val_loss: 0.0512 - val_acc: 0.9923\n",
      "\n",
      "Epoch 00077: val_loss did not improve from 0.05023\n",
      "Epoch 78/100\n",
      "2076/2076 [==============================] - ETA: 20s - loss: 0.0313 - acc: 0.98 - ETA: 19s - loss: 0.0195 - acc: 0.99 - ETA: 18s - loss: 0.0206 - acc: 0.98 - ETA: 17s - loss: 0.0171 - acc: 0.99 - ETA: 16s - loss: 0.0155 - acc: 0.99 - ETA: 15s - loss: 0.0143 - acc: 0.99 - ETA: 14s - loss: 0.0135 - acc: 0.99 - ETA: 14s - loss: 0.0134 - acc: 0.99 - ETA: 13s - loss: 0.0126 - acc: 0.99 - ETA: 12s - loss: 0.0118 - acc: 0.99 - ETA: 12s - loss: 0.0112 - acc: 0.99 - ETA: 11s - loss: 0.0111 - acc: 0.99 - ETA: 11s - loss: 0.0106 - acc: 0.99 - ETA: 10s - loss: 0.0103 - acc: 0.99 - ETA: 10s - loss: 0.0099 - acc: 0.99 - ETA: 9s - loss: 0.0097 - acc: 0.9980 - ETA: 8s - loss: 0.0097 - acc: 0.998 - ETA: 8s - loss: 0.0095 - acc: 0.998 - ETA: 7s - loss: 0.0096 - acc: 0.998 - ETA: 7s - loss: 0.0097 - acc: 0.998 - ETA: 6s - loss: 0.0094 - acc: 0.998 - ETA: 6s - loss: 0.0094 - acc: 0.998 - ETA: 5s - loss: 0.0094 - acc: 0.998 - ETA: 4s - loss: 0.0096 - acc: 0.998 - ETA: 4s - loss: 0.0097 - acc: 0.998 - ETA: 3s - loss: 0.0098 - acc: 0.998 - ETA: 3s - loss: 0.0096 - acc: 0.998 - ETA: 2s - loss: 0.0094 - acc: 0.998 - ETA: 2s - loss: 0.0093 - acc: 0.998 - ETA: 1s - loss: 0.0092 - acc: 0.999 - ETA: 0s - loss: 0.0091 - acc: 0.999 - ETA: 0s - loss: 0.0091 - acc: 0.999 - 21s 10ms/step - loss: 0.0091 - acc: 0.9990 - val_loss: 0.0554 - val_acc: 0.9913\n",
      "\n",
      "Epoch 00078: val_loss did not improve from 0.05023\n",
      "Epoch 79/100\n",
      "2076/2076 [==============================] - ETA: 19s - loss: 0.0048 - acc: 1.00 - ETA: 17s - loss: 0.0059 - acc: 1.00 - ETA: 16s - loss: 0.0073 - acc: 1.00 - ETA: 16s - loss: 0.0078 - acc: 1.00 - ETA: 15s - loss: 0.0075 - acc: 1.00 - ETA: 14s - loss: 0.0073 - acc: 1.00 - ETA: 14s - loss: 0.0080 - acc: 1.00 - ETA: 14s - loss: 0.0080 - acc: 1.00 - ETA: 13s - loss: 0.0083 - acc: 1.00 - ETA: 14s - loss: 0.0084 - acc: 1.00 - ETA: 14s - loss: 0.0084 - acc: 1.00 - ETA: 13s - loss: 0.0082 - acc: 1.00 - ETA: 13s - loss: 0.0083 - acc: 1.00 - ETA: 12s - loss: 0.0087 - acc: 1.00 - ETA: 11s - loss: 0.0090 - acc: 1.00 - ETA: 10s - loss: 0.0089 - acc: 1.00 - ETA: 10s - loss: 0.0092 - acc: 1.00 - ETA: 9s - loss: 0.0091 - acc: 1.0000 - ETA: 8s - loss: 0.0089 - acc: 1.000 - ETA: 7s - loss: 0.0088 - acc: 1.000 - ETA: 7s - loss: 0.0086 - acc: 1.000 - ETA: 6s - loss: 0.0092 - acc: 0.999 - ETA: 5s - loss: 0.0090 - acc: 0.999 - ETA: 5s - loss: 0.0089 - acc: 0.999 - ETA: 4s - loss: 0.0089 - acc: 0.999 - ETA: 4s - loss: 0.0089 - acc: 0.999 - ETA: 3s - loss: 0.0089 - acc: 0.999 - ETA: 2s - loss: 0.0088 - acc: 0.999 - ETA: 2s - loss: 0.0086 - acc: 0.999 - ETA: 1s - loss: 0.0085 - acc: 0.999 - ETA: 0s - loss: 0.0083 - acc: 0.999 - ETA: 0s - loss: 0.0083 - acc: 0.999 - 22s 10ms/step - loss: 0.0085 - acc: 0.9998 - val_loss: 0.0581 - val_acc: 0.9913\n",
      "\n",
      "Epoch 00079: val_loss did not improve from 0.05023\n",
      "Epoch 80/100\n",
      "2076/2076 [==============================] - ETA: 19s - loss: 0.0184 - acc: 1.00 - ETA: 18s - loss: 0.0168 - acc: 0.99 - ETA: 17s - loss: 0.0175 - acc: 0.99 - ETA: 16s - loss: 0.0147 - acc: 0.99 - ETA: 15s - loss: 0.0133 - acc: 0.99 - ETA: 15s - loss: 0.0121 - acc: 0.99 - ETA: 14s - loss: 0.0112 - acc: 0.99 - ETA: 14s - loss: 0.0108 - acc: 0.99 - ETA: 13s - loss: 0.0107 - acc: 0.99 - ETA: 13s - loss: 0.0117 - acc: 0.99 - ETA: 12s - loss: 0.0114 - acc: 0.99 - ETA: 12s - loss: 0.0117 - acc: 0.99 - ETA: 11s - loss: 0.0136 - acc: 0.99 - ETA: 11s - loss: 0.0136 - acc: 0.99 - ETA: 10s - loss: 0.0130 - acc: 0.99 - ETA: 9s - loss: 0.0126 - acc: 0.9976 - ETA: 9s - loss: 0.0124 - acc: 0.997 - ETA: 8s - loss: 0.0119 - acc: 0.997 - ETA: 7s - loss: 0.0116 - acc: 0.997 - ETA: 7s - loss: 0.0111 - acc: 0.998 - ETA: 6s - loss: 0.0110 - acc: 0.998 - ETA: 6s - loss: 0.0107 - acc: 0.998 - ETA: 5s - loss: 0.0105 - acc: 0.998 - ETA: 4s - loss: 0.0103 - acc: 0.998 - ETA: 4s - loss: 0.0101 - acc: 0.998 - ETA: 3s - loss: 0.0100 - acc: 0.998 - ETA: 3s - loss: 0.0099 - acc: 0.998 - ETA: 2s - loss: 0.0098 - acc: 0.998 - ETA: 2s - loss: 0.0098 - acc: 0.998 - ETA: 1s - loss: 0.0098 - acc: 0.998 - ETA: 0s - loss: 0.0096 - acc: 0.998 - ETA: 0s - loss: 0.0096 - acc: 0.998 - 21s 10ms/step - loss: 0.0095 - acc: 0.9988 - val_loss: 0.0523 - val_acc: 0.9923\n",
      "\n",
      "Epoch 00080: val_loss did not improve from 0.05023\n",
      "Epoch 81/100\n"
     ]
    },
    {
     "name": "stdout",
     "output_type": "stream",
     "text": [
      "2076/2076 [==============================] - ETA: 19s - loss: 0.0057 - acc: 1.00 - ETA: 18s - loss: 0.0061 - acc: 1.00 - ETA: 17s - loss: 0.0059 - acc: 1.00 - ETA: 16s - loss: 0.0054 - acc: 1.00 - ETA: 15s - loss: 0.0054 - acc: 1.00 - ETA: 15s - loss: 0.0051 - acc: 1.00 - ETA: 14s - loss: 0.0054 - acc: 1.00 - ETA: 14s - loss: 0.0066 - acc: 1.00 - ETA: 13s - loss: 0.0063 - acc: 1.00 - ETA: 13s - loss: 0.0063 - acc: 1.00 - ETA: 12s - loss: 0.0063 - acc: 1.00 - ETA: 12s - loss: 0.0062 - acc: 1.00 - ETA: 11s - loss: 0.0061 - acc: 1.00 - ETA: 11s - loss: 0.0066 - acc: 1.00 - ETA: 10s - loss: 0.0080 - acc: 0.99 - ETA: 9s - loss: 0.0082 - acc: 0.9990 - ETA: 9s - loss: 0.0082 - acc: 0.999 - ETA: 8s - loss: 0.0079 - acc: 0.999 - ETA: 8s - loss: 0.0080 - acc: 0.999 - ETA: 7s - loss: 0.0079 - acc: 0.999 - ETA: 6s - loss: 0.0079 - acc: 0.999 - ETA: 6s - loss: 0.0078 - acc: 0.999 - ETA: 5s - loss: 0.0079 - acc: 0.999 - ETA: 5s - loss: 0.0080 - acc: 0.999 - ETA: 4s - loss: 0.0078 - acc: 0.999 - ETA: 3s - loss: 0.0079 - acc: 0.999 - ETA: 3s - loss: 0.0080 - acc: 0.999 - ETA: 2s - loss: 0.0082 - acc: 0.999 - ETA: 2s - loss: 0.0082 - acc: 0.999 - ETA: 1s - loss: 0.0084 - acc: 0.999 - ETA: 0s - loss: 0.0085 - acc: 0.999 - ETA: 0s - loss: 0.0085 - acc: 0.999 - 21s 10ms/step - loss: 0.0086 - acc: 0.9995 - val_loss: 0.0525 - val_acc: 0.9923\n",
      "\n",
      "Epoch 00081: val_loss did not improve from 0.05023\n",
      "Epoch 82/100\n",
      "2076/2076 [==============================] - ETA: 17s - loss: 0.0030 - acc: 1.00 - ETA: 18s - loss: 0.0091 - acc: 0.99 - ETA: 17s - loss: 0.0086 - acc: 0.99 - ETA: 17s - loss: 0.0080 - acc: 0.99 - ETA: 16s - loss: 0.0084 - acc: 0.99 - ETA: 17s - loss: 0.0087 - acc: 0.99 - ETA: 17s - loss: 0.0087 - acc: 0.99 - ETA: 16s - loss: 0.0087 - acc: 0.99 - ETA: 15s - loss: 0.0082 - acc: 0.99 - ETA: 15s - loss: 0.0079 - acc: 0.99 - ETA: 14s - loss: 0.0076 - acc: 0.99 - ETA: 13s - loss: 0.0075 - acc: 0.99 - ETA: 12s - loss: 0.0073 - acc: 0.99 - ETA: 11s - loss: 0.0073 - acc: 0.99 - ETA: 11s - loss: 0.0071 - acc: 0.99 - ETA: 10s - loss: 0.0081 - acc: 0.99 - ETA: 9s - loss: 0.0082 - acc: 0.9991 - ETA: 9s - loss: 0.0082 - acc: 0.999 - ETA: 8s - loss: 0.0081 - acc: 0.999 - ETA: 7s - loss: 0.0080 - acc: 0.999 - ETA: 7s - loss: 0.0078 - acc: 0.999 - ETA: 6s - loss: 0.0078 - acc: 0.999 - ETA: 6s - loss: 0.0077 - acc: 0.999 - ETA: 5s - loss: 0.0079 - acc: 0.999 - ETA: 4s - loss: 0.0078 - acc: 0.999 - ETA: 4s - loss: 0.0076 - acc: 0.999 - ETA: 3s - loss: 0.0076 - acc: 0.999 - ETA: 2s - loss: 0.0076 - acc: 0.999 - ETA: 2s - loss: 0.0076 - acc: 0.999 - ETA: 1s - loss: 0.0077 - acc: 0.999 - ETA: 0s - loss: 0.0075 - acc: 0.999 - ETA: 0s - loss: 0.0075 - acc: 0.999 - 23s 11ms/step - loss: 0.0079 - acc: 0.9993 - val_loss: 0.0532 - val_acc: 0.9923\n",
      "\n",
      "Epoch 00082: val_loss did not improve from 0.05023\n",
      "Epoch 83/100\n",
      "2076/2076 [==============================] - ETA: 18s - loss: 0.0057 - acc: 1.00 - ETA: 17s - loss: 0.0089 - acc: 1.00 - ETA: 17s - loss: 0.0099 - acc: 1.00 - ETA: 16s - loss: 0.0083 - acc: 1.00 - ETA: 16s - loss: 0.0075 - acc: 1.00 - ETA: 15s - loss: 0.0089 - acc: 1.00 - ETA: 15s - loss: 0.0084 - acc: 1.00 - ETA: 14s - loss: 0.0083 - acc: 1.00 - ETA: 14s - loss: 0.0078 - acc: 1.00 - ETA: 13s - loss: 0.0074 - acc: 1.00 - ETA: 13s - loss: 0.0088 - acc: 1.00 - ETA: 12s - loss: 0.0085 - acc: 1.00 - ETA: 11s - loss: 0.0081 - acc: 1.00 - ETA: 11s - loss: 0.0078 - acc: 1.00 - ETA: 10s - loss: 0.0080 - acc: 1.00 - ETA: 9s - loss: 0.0080 - acc: 1.0000 - ETA: 9s - loss: 0.0080 - acc: 1.000 - ETA: 8s - loss: 0.0079 - acc: 1.000 - ETA: 8s - loss: 0.0077 - acc: 1.000 - ETA: 7s - loss: 0.0077 - acc: 1.000 - ETA: 7s - loss: 0.0078 - acc: 1.000 - ETA: 6s - loss: 0.0083 - acc: 0.999 - ETA: 6s - loss: 0.0081 - acc: 0.999 - ETA: 5s - loss: 0.0080 - acc: 0.999 - ETA: 4s - loss: 0.0079 - acc: 0.999 - ETA: 4s - loss: 0.0080 - acc: 0.999 - ETA: 3s - loss: 0.0080 - acc: 0.999 - ETA: 3s - loss: 0.0081 - acc: 0.999 - ETA: 2s - loss: 0.0081 - acc: 0.999 - ETA: 1s - loss: 0.0081 - acc: 0.999 - ETA: 0s - loss: 0.0081 - acc: 0.999 - ETA: 0s - loss: 0.0081 - acc: 0.999 - 24s 12ms/step - loss: 0.0082 - acc: 0.9998 - val_loss: 0.0543 - val_acc: 0.9923\n",
      "\n",
      "Epoch 00083: val_loss did not improve from 0.05023\n",
      "Epoch 84/100\n",
      "2076/2076 [==============================] - ETA: 26s - loss: 0.0101 - acc: 1.00 - ETA: 28s - loss: 0.0152 - acc: 0.99 - ETA: 25s - loss: 0.0121 - acc: 0.99 - ETA: 22s - loss: 0.0097 - acc: 0.99 - ETA: 20s - loss: 0.0083 - acc: 0.99 - ETA: 19s - loss: 0.0082 - acc: 0.99 - ETA: 19s - loss: 0.0081 - acc: 0.99 - ETA: 18s - loss: 0.0094 - acc: 0.99 - ETA: 17s - loss: 0.0090 - acc: 0.99 - ETA: 16s - loss: 0.0086 - acc: 0.99 - ETA: 15s - loss: 0.0111 - acc: 0.99 - ETA: 14s - loss: 0.0106 - acc: 0.99 - ETA: 13s - loss: 0.0102 - acc: 0.99 - ETA: 13s - loss: 0.0097 - acc: 0.99 - ETA: 12s - loss: 0.0094 - acc: 0.99 - ETA: 11s - loss: 0.0094 - acc: 0.99 - ETA: 10s - loss: 0.0094 - acc: 0.99 - ETA: 9s - loss: 0.0094 - acc: 0.9983 - ETA: 9s - loss: 0.0094 - acc: 0.998 - ETA: 8s - loss: 0.0095 - acc: 0.998 - ETA: 7s - loss: 0.0097 - acc: 0.998 - ETA: 6s - loss: 0.0098 - acc: 0.998 - ETA: 6s - loss: 0.0133 - acc: 0.998 - ETA: 5s - loss: 0.0140 - acc: 0.997 - ETA: 4s - loss: 0.0137 - acc: 0.997 - ETA: 4s - loss: 0.0139 - acc: 0.997 - ETA: 3s - loss: 0.0138 - acc: 0.997 - ETA: 2s - loss: 0.0136 - acc: 0.997 - ETA: 2s - loss: 0.0132 - acc: 0.997 - ETA: 1s - loss: 0.0132 - acc: 0.997 - ETA: 0s - loss: 0.0131 - acc: 0.998 - ETA: 0s - loss: 0.0129 - acc: 0.998 - 23s 11ms/step - loss: 0.0130 - acc: 0.9981 - val_loss: 0.0547 - val_acc: 0.9923\n",
      "\n",
      "Epoch 00084: val_loss did not improve from 0.05023\n",
      "Epoch 85/100\n",
      "2076/2076 [==============================] - ETA: 17s - loss: 0.0093 - acc: 1.00 - ETA: 17s - loss: 0.0068 - acc: 1.00 - ETA: 16s - loss: 0.0066 - acc: 1.00 - ETA: 15s - loss: 0.0075 - acc: 1.00 - ETA: 15s - loss: 0.0080 - acc: 1.00 - ETA: 14s - loss: 0.0070 - acc: 1.00 - ETA: 14s - loss: 0.0070 - acc: 1.00 - ETA: 13s - loss: 0.0066 - acc: 1.00 - ETA: 13s - loss: 0.0068 - acc: 1.00 - ETA: 12s - loss: 0.0073 - acc: 1.00 - ETA: 12s - loss: 0.0070 - acc: 1.00 - ETA: 11s - loss: 0.0073 - acc: 1.00 - ETA: 11s - loss: 0.0072 - acc: 1.00 - ETA: 10s - loss: 0.0073 - acc: 1.00 - ETA: 9s - loss: 0.0073 - acc: 1.0000 - ETA: 9s - loss: 0.0073 - acc: 1.000 - ETA: 8s - loss: 0.0072 - acc: 1.000 - ETA: 8s - loss: 0.0071 - acc: 1.000 - ETA: 7s - loss: 0.0071 - acc: 1.000 - ETA: 7s - loss: 0.0071 - acc: 1.000 - ETA: 6s - loss: 0.0073 - acc: 1.000 - ETA: 5s - loss: 0.0071 - acc: 1.000 - ETA: 5s - loss: 0.0077 - acc: 0.999 - ETA: 4s - loss: 0.0079 - acc: 0.999 - ETA: 4s - loss: 0.0079 - acc: 0.999 - ETA: 3s - loss: 0.0080 - acc: 0.999 - ETA: 3s - loss: 0.0079 - acc: 0.999 - ETA: 2s - loss: 0.0079 - acc: 0.999 - ETA: 2s - loss: 0.0078 - acc: 0.999 - ETA: 1s - loss: 0.0078 - acc: 0.999 - ETA: 0s - loss: 0.0077 - acc: 0.999 - ETA: 0s - loss: 0.0076 - acc: 0.999 - 21s 10ms/step - loss: 0.0077 - acc: 0.9998 - val_loss: 0.0539 - val_acc: 0.9923\n",
      "\n",
      "Epoch 00085: val_loss did not improve from 0.05023\n",
      "Epoch 86/100\n"
     ]
    },
    {
     "name": "stdout",
     "output_type": "stream",
     "text": [
      "2076/2076 [==============================] - ETA: 18s - loss: 0.0054 - acc: 1.00 - ETA: 20s - loss: 0.0047 - acc: 1.00 - ETA: 20s - loss: 0.0075 - acc: 1.00 - ETA: 19s - loss: 0.0079 - acc: 1.00 - ETA: 18s - loss: 0.0073 - acc: 1.00 - ETA: 17s - loss: 0.0073 - acc: 1.00 - ETA: 16s - loss: 0.0075 - acc: 1.00 - ETA: 15s - loss: 0.0080 - acc: 1.00 - ETA: 15s - loss: 0.0075 - acc: 1.00 - ETA: 14s - loss: 0.0071 - acc: 1.00 - ETA: 13s - loss: 0.0074 - acc: 1.00 - ETA: 13s - loss: 0.0071 - acc: 1.00 - ETA: 12s - loss: 0.0069 - acc: 1.00 - ETA: 11s - loss: 0.0066 - acc: 1.00 - ETA: 10s - loss: 0.0066 - acc: 1.00 - ETA: 10s - loss: 0.0065 - acc: 1.00 - ETA: 9s - loss: 0.0064 - acc: 1.0000 - ETA: 8s - loss: 0.0069 - acc: 1.000 - ETA: 8s - loss: 0.0071 - acc: 1.000 - ETA: 7s - loss: 0.0070 - acc: 1.000 - ETA: 7s - loss: 0.0076 - acc: 1.000 - ETA: 6s - loss: 0.0075 - acc: 1.000 - ETA: 5s - loss: 0.0074 - acc: 1.000 - ETA: 5s - loss: 0.0077 - acc: 0.999 - ETA: 4s - loss: 0.0075 - acc: 0.999 - ETA: 3s - loss: 0.0074 - acc: 0.999 - ETA: 3s - loss: 0.0073 - acc: 0.999 - ETA: 2s - loss: 0.0072 - acc: 0.999 - ETA: 2s - loss: 0.0074 - acc: 0.999 - ETA: 1s - loss: 0.0073 - acc: 0.999 - ETA: 0s - loss: 0.0072 - acc: 0.999 - ETA: 0s - loss: 0.0071 - acc: 0.999 - 21s 10ms/step - loss: 0.0071 - acc: 0.9998 - val_loss: 0.0549 - val_acc: 0.9923\n",
      "\n",
      "Epoch 00086: val_loss did not improve from 0.05023\n",
      "Epoch 87/100\n",
      "2076/2076 [==============================] - ETA: 17s - loss: 0.0166 - acc: 1.00 - ETA: 17s - loss: 0.0109 - acc: 1.00 - ETA: 16s - loss: 0.0088 - acc: 1.00 - ETA: 16s - loss: 0.0094 - acc: 1.00 - ETA: 15s - loss: 0.0087 - acc: 1.00 - ETA: 14s - loss: 0.0087 - acc: 1.00 - ETA: 14s - loss: 0.0079 - acc: 1.00 - ETA: 14s - loss: 0.0072 - acc: 1.00 - ETA: 13s - loss: 0.0072 - acc: 1.00 - ETA: 12s - loss: 0.0069 - acc: 1.00 - ETA: 12s - loss: 0.0082 - acc: 0.99 - ETA: 11s - loss: 0.0082 - acc: 0.99 - ETA: 11s - loss: 0.0078 - acc: 0.99 - ETA: 10s - loss: 0.0084 - acc: 0.99 - ETA: 10s - loss: 0.0081 - acc: 0.99 - ETA: 9s - loss: 0.0080 - acc: 0.9985 - ETA: 8s - loss: 0.0080 - acc: 0.998 - ETA: 8s - loss: 0.0081 - acc: 0.998 - ETA: 7s - loss: 0.0083 - acc: 0.998 - ETA: 7s - loss: 0.0082 - acc: 0.998 - ETA: 6s - loss: 0.0080 - acc: 0.998 - ETA: 5s - loss: 0.0080 - acc: 0.998 - ETA: 5s - loss: 0.0081 - acc: 0.999 - ETA: 4s - loss: 0.0080 - acc: 0.999 - ETA: 4s - loss: 0.0086 - acc: 0.998 - ETA: 3s - loss: 0.0085 - acc: 0.998 - ETA: 3s - loss: 0.0086 - acc: 0.998 - ETA: 2s - loss: 0.0086 - acc: 0.998 - ETA: 2s - loss: 0.0092 - acc: 0.998 - ETA: 1s - loss: 0.0091 - acc: 0.998 - ETA: 0s - loss: 0.0091 - acc: 0.998 - ETA: 0s - loss: 0.0089 - acc: 0.998 - 21s 10ms/step - loss: 0.0090 - acc: 0.9986 - val_loss: 0.0533 - val_acc: 0.9933\n",
      "\n",
      "Epoch 00087: val_loss did not improve from 0.05023\n",
      "Epoch 88/100\n",
      "2076/2076 [==============================] - ETA: 18s - loss: 0.0049 - acc: 1.00 - ETA: 17s - loss: 0.0056 - acc: 1.00 - ETA: 16s - loss: 0.0074 - acc: 1.00 - ETA: 16s - loss: 0.0078 - acc: 1.00 - ETA: 15s - loss: 0.0090 - acc: 1.00 - ETA: 14s - loss: 0.0087 - acc: 1.00 - ETA: 14s - loss: 0.0079 - acc: 1.00 - ETA: 13s - loss: 0.0081 - acc: 1.00 - ETA: 13s - loss: 0.0083 - acc: 1.00 - ETA: 12s - loss: 0.0084 - acc: 1.00 - ETA: 12s - loss: 0.0083 - acc: 1.00 - ETA: 11s - loss: 0.0084 - acc: 1.00 - ETA: 11s - loss: 0.0082 - acc: 1.00 - ETA: 10s - loss: 0.0097 - acc: 0.99 - ETA: 9s - loss: 0.0096 - acc: 0.9990 - ETA: 9s - loss: 0.0096 - acc: 0.999 - ETA: 8s - loss: 0.0095 - acc: 0.999 - ETA: 8s - loss: 0.0093 - acc: 0.999 - ETA: 7s - loss: 0.0091 - acc: 0.999 - ETA: 7s - loss: 0.0088 - acc: 0.999 - ETA: 6s - loss: 0.0086 - acc: 0.999 - ETA: 5s - loss: 0.0084 - acc: 0.999 - ETA: 5s - loss: 0.0082 - acc: 0.999 - ETA: 4s - loss: 0.0081 - acc: 0.999 - ETA: 4s - loss: 0.0079 - acc: 0.999 - ETA: 3s - loss: 0.0077 - acc: 0.999 - ETA: 3s - loss: 0.0077 - acc: 0.999 - ETA: 2s - loss: 0.0077 - acc: 0.999 - ETA: 1s - loss: 0.0077 - acc: 0.999 - ETA: 1s - loss: 0.0078 - acc: 0.999 - ETA: 0s - loss: 0.0076 - acc: 0.999 - ETA: 0s - loss: 0.0075 - acc: 0.999 - 20s 10ms/step - loss: 0.0076 - acc: 0.9995 - val_loss: 0.0533 - val_acc: 0.9923\n",
      "\n",
      "Epoch 00088: val_loss did not improve from 0.05023\n",
      "Epoch 89/100\n",
      "2076/2076 [==============================] - ETA: 19s - loss: 0.0071 - acc: 1.00 - ETA: 18s - loss: 0.0044 - acc: 1.00 - ETA: 17s - loss: 0.0045 - acc: 1.00 - ETA: 17s - loss: 0.0046 - acc: 1.00 - ETA: 16s - loss: 0.0055 - acc: 1.00 - ETA: 15s - loss: 0.0059 - acc: 1.00 - ETA: 15s - loss: 0.0061 - acc: 1.00 - ETA: 14s - loss: 0.0064 - acc: 1.00 - ETA: 14s - loss: 0.0071 - acc: 1.00 - ETA: 13s - loss: 0.0067 - acc: 1.00 - ETA: 12s - loss: 0.0064 - acc: 1.00 - ETA: 12s - loss: 0.0066 - acc: 1.00 - ETA: 11s - loss: 0.0063 - acc: 1.00 - ETA: 11s - loss: 0.0066 - acc: 1.00 - ETA: 10s - loss: 0.0064 - acc: 1.00 - ETA: 9s - loss: 0.0067 - acc: 1.0000 - ETA: 9s - loss: 0.0069 - acc: 1.000 - ETA: 8s - loss: 0.0069 - acc: 1.000 - ETA: 8s - loss: 0.0068 - acc: 1.000 - ETA: 7s - loss: 0.0067 - acc: 1.000 - ETA: 6s - loss: 0.0065 - acc: 1.000 - ETA: 6s - loss: 0.0068 - acc: 1.000 - ETA: 5s - loss: 0.0068 - acc: 1.000 - ETA: 5s - loss: 0.0068 - acc: 1.000 - ETA: 4s - loss: 0.0069 - acc: 1.000 - ETA: 3s - loss: 0.0069 - acc: 1.000 - ETA: 3s - loss: 0.0067 - acc: 1.000 - ETA: 2s - loss: 0.0066 - acc: 1.000 - ETA: 2s - loss: 0.0068 - acc: 1.000 - ETA: 1s - loss: 0.0067 - acc: 1.000 - ETA: 0s - loss: 0.0067 - acc: 1.000 - ETA: 0s - loss: 0.0067 - acc: 1.000 - 22s 10ms/step - loss: 0.0067 - acc: 1.0000 - val_loss: 0.0552 - val_acc: 0.9923\n",
      "\n",
      "Epoch 00089: val_loss did not improve from 0.05023\n",
      "Epoch 90/100\n",
      "2076/2076 [==============================] - ETA: 18s - loss: 0.0052 - acc: 1.00 - ETA: 17s - loss: 0.0061 - acc: 1.00 - ETA: 17s - loss: 0.0079 - acc: 1.00 - ETA: 16s - loss: 0.0077 - acc: 1.00 - ETA: 16s - loss: 0.0069 - acc: 1.00 - ETA: 15s - loss: 0.0064 - acc: 1.00 - ETA: 15s - loss: 0.0060 - acc: 1.00 - ETA: 14s - loss: 0.0057 - acc: 1.00 - ETA: 13s - loss: 0.0060 - acc: 1.00 - ETA: 13s - loss: 0.0065 - acc: 1.00 - ETA: 12s - loss: 0.0065 - acc: 1.00 - ETA: 11s - loss: 0.0071 - acc: 1.00 - ETA: 11s - loss: 0.0071 - acc: 1.00 - ETA: 10s - loss: 0.0072 - acc: 1.00 - ETA: 10s - loss: 0.0070 - acc: 1.00 - ETA: 9s - loss: 0.0072 - acc: 1.0000 - ETA: 9s - loss: 0.0071 - acc: 1.000 - ETA: 8s - loss: 0.0070 - acc: 1.000 - ETA: 8s - loss: 0.0068 - acc: 1.000 - ETA: 7s - loss: 0.0067 - acc: 1.000 - ETA: 6s - loss: 0.0066 - acc: 1.000 - ETA: 6s - loss: 0.0064 - acc: 1.000 - ETA: 5s - loss: 0.0063 - acc: 1.000 - ETA: 5s - loss: 0.0063 - acc: 1.000 - ETA: 4s - loss: 0.0064 - acc: 1.000 - ETA: 4s - loss: 0.0066 - acc: 1.000 - ETA: 3s - loss: 0.0065 - acc: 1.000 - ETA: 2s - loss: 0.0065 - acc: 1.000 - ETA: 2s - loss: 0.0066 - acc: 1.000 - ETA: 1s - loss: 0.0067 - acc: 1.000 - ETA: 0s - loss: 0.0069 - acc: 1.000 - ETA: 0s - loss: 0.0069 - acc: 1.000 - 22s 11ms/step - loss: 0.0069 - acc: 1.0000 - val_loss: 0.0598 - val_acc: 0.9942\n",
      "\n",
      "Epoch 00090: val_loss did not improve from 0.05023\n",
      "Epoch 91/100\n"
     ]
    },
    {
     "name": "stdout",
     "output_type": "stream",
     "text": [
      "2076/2076 [==============================] - ETA: 18s - loss: 0.0054 - acc: 1.00 - ETA: 17s - loss: 0.0068 - acc: 1.00 - ETA: 17s - loss: 0.0059 - acc: 1.00 - ETA: 16s - loss: 0.0050 - acc: 1.00 - ETA: 15s - loss: 0.0057 - acc: 1.00 - ETA: 15s - loss: 0.0064 - acc: 1.00 - ETA: 14s - loss: 0.0065 - acc: 1.00 - ETA: 14s - loss: 0.0089 - acc: 0.99 - ETA: 14s - loss: 0.0086 - acc: 0.99 - ETA: 13s - loss: 0.0084 - acc: 0.99 - ETA: 13s - loss: 0.0086 - acc: 0.99 - ETA: 12s - loss: 0.0082 - acc: 0.99 - ETA: 12s - loss: 0.0079 - acc: 0.99 - ETA: 11s - loss: 0.0077 - acc: 0.99 - ETA: 10s - loss: 0.0075 - acc: 0.99 - ETA: 10s - loss: 0.0073 - acc: 0.99 - ETA: 9s - loss: 0.0072 - acc: 0.9991 - ETA: 8s - loss: 0.0071 - acc: 0.999 - ETA: 8s - loss: 0.0068 - acc: 0.999 - ETA: 7s - loss: 0.0066 - acc: 0.999 - ETA: 7s - loss: 0.0067 - acc: 0.999 - ETA: 6s - loss: 0.0067 - acc: 0.999 - ETA: 5s - loss: 0.0068 - acc: 0.999 - ETA: 5s - loss: 0.0066 - acc: 0.999 - ETA: 4s - loss: 0.0071 - acc: 0.999 - ETA: 3s - loss: 0.0073 - acc: 0.999 - ETA: 3s - loss: 0.0073 - acc: 0.999 - ETA: 2s - loss: 0.0073 - acc: 0.999 - ETA: 2s - loss: 0.0073 - acc: 0.999 - ETA: 1s - loss: 0.0076 - acc: 0.999 - ETA: 0s - loss: 0.0078 - acc: 0.999 - ETA: 0s - loss: 0.0078 - acc: 0.999 - 21s 10ms/step - loss: 0.0077 - acc: 0.9993 - val_loss: 0.0567 - val_acc: 0.9942\n",
      "\n",
      "Epoch 00091: val_loss did not improve from 0.05023\n",
      "Epoch 92/100\n",
      "2076/2076 [==============================] - ETA: 19s - loss: 0.0080 - acc: 1.00 - ETA: 17s - loss: 0.0058 - acc: 1.00 - ETA: 16s - loss: 0.0056 - acc: 1.00 - ETA: 16s - loss: 0.0066 - acc: 1.00 - ETA: 15s - loss: 0.0065 - acc: 1.00 - ETA: 14s - loss: 0.0057 - acc: 1.00 - ETA: 14s - loss: 0.0059 - acc: 1.00 - ETA: 13s - loss: 0.0064 - acc: 1.00 - ETA: 13s - loss: 0.0061 - acc: 1.00 - ETA: 12s - loss: 0.0059 - acc: 1.00 - ETA: 12s - loss: 0.0060 - acc: 1.00 - ETA: 11s - loss: 0.0060 - acc: 1.00 - ETA: 10s - loss: 0.0062 - acc: 1.00 - ETA: 10s - loss: 0.0072 - acc: 0.99 - ETA: 9s - loss: 0.0072 - acc: 0.9995 - ETA: 9s - loss: 0.0080 - acc: 0.999 - ETA: 8s - loss: 0.0076 - acc: 0.999 - ETA: 8s - loss: 0.0073 - acc: 0.999 - ETA: 7s - loss: 0.0073 - acc: 0.999 - ETA: 7s - loss: 0.0071 - acc: 0.999 - ETA: 6s - loss: 0.0071 - acc: 0.999 - ETA: 5s - loss: 0.0073 - acc: 0.999 - ETA: 5s - loss: 0.0072 - acc: 0.999 - ETA: 4s - loss: 0.0070 - acc: 0.999 - ETA: 4s - loss: 0.0073 - acc: 0.999 - ETA: 3s - loss: 0.0073 - acc: 0.999 - ETA: 3s - loss: 0.0072 - acc: 0.999 - ETA: 2s - loss: 0.0071 - acc: 0.999 - ETA: 1s - loss: 0.0070 - acc: 0.999 - ETA: 1s - loss: 0.0068 - acc: 0.999 - ETA: 0s - loss: 0.0069 - acc: 0.999 - ETA: 0s - loss: 0.0068 - acc: 0.999 - 20s 10ms/step - loss: 0.0068 - acc: 0.9995 - val_loss: 0.0567 - val_acc: 0.9942\n",
      "\n",
      "Epoch 00092: val_loss did not improve from 0.05023\n",
      "Epoch 93/100\n",
      "2076/2076 [==============================] - ETA: 19s - loss: 0.0086 - acc: 1.00 - ETA: 18s - loss: 0.0076 - acc: 1.00 - ETA: 17s - loss: 0.0071 - acc: 1.00 - ETA: 17s - loss: 0.0067 - acc: 1.00 - ETA: 17s - loss: 0.0061 - acc: 1.00 - ETA: 16s - loss: 0.0071 - acc: 1.00 - ETA: 15s - loss: 0.0066 - acc: 1.00 - ETA: 14s - loss: 0.0065 - acc: 1.00 - ETA: 14s - loss: 0.0063 - acc: 1.00 - ETA: 13s - loss: 0.0060 - acc: 1.00 - ETA: 12s - loss: 0.0060 - acc: 1.00 - ETA: 12s - loss: 0.0060 - acc: 1.00 - ETA: 11s - loss: 0.0059 - acc: 1.00 - ETA: 10s - loss: 0.0057 - acc: 1.00 - ETA: 10s - loss: 0.0059 - acc: 1.00 - ETA: 9s - loss: 0.0059 - acc: 1.0000 - ETA: 9s - loss: 0.0059 - acc: 1.000 - ETA: 8s - loss: 0.0057 - acc: 1.000 - ETA: 7s - loss: 0.0057 - acc: 1.000 - ETA: 7s - loss: 0.0056 - acc: 1.000 - ETA: 6s - loss: 0.0056 - acc: 1.000 - ETA: 6s - loss: 0.0056 - acc: 1.000 - ETA: 5s - loss: 0.0055 - acc: 1.000 - ETA: 5s - loss: 0.0056 - acc: 1.000 - ETA: 4s - loss: 0.0056 - acc: 1.000 - ETA: 3s - loss: 0.0055 - acc: 1.000 - ETA: 3s - loss: 0.0056 - acc: 1.000 - ETA: 2s - loss: 0.0055 - acc: 1.000 - ETA: 2s - loss: 0.0055 - acc: 1.000 - ETA: 1s - loss: 0.0055 - acc: 1.000 - ETA: 0s - loss: 0.0055 - acc: 1.000 - ETA: 0s - loss: 0.0055 - acc: 1.000 - 21s 10ms/step - loss: 0.0057 - acc: 1.0000 - val_loss: 0.0531 - val_acc: 0.9923\n",
      "\n",
      "Epoch 00093: val_loss did not improve from 0.05023\n",
      "Epoch 94/100\n",
      "2076/2076 [==============================] - ETA: 18s - loss: 0.0086 - acc: 1.00 - ETA: 17s - loss: 0.0069 - acc: 1.00 - ETA: 16s - loss: 0.0066 - acc: 1.00 - ETA: 16s - loss: 0.0062 - acc: 1.00 - ETA: 15s - loss: 0.0053 - acc: 1.00 - ETA: 15s - loss: 0.0048 - acc: 1.00 - ETA: 14s - loss: 0.0045 - acc: 1.00 - ETA: 13s - loss: 0.0043 - acc: 1.00 - ETA: 13s - loss: 0.0043 - acc: 1.00 - ETA: 12s - loss: 0.0042 - acc: 1.00 - ETA: 12s - loss: 0.0050 - acc: 0.99 - ETA: 11s - loss: 0.0048 - acc: 0.99 - ETA: 11s - loss: 0.0053 - acc: 0.99 - ETA: 10s - loss: 0.0063 - acc: 0.99 - ETA: 10s - loss: 0.0062 - acc: 0.99 - ETA: 9s - loss: 0.0062 - acc: 0.9985 - ETA: 8s - loss: 0.0064 - acc: 0.998 - ETA: 8s - loss: 0.0062 - acc: 0.998 - ETA: 7s - loss: 0.0061 - acc: 0.998 - ETA: 7s - loss: 0.0060 - acc: 0.998 - ETA: 6s - loss: 0.0059 - acc: 0.998 - ETA: 6s - loss: 0.0058 - acc: 0.998 - ETA: 5s - loss: 0.0058 - acc: 0.999 - ETA: 4s - loss: 0.0058 - acc: 0.999 - ETA: 4s - loss: 0.0058 - acc: 0.999 - ETA: 3s - loss: 0.0061 - acc: 0.999 - ETA: 3s - loss: 0.0060 - acc: 0.999 - ETA: 2s - loss: 0.0064 - acc: 0.998 - ETA: 2s - loss: 0.0064 - acc: 0.998 - ETA: 1s - loss: 0.0063 - acc: 0.998 - ETA: 0s - loss: 0.0065 - acc: 0.998 - ETA: 0s - loss: 0.0067 - acc: 0.998 - 21s 10ms/step - loss: 0.0066 - acc: 0.9988 - val_loss: 0.0569 - val_acc: 0.9942\n",
      "\n",
      "Epoch 00094: val_loss did not improve from 0.05023\n",
      "Epoch 95/100\n",
      "2076/2076 [==============================] - ETA: 17s - loss: 0.0040 - acc: 1.00 - ETA: 17s - loss: 0.0096 - acc: 1.00 - ETA: 16s - loss: 0.0077 - acc: 1.00 - ETA: 16s - loss: 0.0066 - acc: 1.00 - ETA: 15s - loss: 0.0069 - acc: 1.00 - ETA: 15s - loss: 0.0061 - acc: 1.00 - ETA: 15s - loss: 0.0065 - acc: 1.00 - ETA: 15s - loss: 0.0066 - acc: 1.00 - ETA: 14s - loss: 0.0063 - acc: 1.00 - ETA: 14s - loss: 0.0061 - acc: 1.00 - ETA: 14s - loss: 0.0061 - acc: 1.00 - ETA: 13s - loss: 0.0063 - acc: 1.00 - ETA: 12s - loss: 0.0063 - acc: 1.00 - ETA: 12s - loss: 0.0060 - acc: 1.00 - ETA: 11s - loss: 0.0058 - acc: 1.00 - ETA: 10s - loss: 0.0060 - acc: 1.00 - ETA: 10s - loss: 0.0058 - acc: 1.00 - ETA: 9s - loss: 0.0058 - acc: 1.0000 - ETA: 8s - loss: 0.0058 - acc: 1.000 - ETA: 8s - loss: 0.0059 - acc: 1.000 - ETA: 7s - loss: 0.0059 - acc: 1.000 - ETA: 6s - loss: 0.0058 - acc: 1.000 - ETA: 6s - loss: 0.0059 - acc: 1.000 - ETA: 5s - loss: 0.0059 - acc: 1.000 - ETA: 4s - loss: 0.0059 - acc: 1.000 - ETA: 4s - loss: 0.0059 - acc: 1.000 - ETA: 3s - loss: 0.0058 - acc: 1.000 - ETA: 2s - loss: 0.0057 - acc: 1.000 - ETA: 2s - loss: 0.0057 - acc: 1.000 - ETA: 1s - loss: 0.0057 - acc: 1.000 - ETA: 0s - loss: 0.0056 - acc: 1.000 - ETA: 0s - loss: 0.0057 - acc: 1.000 - 22s 11ms/step - loss: 0.0057 - acc: 1.0000 - val_loss: 0.0521 - val_acc: 0.9923\n",
      "\n",
      "Epoch 00095: val_loss did not improve from 0.05023\n",
      "Epoch 96/100\n"
     ]
    },
    {
     "name": "stdout",
     "output_type": "stream",
     "text": [
      "2076/2076 [==============================] - ETA: 18s - loss: 0.0043 - acc: 1.00 - ETA: 17s - loss: 0.0042 - acc: 1.00 - ETA: 17s - loss: 0.0042 - acc: 1.00 - ETA: 17s - loss: 0.0040 - acc: 1.00 - ETA: 17s - loss: 0.0041 - acc: 1.00 - ETA: 16s - loss: 0.0050 - acc: 1.00 - ETA: 15s - loss: 0.0052 - acc: 1.00 - ETA: 14s - loss: 0.0051 - acc: 1.00 - ETA: 14s - loss: 0.0050 - acc: 1.00 - ETA: 13s - loss: 0.0052 - acc: 1.00 - ETA: 12s - loss: 0.0051 - acc: 1.00 - ETA: 12s - loss: 0.0049 - acc: 1.00 - ETA: 11s - loss: 0.0050 - acc: 1.00 - ETA: 10s - loss: 0.0048 - acc: 1.00 - ETA: 10s - loss: 0.0048 - acc: 1.00 - ETA: 10s - loss: 0.0048 - acc: 1.00 - ETA: 9s - loss: 0.0048 - acc: 1.0000 - ETA: 9s - loss: 0.0056 - acc: 0.999 - ETA: 8s - loss: 0.0055 - acc: 0.999 - ETA: 7s - loss: 0.0057 - acc: 0.999 - ETA: 7s - loss: 0.0058 - acc: 0.999 - ETA: 6s - loss: 0.0059 - acc: 0.999 - ETA: 5s - loss: 0.0058 - acc: 0.999 - ETA: 5s - loss: 0.0057 - acc: 0.999 - ETA: 4s - loss: 0.0058 - acc: 0.999 - ETA: 3s - loss: 0.0057 - acc: 0.999 - ETA: 3s - loss: 0.0055 - acc: 0.999 - ETA: 2s - loss: 0.0054 - acc: 0.999 - ETA: 2s - loss: 0.0056 - acc: 0.999 - ETA: 1s - loss: 0.0056 - acc: 0.999 - ETA: 0s - loss: 0.0055 - acc: 0.999 - ETA: 0s - loss: 0.0054 - acc: 0.999 - 22s 10ms/step - loss: 0.0054 - acc: 0.9995 - val_loss: 0.0550 - val_acc: 0.9942\n",
      "\n",
      "Epoch 00096: val_loss did not improve from 0.05023\n",
      "Epoch 97/100\n",
      "2076/2076 [==============================] - ETA: 17s - loss: 0.0061 - acc: 1.00 - ETA: 17s - loss: 0.0044 - acc: 1.00 - ETA: 16s - loss: 0.0046 - acc: 1.00 - ETA: 16s - loss: 0.0047 - acc: 1.00 - ETA: 15s - loss: 0.0044 - acc: 1.00 - ETA: 15s - loss: 0.0061 - acc: 1.00 - ETA: 14s - loss: 0.0064 - acc: 1.00 - ETA: 13s - loss: 0.0058 - acc: 1.00 - ETA: 13s - loss: 0.0060 - acc: 1.00 - ETA: 12s - loss: 0.0063 - acc: 1.00 - ETA: 12s - loss: 0.0059 - acc: 1.00 - ETA: 11s - loss: 0.0061 - acc: 1.00 - ETA: 10s - loss: 0.0060 - acc: 1.00 - ETA: 10s - loss: 0.0057 - acc: 1.00 - ETA: 9s - loss: 0.0058 - acc: 1.0000 - ETA: 9s - loss: 0.0056 - acc: 1.000 - ETA: 8s - loss: 0.0060 - acc: 1.000 - ETA: 8s - loss: 0.0062 - acc: 1.000 - ETA: 7s - loss: 0.0061 - acc: 1.000 - ETA: 7s - loss: 0.0059 - acc: 1.000 - ETA: 6s - loss: 0.0058 - acc: 1.000 - ETA: 5s - loss: 0.0056 - acc: 1.000 - ETA: 5s - loss: 0.0057 - acc: 1.000 - ETA: 4s - loss: 0.0055 - acc: 1.000 - ETA: 4s - loss: 0.0054 - acc: 1.000 - ETA: 3s - loss: 0.0054 - acc: 1.000 - ETA: 3s - loss: 0.0054 - acc: 1.000 - ETA: 2s - loss: 0.0054 - acc: 1.000 - ETA: 1s - loss: 0.0053 - acc: 1.000 - ETA: 1s - loss: 0.0053 - acc: 1.000 - ETA: 0s - loss: 0.0052 - acc: 1.000 - ETA: 0s - loss: 0.0052 - acc: 1.000 - 20s 10ms/step - loss: 0.0051 - acc: 1.0000 - val_loss: 0.0541 - val_acc: 0.9923\n",
      "\n",
      "Epoch 00097: val_loss did not improve from 0.05023\n",
      "Epoch 98/100\n",
      "2076/2076 [==============================] - ETA: 21s - loss: 0.0017 - acc: 1.00 - ETA: 19s - loss: 0.0056 - acc: 1.00 - ETA: 18s - loss: 0.0055 - acc: 1.00 - ETA: 18s - loss: 0.0059 - acc: 1.00 - ETA: 18s - loss: 0.0061 - acc: 1.00 - ETA: 17s - loss: 0.0061 - acc: 1.00 - ETA: 17s - loss: 0.0063 - acc: 1.00 - ETA: 16s - loss: 0.0061 - acc: 1.00 - ETA: 15s - loss: 0.0066 - acc: 1.00 - ETA: 14s - loss: 0.0069 - acc: 1.00 - ETA: 14s - loss: 0.0067 - acc: 1.00 - ETA: 13s - loss: 0.0064 - acc: 1.00 - ETA: 12s - loss: 0.0064 - acc: 1.00 - ETA: 11s - loss: 0.0061 - acc: 1.00 - ETA: 11s - loss: 0.0061 - acc: 1.00 - ETA: 10s - loss: 0.0060 - acc: 1.00 - ETA: 9s - loss: 0.0059 - acc: 1.0000 - ETA: 9s - loss: 0.0057 - acc: 1.000 - ETA: 8s - loss: 0.0057 - acc: 1.000 - ETA: 7s - loss: 0.0055 - acc: 1.000 - ETA: 7s - loss: 0.0056 - acc: 1.000 - ETA: 6s - loss: 0.0054 - acc: 1.000 - ETA: 5s - loss: 0.0055 - acc: 1.000 - ETA: 5s - loss: 0.0055 - acc: 1.000 - ETA: 4s - loss: 0.0053 - acc: 1.000 - ETA: 4s - loss: 0.0053 - acc: 1.000 - ETA: 3s - loss: 0.0054 - acc: 1.000 - ETA: 2s - loss: 0.0053 - acc: 1.000 - ETA: 2s - loss: 0.0053 - acc: 1.000 - ETA: 1s - loss: 0.0053 - acc: 1.000 - ETA: 0s - loss: 0.0054 - acc: 1.000 - ETA: 0s - loss: 0.0054 - acc: 1.000 - 21s 10ms/step - loss: 0.0054 - acc: 1.0000 - val_loss: 0.0565 - val_acc: 0.9942\n",
      "\n",
      "Epoch 00098: val_loss did not improve from 0.05023\n",
      "Epoch 99/100\n",
      "2076/2076 [==============================] - ETA: 17s - loss: 0.0035 - acc: 1.00 - ETA: 17s - loss: 0.0067 - acc: 1.00 - ETA: 16s - loss: 0.0055 - acc: 1.00 - ETA: 16s - loss: 0.0055 - acc: 1.00 - ETA: 15s - loss: 0.0054 - acc: 1.00 - ETA: 15s - loss: 0.0058 - acc: 1.00 - ETA: 14s - loss: 0.0058 - acc: 1.00 - ETA: 14s - loss: 0.0054 - acc: 1.00 - ETA: 13s - loss: 0.0054 - acc: 1.00 - ETA: 13s - loss: 0.0054 - acc: 1.00 - ETA: 12s - loss: 0.0056 - acc: 1.00 - ETA: 11s - loss: 0.0056 - acc: 1.00 - ETA: 11s - loss: 0.0059 - acc: 1.00 - ETA: 11s - loss: 0.0058 - acc: 1.00 - ETA: 10s - loss: 0.0055 - acc: 1.00 - ETA: 10s - loss: 0.0057 - acc: 1.00 - ETA: 9s - loss: 0.0057 - acc: 1.0000 - ETA: 9s - loss: 0.0054 - acc: 1.000 - ETA: 8s - loss: 0.0054 - acc: 1.000 - ETA: 7s - loss: 0.0054 - acc: 1.000 - ETA: 7s - loss: 0.0053 - acc: 1.000 - ETA: 6s - loss: 0.0052 - acc: 1.000 - ETA: 5s - loss: 0.0051 - acc: 1.000 - ETA: 5s - loss: 0.0049 - acc: 1.000 - ETA: 4s - loss: 0.0048 - acc: 1.000 - ETA: 3s - loss: 0.0047 - acc: 1.000 - ETA: 3s - loss: 0.0047 - acc: 1.000 - ETA: 2s - loss: 0.0046 - acc: 1.000 - ETA: 2s - loss: 0.0048 - acc: 1.000 - ETA: 1s - loss: 0.0048 - acc: 1.000 - ETA: 0s - loss: 0.0048 - acc: 1.000 - ETA: 0s - loss: 0.0049 - acc: 1.000 - 21s 10ms/step - loss: 0.0049 - acc: 1.0000 - val_loss: 0.0561 - val_acc: 0.9942\n",
      "\n",
      "Epoch 00099: val_loss did not improve from 0.05023\n",
      "Epoch 100/100\n",
      "2076/2076 [==============================] - ETA: 20s - loss: 0.0062 - acc: 1.00 - ETA: 18s - loss: 0.0064 - acc: 1.00 - ETA: 17s - loss: 0.0103 - acc: 1.00 - ETA: 17s - loss: 0.0097 - acc: 1.00 - ETA: 16s - loss: 0.0083 - acc: 1.00 - ETA: 15s - loss: 0.0076 - acc: 1.00 - ETA: 15s - loss: 0.0070 - acc: 1.00 - ETA: 14s - loss: 0.0074 - acc: 1.00 - ETA: 14s - loss: 0.0071 - acc: 1.00 - ETA: 13s - loss: 0.0066 - acc: 1.00 - ETA: 12s - loss: 0.0063 - acc: 1.00 - ETA: 12s - loss: 0.0060 - acc: 1.00 - ETA: 11s - loss: 0.0058 - acc: 1.00 - ETA: 11s - loss: 0.0057 - acc: 1.00 - ETA: 10s - loss: 0.0054 - acc: 1.00 - ETA: 9s - loss: 0.0055 - acc: 1.0000 - ETA: 9s - loss: 0.0054 - acc: 1.000 - ETA: 8s - loss: 0.0053 - acc: 1.000 - ETA: 7s - loss: 0.0052 - acc: 1.000 - ETA: 7s - loss: 0.0051 - acc: 1.000 - ETA: 6s - loss: 0.0051 - acc: 1.000 - ETA: 6s - loss: 0.0053 - acc: 1.000 - ETA: 5s - loss: 0.0052 - acc: 1.000 - ETA: 5s - loss: 0.0052 - acc: 1.000 - ETA: 4s - loss: 0.0050 - acc: 1.000 - ETA: 3s - loss: 0.0049 - acc: 1.000 - ETA: 3s - loss: 0.0049 - acc: 1.000 - ETA: 2s - loss: 0.0049 - acc: 1.000 - ETA: 2s - loss: 0.0049 - acc: 1.000 - ETA: 1s - loss: 0.0049 - acc: 1.000 - ETA: 0s - loss: 0.0049 - acc: 1.000 - ETA: 0s - loss: 0.0049 - acc: 1.000 - 21s 10ms/step - loss: 0.0049 - acc: 1.0000 - val_loss: 0.0570 - val_acc: 0.9942\n",
      "\n",
      "Epoch 00100: val_loss did not improve from 0.05023\n"
     ]
    }
   ],
   "source": [
    "# training the model\n",
    "history = model.fit(X_train, y_train, epochs=100, validation_data=(X_test, y_test), callbacks=[mcp_save], batch_size=64, verbose=1)"
   ]
  },
  {
   "cell_type": "code",
   "execution_count": 36,
   "metadata": {},
   "outputs": [
    {
     "name": "stdout",
     "output_type": "stream",
     "text": [
      "dict_keys(['val_loss', 'val_acc', 'loss', 'acc'])\n"
     ]
    },
    {
     "data": {
      "image/png": "[encoded data removed]",
      "text/plain": [
       "<Figure size 432x288 with 1 Axes>"
      ]
     },
     "metadata": {
      "needs_background": "light"
     },
     "output_type": "display_data"
    },
    {
     "data": {
      "image/png": "[encoded data removed]",
      "text/plain": [
       "<Figure size 432x288 with 1 Axes>"
      ]
     },
     "metadata": {
      "needs_background": "light"
     },
     "output_type": "display_data"
    }
   ],
   "source": [
    "import matplotlib.pyplot as plt\n",
    "\n",
    "# list all data in history\n",
    "print(history.history.keys())\n",
    "# summarize history for accuracy\n",
    "plt.plot(history.history['acc'])\n",
    "plt.plot(history.history['val_acc'])\n",
    "plt.title('model accuracy')\n",
    "plt.ylabel('acc')\n",
    "plt.xlabel('epoch')\n",
    "plt.legend(['train', 'test'], loc='upper left')\n",
    "plt.show()\n",
    "# summarize history for loss\n",
    "plt.plot(history.history['loss'])\n",
    "plt.plot(history.history['val_loss'])\n",
    "plt.title('model loss')\n",
    "plt.ylabel('loss')\n",
    "plt.xlabel('epoch')\n",
    "plt.legend(['train', 'test'], loc='upper left')\n",
    "plt.show()"
   ]
  },
  {
   "cell_type": "code",
   "execution_count": null,
   "metadata": {},
   "outputs": [],
   "source": []
  }
 ],
 "metadata": {
  "kernelspec": {
   "display_name": "Python 3",
   "language": "python",
   "name": "python3"
  },
  "language_info": {
   "codemirror_mode": {
    "name": "ipython",
    "version": 3
   },
   "file_extension": ".py",
   "mimetype": "text/x-python",
   "name": "python",
   "nbconvert_exporter": "python",
   "pygments_lexer": "ipython3",
   "version": "3.6.9"
  }
 },
 "nbformat": 4,
 "nbformat_minor": 2
}
