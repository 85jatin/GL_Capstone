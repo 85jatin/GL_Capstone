{
 "cells": [
  {
   "cell_type": "code",
   "execution_count": 1,
   "metadata": {},
   "outputs": [
    {
     "name": "stderr",
     "output_type": "stream",
     "text": [
      "Using TensorFlow backend.\n"
     ]
    }
   ],
   "source": [
    "from keras.models import Sequential\n",
    "from keras.layers import Dense, Dropout, Flatten\n",
    "from keras.layers import Conv2D, MaxPooling2D\n",
    "from keras.preprocessing import image\n",
    "import numpy as np\n",
    "import pandas as pd\n",
    "from tqdm import tqdm\n",
    "from keras.applications.vgg16 import VGG16\n",
    "from keras.applications.inception_v3 import InceptionV3\n",
    "import cv2\n",
    "import math\n",
    "import os\n",
    "from glob import glob\n",
    "from scipy import stats as s\n",
    "\n",
    "from keras import backend as K\n",
    "from keras.layers.core import Dense, Activation\n",
    "from keras.optimizers import Adam\n",
    "from keras.metrics import categorical_crossentropy\n",
    "from keras.preprocessing.image import ImageDataGenerator\n",
    "from keras.models import Model\n",
    "from keras.applications import imagenet_utils\n",
    "from keras.applications import MobileNet\n",
    "from keras.applications.mobilenet import preprocess_input\n",
    "from tensorflow.python.keras.applications.inception_resnet_v2 import InceptionResNetV2, preprocess_input\n",
    "from IPython.display import Image\n",
    "from keras.optimizers import Adam"
   ]
  },
  {
   "cell_type": "code",
   "execution_count": 2,
   "metadata": {
    "scrolled": true
   },
   "outputs": [
    {
     "name": "stdout",
     "output_type": "stream",
     "text": [
      "WARNING:tensorflow:From C:\\Users\\Jatin_Thakkar\\AppData\\Local\\Continuum\\anaconda3\\envs\\tensorflow_env\\lib\\site-packages\\tensorflow\\python\\ops\\init_ops.py:1251: calling VarianceScaling.__init__ (from tensorflow.python.ops.init_ops) with dtype is deprecated and will be removed in a future version.\n",
      "Instructions for updating:\n",
      "Call initializer instance with the dtype argument instead of passing it to the constructor\n"
     ]
    }
   ],
   "source": [
    "#imports the mobilenet model and discards the last 1000 neuron layer.\n",
    "base_model = InceptionResNetV2(weights='imagenet',include_top=False) "
   ]
  },
  {
   "cell_type": "code",
   "execution_count": 3,
   "metadata": {},
   "outputs": [
    {
     "name": "stdout",
     "output_type": "stream",
     "text": [
      "WARNING:tensorflow:From C:\\Users\\Jatin_Thakkar\\AppData\\Local\\Continuum\\anaconda3\\envs\\tensorflow_env\\lib\\site-packages\\keras\\backend\\tensorflow_backend.py:74: The name tf.get_default_graph is deprecated. Please use tf.compat.v1.get_default_graph instead.\n",
      "\n",
      "WARNING:tensorflow:From C:\\Users\\Jatin_Thakkar\\AppData\\Local\\Continuum\\anaconda3\\envs\\tensorflow_env\\lib\\site-packages\\keras\\backend\\tensorflow_backend.py:517: The name tf.placeholder is deprecated. Please use tf.compat.v1.placeholder instead.\n",
      "\n",
      "WARNING:tensorflow:From C:\\Users\\Jatin_Thakkar\\AppData\\Local\\Continuum\\anaconda3\\envs\\tensorflow_env\\lib\\site-packages\\keras\\backend\\tensorflow_backend.py:4138: The name tf.random_uniform is deprecated. Please use tf.random.uniform instead.\n",
      "\n",
      "WARNING:tensorflow:From C:\\Users\\Jatin_Thakkar\\AppData\\Local\\Continuum\\anaconda3\\envs\\tensorflow_env\\lib\\site-packages\\keras\\backend\\tensorflow_backend.py:133: The name tf.placeholder_with_default is deprecated. Please use tf.compat.v1.placeholder_with_default instead.\n",
      "\n",
      "WARNING:tensorflow:From C:\\Users\\Jatin_Thakkar\\AppData\\Local\\Continuum\\anaconda3\\envs\\tensorflow_env\\lib\\site-packages\\keras\\backend\\tensorflow_backend.py:3445: calling dropout (from tensorflow.python.ops.nn_ops) with keep_prob is deprecated and will be removed in a future version.\n",
      "Instructions for updating:\n",
      "Please use `rate` instead of `keep_prob`. Rate should be set to `rate = 1 - keep_prob`.\n"
     ]
    }
   ],
   "source": [
    "#defining the model architecture\n",
    "model = Sequential()\n",
    "model.add(Dense(1024, activation='relu', input_shape=(98304,)))\n",
    "model.add(Dropout(0.5))\n",
    "model.add(Dense(512, activation='relu'))\n",
    "model.add(Dropout(0.5))\n",
    "model.add(Dense(256, activation='relu'))\n",
    "model.add(Dropout(0.5))\n",
    "model.add(Dense(128, activation='relu'))\n",
    "model.add(Dropout(0.5))\n",
    "model.add(Dense(2, activation='sigmoid'))"
   ]
  },
  {
   "cell_type": "code",
   "execution_count": 4,
   "metadata": {},
   "outputs": [
    {
     "name": "stdout",
     "output_type": "stream",
     "text": [
      "WARNING:tensorflow:From C:\\Users\\Jatin_Thakkar\\AppData\\Local\\Continuum\\anaconda3\\envs\\tensorflow_env\\lib\\site-packages\\keras\\backend\\tensorflow_backend.py:174: The name tf.get_default_session is deprecated. Please use tf.compat.v1.get_default_session instead.\n",
      "\n"
     ]
    }
   ],
   "source": [
    "# loading the trained weights\n",
    "model.load_weights(\"weight_InceptionResnetV2.hdf5\")"
   ]
  },
  {
   "cell_type": "code",
   "execution_count": 5,
   "metadata": {
    "scrolled": true
   },
   "outputs": [
    {
     "name": "stdout",
     "output_type": "stream",
     "text": [
      "WARNING:tensorflow:From C:\\Users\\Jatin_Thakkar\\AppData\\Local\\Continuum\\anaconda3\\envs\\tensorflow_env\\lib\\site-packages\\keras\\optimizers.py:790: The name tf.train.Optimizer is deprecated. Please use tf.compat.v1.train.Optimizer instead.\n",
      "\n",
      "WARNING:tensorflow:From C:\\Users\\Jatin_Thakkar\\AppData\\Local\\Continuum\\anaconda3\\envs\\tensorflow_env\\lib\\site-packages\\tensorflow\\python\\ops\\nn_impl.py:180: add_dispatch_support.<locals>.wrapper (from tensorflow.python.ops.array_ops) is deprecated and will be removed in a future version.\n",
      "Instructions for updating:\n",
      "Use tf.where in 2.0, which has the same broadcast rule as np.where\n"
     ]
    }
   ],
   "source": [
    "# compiling the model\n",
    "from keras.optimizers import SGD\n",
    "opt = SGD()\n",
    "model.compile(loss='binary_crossentropy',optimizer=opt,metrics=['accuracy'])"
   ]
  },
  {
   "cell_type": "code",
   "execution_count": 6,
   "metadata": {},
   "outputs": [],
   "source": [
    "# creating the tags\n",
    "train = pd.read_csv('train_new.csv')\n",
    "y = train['class']\n",
    "y = pd.get_dummies(y)"
   ]
  },
  {
   "cell_type": "code",
   "execution_count": 7,
   "metadata": {},
   "outputs": [],
   "source": [
    "# predictions for test videos\n",
    "all_videos = pd.read_csv(\"Test_Data.csv\")\n",
    "test_videos = all_videos['video_name']"
   ]
  },
  {
   "cell_type": "code",
   "execution_count": 8,
   "metadata": {},
   "outputs": [],
   "source": [
    "def count_frames_manual(video):\n",
    "\t# initialize the total number of frames read\n",
    "\ttotal = 0\n",
    "\n",
    "\t# loop over the frames of the video\n",
    "\twhile True:\n",
    "\t\t# grab the current frame\n",
    "\t\t(grabbed, frame) = video.read()\n",
    "\t \n",
    "\t\t# check to see if we have reached the end of the\n",
    "\t\t# video\n",
    "\t\tif not grabbed:\n",
    "\t\t\tbreak\n",
    "\n",
    "\t\t# increment the total number of frames read\n",
    "\t\ttotal += 1\n",
    "\n",
    "\t# return the total number of frames in the video file\n",
    "\treturn total"
   ]
  },
  {
   "cell_type": "code",
   "execution_count": 9,
   "metadata": {
    "scrolled": true
   },
   "outputs": [
    {
     "name": "stderr",
     "output_type": "stream",
     "text": [
      "100%|██████████████████████████████████████████████████████████████████████████████████████████████████████████████████████████████████████| 44/44 [12:56<00:00, 17.65s/it]\n"
     ]
    }
   ],
   "source": [
    "predict = []\n",
    "actual = []\n",
    "fgbg = cv2.createBackgroundSubtractorMOG2()\n",
    "\n",
    "# for loop to extract frames from each test video\n",
    "for i in tqdm(range(test_videos.shape[0])):\n",
    "    count = 0\n",
    "    videoFile = test_videos[i]\n",
    "    #print(videoFile)\n",
    "    cap = cv2.VideoCapture(videoFile)   # capturing the video from the given path\n",
    "    frameRate = cap.get(10) #frame rate\n",
    "    x=1\n",
    "    total = count_frames_manual(cap)\n",
    "    start_frame = int(3*total/4)\n",
    "    # removing all other files from the temp folder\n",
    "    files = glob('temp/*')\n",
    "    for f in files:\n",
    "        os.remove(f)\n",
    "    #while(cap.isOpened()):\n",
    "    for i in range(1,total):\n",
    "        cap.set(1,i)\n",
    "    #    frameId = cap.get(1) #current frame number\n",
    "        ret, frame = cap.read()\n",
    "        if (ret != True):\n",
    "            break\n",
    "    #    if (frameId % math.floor(frameRate) == 0):\n",
    "        fgmask = fgbg.apply(frame)\n",
    "        if count >= start_frame:\n",
    "            # storing the frames in a new folder named train_1\n",
    "            filename ='temp/' + \"frame%d.jpg\" % count\n",
    "            cv2.imwrite(filename, fgmask)\n",
    "        else:\n",
    "            pass\n",
    "        count+=1\n",
    "    #cap.release()\n",
    "\n",
    "    # reading all the frames from temp folder\n",
    "    images = glob(\"temp/*.jpg\")\n",
    "\n",
    "    prediction_images = []\n",
    "    for i in range(len(images)):\n",
    "        img = image.load_img(images[i], target_size=(299,299,))\n",
    "        img = image.img_to_array(img)\n",
    "        img = img/255\n",
    "        prediction_images.append(img)\n",
    "\n",
    "    # converting all the frames for a test video into numpy array\n",
    "    prediction_images = np.array(prediction_images)\n",
    "    # extracting features using pre-trained model\n",
    "    prediction_images = base_model.predict(prediction_images)\n",
    "    # converting features in one dimensional array\n",
    "    prediction_images = prediction_images.reshape(prediction_images.shape[0], 8*8*1536)\n",
    "    # predicting tags for each array\n",
    "    prediction = model.predict_classes(prediction_images)\n",
    "    # appending the mode of predictions in predict list to assign the tag to the video\n",
    "    predict.append(y.columns.values[s.mode(prediction)[0][0]])\n",
    "    # appending the actual tag of the video\n",
    "    actual.append(videoFile.split('/')[1].split('_')[1])\n",
    "#    print(\"Video, Actual, Predicted: \")\n",
    "#    print(test_videos[i], videoFile.split('/')[1].split('_')[1], y.columns.values[s.mode(prediction)[0][0]])\n",
    "    "
   ]
  },
  {
   "cell_type": "code",
   "execution_count": 10,
   "metadata": {},
   "outputs": [
    {
     "data": {
      "text/plain": [
       "86.36363636363636"
      ]
     },
     "execution_count": 10,
     "metadata": {},
     "output_type": "execute_result"
    }
   ],
   "source": [
    "# checking the accuracy of the predicted tags\n",
    "from sklearn.metrics import accuracy_score\n",
    "accuracy_score(predict, actual)*100"
   ]
  },
  {
   "cell_type": "code",
   "execution_count": 11,
   "metadata": {},
   "outputs": [],
   "source": [
    "from sklearn.metrics import confusion_matrix"
   ]
  },
  {
   "cell_type": "code",
   "execution_count": 12,
   "metadata": {},
   "outputs": [
    {
     "data": {
      "text/plain": [
       "array([[ 8,  5],\n",
       "       [ 1, 30]], dtype=int64)"
      ]
     },
     "execution_count": 12,
     "metadata": {},
     "output_type": "execute_result"
    }
   ],
   "source": [
    "cnf_matrix = confusion_matrix(actual, predict)\n",
    "cnf_matrix"
   ]
  },
  {
   "cell_type": "code",
   "execution_count": 13,
   "metadata": {},
   "outputs": [
    {
     "name": "stdout",
     "output_type": "stream",
     "text": [
      "              precision    recall  f1-score   support\n",
      "\n",
      "     Legside       0.89      0.62      0.73        13\n",
      "     OffSide       0.86      0.97      0.91        31\n",
      "\n",
      "    accuracy                           0.86        44\n",
      "   macro avg       0.87      0.79      0.82        44\n",
      "weighted avg       0.87      0.86      0.86        44\n",
      "\n"
     ]
    }
   ],
   "source": [
    "from sklearn.metrics import classification_report\n",
    "print(classification_report(actual, predict, labels=['Legside', 'OffSide']))"
   ]
  },
  {
   "cell_type": "code",
   "execution_count": 14,
   "metadata": {},
   "outputs": [
    {
     "name": "stderr",
     "output_type": "stream",
     "text": [
      "100%|████████████████████████████████████████████████████████████████████████████████████████████████████████████████████████████████████| 44/44 [00:00<00:00, 6284.89it/s]\n"
     ]
    }
   ],
   "source": [
    "actual_video = []\n",
    "\n",
    "# for loop to extract frames from each test video\n",
    "for i in tqdm(range(test_videos.shape[0])):\n",
    "    videoFile = test_videos[i]\n",
    "    actual_video.append(videoFile)"
   ]
  },
  {
   "cell_type": "code",
   "execution_count": 15,
   "metadata": {},
   "outputs": [
    {
     "name": "stdout",
     "output_type": "stream",
     "text": [
      "<class 'pandas.core.frame.DataFrame'>\n",
      "RangeIndex: 44 entries, 0 to 43\n",
      "Data columns (total 3 columns):\n",
      "predict    44 non-null object\n",
      "actual     44 non-null object\n",
      "video      44 non-null object\n",
      "dtypes: object(3)\n",
      "memory usage: 1.2+ KB\n"
     ]
    }
   ],
   "source": [
    "test_results = pd.DataFrame({'predict':predict, 'actual':actual, 'video':actual_video})\n",
    "test_results.info()"
   ]
  },
  {
   "cell_type": "code",
   "execution_count": 16,
   "metadata": {},
   "outputs": [],
   "source": [
    "test_results['Flag'] = (test_results['predict']==test_results['actual']).astype(int)"
   ]
  },
  {
   "cell_type": "code",
   "execution_count": 17,
   "metadata": {
    "scrolled": true
   },
   "outputs": [
    {
     "data": {
      "text/html": [
       "<div>\n",
       "<style scoped>\n",
       "    .dataframe tbody tr th:only-of-type {\n",
       "        vertical-align: middle;\n",
       "    }\n",
       "\n",
       "    .dataframe tbody tr th {\n",
       "        vertical-align: top;\n",
       "    }\n",
       "\n",
       "    .dataframe thead th {\n",
       "        text-align: right;\n",
       "    }\n",
       "</style>\n",
       "<table border=\"1\" class=\"dataframe\">\n",
       "  <thead>\n",
       "    <tr style=\"text-align: right;\">\n",
       "      <th></th>\n",
       "      <th>predict</th>\n",
       "      <th>actual</th>\n",
       "      <th>video</th>\n",
       "      <th>Flag</th>\n",
       "    </tr>\n",
       "  </thead>\n",
       "  <tbody>\n",
       "    <tr>\n",
       "      <td>0</td>\n",
       "      <td>OffSide</td>\n",
       "      <td>OffSide</td>\n",
       "      <td>A_OffSide/A_OffSide_shot16.mp4</td>\n",
       "      <td>1</td>\n",
       "    </tr>\n",
       "    <tr>\n",
       "      <td>1</td>\n",
       "      <td>OffSide</td>\n",
       "      <td>OffSide</td>\n",
       "      <td>A_OffSide/A_OffSide_shot97.mp4</td>\n",
       "      <td>1</td>\n",
       "    </tr>\n",
       "    <tr>\n",
       "      <td>2</td>\n",
       "      <td>OffSide</td>\n",
       "      <td>OffSide</td>\n",
       "      <td>A_OffSide/A_OffSide_shot165.mp4</td>\n",
       "      <td>1</td>\n",
       "    </tr>\n",
       "    <tr>\n",
       "      <td>3</td>\n",
       "      <td>OffSide</td>\n",
       "      <td>OffSide</td>\n",
       "      <td>A_OffSide/A_OffSide_shot66.mp4</td>\n",
       "      <td>1</td>\n",
       "    </tr>\n",
       "    <tr>\n",
       "      <td>4</td>\n",
       "      <td>OffSide</td>\n",
       "      <td>OffSide</td>\n",
       "      <td>A_OffSide/A_OffSide_shot152.mp4</td>\n",
       "      <td>1</td>\n",
       "    </tr>\n",
       "    <tr>\n",
       "      <td>5</td>\n",
       "      <td>OffSide</td>\n",
       "      <td>OffSide</td>\n",
       "      <td>A_OffSide/A_OffSide_shot12.mp4</td>\n",
       "      <td>1</td>\n",
       "    </tr>\n",
       "    <tr>\n",
       "      <td>6</td>\n",
       "      <td>OffSide</td>\n",
       "      <td>OffSide</td>\n",
       "      <td>A_OffSide/A_OffSide_shot20.mp4</td>\n",
       "      <td>1</td>\n",
       "    </tr>\n",
       "    <tr>\n",
       "      <td>7</td>\n",
       "      <td>OffSide</td>\n",
       "      <td>OffSide</td>\n",
       "      <td>A_OffSide/A_OffSide_shot62.mp4</td>\n",
       "      <td>1</td>\n",
       "    </tr>\n",
       "    <tr>\n",
       "      <td>8</td>\n",
       "      <td>OffSide</td>\n",
       "      <td>OffSide</td>\n",
       "      <td>A_OffSide/A_OffSide_shot82.mp4</td>\n",
       "      <td>1</td>\n",
       "    </tr>\n",
       "    <tr>\n",
       "      <td>9</td>\n",
       "      <td>OffSide</td>\n",
       "      <td>OffSide</td>\n",
       "      <td>A_OffSide/A_OffSide_shot158.mp4</td>\n",
       "      <td>1</td>\n",
       "    </tr>\n",
       "    <tr>\n",
       "      <td>10</td>\n",
       "      <td>OffSide</td>\n",
       "      <td>OffSide</td>\n",
       "      <td>A_OffSide/A_OffSide_shot142.mp4</td>\n",
       "      <td>1</td>\n",
       "    </tr>\n",
       "    <tr>\n",
       "      <td>11</td>\n",
       "      <td>OffSide</td>\n",
       "      <td>OffSide</td>\n",
       "      <td>A_OffSide/A_OffSide_shot7.mp4</td>\n",
       "      <td>1</td>\n",
       "    </tr>\n",
       "    <tr>\n",
       "      <td>12</td>\n",
       "      <td>Legside</td>\n",
       "      <td>Legside</td>\n",
       "      <td>B_Legside/B_Legside_shot133.mp4</td>\n",
       "      <td>1</td>\n",
       "    </tr>\n",
       "    <tr>\n",
       "      <td>13</td>\n",
       "      <td>OffSide</td>\n",
       "      <td>OffSide</td>\n",
       "      <td>A_OffSide/A_OffSide_shot10.mp4</td>\n",
       "      <td>1</td>\n",
       "    </tr>\n",
       "    <tr>\n",
       "      <td>14</td>\n",
       "      <td>OffSide</td>\n",
       "      <td>OffSide</td>\n",
       "      <td>A_OffSide/A_OffSide_shot87.mp4</td>\n",
       "      <td>1</td>\n",
       "    </tr>\n",
       "    <tr>\n",
       "      <td>15</td>\n",
       "      <td>Legside</td>\n",
       "      <td>Legside</td>\n",
       "      <td>B_Legside/B_Legside_shot161.mp4</td>\n",
       "      <td>1</td>\n",
       "    </tr>\n",
       "    <tr>\n",
       "      <td>16</td>\n",
       "      <td>Legside</td>\n",
       "      <td>Legside</td>\n",
       "      <td>B_Legside/B_Legside_shot45.mp4</td>\n",
       "      <td>1</td>\n",
       "    </tr>\n",
       "    <tr>\n",
       "      <td>17</td>\n",
       "      <td>OffSide</td>\n",
       "      <td>OffSide</td>\n",
       "      <td>A_OffSide/A_OffSide_shot19.mp4</td>\n",
       "      <td>1</td>\n",
       "    </tr>\n",
       "    <tr>\n",
       "      <td>18</td>\n",
       "      <td>OffSide</td>\n",
       "      <td>OffSide</td>\n",
       "      <td>A_OffSide/A_OffSide_shot88.mp4</td>\n",
       "      <td>1</td>\n",
       "    </tr>\n",
       "    <tr>\n",
       "      <td>19</td>\n",
       "      <td>OffSide</td>\n",
       "      <td>OffSide</td>\n",
       "      <td>A_OffSide/A_OffSide_shot85.mp4</td>\n",
       "      <td>1</td>\n",
       "    </tr>\n",
       "    <tr>\n",
       "      <td>20</td>\n",
       "      <td>OffSide</td>\n",
       "      <td>OffSide</td>\n",
       "      <td>A_OffSide/A_OffSide_shot86.mp4</td>\n",
       "      <td>1</td>\n",
       "    </tr>\n",
       "    <tr>\n",
       "      <td>21</td>\n",
       "      <td>OffSide</td>\n",
       "      <td>OffSide</td>\n",
       "      <td>A_OffSide/A_OffSide_shot22.mp4</td>\n",
       "      <td>1</td>\n",
       "    </tr>\n",
       "    <tr>\n",
       "      <td>22</td>\n",
       "      <td>Legside</td>\n",
       "      <td>Legside</td>\n",
       "      <td>B_Legside/B_Legside_shot170.mp4</td>\n",
       "      <td>1</td>\n",
       "    </tr>\n",
       "    <tr>\n",
       "      <td>23</td>\n",
       "      <td>OffSide</td>\n",
       "      <td>OffSide</td>\n",
       "      <td>A_OffSide/A_OffSide_shot15.mp4</td>\n",
       "      <td>1</td>\n",
       "    </tr>\n",
       "    <tr>\n",
       "      <td>24</td>\n",
       "      <td>OffSide</td>\n",
       "      <td>OffSide</td>\n",
       "      <td>A_OffSide/A_OffSide_shot51.mp4</td>\n",
       "      <td>1</td>\n",
       "    </tr>\n",
       "    <tr>\n",
       "      <td>25</td>\n",
       "      <td>OffSide</td>\n",
       "      <td>Legside</td>\n",
       "      <td>B_Legside/B_Legside_shot47.mp4</td>\n",
       "      <td>0</td>\n",
       "    </tr>\n",
       "    <tr>\n",
       "      <td>26</td>\n",
       "      <td>OffSide</td>\n",
       "      <td>Legside</td>\n",
       "      <td>B_Legside/B_Legside_shot131.mp4</td>\n",
       "      <td>0</td>\n",
       "    </tr>\n",
       "    <tr>\n",
       "      <td>27</td>\n",
       "      <td>OffSide</td>\n",
       "      <td>OffSide</td>\n",
       "      <td>A_OffSide/A_OffSide_shot126.mp4</td>\n",
       "      <td>1</td>\n",
       "    </tr>\n",
       "    <tr>\n",
       "      <td>28</td>\n",
       "      <td>OffSide</td>\n",
       "      <td>OffSide</td>\n",
       "      <td>A_OffSide/A_OffSide_shot89.mp4</td>\n",
       "      <td>1</td>\n",
       "    </tr>\n",
       "    <tr>\n",
       "      <td>29</td>\n",
       "      <td>OffSide</td>\n",
       "      <td>Legside</td>\n",
       "      <td>B_Legside/B_Legside_shot36.mp4</td>\n",
       "      <td>0</td>\n",
       "    </tr>\n",
       "    <tr>\n",
       "      <td>30</td>\n",
       "      <td>Legside</td>\n",
       "      <td>OffSide</td>\n",
       "      <td>A_OffSide/A_OffSide_shot157.mp4</td>\n",
       "      <td>0</td>\n",
       "    </tr>\n",
       "    <tr>\n",
       "      <td>31</td>\n",
       "      <td>OffSide</td>\n",
       "      <td>Legside</td>\n",
       "      <td>B_Legside/B_Legside_shot31.mp4</td>\n",
       "      <td>0</td>\n",
       "    </tr>\n",
       "    <tr>\n",
       "      <td>32</td>\n",
       "      <td>OffSide</td>\n",
       "      <td>OffSide</td>\n",
       "      <td>A_OffSide/A_OffSide_shot90.mp4</td>\n",
       "      <td>1</td>\n",
       "    </tr>\n",
       "    <tr>\n",
       "      <td>33</td>\n",
       "      <td>OffSide</td>\n",
       "      <td>OffSide</td>\n",
       "      <td>A_OffSide/A_OffSide_shot27.mp4</td>\n",
       "      <td>1</td>\n",
       "    </tr>\n",
       "    <tr>\n",
       "      <td>34</td>\n",
       "      <td>OffSide</td>\n",
       "      <td>OffSide</td>\n",
       "      <td>A_OffSide/A_OffSide_shot145.mp4</td>\n",
       "      <td>1</td>\n",
       "    </tr>\n",
       "    <tr>\n",
       "      <td>35</td>\n",
       "      <td>Legside</td>\n",
       "      <td>Legside</td>\n",
       "      <td>B_Legside/B_Legside_shot147.mp4</td>\n",
       "      <td>1</td>\n",
       "    </tr>\n",
       "    <tr>\n",
       "      <td>36</td>\n",
       "      <td>OffSide</td>\n",
       "      <td>OffSide</td>\n",
       "      <td>A_OffSide/A_OffSide_shot110.mp4</td>\n",
       "      <td>1</td>\n",
       "    </tr>\n",
       "    <tr>\n",
       "      <td>37</td>\n",
       "      <td>Legside</td>\n",
       "      <td>Legside</td>\n",
       "      <td>B_Legside/B_Legside_shot146.mp4</td>\n",
       "      <td>1</td>\n",
       "    </tr>\n",
       "    <tr>\n",
       "      <td>38</td>\n",
       "      <td>OffSide</td>\n",
       "      <td>Legside</td>\n",
       "      <td>B_Legside/B_Legside_shot95.mp4</td>\n",
       "      <td>0</td>\n",
       "    </tr>\n",
       "    <tr>\n",
       "      <td>39</td>\n",
       "      <td>OffSide</td>\n",
       "      <td>OffSide</td>\n",
       "      <td>A_OffSide/A_OffSide_shot94.mp4</td>\n",
       "      <td>1</td>\n",
       "    </tr>\n",
       "    <tr>\n",
       "      <td>40</td>\n",
       "      <td>OffSide</td>\n",
       "      <td>OffSide</td>\n",
       "      <td>A_OffSide/A_OffSide_shot72.mp4</td>\n",
       "      <td>1</td>\n",
       "    </tr>\n",
       "    <tr>\n",
       "      <td>41</td>\n",
       "      <td>Legside</td>\n",
       "      <td>Legside</td>\n",
       "      <td>B_Legside/B_Legside_shot127.mp4</td>\n",
       "      <td>1</td>\n",
       "    </tr>\n",
       "    <tr>\n",
       "      <td>42</td>\n",
       "      <td>Legside</td>\n",
       "      <td>Legside</td>\n",
       "      <td>B_Legside/B_Legside_shot49.mp4</td>\n",
       "      <td>1</td>\n",
       "    </tr>\n",
       "    <tr>\n",
       "      <td>43</td>\n",
       "      <td>OffSide</td>\n",
       "      <td>OffSide</td>\n",
       "      <td>A_OffSide/A_OffSide_shot57.mp4</td>\n",
       "      <td>1</td>\n",
       "    </tr>\n",
       "  </tbody>\n",
       "</table>\n",
       "</div>"
      ],
      "text/plain": [
       "    predict   actual                            video  Flag\n",
       "0   OffSide  OffSide   A_OffSide/A_OffSide_shot16.mp4     1\n",
       "1   OffSide  OffSide   A_OffSide/A_OffSide_shot97.mp4     1\n",
       "2   OffSide  OffSide  A_OffSide/A_OffSide_shot165.mp4     1\n",
       "3   OffSide  OffSide   A_OffSide/A_OffSide_shot66.mp4     1\n",
       "4   OffSide  OffSide  A_OffSide/A_OffSide_shot152.mp4     1\n",
       "5   OffSide  OffSide   A_OffSide/A_OffSide_shot12.mp4     1\n",
       "6   OffSide  OffSide   A_OffSide/A_OffSide_shot20.mp4     1\n",
       "7   OffSide  OffSide   A_OffSide/A_OffSide_shot62.mp4     1\n",
       "8   OffSide  OffSide   A_OffSide/A_OffSide_shot82.mp4     1\n",
       "9   OffSide  OffSide  A_OffSide/A_OffSide_shot158.mp4     1\n",
       "10  OffSide  OffSide  A_OffSide/A_OffSide_shot142.mp4     1\n",
       "11  OffSide  OffSide    A_OffSide/A_OffSide_shot7.mp4     1\n",
       "12  Legside  Legside  B_Legside/B_Legside_shot133.mp4     1\n",
       "13  OffSide  OffSide   A_OffSide/A_OffSide_shot10.mp4     1\n",
       "14  OffSide  OffSide   A_OffSide/A_OffSide_shot87.mp4     1\n",
       "15  Legside  Legside  B_Legside/B_Legside_shot161.mp4     1\n",
       "16  Legside  Legside   B_Legside/B_Legside_shot45.mp4     1\n",
       "17  OffSide  OffSide   A_OffSide/A_OffSide_shot19.mp4     1\n",
       "18  OffSide  OffSide   A_OffSide/A_OffSide_shot88.mp4     1\n",
       "19  OffSide  OffSide   A_OffSide/A_OffSide_shot85.mp4     1\n",
       "20  OffSide  OffSide   A_OffSide/A_OffSide_shot86.mp4     1\n",
       "21  OffSide  OffSide   A_OffSide/A_OffSide_shot22.mp4     1\n",
       "22  Legside  Legside  B_Legside/B_Legside_shot170.mp4     1\n",
       "23  OffSide  OffSide   A_OffSide/A_OffSide_shot15.mp4     1\n",
       "24  OffSide  OffSide   A_OffSide/A_OffSide_shot51.mp4     1\n",
       "25  OffSide  Legside   B_Legside/B_Legside_shot47.mp4     0\n",
       "26  OffSide  Legside  B_Legside/B_Legside_shot131.mp4     0\n",
       "27  OffSide  OffSide  A_OffSide/A_OffSide_shot126.mp4     1\n",
       "28  OffSide  OffSide   A_OffSide/A_OffSide_shot89.mp4     1\n",
       "29  OffSide  Legside   B_Legside/B_Legside_shot36.mp4     0\n",
       "30  Legside  OffSide  A_OffSide/A_OffSide_shot157.mp4     0\n",
       "31  OffSide  Legside   B_Legside/B_Legside_shot31.mp4     0\n",
       "32  OffSide  OffSide   A_OffSide/A_OffSide_shot90.mp4     1\n",
       "33  OffSide  OffSide   A_OffSide/A_OffSide_shot27.mp4     1\n",
       "34  OffSide  OffSide  A_OffSide/A_OffSide_shot145.mp4     1\n",
       "35  Legside  Legside  B_Legside/B_Legside_shot147.mp4     1\n",
       "36  OffSide  OffSide  A_OffSide/A_OffSide_shot110.mp4     1\n",
       "37  Legside  Legside  B_Legside/B_Legside_shot146.mp4     1\n",
       "38  OffSide  Legside   B_Legside/B_Legside_shot95.mp4     0\n",
       "39  OffSide  OffSide   A_OffSide/A_OffSide_shot94.mp4     1\n",
       "40  OffSide  OffSide   A_OffSide/A_OffSide_shot72.mp4     1\n",
       "41  Legside  Legside  B_Legside/B_Legside_shot127.mp4     1\n",
       "42  Legside  Legside   B_Legside/B_Legside_shot49.mp4     1\n",
       "43  OffSide  OffSide   A_OffSide/A_OffSide_shot57.mp4     1"
      ]
     },
     "execution_count": 17,
     "metadata": {},
     "output_type": "execute_result"
    }
   ],
   "source": [
    "test_results"
   ]
  },
  {
   "cell_type": "code",
   "execution_count": null,
   "metadata": {},
   "outputs": [],
   "source": []
  }
 ],
 "metadata": {
  "kernelspec": {
   "display_name": "Python 3",
   "language": "python",
   "name": "python3"
  },
  "language_info": {
   "codemirror_mode": {
    "name": "ipython",
    "version": 3
   },
   "file_extension": ".py",
   "mimetype": "text/x-python",
   "name": "python",
   "nbconvert_exporter": "python",
   "pygments_lexer": "ipython3",
   "version": "3.6.9"
  }
 },
 "nbformat": 4,
 "nbformat_minor": 2
}
