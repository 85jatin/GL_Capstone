{
 "cells": [
  {
   "cell_type": "markdown",
   "metadata": {},
   "source": [
    "Video Classification Model : https://towardsdatascience.com/transfer-learning-using-mobilenet-and-keras-c75daf7ff299"
   ]
  },
  {
   "cell_type": "markdown",
   "metadata": {},
   "source": [
    "## STEP 1:  import the required libraries"
   ]
  },
  {
   "cell_type": "code",
   "execution_count": 1,
   "metadata": {},
   "outputs": [
    {
     "name": "stderr",
     "output_type": "stream",
     "text": [
      "Using TensorFlow backend.\n"
     ]
    }
   ],
   "source": [
    "import keras\n",
    "from keras.models import Sequential\n",
    "from keras.layers import Dense, InputLayer, Dropout, Flatten\n",
    "from keras.layers import Conv2D, MaxPooling2D, GlobalMaxPooling2D\n",
    "from keras.preprocessing import image\n",
    "import numpy as np\n",
    "import pandas as pd\n",
    "import matplotlib.pyplot as plt\n",
    "from tqdm import tqdm\n",
    "from sklearn.model_selection import train_test_split\n",
    "import cv2\n",
    "from glob import glob\n",
    "import os\n",
    "\n",
    "from keras import backend as K\n",
    "from keras.layers.core import Dense, Activation\n",
    "from keras.optimizers import Adam\n",
    "from keras.metrics import categorical_crossentropy\n",
    "from keras.preprocessing.image import ImageDataGenerator\n",
    "from keras.models import Model\n",
    "from keras.applications import imagenet_utils\n",
    "from keras.applications import MobileNet\n",
    "from keras.applications.mobilenet import preprocess_input\n",
    "from IPython.display import Image\n",
    "from keras.optimizers import Adam"
   ]
  },
  {
   "cell_type": "markdown",
   "metadata": {},
   "source": [
    "## STEP 2: Read each frame and their corresponding tag"
   ]
  },
  {
   "cell_type": "code",
   "execution_count": 2,
   "metadata": {},
   "outputs": [
    {
     "data": {
      "text/html": [
       "<div>\n",
       "<style scoped>\n",
       "    .dataframe tbody tr th:only-of-type {\n",
       "        vertical-align: middle;\n",
       "    }\n",
       "\n",
       "    .dataframe tbody tr th {\n",
       "        vertical-align: top;\n",
       "    }\n",
       "\n",
       "    .dataframe thead th {\n",
       "        text-align: right;\n",
       "    }\n",
       "</style>\n",
       "<table border=\"1\" class=\"dataframe\">\n",
       "  <thead>\n",
       "    <tr style=\"text-align: right;\">\n",
       "      <th></th>\n",
       "      <th>image</th>\n",
       "      <th>class</th>\n",
       "    </tr>\n",
       "  </thead>\n",
       "  <tbody>\n",
       "    <tr>\n",
       "      <td>0</td>\n",
       "      <td>A_OffSide_shot1.mp4_frame0.jpg</td>\n",
       "      <td>OffSide</td>\n",
       "    </tr>\n",
       "    <tr>\n",
       "      <td>1</td>\n",
       "      <td>A_OffSide_shot1.mp4_frame1.jpg</td>\n",
       "      <td>OffSide</td>\n",
       "    </tr>\n",
       "    <tr>\n",
       "      <td>2</td>\n",
       "      <td>A_OffSide_shot1.mp4_frame10.jpg</td>\n",
       "      <td>OffSide</td>\n",
       "    </tr>\n",
       "    <tr>\n",
       "      <td>3</td>\n",
       "      <td>A_OffSide_shot1.mp4_frame11.jpg</td>\n",
       "      <td>OffSide</td>\n",
       "    </tr>\n",
       "    <tr>\n",
       "      <td>4</td>\n",
       "      <td>A_OffSide_shot1.mp4_frame12.jpg</td>\n",
       "      <td>OffSide</td>\n",
       "    </tr>\n",
       "  </tbody>\n",
       "</table>\n",
       "</div>"
      ],
      "text/plain": [
       "                             image    class\n",
       "0   A_OffSide_shot1.mp4_frame0.jpg  OffSide\n",
       "1   A_OffSide_shot1.mp4_frame1.jpg  OffSide\n",
       "2  A_OffSide_shot1.mp4_frame10.jpg  OffSide\n",
       "3  A_OffSide_shot1.mp4_frame11.jpg  OffSide\n",
       "4  A_OffSide_shot1.mp4_frame12.jpg  OffSide"
      ]
     },
     "execution_count": 2,
     "metadata": {},
     "output_type": "execute_result"
    }
   ],
   "source": [
    "train = pd.read_csv('train_new.csv')\n",
    "train.head()"
   ]
  },
  {
   "cell_type": "markdown",
   "metadata": {},
   "source": [
    "## STEP 3: Read the frames and then store them as a NumPy array"
   ]
  },
  {
   "cell_type": "code",
   "execution_count": 3,
   "metadata": {},
   "outputs": [
    {
     "name": "stderr",
     "output_type": "stream",
     "text": [
      "100%|█████████████████████████████████████████████████████████████████████████████████████████████████████████████████████████████████| 2809/2809 [00:19<00:00, 144.70it/s]\n"
     ]
    },
    {
     "data": {
      "text/plain": [
       "(2809, 224, 224, 3)"
      ]
     },
     "execution_count": 3,
     "metadata": {},
     "output_type": "execute_result"
    }
   ],
   "source": [
    "# creating an empty list\n",
    "train_image = []\n",
    "\n",
    "# for loop to read and store frames\n",
    "for i in tqdm(range(train.shape[0])):\n",
    "    # loading the image and keeping the target size as (224,224,3)\n",
    "    img = image.load_img('train_1/'+train['image'][i], target_size=(224,224,3))\n",
    "    # converting it to array\n",
    "    img = image.img_to_array(img)\n",
    "    # normalizing the pixel value\n",
    "    img = img/255\n",
    "    # appending the image to the train_image list\n",
    "    train_image.append(img)\n",
    "    \n",
    "# converting the list to numpy array\n",
    "X = np.array(train_image)\n",
    "\n",
    "# shape of the array\n",
    "X.shape"
   ]
  },
  {
   "cell_type": "markdown",
   "metadata": {},
   "source": [
    "## STEP 4: Create the validation set"
   ]
  },
  {
   "cell_type": "code",
   "execution_count": 4,
   "metadata": {},
   "outputs": [],
   "source": [
    "# separating the target\n",
    "y = train['class']"
   ]
  },
  {
   "cell_type": "code",
   "execution_count": 5,
   "metadata": {},
   "outputs": [],
   "source": [
    "# creating the training and validation set\n",
    "X_train, X_test, y_train, y_test = train_test_split(X, y, random_state=42, test_size=0.2, stratify = y)"
   ]
  },
  {
   "cell_type": "markdown",
   "metadata": {},
   "source": [
    "## STEP 5: Create 4 different columns in the target, one for each category"
   ]
  },
  {
   "cell_type": "code",
   "execution_count": 6,
   "metadata": {},
   "outputs": [],
   "source": [
    "# creating dummies of target variable for train and validation set\n",
    "y_train = pd.get_dummies(y_train)\n",
    "y_test = pd.get_dummies(y_test)"
   ]
  },
  {
   "cell_type": "code",
   "execution_count": 7,
   "metadata": {},
   "outputs": [
    {
     "data": {
      "text/plain": [
       "OffSide     1689\n",
       "Legside      665\n",
       "Straight     455\n",
       "Name: class, dtype: int64"
      ]
     },
     "execution_count": 7,
     "metadata": {},
     "output_type": "execute_result"
    }
   ],
   "source": [
    "train['class'].value_counts()"
   ]
  },
  {
   "cell_type": "markdown",
   "metadata": {},
   "source": [
    "## STEP 6: Use the MobileNet pre-trained model to create the base model"
   ]
  },
  {
   "cell_type": "markdown",
   "metadata": {},
   "source": [
    "Lets now re-use MobileNet as it is quite lightweight (17Mb), freeze the base layers and lets add and train the top few layers (https://machinethink.net/blog/compressing-deep-neural-nets/)"
   ]
  },
  {
   "cell_type": "code",
   "execution_count": 8,
   "metadata": {
    "scrolled": true
   },
   "outputs": [
    {
     "name": "stderr",
     "output_type": "stream",
     "text": [
      "C:\\Users\\Jatin_Thakkar\\AppData\\Local\\Continuum\\anaconda3\\envs\\tensorflow_env\\lib\\site-packages\\keras_applications\\mobilenet.py:207: UserWarning: `input_shape` is undefined or non-square, or `rows` is not in [128, 160, 192, 224]. Weights for input shape (224, 224) will be loaded as the default.\n",
      "  warnings.warn('`input_shape` is undefined or non-square, '\n"
     ]
    },
    {
     "name": "stdout",
     "output_type": "stream",
     "text": [
      "WARNING:tensorflow:From C:\\Users\\Jatin_Thakkar\\AppData\\Local\\Continuum\\anaconda3\\envs\\tensorflow_env\\lib\\site-packages\\keras\\backend\\tensorflow_backend.py:74: The name tf.get_default_graph is deprecated. Please use tf.compat.v1.get_default_graph instead.\n",
      "\n",
      "WARNING:tensorflow:From C:\\Users\\Jatin_Thakkar\\AppData\\Local\\Continuum\\anaconda3\\envs\\tensorflow_env\\lib\\site-packages\\keras\\backend\\tensorflow_backend.py:517: The name tf.placeholder is deprecated. Please use tf.compat.v1.placeholder instead.\n",
      "\n",
      "WARNING:tensorflow:From C:\\Users\\Jatin_Thakkar\\AppData\\Local\\Continuum\\anaconda3\\envs\\tensorflow_env\\lib\\site-packages\\keras\\backend\\tensorflow_backend.py:4138: The name tf.random_uniform is deprecated. Please use tf.random.uniform instead.\n",
      "\n",
      "WARNING:tensorflow:From C:\\Users\\Jatin_Thakkar\\AppData\\Local\\Continuum\\anaconda3\\envs\\tensorflow_env\\lib\\site-packages\\keras\\backend\\tensorflow_backend.py:174: The name tf.get_default_session is deprecated. Please use tf.compat.v1.get_default_session instead.\n",
      "\n",
      "WARNING:tensorflow:From C:\\Users\\Jatin_Thakkar\\AppData\\Local\\Continuum\\anaconda3\\envs\\tensorflow_env\\lib\\site-packages\\keras\\backend\\tensorflow_backend.py:181: The name tf.ConfigProto is deprecated. Please use tf.compat.v1.ConfigProto instead.\n",
      "\n",
      "WARNING:tensorflow:From C:\\Users\\Jatin_Thakkar\\AppData\\Local\\Continuum\\anaconda3\\envs\\tensorflow_env\\lib\\site-packages\\keras\\backend\\tensorflow_backend.py:1834: The name tf.nn.fused_batch_norm is deprecated. Please use tf.compat.v1.nn.fused_batch_norm instead.\n",
      "\n"
     ]
    }
   ],
   "source": [
    "#imports the mobilenet model and discards the last 1000 neuron layer.\n",
    "base_model = MobileNet(weights='imagenet',include_top=False) \n"
   ]
  },
  {
   "cell_type": "markdown",
   "metadata": {},
   "source": [
    "## STEP 7: Extract features from this pre-trained model for our training and validation images"
   ]
  },
  {
   "cell_type": "code",
   "execution_count": 9,
   "metadata": {},
   "outputs": [
    {
     "data": {
      "text/plain": [
       "(2247, 7, 7, 1024)"
      ]
     },
     "execution_count": 9,
     "metadata": {},
     "output_type": "execute_result"
    }
   ],
   "source": [
    "# extracting features for training frames\n",
    "X_train = base_model.predict(X_train)\n",
    "X_train.shape"
   ]
  },
  {
   "cell_type": "code",
   "execution_count": 10,
   "metadata": {},
   "outputs": [
    {
     "data": {
      "text/plain": [
       "(562, 7, 7, 1024)"
      ]
     },
     "execution_count": 10,
     "metadata": {},
     "output_type": "execute_result"
    }
   ],
   "source": [
    "# extracting features for validation frames\n",
    "X_test = base_model.predict(X_test)\n",
    "X_test.shape"
   ]
  },
  {
   "cell_type": "markdown",
   "metadata": {},
   "source": [
    "## STEP 8: reshape the images into a single dimension"
   ]
  },
  {
   "cell_type": "code",
   "execution_count": 11,
   "metadata": {},
   "outputs": [],
   "source": [
    "# reshaping the training as well as validation frames in single dimension\n",
    "X_train = X_train.reshape(2247, 7*7*1024)\n",
    "X_test = X_test.reshape(562, 7*7*1024)"
   ]
  },
  {
   "cell_type": "markdown",
   "metadata": {},
   "source": [
    "## STEP 9: Normalize the pixel values (between 0 and 1, helps the model to converge faster)"
   ]
  },
  {
   "cell_type": "code",
   "execution_count": 12,
   "metadata": {},
   "outputs": [],
   "source": [
    "# normalizing the pixel values\n",
    "max = X_train.max()\n",
    "X_train = X_train/max\n",
    "X_test = X_test/max"
   ]
  },
  {
   "cell_type": "markdown",
   "metadata": {},
   "source": [
    "## STEP 10: Create the architecture of the model"
   ]
  },
  {
   "cell_type": "code",
   "execution_count": 13,
   "metadata": {},
   "outputs": [
    {
     "data": {
      "text/plain": [
       "(2247, 50176)"
      ]
     },
     "execution_count": 13,
     "metadata": {},
     "output_type": "execute_result"
    }
   ],
   "source": [
    "# shape of images\n",
    "X_train.shape"
   ]
  },
  {
   "cell_type": "code",
   "execution_count": 14,
   "metadata": {},
   "outputs": [
    {
     "name": "stdout",
     "output_type": "stream",
     "text": [
      "WARNING:tensorflow:From C:\\Users\\Jatin_Thakkar\\AppData\\Local\\Continuum\\anaconda3\\envs\\tensorflow_env\\lib\\site-packages\\keras\\backend\\tensorflow_backend.py:3445: calling dropout (from tensorflow.python.ops.nn_ops) with keep_prob is deprecated and will be removed in a future version.\n",
      "Instructions for updating:\n",
      "Please use `rate` instead of `keep_prob`. Rate should be set to `rate = 1 - keep_prob`.\n"
     ]
    }
   ],
   "source": [
    "#defining the model architecture\n",
    "model = Sequential()\n",
    "model.add(Dense(1024, activation='relu', input_shape=(50176,)))\n",
    "model.add(Dropout(0.5))\n",
    "model.add(Dense(512, activation='relu'))\n",
    "model.add(Dropout(0.5))\n",
    "model.add(Dense(256, activation='relu'))\n",
    "model.add(Dropout(0.5))\n",
    "model.add(Dense(128, activation='relu'))\n",
    "model.add(Dropout(0.5))\n",
    "model.add(Dense(3, activation='softmax'))"
   ]
  },
  {
   "cell_type": "markdown",
   "metadata": {},
   "source": [
    "## STEP 11: Train our model using the training frames and validate using validation frames"
   ]
  },
  {
   "cell_type": "code",
   "execution_count": 15,
   "metadata": {},
   "outputs": [],
   "source": [
    "# defining a function to save the weights of best model\n",
    "from keras.callbacks import ModelCheckpoint\n",
    "mcp_save = ModelCheckpoint('weight_MobileNet.hdf5', save_best_only=True, monitor='val_loss', mode='min', verbose=1)"
   ]
  },
  {
   "cell_type": "markdown",
   "metadata": {},
   "source": [
    "Improving Generalization Performance by Switching from Adam to SGD\n",
    "(https://towardsdatascience.com/normalized-direction-preserving-adam-switching-from-adam-to-sgd-and-nesterov-momentum-adam-with-460be5ddf686)"
   ]
  },
  {
   "cell_type": "code",
   "execution_count": 16,
   "metadata": {},
   "outputs": [
    {
     "name": "stdout",
     "output_type": "stream",
     "text": [
      "WARNING:tensorflow:From C:\\Users\\Jatin_Thakkar\\AppData\\Local\\Continuum\\anaconda3\\envs\\tensorflow_env\\lib\\site-packages\\keras\\optimizers.py:790: The name tf.train.Optimizer is deprecated. Please use tf.compat.v1.train.Optimizer instead.\n",
      "\n"
     ]
    }
   ],
   "source": [
    "# compiling the model\n",
    "from keras.optimizers import SGD\n",
    "opt = SGD()\n",
    "model.compile(loss='categorical_crossentropy',optimizer=opt,metrics=['accuracy'])"
   ]
  },
  {
   "cell_type": "code",
   "execution_count": 17,
   "metadata": {},
   "outputs": [
    {
     "name": "stdout",
     "output_type": "stream",
     "text": [
      "_________________________________________________________________\n",
      "Layer (type)                 Output Shape              Param #   \n",
      "=================================================================\n",
      "dense_1 (Dense)              (None, 1024)              51381248  \n",
      "_________________________________________________________________\n",
      "dropout_1 (Dropout)          (None, 1024)              0         \n",
      "_________________________________________________________________\n",
      "dense_2 (Dense)              (None, 512)               524800    \n",
      "_________________________________________________________________\n",
      "dropout_2 (Dropout)          (None, 512)               0         \n",
      "_________________________________________________________________\n",
      "dense_3 (Dense)              (None, 256)               131328    \n",
      "_________________________________________________________________\n",
      "dropout_3 (Dropout)          (None, 256)               0         \n",
      "_________________________________________________________________\n",
      "dense_4 (Dense)              (None, 128)               32896     \n",
      "_________________________________________________________________\n",
      "dropout_4 (Dropout)          (None, 128)               0         \n",
      "_________________________________________________________________\n",
      "dense_5 (Dense)              (None, 3)                 387       \n",
      "=================================================================\n",
      "Total params: 52,070,659\n",
      "Trainable params: 52,070,659\n",
      "Non-trainable params: 0\n",
      "_________________________________________________________________\n"
     ]
    }
   ],
   "source": [
    "model.summary()"
   ]
  },
  {
   "cell_type": "code",
   "execution_count": 18,
   "metadata": {
    "scrolled": true
   },
   "outputs": [
    {
     "name": "stdout",
     "output_type": "stream",
     "text": [
      "WARNING:tensorflow:From C:\\Users\\Jatin_Thakkar\\AppData\\Local\\Continuum\\anaconda3\\envs\\tensorflow_env\\lib\\site-packages\\tensorflow\\python\\ops\\math_grad.py:1250: add_dispatch_support.<locals>.wrapper (from tensorflow.python.ops.array_ops) is deprecated and will be removed in a future version.\n",
      "Instructions for updating:\n",
      "Use tf.where in 2.0, which has the same broadcast rule as np.where\n",
      "Train on 2247 samples, validate on 562 samples\n",
      "Epoch 1/50\n",
      "2247/2247 [==============================] - ETA: 1:31 - loss: 1.1993 - acc: 0.375 - ETA: 49s - loss: 1.1919 - acc: 0.375 - ETA: 36s - loss: 1.1376 - acc: 0.43 - ETA: 28s - loss: 1.1282 - acc: 0.46 - ETA: 24s - loss: 1.1165 - acc: 0.47 - ETA: 22s - loss: 1.1200 - acc: 0.48 - ETA: 19s - loss: 1.1161 - acc: 0.50 - ETA: 17s - loss: 1.1006 - acc: 0.51 - ETA: 16s - loss: 1.1038 - acc: 0.51 - ETA: 15s - loss: 1.1114 - acc: 0.51 - ETA: 14s - loss: 1.1021 - acc: 0.51 - ETA: 13s - loss: 1.0931 - acc: 0.52 - ETA: 12s - loss: 1.0855 - acc: 0.52 - ETA: 11s - loss: 1.0897 - acc: 0.52 - ETA: 10s - loss: 1.0935 - acc: 0.51 - ETA: 10s - loss: 1.0813 - acc: 0.52 - ETA: 9s - loss: 1.0705 - acc: 0.5303 - ETA: 8s - loss: 1.0712 - acc: 0.530 - ETA: 8s - loss: 1.0721 - acc: 0.528 - ETA: 7s - loss: 1.0683 - acc: 0.532 - ETA: 7s - loss: 1.0633 - acc: 0.532 - ETA: 6s - loss: 1.0616 - acc: 0.538 - ETA: 5s - loss: 1.0559 - acc: 0.540 - ETA: 5s - loss: 1.0502 - acc: 0.543 - ETA: 4s - loss: 1.0495 - acc: 0.540 - ETA: 4s - loss: 1.0521 - acc: 0.540 - ETA: 3s - loss: 1.0468 - acc: 0.543 - ETA: 3s - loss: 1.0448 - acc: 0.545 - ETA: 2s - loss: 1.0402 - acc: 0.546 - ETA: 2s - loss: 1.0405 - acc: 0.547 - ETA: 1s - loss: 1.0450 - acc: 0.543 - ETA: 1s - loss: 1.0443 - acc: 0.544 - ETA: 0s - loss: 1.0462 - acc: 0.543 - ETA: 0s - loss: 1.0449 - acc: 0.542 - ETA: 0s - loss: 1.0406 - acc: 0.546 - 25s 11ms/step - loss: 1.0401 - acc: 0.5465 - val_loss: 0.8649 - val_acc: 0.6014\n",
      "\n",
      "Epoch 00001: val_loss improved from inf to 0.86489, saving model to weight_MobileNet.hdf5\n",
      "Epoch 2/50\n",
      "2247/2247 [==============================] - ETA: 45s - loss: 0.8816 - acc: 0.57 - ETA: 38s - loss: 0.9196 - acc: 0.53 - ETA: 34s - loss: 0.9728 - acc: 0.53 - ETA: 41s - loss: 0.9609 - acc: 0.54 - ETA: 38s - loss: 0.9587 - acc: 0.53 - ETA: 35s - loss: 0.9414 - acc: 0.54 - ETA: 31s - loss: 0.9422 - acc: 0.55 - ETA: 28s - loss: 0.9304 - acc: 0.56 - ETA: 26s - loss: 0.9404 - acc: 0.56 - ETA: 25s - loss: 0.9327 - acc: 0.57 - ETA: 23s - loss: 0.9258 - acc: 0.58 - ETA: 21s - loss: 0.9232 - acc: 0.58 - ETA: 19s - loss: 0.9373 - acc: 0.57 - ETA: 18s - loss: 0.9453 - acc: 0.57 - ETA: 17s - loss: 0.9507 - acc: 0.57 - ETA: 15s - loss: 0.9605 - acc: 0.56 - ETA: 14s - loss: 0.9586 - acc: 0.56 - ETA: 13s - loss: 0.9604 - acc: 0.56 - ETA: 12s - loss: 0.9642 - acc: 0.55 - ETA: 11s - loss: 0.9634 - acc: 0.55 - ETA: 10s - loss: 0.9686 - acc: 0.55 - ETA: 9s - loss: 0.9685 - acc: 0.5547 - ETA: 9s - loss: 0.9668 - acc: 0.555 - ETA: 8s - loss: 0.9628 - acc: 0.556 - ETA: 7s - loss: 0.9660 - acc: 0.555 - ETA: 6s - loss: 0.9630 - acc: 0.556 - ETA: 5s - loss: 0.9677 - acc: 0.555 - ETA: 5s - loss: 0.9612 - acc: 0.559 - ETA: 4s - loss: 0.9575 - acc: 0.561 - ETA: 3s - loss: 0.9530 - acc: 0.564 - ETA: 2s - loss: 0.9479 - acc: 0.568 - ETA: 2s - loss: 0.9501 - acc: 0.567 - ETA: 1s - loss: 0.9522 - acc: 0.567 - ETA: 0s - loss: 0.9483 - acc: 0.569 - ETA: 0s - loss: 0.9477 - acc: 0.569 - 25s 11ms/step - loss: 0.9481 - acc: 0.5696 - val_loss: 0.8102 - val_acc: 0.6423\n",
      "\n",
      "Epoch 00002: val_loss improved from 0.86489 to 0.81023, saving model to weight_MobileNet.hdf5\n",
      "Epoch 3/50\n",
      "2247/2247 [==============================] - ETA: 18s - loss: 0.8609 - acc: 0.60 - ETA: 15s - loss: 0.9883 - acc: 0.57 - ETA: 16s - loss: 0.8818 - acc: 0.62 - ETA: 15s - loss: 0.9626 - acc: 0.57 - ETA: 14s - loss: 0.9648 - acc: 0.58 - ETA: 13s - loss: 0.9593 - acc: 0.58 - ETA: 13s - loss: 0.9589 - acc: 0.58 - ETA: 12s - loss: 0.9583 - acc: 0.58 - ETA: 11s - loss: 0.9426 - acc: 0.58 - ETA: 11s - loss: 0.9454 - acc: 0.58 - ETA: 10s - loss: 0.9383 - acc: 0.58 - ETA: 10s - loss: 0.9462 - acc: 0.58 - ETA: 10s - loss: 0.9458 - acc: 0.58 - ETA: 9s - loss: 0.9390 - acc: 0.5871 - ETA: 9s - loss: 0.9274 - acc: 0.592 - ETA: 8s - loss: 0.9299 - acc: 0.591 - ETA: 8s - loss: 0.9375 - acc: 0.584 - ETA: 8s - loss: 0.9424 - acc: 0.579 - ETA: 7s - loss: 0.9390 - acc: 0.582 - ETA: 7s - loss: 0.9352 - acc: 0.582 - ETA: 6s - loss: 0.9311 - acc: 0.584 - ETA: 6s - loss: 0.9263 - acc: 0.588 - ETA: 5s - loss: 0.9376 - acc: 0.583 - ETA: 5s - loss: 0.9366 - acc: 0.583 - ETA: 4s - loss: 0.9316 - acc: 0.586 - ETA: 4s - loss: 0.9260 - acc: 0.587 - ETA: 3s - loss: 0.9216 - acc: 0.589 - ETA: 3s - loss: 0.9170 - acc: 0.591 - ETA: 2s - loss: 0.9172 - acc: 0.590 - ETA: 2s - loss: 0.9149 - acc: 0.590 - ETA: 1s - loss: 0.9161 - acc: 0.590 - ETA: 1s - loss: 0.9193 - acc: 0.591 - ETA: 0s - loss: 0.9226 - acc: 0.590 - ETA: 0s - loss: 0.9194 - acc: 0.591 - ETA: 0s - loss: 0.9197 - acc: 0.591 - 17s 8ms/step - loss: 0.9190 - acc: 0.5915 - val_loss: 0.7692 - val_acc: 0.7295\n",
      "\n",
      "Epoch 00003: val_loss improved from 0.81023 to 0.76923, saving model to weight_MobileNet.hdf5\n",
      "Epoch 4/50\n",
      "2247/2247 [==============================] - ETA: 12s - loss: 1.0858 - acc: 0.46 - ETA: 12s - loss: 0.9801 - acc: 0.53 - ETA: 11s - loss: 0.9231 - acc: 0.54 - ETA: 12s - loss: 0.9213 - acc: 0.56 - ETA: 11s - loss: 0.8882 - acc: 0.58 - ETA: 11s - loss: 0.8779 - acc: 0.58 - ETA: 11s - loss: 0.8805 - acc: 0.58 - ETA: 11s - loss: 0.8863 - acc: 0.58 - ETA: 10s - loss: 0.8953 - acc: 0.57 - ETA: 10s - loss: 0.9018 - acc: 0.57 - ETA: 9s - loss: 0.9000 - acc: 0.5753 - ETA: 9s - loss: 0.8791 - acc: 0.592 - ETA: 9s - loss: 0.8870 - acc: 0.590 - ETA: 8s - loss: 0.8777 - acc: 0.597 - ETA: 8s - loss: 0.8798 - acc: 0.594 - ETA: 8s - loss: 0.8844 - acc: 0.588 - ETA: 7s - loss: 0.8803 - acc: 0.592 - ETA: 7s - loss: 0.8747 - acc: 0.594 - ETA: 6s - loss: 0.8805 - acc: 0.592 - ETA: 6s - loss: 0.8794 - acc: 0.596 - ETA: 5s - loss: 0.8728 - acc: 0.599 - ETA: 5s - loss: 0.8656 - acc: 0.606 - ETA: 5s - loss: 0.8577 - acc: 0.610 - ETA: 4s - loss: 0.8552 - acc: 0.613 - ETA: 4s - loss: 0.8584 - acc: 0.611 - ETA: 3s - loss: 0.8497 - acc: 0.615 - ETA: 3s - loss: 0.8500 - acc: 0.615 - ETA: 3s - loss: 0.8503 - acc: 0.614 - ETA: 2s - loss: 0.8526 - acc: 0.616 - ETA: 2s - loss: 0.8527 - acc: 0.616 - ETA: 1s - loss: 0.8467 - acc: 0.622 - ETA: 1s - loss: 0.8460 - acc: 0.621 - ETA: 0s - loss: 0.8457 - acc: 0.620 - ETA: 0s - loss: 0.8440 - acc: 0.619 - ETA: 0s - loss: 0.8436 - acc: 0.620 - 17s 8ms/step - loss: 0.8425 - acc: 0.6213 - val_loss: 0.6880 - val_acc: 0.7633\n",
      "\n",
      "Epoch 00004: val_loss improved from 0.76923 to 0.68795, saving model to weight_MobileNet.hdf5\n",
      "Epoch 5/50\n",
      "2247/2247 [==============================] - ETA: 12s - loss: 0.8412 - acc: 0.64 - ETA: 13s - loss: 0.8487 - acc: 0.55 - ETA: 13s - loss: 0.8198 - acc: 0.58 - ETA: 14s - loss: 0.7998 - acc: 0.61 - ETA: 16s - loss: 0.8041 - acc: 0.60 - ETA: 16s - loss: 0.7793 - acc: 0.62 - ETA: 15s - loss: 0.7807 - acc: 0.63 - ETA: 15s - loss: 0.7869 - acc: 0.63 - ETA: 14s - loss: 0.7756 - acc: 0.64 - ETA: 14s - loss: 0.7715 - acc: 0.64 - ETA: 13s - loss: 0.7660 - acc: 0.65 - ETA: 13s - loss: 0.7573 - acc: 0.65 - ETA: 12s - loss: 0.7543 - acc: 0.65 - ETA: 11s - loss: 0.7656 - acc: 0.66 - ETA: 10s - loss: 0.7645 - acc: 0.65 - ETA: 10s - loss: 0.7719 - acc: 0.65 - ETA: 9s - loss: 0.7722 - acc: 0.6498 - ETA: 9s - loss: 0.7674 - acc: 0.654 - ETA: 8s - loss: 0.7568 - acc: 0.662 - ETA: 7s - loss: 0.7587 - acc: 0.660 - ETA: 7s - loss: 0.7547 - acc: 0.664 - ETA: 6s - loss: 0.7623 - acc: 0.662 - ETA: 6s - loss: 0.7585 - acc: 0.667 - ETA: 5s - loss: 0.7577 - acc: 0.664 - ETA: 5s - loss: 0.7549 - acc: 0.666 - ETA: 4s - loss: 0.7564 - acc: 0.663 - ETA: 4s - loss: 0.7550 - acc: 0.666 - ETA: 3s - loss: 0.7529 - acc: 0.668 - ETA: 3s - loss: 0.7517 - acc: 0.669 - ETA: 2s - loss: 0.7551 - acc: 0.665 - ETA: 2s - loss: 0.7522 - acc: 0.667 - ETA: 1s - loss: 0.7499 - acc: 0.668 - ETA: 1s - loss: 0.7500 - acc: 0.667 - ETA: 0s - loss: 0.7486 - acc: 0.667 - ETA: 0s - loss: 0.7461 - acc: 0.667 - 19s 8ms/step - loss: 0.7459 - acc: 0.6671 - val_loss: 0.6277 - val_acc: 0.7509\n",
      "\n"
     ]
    },
    {
     "name": "stdout",
     "output_type": "stream",
     "text": [
      "Epoch 00005: val_loss improved from 0.68795 to 0.62770, saving model to weight_MobileNet.hdf5\n",
      "Epoch 6/50\n",
      "2247/2247 [==============================] - ETA: 15s - loss: 0.7758 - acc: 0.67 - ETA: 14s - loss: 0.7704 - acc: 0.64 - ETA: 13s - loss: 0.7371 - acc: 0.67 - ETA: 13s - loss: 0.7417 - acc: 0.66 - ETA: 13s - loss: 0.7630 - acc: 0.65 - ETA: 13s - loss: 0.7447 - acc: 0.65 - ETA: 13s - loss: 0.7380 - acc: 0.66 - ETA: 13s - loss: 0.7317 - acc: 0.66 - ETA: 13s - loss: 0.7349 - acc: 0.67 - ETA: 13s - loss: 0.7238 - acc: 0.68 - ETA: 12s - loss: 0.7147 - acc: 0.68 - ETA: 12s - loss: 0.7080 - acc: 0.69 - ETA: 11s - loss: 0.7115 - acc: 0.68 - ETA: 10s - loss: 0.7014 - acc: 0.69 - ETA: 10s - loss: 0.7140 - acc: 0.68 - ETA: 9s - loss: 0.7210 - acc: 0.6875 - ETA: 9s - loss: 0.7109 - acc: 0.695 - ETA: 8s - loss: 0.7111 - acc: 0.693 - ETA: 8s - loss: 0.7143 - acc: 0.692 - ETA: 7s - loss: 0.7146 - acc: 0.689 - ETA: 7s - loss: 0.7165 - acc: 0.689 - ETA: 6s - loss: 0.7086 - acc: 0.692 - ETA: 6s - loss: 0.7065 - acc: 0.691 - ETA: 5s - loss: 0.7072 - acc: 0.691 - ETA: 4s - loss: 0.7062 - acc: 0.692 - ETA: 4s - loss: 0.7021 - acc: 0.693 - ETA: 3s - loss: 0.7016 - acc: 0.693 - ETA: 3s - loss: 0.7055 - acc: 0.691 - ETA: 2s - loss: 0.7035 - acc: 0.695 - ETA: 2s - loss: 0.7000 - acc: 0.696 - ETA: 1s - loss: 0.7010 - acc: 0.696 - ETA: 1s - loss: 0.7014 - acc: 0.695 - ETA: 0s - loss: 0.6979 - acc: 0.698 - ETA: 0s - loss: 0.6957 - acc: 0.700 - ETA: 0s - loss: 0.6920 - acc: 0.701 - 18s 8ms/step - loss: 0.6921 - acc: 0.7023 - val_loss: 0.5270 - val_acc: 0.8185\n",
      "\n",
      "Epoch 00006: val_loss improved from 0.62770 to 0.52697, saving model to weight_MobileNet.hdf5\n",
      "Epoch 7/50\n",
      "2247/2247 [==============================] - ETA: 16s - loss: 0.8125 - acc: 0.60 - ETA: 16s - loss: 0.7085 - acc: 0.68 - ETA: 15s - loss: 0.6995 - acc: 0.68 - ETA: 15s - loss: 0.6949 - acc: 0.68 - ETA: 14s - loss: 0.6878 - acc: 0.69 - ETA: 13s - loss: 0.6805 - acc: 0.70 - ETA: 13s - loss: 0.6719 - acc: 0.70 - ETA: 12s - loss: 0.6509 - acc: 0.71 - ETA: 12s - loss: 0.6666 - acc: 0.71 - ETA: 11s - loss: 0.6692 - acc: 0.70 - ETA: 11s - loss: 0.6598 - acc: 0.71 - ETA: 10s - loss: 0.6663 - acc: 0.70 - ETA: 10s - loss: 0.6606 - acc: 0.71 - ETA: 9s - loss: 0.6610 - acc: 0.7154 - ETA: 9s - loss: 0.6585 - acc: 0.718 - ETA: 8s - loss: 0.6501 - acc: 0.722 - ETA: 8s - loss: 0.6492 - acc: 0.721 - ETA: 7s - loss: 0.6450 - acc: 0.721 - ETA: 7s - loss: 0.6476 - acc: 0.720 - ETA: 6s - loss: 0.6452 - acc: 0.723 - ETA: 6s - loss: 0.6413 - acc: 0.724 - ETA: 6s - loss: 0.6395 - acc: 0.724 - ETA: 5s - loss: 0.6374 - acc: 0.723 - ETA: 5s - loss: 0.6387 - acc: 0.723 - ETA: 4s - loss: 0.6366 - acc: 0.726 - ETA: 4s - loss: 0.6401 - acc: 0.723 - ETA: 3s - loss: 0.6388 - acc: 0.724 - ETA: 3s - loss: 0.6344 - acc: 0.727 - ETA: 2s - loss: 0.6334 - acc: 0.728 - ETA: 2s - loss: 0.6339 - acc: 0.728 - ETA: 1s - loss: 0.6329 - acc: 0.727 - ETA: 1s - loss: 0.6293 - acc: 0.731 - ETA: 0s - loss: 0.6279 - acc: 0.732 - ETA: 0s - loss: 0.6246 - acc: 0.734 - ETA: 0s - loss: 0.6244 - acc: 0.733 - 17s 8ms/step - loss: 0.6228 - acc: 0.7343 - val_loss: 0.4271 - val_acc: 0.8577\n",
      "\n",
      "Epoch 00007: val_loss improved from 0.52697 to 0.42714, saving model to weight_MobileNet.hdf5\n",
      "Epoch 8/50\n",
      "2247/2247 [==============================] - ETA: 18s - loss: 0.5740 - acc: 0.76 - ETA: 15s - loss: 0.5829 - acc: 0.75 - ETA: 13s - loss: 0.5694 - acc: 0.75 - ETA: 12s - loss: 0.5587 - acc: 0.73 - ETA: 12s - loss: 0.5855 - acc: 0.73 - ETA: 12s - loss: 0.5802 - acc: 0.73 - ETA: 11s - loss: 0.5895 - acc: 0.72 - ETA: 11s - loss: 0.5613 - acc: 0.74 - ETA: 11s - loss: 0.5630 - acc: 0.74 - ETA: 10s - loss: 0.5606 - acc: 0.75 - ETA: 10s - loss: 0.5647 - acc: 0.74 - ETA: 10s - loss: 0.5613 - acc: 0.75 - ETA: 10s - loss: 0.5551 - acc: 0.75 - ETA: 9s - loss: 0.5532 - acc: 0.7623 - ETA: 9s - loss: 0.5592 - acc: 0.757 - ETA: 8s - loss: 0.5570 - acc: 0.756 - ETA: 8s - loss: 0.5597 - acc: 0.755 - ETA: 7s - loss: 0.5600 - acc: 0.756 - ETA: 7s - loss: 0.5550 - acc: 0.761 - ETA: 6s - loss: 0.5542 - acc: 0.761 - ETA: 6s - loss: 0.5551 - acc: 0.757 - ETA: 5s - loss: 0.5523 - acc: 0.759 - ETA: 5s - loss: 0.5507 - acc: 0.762 - ETA: 4s - loss: 0.5484 - acc: 0.765 - ETA: 4s - loss: 0.5431 - acc: 0.767 - ETA: 4s - loss: 0.5428 - acc: 0.767 - ETA: 3s - loss: 0.5507 - acc: 0.766 - ETA: 3s - loss: 0.5434 - acc: 0.771 - ETA: 3s - loss: 0.5432 - acc: 0.771 - ETA: 2s - loss: 0.5415 - acc: 0.769 - ETA: 2s - loss: 0.5374 - acc: 0.771 - ETA: 1s - loss: 0.5355 - acc: 0.772 - ETA: 1s - loss: 0.5366 - acc: 0.772 - ETA: 0s - loss: 0.5364 - acc: 0.771 - ETA: 0s - loss: 0.5341 - acc: 0.772 - 19s 9ms/step - loss: 0.5335 - acc: 0.7730 - val_loss: 0.4208 - val_acc: 0.7972\n",
      "\n",
      "Epoch 00008: val_loss improved from 0.42714 to 0.42079, saving model to weight_MobileNet.hdf5\n",
      "Epoch 9/50\n",
      "2247/2247 [==============================] - ETA: 14s - loss: 0.6459 - acc: 0.68 - ETA: 16s - loss: 0.5808 - acc: 0.71 - ETA: 15s - loss: 0.5543 - acc: 0.73 - ETA: 16s - loss: 0.5115 - acc: 0.76 - ETA: 15s - loss: 0.5134 - acc: 0.76 - ETA: 14s - loss: 0.5039 - acc: 0.78 - ETA: 14s - loss: 0.5003 - acc: 0.78 - ETA: 13s - loss: 0.5245 - acc: 0.77 - ETA: 12s - loss: 0.5044 - acc: 0.78 - ETA: 11s - loss: 0.5059 - acc: 0.78 - ETA: 11s - loss: 0.5036 - acc: 0.78 - ETA: 10s - loss: 0.4916 - acc: 0.79 - ETA: 10s - loss: 0.4989 - acc: 0.78 - ETA: 10s - loss: 0.4912 - acc: 0.79 - ETA: 9s - loss: 0.4952 - acc: 0.7896 - ETA: 8s - loss: 0.4991 - acc: 0.790 - ETA: 8s - loss: 0.4968 - acc: 0.792 - ETA: 7s - loss: 0.5056 - acc: 0.790 - ETA: 7s - loss: 0.5044 - acc: 0.792 - ETA: 7s - loss: 0.5050 - acc: 0.791 - ETA: 6s - loss: 0.5059 - acc: 0.789 - ETA: 6s - loss: 0.4982 - acc: 0.793 - ETA: 5s - loss: 0.4919 - acc: 0.796 - ETA: 5s - loss: 0.4981 - acc: 0.794 - ETA: 4s - loss: 0.5000 - acc: 0.795 - ETA: 4s - loss: 0.4952 - acc: 0.797 - ETA: 3s - loss: 0.4890 - acc: 0.801 - ETA: 3s - loss: 0.4889 - acc: 0.801 - ETA: 2s - loss: 0.4857 - acc: 0.802 - ETA: 2s - loss: 0.4826 - acc: 0.802 - ETA: 1s - loss: 0.4787 - acc: 0.806 - ETA: 1s - loss: 0.4795 - acc: 0.806 - ETA: 0s - loss: 0.4745 - acc: 0.807 - ETA: 0s - loss: 0.4720 - acc: 0.809 - ETA: 0s - loss: 0.4711 - acc: 0.809 - 17s 8ms/step - loss: 0.4702 - acc: 0.8100 - val_loss: 0.2885 - val_acc: 0.8790\n",
      "\n",
      "Epoch 00009: val_loss improved from 0.42079 to 0.28853, saving model to weight_MobileNet.hdf5\n",
      "Epoch 10/50\n",
      "2247/2247 [==============================] - ETA: 12s - loss: 0.4272 - acc: 0.79 - ETA: 15s - loss: 0.4189 - acc: 0.82 - ETA: 14s - loss: 0.4486 - acc: 0.80 - ETA: 14s - loss: 0.4726 - acc: 0.80 - ETA: 13s - loss: 0.4503 - acc: 0.80 - ETA: 13s - loss: 0.4254 - acc: 0.82 - ETA: 12s - loss: 0.4070 - acc: 0.83 - ETA: 12s - loss: 0.4206 - acc: 0.82 - ETA: 11s - loss: 0.4163 - acc: 0.83 - ETA: 11s - loss: 0.4140 - acc: 0.83 - ETA: 10s - loss: 0.4180 - acc: 0.82 - ETA: 10s - loss: 0.4133 - acc: 0.82 - ETA: 10s - loss: 0.4041 - acc: 0.83 - ETA: 9s - loss: 0.4007 - acc: 0.8326 - ETA: 8s - loss: 0.3987 - acc: 0.834 - ETA: 8s - loss: 0.3974 - acc: 0.835 - ETA: 7s - loss: 0.4045 - acc: 0.830 - ETA: 7s - loss: 0.4038 - acc: 0.830 - ETA: 7s - loss: 0.4032 - acc: 0.833 - ETA: 6s - loss: 0.4016 - acc: 0.833 - ETA: 6s - loss: 0.3991 - acc: 0.834 - ETA: 5s - loss: 0.4007 - acc: 0.835 - ETA: 5s - loss: 0.3993 - acc: 0.834 - ETA: 4s - loss: 0.4021 - acc: 0.833 - ETA: 4s - loss: 0.3994 - acc: 0.834 - ETA: 4s - loss: 0.3996 - acc: 0.834 - ETA: 3s - loss: 0.3990 - acc: 0.835 - ETA: 3s - loss: 0.3992 - acc: 0.835 - ETA: 2s - loss: 0.3954 - acc: 0.838 - ETA: 2s - loss: 0.3933 - acc: 0.840 - ETA: 1s - loss: 0.3943 - acc: 0.839 - ETA: 1s - loss: 0.3930 - acc: 0.839 - ETA: 0s - loss: 0.3904 - acc: 0.842 - ETA: 0s - loss: 0.3914 - acc: 0.842 - ETA: 0s - loss: 0.3938 - acc: 0.841 - 17s 8ms/step - loss: 0.3933 - acc: 0.8411 - val_loss: 0.2299 - val_acc: 0.9484\n",
      "\n",
      "Epoch 00010: val_loss improved from 0.28853 to 0.22994, saving model to weight_MobileNet.hdf5\n",
      "Epoch 11/50\n"
     ]
    },
    {
     "name": "stdout",
     "output_type": "stream",
     "text": [
      "2247/2247 [==============================] - ETA: 12s - loss: 0.2792 - acc: 0.90 - ETA: 16s - loss: 0.3013 - acc: 0.89 - ETA: 15s - loss: 0.3085 - acc: 0.88 - ETA: 13s - loss: 0.3242 - acc: 0.87 - ETA: 13s - loss: 0.3425 - acc: 0.86 - ETA: 12s - loss: 0.3449 - acc: 0.85 - ETA: 11s - loss: 0.3489 - acc: 0.85 - ETA: 11s - loss: 0.3598 - acc: 0.84 - ETA: 11s - loss: 0.3632 - acc: 0.84 - ETA: 10s - loss: 0.3580 - acc: 0.85 - ETA: 10s - loss: 0.3583 - acc: 0.85 - ETA: 10s - loss: 0.3575 - acc: 0.85 - ETA: 9s - loss: 0.3485 - acc: 0.8606 - ETA: 9s - loss: 0.3532 - acc: 0.857 - ETA: 9s - loss: 0.3497 - acc: 0.860 - ETA: 8s - loss: 0.3565 - acc: 0.857 - ETA: 8s - loss: 0.3578 - acc: 0.856 - ETA: 8s - loss: 0.3594 - acc: 0.855 - ETA: 7s - loss: 0.3604 - acc: 0.852 - ETA: 7s - loss: 0.3563 - acc: 0.855 - ETA: 6s - loss: 0.3512 - acc: 0.857 - ETA: 6s - loss: 0.3464 - acc: 0.860 - ETA: 5s - loss: 0.3428 - acc: 0.864 - ETA: 5s - loss: 0.3443 - acc: 0.864 - ETA: 4s - loss: 0.3515 - acc: 0.861 - ETA: 4s - loss: 0.3539 - acc: 0.861 - ETA: 3s - loss: 0.3517 - acc: 0.864 - ETA: 3s - loss: 0.3512 - acc: 0.864 - ETA: 2s - loss: 0.3496 - acc: 0.865 - ETA: 2s - loss: 0.3479 - acc: 0.865 - ETA: 1s - loss: 0.3462 - acc: 0.866 - ETA: 1s - loss: 0.3430 - acc: 0.868 - ETA: 0s - loss: 0.3423 - acc: 0.869 - ETA: 0s - loss: 0.3378 - acc: 0.870 - ETA: 0s - loss: 0.3360 - acc: 0.871 - 17s 8ms/step - loss: 0.3358 - acc: 0.8714 - val_loss: 0.4759 - val_acc: 0.7740\n",
      "\n",
      "Epoch 00011: val_loss did not improve from 0.22994\n",
      "Epoch 12/50\n",
      "2247/2247 [==============================] - ETA: 13s - loss: 0.8678 - acc: 0.73 - ETA: 12s - loss: 0.6389 - acc: 0.78 - ETA: 13s - loss: 0.5637 - acc: 0.80 - ETA: 13s - loss: 0.4974 - acc: 0.83 - ETA: 12s - loss: 0.4846 - acc: 0.82 - ETA: 12s - loss: 0.4713 - acc: 0.83 - ETA: 11s - loss: 0.4345 - acc: 0.84 - ETA: 11s - loss: 0.4049 - acc: 0.85 - ETA: 11s - loss: 0.3886 - acc: 0.86 - ETA: 10s - loss: 0.3853 - acc: 0.86 - ETA: 10s - loss: 0.3818 - acc: 0.86 - ETA: 9s - loss: 0.3782 - acc: 0.8685 - ETA: 9s - loss: 0.3808 - acc: 0.864 - ETA: 8s - loss: 0.3814 - acc: 0.865 - ETA: 8s - loss: 0.3700 - acc: 0.871 - ETA: 7s - loss: 0.3568 - acc: 0.876 - ETA: 7s - loss: 0.3594 - acc: 0.874 - ETA: 7s - loss: 0.3555 - acc: 0.874 - ETA: 6s - loss: 0.3570 - acc: 0.873 - ETA: 6s - loss: 0.3551 - acc: 0.875 - ETA: 6s - loss: 0.3524 - acc: 0.875 - ETA: 6s - loss: 0.3485 - acc: 0.877 - ETA: 5s - loss: 0.3453 - acc: 0.878 - ETA: 5s - loss: 0.3368 - acc: 0.882 - ETA: 4s - loss: 0.3331 - acc: 0.884 - ETA: 4s - loss: 0.3326 - acc: 0.884 - ETA: 4s - loss: 0.3317 - acc: 0.882 - ETA: 3s - loss: 0.3269 - acc: 0.884 - ETA: 3s - loss: 0.3252 - acc: 0.885 - ETA: 2s - loss: 0.3198 - acc: 0.888 - ETA: 2s - loss: 0.3161 - acc: 0.889 - ETA: 1s - loss: 0.3141 - acc: 0.889 - ETA: 1s - loss: 0.3112 - acc: 0.891 - ETA: 0s - loss: 0.3095 - acc: 0.892 - ETA: 0s - loss: 0.3084 - acc: 0.892 - 24s 11ms/step - loss: 0.3075 - acc: 0.8932 - val_loss: 0.1466 - val_acc: 0.9591\n",
      "\n",
      "Epoch 00012: val_loss improved from 0.22994 to 0.14660, saving model to weight_MobileNet.hdf5\n",
      "Epoch 13/50\n",
      "2247/2247 [==============================] - ETA: 25s - loss: 0.3004 - acc: 0.85 - ETA: 18s - loss: 0.2592 - acc: 0.89 - ETA: 16s - loss: 0.2593 - acc: 0.90 - ETA: 15s - loss: 0.2681 - acc: 0.89 - ETA: 14s - loss: 0.2710 - acc: 0.90 - ETA: 13s - loss: 0.2539 - acc: 0.90 - ETA: 13s - loss: 0.2371 - acc: 0.91 - ETA: 12s - loss: 0.2438 - acc: 0.91 - ETA: 12s - loss: 0.2346 - acc: 0.91 - ETA: 11s - loss: 0.2414 - acc: 0.91 - ETA: 11s - loss: 0.2380 - acc: 0.91 - ETA: 10s - loss: 0.2398 - acc: 0.91 - ETA: 10s - loss: 0.2376 - acc: 0.91 - ETA: 9s - loss: 0.2345 - acc: 0.9141 - ETA: 9s - loss: 0.2342 - acc: 0.915 - ETA: 8s - loss: 0.2361 - acc: 0.916 - ETA: 8s - loss: 0.2337 - acc: 0.918 - ETA: 7s - loss: 0.2341 - acc: 0.918 - ETA: 7s - loss: 0.2333 - acc: 0.919 - ETA: 6s - loss: 0.2311 - acc: 0.920 - ETA: 6s - loss: 0.2275 - acc: 0.922 - ETA: 5s - loss: 0.2292 - acc: 0.921 - ETA: 5s - loss: 0.2295 - acc: 0.921 - ETA: 5s - loss: 0.2303 - acc: 0.919 - ETA: 4s - loss: 0.2268 - acc: 0.920 - ETA: 4s - loss: 0.2242 - acc: 0.922 - ETA: 3s - loss: 0.2259 - acc: 0.922 - ETA: 3s - loss: 0.2251 - acc: 0.923 - ETA: 2s - loss: 0.2230 - acc: 0.925 - ETA: 2s - loss: 0.2240 - acc: 0.925 - ETA: 1s - loss: 0.2252 - acc: 0.925 - ETA: 1s - loss: 0.2242 - acc: 0.924 - ETA: 1s - loss: 0.2225 - acc: 0.924 - ETA: 0s - loss: 0.2228 - acc: 0.924 - ETA: 0s - loss: 0.2206 - acc: 0.925 - 18s 8ms/step - loss: 0.2202 - acc: 0.9261 - val_loss: 0.0994 - val_acc: 0.9715\n",
      "\n",
      "Epoch 00013: val_loss improved from 0.14660 to 0.09941, saving model to weight_MobileNet.hdf5\n",
      "Epoch 14/50\n",
      "2247/2247 [==============================] - ETA: 15s - loss: 0.2527 - acc: 0.93 - ETA: 15s - loss: 0.2390 - acc: 0.94 - ETA: 17s - loss: 0.2451 - acc: 0.92 - ETA: 15s - loss: 0.2189 - acc: 0.94 - ETA: 14s - loss: 0.2139 - acc: 0.94 - ETA: 13s - loss: 0.1949 - acc: 0.95 - ETA: 13s - loss: 0.1969 - acc: 0.94 - ETA: 12s - loss: 0.2027 - acc: 0.94 - ETA: 12s - loss: 0.2017 - acc: 0.94 - ETA: 12s - loss: 0.2073 - acc: 0.93 - ETA: 11s - loss: 0.2087 - acc: 0.93 - ETA: 11s - loss: 0.1995 - acc: 0.94 - ETA: 10s - loss: 0.1979 - acc: 0.94 - ETA: 10s - loss: 0.1933 - acc: 0.94 - ETA: 9s - loss: 0.1943 - acc: 0.9396 - ETA: 9s - loss: 0.1907 - acc: 0.940 - ETA: 8s - loss: 0.1929 - acc: 0.940 - ETA: 7s - loss: 0.1939 - acc: 0.940 - ETA: 7s - loss: 0.1928 - acc: 0.940 - ETA: 7s - loss: 0.1950 - acc: 0.939 - ETA: 6s - loss: 0.1954 - acc: 0.937 - ETA: 6s - loss: 0.1952 - acc: 0.937 - ETA: 5s - loss: 0.1916 - acc: 0.938 - ETA: 5s - loss: 0.1902 - acc: 0.938 - ETA: 4s - loss: 0.1902 - acc: 0.938 - ETA: 4s - loss: 0.1917 - acc: 0.936 - ETA: 3s - loss: 0.1921 - acc: 0.936 - ETA: 3s - loss: 0.1884 - acc: 0.937 - ETA: 2s - loss: 0.1873 - acc: 0.937 - ETA: 2s - loss: 0.1884 - acc: 0.937 - ETA: 1s - loss: 0.1878 - acc: 0.938 - ETA: 1s - loss: 0.1884 - acc: 0.937 - ETA: 1s - loss: 0.1886 - acc: 0.938 - ETA: 0s - loss: 0.1864 - acc: 0.938 - ETA: 0s - loss: 0.1876 - acc: 0.937 - 18s 8ms/step - loss: 0.1882 - acc: 0.9377 - val_loss: 0.0842 - val_acc: 0.9698\n",
      "\n",
      "Epoch 00014: val_loss improved from 0.09941 to 0.08416, saving model to weight_MobileNet.hdf5\n",
      "Epoch 15/50\n",
      "2247/2247 [==============================] - ETA: 12s - loss: 0.1699 - acc: 0.93 - ETA: 16s - loss: 0.2276 - acc: 0.92 - ETA: 15s - loss: 0.1906 - acc: 0.95 - ETA: 14s - loss: 0.1912 - acc: 0.94 - ETA: 14s - loss: 0.1756 - acc: 0.95 - ETA: 14s - loss: 0.1651 - acc: 0.95 - ETA: 13s - loss: 0.1602 - acc: 0.95 - ETA: 13s - loss: 0.1622 - acc: 0.95 - ETA: 12s - loss: 0.1608 - acc: 0.96 - ETA: 11s - loss: 0.1565 - acc: 0.96 - ETA: 11s - loss: 0.1542 - acc: 0.96 - ETA: 10s - loss: 0.1542 - acc: 0.96 - ETA: 10s - loss: 0.1589 - acc: 0.96 - ETA: 9s - loss: 0.1659 - acc: 0.9565 - ETA: 9s - loss: 0.1633 - acc: 0.958 - ETA: 9s - loss: 0.1629 - acc: 0.959 - ETA: 8s - loss: 0.1585 - acc: 0.960 - ETA: 8s - loss: 0.1627 - acc: 0.956 - ETA: 7s - loss: 0.1632 - acc: 0.956 - ETA: 7s - loss: 0.1641 - acc: 0.956 - ETA: 6s - loss: 0.1631 - acc: 0.954 - ETA: 6s - loss: 0.1616 - acc: 0.954 - ETA: 5s - loss: 0.1628 - acc: 0.953 - ETA: 5s - loss: 0.1621 - acc: 0.954 - ETA: 4s - loss: 0.1603 - acc: 0.954 - ETA: 4s - loss: 0.1574 - acc: 0.955 - ETA: 3s - loss: 0.1557 - acc: 0.956 - ETA: 3s - loss: 0.1552 - acc: 0.956 - ETA: 2s - loss: 0.1538 - acc: 0.956 - ETA: 2s - loss: 0.1520 - acc: 0.957 - ETA: 1s - loss: 0.1520 - acc: 0.956 - ETA: 1s - loss: 0.1516 - acc: 0.956 - ETA: 1s - loss: 0.1515 - acc: 0.955 - ETA: 0s - loss: 0.1500 - acc: 0.956 - ETA: 0s - loss: 0.1489 - acc: 0.956 - 18s 8ms/step - loss: 0.1493 - acc: 0.9564 - val_loss: 0.0746 - val_acc: 0.9786\n",
      "\n",
      "Epoch 00015: val_loss improved from 0.08416 to 0.07464, saving model to weight_MobileNet.hdf5\n",
      "Epoch 16/50\n"
     ]
    },
    {
     "name": "stdout",
     "output_type": "stream",
     "text": [
      "2247/2247 [==============================] - ETA: 19s - loss: 0.2700 - acc: 0.84 - ETA: 16s - loss: 0.1750 - acc: 0.91 - ETA: 15s - loss: 0.2199 - acc: 0.91 - ETA: 13s - loss: 0.2256 - acc: 0.91 - ETA: 13s - loss: 0.2082 - acc: 0.91 - ETA: 13s - loss: 0.2086 - acc: 0.92 - ETA: 12s - loss: 0.1886 - acc: 0.93 - ETA: 12s - loss: 0.1849 - acc: 0.93 - ETA: 11s - loss: 0.1890 - acc: 0.93 - ETA: 11s - loss: 0.1839 - acc: 0.93 - ETA: 11s - loss: 0.1782 - acc: 0.94 - ETA: 10s - loss: 0.1732 - acc: 0.94 - ETA: 10s - loss: 0.1710 - acc: 0.94 - ETA: 9s - loss: 0.1709 - acc: 0.9420 - ETA: 9s - loss: 0.1721 - acc: 0.942 - ETA: 8s - loss: 0.1692 - acc: 0.944 - ETA: 8s - loss: 0.1650 - acc: 0.944 - ETA: 7s - loss: 0.1608 - acc: 0.947 - ETA: 7s - loss: 0.1618 - acc: 0.949 - ETA: 6s - loss: 0.1608 - acc: 0.949 - ETA: 6s - loss: 0.1592 - acc: 0.950 - ETA: 5s - loss: 0.1566 - acc: 0.952 - ETA: 5s - loss: 0.1540 - acc: 0.953 - ETA: 4s - loss: 0.1528 - acc: 0.954 - ETA: 4s - loss: 0.1509 - acc: 0.954 - ETA: 3s - loss: 0.1483 - acc: 0.954 - ETA: 3s - loss: 0.1465 - acc: 0.956 - ETA: 3s - loss: 0.1443 - acc: 0.957 - ETA: 2s - loss: 0.1428 - acc: 0.956 - ETA: 2s - loss: 0.1439 - acc: 0.956 - ETA: 1s - loss: 0.1435 - acc: 0.957 - ETA: 1s - loss: 0.1420 - acc: 0.958 - ETA: 0s - loss: 0.1409 - acc: 0.958 - ETA: 0s - loss: 0.1394 - acc: 0.959 - ETA: 0s - loss: 0.1404 - acc: 0.958 - 17s 7ms/step - loss: 0.1402 - acc: 0.9591 - val_loss: 0.0442 - val_acc: 0.9858\n",
      "\n",
      "Epoch 00016: val_loss improved from 0.07464 to 0.04416, saving model to weight_MobileNet.hdf5\n",
      "Epoch 17/50\n",
      "2247/2247 [==============================] - ETA: 11s - loss: 0.0969 - acc: 0.96 - ETA: 12s - loss: 0.1068 - acc: 0.96 - ETA: 12s - loss: 0.1050 - acc: 0.97 - ETA: 11s - loss: 0.1082 - acc: 0.97 - ETA: 12s - loss: 0.1233 - acc: 0.96 - ETA: 12s - loss: 0.1252 - acc: 0.96 - ETA: 12s - loss: 0.1236 - acc: 0.96 - ETA: 11s - loss: 0.1285 - acc: 0.95 - ETA: 11s - loss: 0.1225 - acc: 0.96 - ETA: 11s - loss: 0.1193 - acc: 0.96 - ETA: 10s - loss: 0.1215 - acc: 0.96 - ETA: 10s - loss: 0.1180 - acc: 0.96 - ETA: 9s - loss: 0.1159 - acc: 0.9639 - ETA: 9s - loss: 0.1150 - acc: 0.964 - ETA: 8s - loss: 0.1141 - acc: 0.963 - ETA: 8s - loss: 0.1114 - acc: 0.963 - ETA: 8s - loss: 0.1130 - acc: 0.961 - ETA: 7s - loss: 0.1123 - acc: 0.962 - ETA: 7s - loss: 0.1118 - acc: 0.963 - ETA: 6s - loss: 0.1088 - acc: 0.964 - ETA: 6s - loss: 0.1077 - acc: 0.964 - ETA: 6s - loss: 0.1074 - acc: 0.965 - ETA: 5s - loss: 0.1078 - acc: 0.964 - ETA: 5s - loss: 0.1062 - acc: 0.965 - ETA: 4s - loss: 0.1072 - acc: 0.965 - ETA: 4s - loss: 0.1068 - acc: 0.965 - ETA: 3s - loss: 0.1054 - acc: 0.967 - ETA: 3s - loss: 0.1063 - acc: 0.966 - ETA: 2s - loss: 0.1058 - acc: 0.967 - ETA: 2s - loss: 0.1049 - acc: 0.967 - ETA: 1s - loss: 0.1047 - acc: 0.968 - ETA: 1s - loss: 0.1051 - acc: 0.968 - ETA: 0s - loss: 0.1043 - acc: 0.968 - ETA: 0s - loss: 0.1046 - acc: 0.968 - ETA: 0s - loss: 0.1048 - acc: 0.968 - 17s 8ms/step - loss: 0.1046 - acc: 0.9688 - val_loss: 0.0312 - val_acc: 0.9911\n",
      "\n",
      "Epoch 00017: val_loss improved from 0.04416 to 0.03117, saving model to weight_MobileNet.hdf5\n",
      "Epoch 18/50\n",
      "2247/2247 [==============================] - ETA: 12s - loss: 0.0644 - acc: 1.00 - ETA: 12s - loss: 0.0714 - acc: 0.99 - ETA: 13s - loss: 0.0760 - acc: 0.98 - ETA: 12s - loss: 0.0743 - acc: 0.98 - ETA: 12s - loss: 0.0759 - acc: 0.98 - ETA: 12s - loss: 0.0784 - acc: 0.98 - ETA: 11s - loss: 0.0847 - acc: 0.98 - ETA: 11s - loss: 0.0846 - acc: 0.98 - ETA: 11s - loss: 0.0862 - acc: 0.97 - ETA: 10s - loss: 0.0847 - acc: 0.97 - ETA: 10s - loss: 0.0860 - acc: 0.97 - ETA: 9s - loss: 0.0847 - acc: 0.9766 - ETA: 9s - loss: 0.0847 - acc: 0.977 - ETA: 9s - loss: 0.0840 - acc: 0.977 - ETA: 8s - loss: 0.0839 - acc: 0.977 - ETA: 8s - loss: 0.0811 - acc: 0.978 - ETA: 7s - loss: 0.0792 - acc: 0.979 - ETA: 7s - loss: 0.0787 - acc: 0.979 - ETA: 6s - loss: 0.0780 - acc: 0.980 - ETA: 6s - loss: 0.0805 - acc: 0.979 - ETA: 6s - loss: 0.0826 - acc: 0.979 - ETA: 5s - loss: 0.0809 - acc: 0.980 - ETA: 5s - loss: 0.0825 - acc: 0.980 - ETA: 4s - loss: 0.0822 - acc: 0.980 - ETA: 4s - loss: 0.0825 - acc: 0.979 - ETA: 3s - loss: 0.0826 - acc: 0.979 - ETA: 3s - loss: 0.0822 - acc: 0.979 - ETA: 3s - loss: 0.0818 - acc: 0.979 - ETA: 2s - loss: 0.0840 - acc: 0.978 - ETA: 2s - loss: 0.0842 - acc: 0.978 - ETA: 1s - loss: 0.0848 - acc: 0.978 - ETA: 1s - loss: 0.0849 - acc: 0.977 - ETA: 0s - loss: 0.0841 - acc: 0.977 - ETA: 0s - loss: 0.0835 - acc: 0.977 - ETA: 0s - loss: 0.0830 - acc: 0.977 - 17s 7ms/step - loss: 0.0829 - acc: 0.9777 - val_loss: 0.0272 - val_acc: 0.9893\n",
      "\n",
      "Epoch 00018: val_loss improved from 0.03117 to 0.02723, saving model to weight_MobileNet.hdf5\n",
      "Epoch 19/50\n",
      "2247/2247 [==============================] - ETA: 12s - loss: 0.0588 - acc: 1.00 - ETA: 12s - loss: 0.0738 - acc: 0.98 - ETA: 12s - loss: 0.0929 - acc: 0.97 - ETA: 12s - loss: 0.1081 - acc: 0.97 - ETA: 12s - loss: 0.1096 - acc: 0.96 - ETA: 11s - loss: 0.1017 - acc: 0.97 - ETA: 11s - loss: 0.1011 - acc: 0.97 - ETA: 11s - loss: 0.1038 - acc: 0.97 - ETA: 11s - loss: 0.0994 - acc: 0.97 - ETA: 10s - loss: 0.1052 - acc: 0.97 - ETA: 10s - loss: 0.0997 - acc: 0.97 - ETA: 9s - loss: 0.0997 - acc: 0.9740 - ETA: 9s - loss: 0.1002 - acc: 0.972 - ETA: 9s - loss: 0.0984 - acc: 0.971 - ETA: 8s - loss: 0.0945 - acc: 0.972 - ETA: 8s - loss: 0.0945 - acc: 0.972 - ETA: 7s - loss: 0.0929 - acc: 0.974 - ETA: 7s - loss: 0.0938 - acc: 0.974 - ETA: 7s - loss: 0.0925 - acc: 0.974 - ETA: 6s - loss: 0.0912 - acc: 0.975 - ETA: 6s - loss: 0.0889 - acc: 0.976 - ETA: 5s - loss: 0.0875 - acc: 0.977 - ETA: 5s - loss: 0.0865 - acc: 0.976 - ETA: 4s - loss: 0.0856 - acc: 0.977 - ETA: 4s - loss: 0.0847 - acc: 0.978 - ETA: 4s - loss: 0.0842 - acc: 0.978 - ETA: 3s - loss: 0.0852 - acc: 0.977 - ETA: 3s - loss: 0.0834 - acc: 0.978 - ETA: 2s - loss: 0.0823 - acc: 0.978 - ETA: 2s - loss: 0.0812 - acc: 0.978 - ETA: 1s - loss: 0.0795 - acc: 0.978 - ETA: 1s - loss: 0.0795 - acc: 0.978 - ETA: 0s - loss: 0.0787 - acc: 0.978 - ETA: 0s - loss: 0.0789 - acc: 0.977 - ETA: 0s - loss: 0.0796 - acc: 0.977 - 17s 8ms/step - loss: 0.0820 - acc: 0.9769 - val_loss: 0.5042 - val_acc: 0.7865\n",
      "\n",
      "Epoch 00019: val_loss did not improve from 0.02723\n",
      "Epoch 20/50\n",
      "2247/2247 [==============================] - ETA: 18s - loss: 0.8094 - acc: 0.71 - ETA: 15s - loss: 0.4951 - acc: 0.82 - ETA: 14s - loss: 0.4528 - acc: 0.83 - ETA: 14s - loss: 0.4143 - acc: 0.84 - ETA: 13s - loss: 0.3668 - acc: 0.85 - ETA: 13s - loss: 0.3265 - acc: 0.87 - ETA: 12s - loss: 0.3260 - acc: 0.87 - ETA: 12s - loss: 0.3075 - acc: 0.88 - ETA: 11s - loss: 0.2923 - acc: 0.89 - ETA: 11s - loss: 0.2884 - acc: 0.89 - ETA: 10s - loss: 0.2758 - acc: 0.89 - ETA: 10s - loss: 0.2587 - acc: 0.90 - ETA: 9s - loss: 0.2530 - acc: 0.9075 - ETA: 9s - loss: 0.2386 - acc: 0.914 - ETA: 9s - loss: 0.2255 - acc: 0.919 - ETA: 8s - loss: 0.2156 - acc: 0.923 - ETA: 8s - loss: 0.2088 - acc: 0.925 - ETA: 7s - loss: 0.2052 - acc: 0.926 - ETA: 7s - loss: 0.1999 - acc: 0.928 - ETA: 6s - loss: 0.1958 - acc: 0.931 - ETA: 6s - loss: 0.1914 - acc: 0.933 - ETA: 5s - loss: 0.1917 - acc: 0.932 - ETA: 5s - loss: 0.1873 - acc: 0.934 - ETA: 4s - loss: 0.1873 - acc: 0.935 - ETA: 4s - loss: 0.1866 - acc: 0.934 - ETA: 3s - loss: 0.1836 - acc: 0.935 - ETA: 3s - loss: 0.1803 - acc: 0.936 - ETA: 3s - loss: 0.1791 - acc: 0.937 - ETA: 2s - loss: 0.1775 - acc: 0.938 - ETA: 2s - loss: 0.1741 - acc: 0.939 - ETA: 1s - loss: 0.1712 - acc: 0.940 - ETA: 1s - loss: 0.1681 - acc: 0.941 - ETA: 0s - loss: 0.1652 - acc: 0.943 - ETA: 0s - loss: 0.1616 - acc: 0.944 - ETA: 0s - loss: 0.1583 - acc: 0.946 - 18s 8ms/step - loss: 0.1580 - acc: 0.9466 - val_loss: 0.0313 - val_acc: 0.9893\n",
      "\n",
      "Epoch 00020: val_loss did not improve from 0.02723\n",
      "Epoch 21/50\n"
     ]
    },
    {
     "name": "stdout",
     "output_type": "stream",
     "text": [
      "2247/2247 [==============================] - ETA: 12s - loss: 0.1256 - acc: 0.96 - ETA: 12s - loss: 0.1725 - acc: 0.93 - ETA: 11s - loss: 0.1468 - acc: 0.95 - ETA: 11s - loss: 0.1252 - acc: 0.95 - ETA: 11s - loss: 0.1190 - acc: 0.95 - ETA: 11s - loss: 0.1139 - acc: 0.96 - ETA: 11s - loss: 0.1122 - acc: 0.96 - ETA: 10s - loss: 0.1132 - acc: 0.96 - ETA: 10s - loss: 0.1142 - acc: 0.96 - ETA: 9s - loss: 0.1097 - acc: 0.9656 - ETA: 9s - loss: 0.1034 - acc: 0.968 - ETA: 9s - loss: 0.0988 - acc: 0.970 - ETA: 9s - loss: 0.0957 - acc: 0.972 - ETA: 8s - loss: 0.0920 - acc: 0.974 - ETA: 8s - loss: 0.0916 - acc: 0.975 - ETA: 7s - loss: 0.0934 - acc: 0.974 - ETA: 7s - loss: 0.0936 - acc: 0.974 - ETA: 6s - loss: 0.0937 - acc: 0.974 - ETA: 6s - loss: 0.0914 - acc: 0.975 - ETA: 6s - loss: 0.0924 - acc: 0.975 - ETA: 5s - loss: 0.0903 - acc: 0.976 - ETA: 5s - loss: 0.0884 - acc: 0.977 - ETA: 5s - loss: 0.0879 - acc: 0.977 - ETA: 4s - loss: 0.0869 - acc: 0.977 - ETA: 4s - loss: 0.0843 - acc: 0.978 - ETA: 3s - loss: 0.0845 - acc: 0.978 - ETA: 3s - loss: 0.0829 - acc: 0.979 - ETA: 2s - loss: 0.0812 - acc: 0.979 - ETA: 2s - loss: 0.0811 - acc: 0.979 - ETA: 2s - loss: 0.0817 - acc: 0.979 - ETA: 1s - loss: 0.0811 - acc: 0.978 - ETA: 1s - loss: 0.0802 - acc: 0.979 - ETA: 0s - loss: 0.0791 - acc: 0.979 - ETA: 0s - loss: 0.0800 - acc: 0.979 - ETA: 0s - loss: 0.0800 - acc: 0.979 - 17s 7ms/step - loss: 0.0802 - acc: 0.9800 - val_loss: 0.0568 - val_acc: 0.9786\n",
      "\n",
      "Epoch 00021: val_loss did not improve from 0.02723\n",
      "Epoch 22/50\n",
      "2247/2247 [==============================] - ETA: 17s - loss: 0.1906 - acc: 0.90 - ETA: 15s - loss: 0.1857 - acc: 0.92 - ETA: 14s - loss: 0.1962 - acc: 0.92 - ETA: 14s - loss: 0.1779 - acc: 0.92 - ETA: 13s - loss: 0.1780 - acc: 0.93 - ETA: 12s - loss: 0.1587 - acc: 0.94 - ETA: 12s - loss: 0.1449 - acc: 0.95 - ETA: 11s - loss: 0.1400 - acc: 0.95 - ETA: 11s - loss: 0.1297 - acc: 0.96 - ETA: 11s - loss: 0.1263 - acc: 0.96 - ETA: 10s - loss: 0.1206 - acc: 0.96 - ETA: 10s - loss: 0.1164 - acc: 0.96 - ETA: 9s - loss: 0.1114 - acc: 0.9663 - ETA: 9s - loss: 0.1143 - acc: 0.964 - ETA: 8s - loss: 0.1105 - acc: 0.964 - ETA: 8s - loss: 0.1071 - acc: 0.966 - ETA: 7s - loss: 0.1056 - acc: 0.968 - ETA: 7s - loss: 0.1034 - acc: 0.969 - ETA: 6s - loss: 0.1051 - acc: 0.970 - ETA: 6s - loss: 0.1047 - acc: 0.970 - ETA: 5s - loss: 0.1026 - acc: 0.971 - ETA: 5s - loss: 0.0994 - acc: 0.973 - ETA: 5s - loss: 0.0973 - acc: 0.974 - ETA: 4s - loss: 0.0964 - acc: 0.974 - ETA: 4s - loss: 0.0945 - acc: 0.974 - ETA: 3s - loss: 0.0941 - acc: 0.974 - ETA: 3s - loss: 0.0937 - acc: 0.975 - ETA: 2s - loss: 0.0925 - acc: 0.975 - ETA: 2s - loss: 0.0903 - acc: 0.976 - ETA: 2s - loss: 0.0891 - acc: 0.976 - ETA: 1s - loss: 0.0877 - acc: 0.976 - ETA: 1s - loss: 0.0884 - acc: 0.976 - ETA: 0s - loss: 0.0870 - acc: 0.976 - ETA: 0s - loss: 0.0868 - acc: 0.976 - ETA: 0s - loss: 0.0866 - acc: 0.976 - 16s 7ms/step - loss: 0.0864 - acc: 0.9764 - val_loss: 0.0181 - val_acc: 0.9947\n",
      "\n",
      "Epoch 00022: val_loss improved from 0.02723 to 0.01814, saving model to weight_MobileNet.hdf5\n",
      "Epoch 23/50\n",
      "2247/2247 [==============================] - ETA: 12s - loss: 0.0901 - acc: 0.96 - ETA: 12s - loss: 0.0934 - acc: 0.97 - ETA: 11s - loss: 0.0904 - acc: 0.97 - ETA: 11s - loss: 0.0836 - acc: 0.97 - ETA: 11s - loss: 0.0762 - acc: 0.97 - ETA: 10s - loss: 0.0687 - acc: 0.98 - ETA: 10s - loss: 0.0645 - acc: 0.98 - ETA: 10s - loss: 0.0651 - acc: 0.98 - ETA: 10s - loss: 0.0685 - acc: 0.98 - ETA: 9s - loss: 0.0670 - acc: 0.9828 - ETA: 9s - loss: 0.0641 - acc: 0.984 - ETA: 8s - loss: 0.0615 - acc: 0.985 - ETA: 8s - loss: 0.0602 - acc: 0.985 - ETA: 8s - loss: 0.0612 - acc: 0.986 - ETA: 7s - loss: 0.0616 - acc: 0.986 - ETA: 7s - loss: 0.0619 - acc: 0.985 - ETA: 6s - loss: 0.0608 - acc: 0.986 - ETA: 6s - loss: 0.0606 - acc: 0.986 - ETA: 6s - loss: 0.0596 - acc: 0.986 - ETA: 5s - loss: 0.0585 - acc: 0.986 - ETA: 5s - loss: 0.0579 - acc: 0.987 - ETA: 5s - loss: 0.0571 - acc: 0.987 - ETA: 4s - loss: 0.0590 - acc: 0.986 - ETA: 4s - loss: 0.0587 - acc: 0.987 - ETA: 3s - loss: 0.0574 - acc: 0.987 - ETA: 3s - loss: 0.0575 - acc: 0.988 - ETA: 3s - loss: 0.0577 - acc: 0.987 - ETA: 2s - loss: 0.0584 - acc: 0.987 - ETA: 2s - loss: 0.0578 - acc: 0.988 - ETA: 1s - loss: 0.0569 - acc: 0.988 - ETA: 1s - loss: 0.0567 - acc: 0.987 - ETA: 1s - loss: 0.0580 - acc: 0.987 - ETA: 0s - loss: 0.0584 - acc: 0.987 - ETA: 0s - loss: 0.0577 - acc: 0.987 - ETA: 0s - loss: 0.0572 - acc: 0.987 - 15s 7ms/step - loss: 0.0570 - acc: 0.9871 - val_loss: 0.0144 - val_acc: 0.9964\n",
      "\n",
      "Epoch 00023: val_loss improved from 0.01814 to 0.01444, saving model to weight_MobileNet.hdf5\n",
      "Epoch 24/50\n",
      "2247/2247 [==============================] - ETA: 13s - loss: 0.0578 - acc: 0.98 - ETA: 12s - loss: 0.0376 - acc: 0.99 - ETA: 12s - loss: 0.0371 - acc: 0.99 - ETA: 11s - loss: 0.0401 - acc: 0.99 - ETA: 11s - loss: 0.0441 - acc: 0.99 - ETA: 11s - loss: 0.0397 - acc: 0.99 - ETA: 11s - loss: 0.0401 - acc: 0.99 - ETA: 10s - loss: 0.0406 - acc: 0.99 - ETA: 10s - loss: 0.0416 - acc: 0.99 - ETA: 9s - loss: 0.0492 - acc: 0.9875 - ETA: 9s - loss: 0.0492 - acc: 0.987 - ETA: 8s - loss: 0.0496 - acc: 0.985 - ETA: 8s - loss: 0.0508 - acc: 0.986 - ETA: 8s - loss: 0.0510 - acc: 0.985 - ETA: 7s - loss: 0.0500 - acc: 0.986 - ETA: 7s - loss: 0.0497 - acc: 0.986 - ETA: 6s - loss: 0.0476 - acc: 0.987 - ETA: 6s - loss: 0.0481 - acc: 0.987 - ETA: 6s - loss: 0.0481 - acc: 0.987 - ETA: 6s - loss: 0.0476 - acc: 0.988 - ETA: 5s - loss: 0.0470 - acc: 0.988 - ETA: 5s - loss: 0.0469 - acc: 0.987 - ETA: 5s - loss: 0.0464 - acc: 0.988 - ETA: 4s - loss: 0.0448 - acc: 0.988 - ETA: 4s - loss: 0.0451 - acc: 0.988 - ETA: 3s - loss: 0.0461 - acc: 0.988 - ETA: 3s - loss: 0.0462 - acc: 0.988 - ETA: 2s - loss: 0.0460 - acc: 0.988 - ETA: 2s - loss: 0.0470 - acc: 0.988 - ETA: 2s - loss: 0.0462 - acc: 0.988 - ETA: 1s - loss: 0.0453 - acc: 0.988 - ETA: 1s - loss: 0.0450 - acc: 0.988 - ETA: 0s - loss: 0.0454 - acc: 0.989 - ETA: 0s - loss: 0.0456 - acc: 0.988 - ETA: 0s - loss: 0.0472 - acc: 0.987 - 16s 7ms/step - loss: 0.0480 - acc: 0.9875 - val_loss: 0.1434 - val_acc: 0.9644\n",
      "\n",
      "Epoch 00024: val_loss did not improve from 0.01444\n",
      "Epoch 25/50\n",
      "2247/2247 [==============================] - ETA: 12s - loss: 0.4443 - acc: 0.92 - ETA: 12s - loss: 0.2788 - acc: 0.94 - ETA: 12s - loss: 0.2256 - acc: 0.94 - ETA: 12s - loss: 0.2464 - acc: 0.94 - ETA: 11s - loss: 0.2121 - acc: 0.95 - ETA: 11s - loss: 0.1912 - acc: 0.96 - ETA: 10s - loss: 0.1672 - acc: 0.96 - ETA: 10s - loss: 0.1509 - acc: 0.97 - ETA: 10s - loss: 0.1381 - acc: 0.97 - ETA: 9s - loss: 0.1311 - acc: 0.9734 - ETA: 9s - loss: 0.1262 - acc: 0.973 - ETA: 8s - loss: 0.1212 - acc: 0.974 - ETA: 8s - loss: 0.1161 - acc: 0.976 - ETA: 8s - loss: 0.1107 - acc: 0.977 - ETA: 7s - loss: 0.1069 - acc: 0.977 - ETA: 7s - loss: 0.1069 - acc: 0.975 - ETA: 7s - loss: 0.1032 - acc: 0.976 - ETA: 6s - loss: 0.0994 - acc: 0.976 - ETA: 6s - loss: 0.0975 - acc: 0.977 - ETA: 5s - loss: 0.0944 - acc: 0.978 - ETA: 5s - loss: 0.0915 - acc: 0.979 - ETA: 5s - loss: 0.0890 - acc: 0.980 - ETA: 4s - loss: 0.0885 - acc: 0.979 - ETA: 4s - loss: 0.0881 - acc: 0.979 - ETA: 4s - loss: 0.0860 - acc: 0.980 - ETA: 3s - loss: 0.0848 - acc: 0.980 - ETA: 3s - loss: 0.0826 - acc: 0.981 - ETA: 2s - loss: 0.0816 - acc: 0.981 - ETA: 2s - loss: 0.0809 - acc: 0.980 - ETA: 2s - loss: 0.0790 - acc: 0.981 - ETA: 1s - loss: 0.0789 - acc: 0.980 - ETA: 1s - loss: 0.0794 - acc: 0.980 - ETA: 0s - loss: 0.0781 - acc: 0.980 - ETA: 0s - loss: 0.0766 - acc: 0.980 - ETA: 0s - loss: 0.0757 - acc: 0.980 - 15s 7ms/step - loss: 0.0755 - acc: 0.9804 - val_loss: 0.0159 - val_acc: 0.9964\n",
      "\n",
      "Epoch 00025: val_loss did not improve from 0.01444\n",
      "Epoch 26/50\n"
     ]
    },
    {
     "name": "stdout",
     "output_type": "stream",
     "text": [
      "2247/2247 [==============================] - ETA: 14s - loss: 0.0287 - acc: 1.00 - ETA: 13s - loss: 0.0437 - acc: 0.99 - ETA: 12s - loss: 0.0359 - acc: 0.99 - ETA: 12s - loss: 0.0308 - acc: 0.99 - ETA: 11s - loss: 0.0291 - acc: 0.99 - ETA: 11s - loss: 0.0289 - acc: 0.99 - ETA: 10s - loss: 0.0343 - acc: 0.99 - ETA: 10s - loss: 0.0345 - acc: 0.99 - ETA: 10s - loss: 0.0349 - acc: 0.99 - ETA: 9s - loss: 0.0337 - acc: 0.9969 - ETA: 9s - loss: 0.0325 - acc: 0.997 - ETA: 9s - loss: 0.0341 - acc: 0.997 - ETA: 8s - loss: 0.0330 - acc: 0.997 - ETA: 8s - loss: 0.0320 - acc: 0.997 - ETA: 8s - loss: 0.0313 - acc: 0.997 - ETA: 7s - loss: 0.0335 - acc: 0.997 - ETA: 7s - loss: 0.0331 - acc: 0.997 - ETA: 6s - loss: 0.0343 - acc: 0.996 - ETA: 6s - loss: 0.0347 - acc: 0.995 - ETA: 5s - loss: 0.0350 - acc: 0.996 - ETA: 5s - loss: 0.0367 - acc: 0.993 - ETA: 5s - loss: 0.0378 - acc: 0.992 - ETA: 4s - loss: 0.0394 - acc: 0.991 - ETA: 4s - loss: 0.0403 - acc: 0.991 - ETA: 4s - loss: 0.0408 - acc: 0.991 - ETA: 3s - loss: 0.0403 - acc: 0.991 - ETA: 3s - loss: 0.0397 - acc: 0.991 - ETA: 2s - loss: 0.0393 - acc: 0.991 - ETA: 2s - loss: 0.0391 - acc: 0.991 - ETA: 2s - loss: 0.0392 - acc: 0.992 - ETA: 1s - loss: 0.0398 - acc: 0.991 - ETA: 1s - loss: 0.0406 - acc: 0.991 - ETA: 0s - loss: 0.0411 - acc: 0.991 - ETA: 0s - loss: 0.0408 - acc: 0.990 - ETA: 0s - loss: 0.0405 - acc: 0.991 - 15s 7ms/step - loss: 0.0404 - acc: 0.9911 - val_loss: 0.0091 - val_acc: 0.9982\n",
      "\n",
      "Epoch 00026: val_loss improved from 0.01444 to 0.00909, saving model to weight_MobileNet.hdf5\n",
      "Epoch 27/50\n",
      "2247/2247 [==============================] - ETA: 11s - loss: 0.0507 - acc: 1.00 - ETA: 12s - loss: 0.0387 - acc: 1.00 - ETA: 11s - loss: 0.0389 - acc: 0.99 - ETA: 11s - loss: 0.0423 - acc: 0.99 - ETA: 11s - loss: 0.0415 - acc: 0.99 - ETA: 10s - loss: 0.0426 - acc: 0.98 - ETA: 10s - loss: 0.0421 - acc: 0.98 - ETA: 10s - loss: 0.0414 - acc: 0.99 - ETA: 9s - loss: 0.0418 - acc: 0.9896 - ETA: 9s - loss: 0.0412 - acc: 0.990 - ETA: 8s - loss: 0.0386 - acc: 0.991 - ETA: 8s - loss: 0.0380 - acc: 0.992 - ETA: 8s - loss: 0.0376 - acc: 0.992 - ETA: 7s - loss: 0.0379 - acc: 0.993 - ETA: 7s - loss: 0.0376 - acc: 0.992 - ETA: 7s - loss: 0.0369 - acc: 0.993 - ETA: 6s - loss: 0.0363 - acc: 0.993 - ETA: 6s - loss: 0.0361 - acc: 0.993 - ETA: 6s - loss: 0.0361 - acc: 0.993 - ETA: 5s - loss: 0.0367 - acc: 0.993 - ETA: 5s - loss: 0.0369 - acc: 0.993 - ETA: 4s - loss: 0.0362 - acc: 0.993 - ETA: 4s - loss: 0.0357 - acc: 0.993 - ETA: 4s - loss: 0.0349 - acc: 0.994 - ETA: 3s - loss: 0.0351 - acc: 0.994 - ETA: 3s - loss: 0.0355 - acc: 0.994 - ETA: 3s - loss: 0.0356 - acc: 0.994 - ETA: 2s - loss: 0.0349 - acc: 0.995 - ETA: 2s - loss: 0.0359 - acc: 0.994 - ETA: 1s - loss: 0.0369 - acc: 0.994 - ETA: 1s - loss: 0.0364 - acc: 0.994 - ETA: 1s - loss: 0.0361 - acc: 0.994 - ETA: 0s - loss: 0.0354 - acc: 0.994 - ETA: 0s - loss: 0.0362 - acc: 0.994 - ETA: 0s - loss: 0.0362 - acc: 0.994 - 14s 6ms/step - loss: 0.0361 - acc: 0.9942 - val_loss: 0.0099 - val_acc: 0.9964\n",
      "\n",
      "Epoch 00027: val_loss did not improve from 0.00909\n",
      "Epoch 28/50\n",
      "2247/2247 [==============================] - ETA: 11s - loss: 0.0242 - acc: 1.00 - ETA: 12s - loss: 0.0553 - acc: 0.98 - ETA: 11s - loss: 0.0447 - acc: 0.98 - ETA: 11s - loss: 0.0428 - acc: 0.99 - ETA: 11s - loss: 0.0390 - acc: 0.99 - ETA: 11s - loss: 0.0370 - acc: 0.99 - ETA: 10s - loss: 0.0402 - acc: 0.99 - ETA: 10s - loss: 0.0434 - acc: 0.99 - ETA: 9s - loss: 0.0414 - acc: 0.9931 - ETA: 9s - loss: 0.0401 - acc: 0.993 - ETA: 9s - loss: 0.0396 - acc: 0.992 - ETA: 8s - loss: 0.0389 - acc: 0.993 - ETA: 8s - loss: 0.0375 - acc: 0.994 - ETA: 8s - loss: 0.0368 - acc: 0.993 - ETA: 7s - loss: 0.0385 - acc: 0.992 - ETA: 7s - loss: 0.0376 - acc: 0.993 - ETA: 6s - loss: 0.0401 - acc: 0.992 - ETA: 6s - loss: 0.0416 - acc: 0.992 - ETA: 6s - loss: 0.0398 - acc: 0.992 - ETA: 6s - loss: 0.0400 - acc: 0.992 - ETA: 5s - loss: 0.0399 - acc: 0.991 - ETA: 5s - loss: 0.0394 - acc: 0.992 - ETA: 4s - loss: 0.0388 - acc: 0.992 - ETA: 4s - loss: 0.0384 - acc: 0.992 - ETA: 4s - loss: 0.0385 - acc: 0.993 - ETA: 3s - loss: 0.0389 - acc: 0.992 - ETA: 3s - loss: 0.0383 - acc: 0.993 - ETA: 2s - loss: 0.0378 - acc: 0.992 - ETA: 2s - loss: 0.0367 - acc: 0.993 - ETA: 2s - loss: 0.0365 - acc: 0.993 - ETA: 1s - loss: 0.0358 - acc: 0.993 - ETA: 1s - loss: 0.0359 - acc: 0.992 - ETA: 0s - loss: 0.0354 - acc: 0.992 - ETA: 0s - loss: 0.0349 - acc: 0.993 - ETA: 0s - loss: 0.0345 - acc: 0.993 - 15s 7ms/step - loss: 0.0344 - acc: 0.9933 - val_loss: 0.0064 - val_acc: 0.9982\n",
      "\n",
      "Epoch 00028: val_loss improved from 0.00909 to 0.00638, saving model to weight_MobileNet.hdf5\n",
      "Epoch 29/50\n",
      "2247/2247 [==============================] - ETA: 12s - loss: 0.0327 - acc: 0.98 - ETA: 13s - loss: 0.0227 - acc: 0.99 - ETA: 13s - loss: 0.0205 - acc: 0.99 - ETA: 12s - loss: 0.0195 - acc: 0.99 - ETA: 12s - loss: 0.0176 - acc: 0.99 - ETA: 12s - loss: 0.0162 - acc: 0.99 - ETA: 11s - loss: 0.0171 - acc: 0.99 - ETA: 11s - loss: 0.0190 - acc: 0.99 - ETA: 10s - loss: 0.0184 - acc: 0.99 - ETA: 10s - loss: 0.0204 - acc: 0.99 - ETA: 10s - loss: 0.0192 - acc: 0.99 - ETA: 9s - loss: 0.0229 - acc: 0.9948 - ETA: 9s - loss: 0.0221 - acc: 0.995 - ETA: 8s - loss: 0.0228 - acc: 0.994 - ETA: 8s - loss: 0.0231 - acc: 0.994 - ETA: 8s - loss: 0.0252 - acc: 0.993 - ETA: 7s - loss: 0.0248 - acc: 0.993 - ETA: 7s - loss: 0.0240 - acc: 0.993 - ETA: 6s - loss: 0.0241 - acc: 0.994 - ETA: 6s - loss: 0.0236 - acc: 0.994 - ETA: 5s - loss: 0.0239 - acc: 0.994 - ETA: 5s - loss: 0.0238 - acc: 0.995 - ETA: 5s - loss: 0.0250 - acc: 0.994 - ETA: 4s - loss: 0.0246 - acc: 0.994 - ETA: 4s - loss: 0.0256 - acc: 0.993 - ETA: 3s - loss: 0.0250 - acc: 0.994 - ETA: 3s - loss: 0.0254 - acc: 0.994 - ETA: 2s - loss: 0.0252 - acc: 0.994 - ETA: 2s - loss: 0.0249 - acc: 0.994 - ETA: 2s - loss: 0.0246 - acc: 0.994 - ETA: 1s - loss: 0.0249 - acc: 0.994 - ETA: 1s - loss: 0.0255 - acc: 0.994 - ETA: 0s - loss: 0.0253 - acc: 0.994 - ETA: 0s - loss: 0.0293 - acc: 0.994 - ETA: 0s - loss: 0.0295 - acc: 0.994 - 16s 7ms/step - loss: 0.0295 - acc: 0.9942 - val_loss: 0.0061 - val_acc: 0.9982\n",
      "\n",
      "Epoch 00029: val_loss improved from 0.00638 to 0.00613, saving model to weight_MobileNet.hdf5\n",
      "Epoch 30/50\n",
      "2247/2247 [==============================] - ETA: 12s - loss: 0.0334 - acc: 0.98 - ETA: 12s - loss: 0.0273 - acc: 0.99 - ETA: 12s - loss: 0.0227 - acc: 0.99 - ETA: 12s - loss: 0.0208 - acc: 0.99 - ETA: 12s - loss: 0.0190 - acc: 0.99 - ETA: 11s - loss: 0.0228 - acc: 0.99 - ETA: 11s - loss: 0.0258 - acc: 0.99 - ETA: 11s - loss: 0.0238 - acc: 0.99 - ETA: 10s - loss: 0.0232 - acc: 0.99 - ETA: 10s - loss: 0.0237 - acc: 0.99 - ETA: 10s - loss: 0.0247 - acc: 0.99 - ETA: 9s - loss: 0.0251 - acc: 0.9935 - ETA: 9s - loss: 0.0248 - acc: 0.994 - ETA: 8s - loss: 0.0263 - acc: 0.992 - ETA: 8s - loss: 0.0280 - acc: 0.991 - ETA: 8s - loss: 0.0273 - acc: 0.991 - ETA: 7s - loss: 0.0274 - acc: 0.991 - ETA: 7s - loss: 0.0266 - acc: 0.992 - ETA: 6s - loss: 0.0264 - acc: 0.992 - ETA: 6s - loss: 0.0261 - acc: 0.993 - ETA: 5s - loss: 0.0260 - acc: 0.993 - ETA: 5s - loss: 0.0277 - acc: 0.992 - ETA: 5s - loss: 0.0277 - acc: 0.992 - ETA: 4s - loss: 0.0279 - acc: 0.992 - ETA: 4s - loss: 0.0276 - acc: 0.992 - ETA: 3s - loss: 0.0278 - acc: 0.992 - ETA: 3s - loss: 0.0272 - acc: 0.993 - ETA: 3s - loss: 0.0288 - acc: 0.992 - ETA: 2s - loss: 0.0285 - acc: 0.993 - ETA: 2s - loss: 0.0279 - acc: 0.993 - ETA: 1s - loss: 0.0277 - acc: 0.993 - ETA: 1s - loss: 0.0279 - acc: 0.993 - ETA: 0s - loss: 0.0281 - acc: 0.992 - ETA: 0s - loss: 0.0288 - acc: 0.992 - ETA: 0s - loss: 0.0282 - acc: 0.992 - 17s 7ms/step - loss: 0.0282 - acc: 0.9929 - val_loss: 0.0053 - val_acc: 0.9964\n",
      "\n",
      "Epoch 00030: val_loss improved from 0.00613 to 0.00531, saving model to weight_MobileNet.hdf5\n",
      "Epoch 31/50\n"
     ]
    },
    {
     "name": "stdout",
     "output_type": "stream",
     "text": [
      "2247/2247 [==============================] - ETA: 17s - loss: 0.0265 - acc: 1.00 - ETA: 15s - loss: 0.0231 - acc: 1.00 - ETA: 15s - loss: 0.0274 - acc: 0.99 - ETA: 14s - loss: 0.0278 - acc: 0.99 - ETA: 13s - loss: 0.0273 - acc: 0.99 - ETA: 13s - loss: 0.0268 - acc: 0.99 - ETA: 12s - loss: 0.0271 - acc: 0.99 - ETA: 12s - loss: 0.0280 - acc: 0.99 - ETA: 12s - loss: 0.0286 - acc: 0.99 - ETA: 11s - loss: 0.0278 - acc: 0.99 - ETA: 11s - loss: 0.0261 - acc: 0.99 - ETA: 10s - loss: 0.0250 - acc: 0.99 - ETA: 10s - loss: 0.0243 - acc: 0.99 - ETA: 9s - loss: 0.0239 - acc: 0.9955 - ETA: 9s - loss: 0.0245 - acc: 0.994 - ETA: 8s - loss: 0.0245 - acc: 0.995 - ETA: 8s - loss: 0.0250 - acc: 0.995 - ETA: 7s - loss: 0.0249 - acc: 0.995 - ETA: 7s - loss: 0.0250 - acc: 0.995 - ETA: 6s - loss: 0.0244 - acc: 0.995 - ETA: 6s - loss: 0.0253 - acc: 0.994 - ETA: 5s - loss: 0.0256 - acc: 0.995 - ETA: 5s - loss: 0.0259 - acc: 0.995 - ETA: 4s - loss: 0.0253 - acc: 0.995 - ETA: 4s - loss: 0.0250 - acc: 0.995 - ETA: 3s - loss: 0.0254 - acc: 0.995 - ETA: 3s - loss: 0.0258 - acc: 0.995 - ETA: 3s - loss: 0.0254 - acc: 0.995 - ETA: 2s - loss: 0.0261 - acc: 0.995 - ETA: 2s - loss: 0.0256 - acc: 0.995 - ETA: 1s - loss: 0.0251 - acc: 0.995 - ETA: 1s - loss: 0.0245 - acc: 0.995 - ETA: 0s - loss: 0.0239 - acc: 0.995 - ETA: 0s - loss: 0.0239 - acc: 0.995 - ETA: 0s - loss: 0.0233 - acc: 0.995 - 16s 7ms/step - loss: 0.0232 - acc: 0.9955 - val_loss: 0.0047 - val_acc: 0.9982\n",
      "\n",
      "Epoch 00031: val_loss improved from 0.00531 to 0.00473, saving model to weight_MobileNet.hdf5\n",
      "Epoch 32/50\n",
      "2247/2247 [==============================] - ETA: 13s - loss: 0.0889 - acc: 0.96 - ETA: 12s - loss: 0.0797 - acc: 0.96 - ETA: 12s - loss: 0.0612 - acc: 0.97 - ETA: 11s - loss: 0.0492 - acc: 0.98 - ETA: 11s - loss: 0.0427 - acc: 0.98 - ETA: 11s - loss: 0.0452 - acc: 0.98 - ETA: 10s - loss: 0.0403 - acc: 0.98 - ETA: 10s - loss: 0.0373 - acc: 0.98 - ETA: 9s - loss: 0.0343 - acc: 0.9896 - ETA: 9s - loss: 0.0319 - acc: 0.990 - ETA: 9s - loss: 0.0296 - acc: 0.991 - ETA: 8s - loss: 0.0288 - acc: 0.992 - ETA: 8s - loss: 0.0282 - acc: 0.992 - ETA: 7s - loss: 0.0278 - acc: 0.993 - ETA: 7s - loss: 0.0272 - acc: 0.993 - ETA: 7s - loss: 0.0261 - acc: 0.994 - ETA: 6s - loss: 0.0251 - acc: 0.994 - ETA: 6s - loss: 0.0247 - acc: 0.994 - ETA: 6s - loss: 0.0240 - acc: 0.995 - ETA: 5s - loss: 0.0236 - acc: 0.995 - ETA: 5s - loss: 0.0229 - acc: 0.995 - ETA: 4s - loss: 0.0229 - acc: 0.995 - ETA: 4s - loss: 0.0234 - acc: 0.995 - ETA: 4s - loss: 0.0232 - acc: 0.995 - ETA: 3s - loss: 0.0230 - acc: 0.995 - ETA: 3s - loss: 0.0229 - acc: 0.995 - ETA: 3s - loss: 0.0228 - acc: 0.995 - ETA: 2s - loss: 0.0223 - acc: 0.996 - ETA: 2s - loss: 0.0226 - acc: 0.996 - ETA: 2s - loss: 0.0221 - acc: 0.996 - ETA: 1s - loss: 0.0223 - acc: 0.996 - ETA: 1s - loss: 0.0218 - acc: 0.996 - ETA: 0s - loss: 0.0213 - acc: 0.996 - ETA: 0s - loss: 0.0214 - acc: 0.996 - ETA: 0s - loss: 0.0211 - acc: 0.996 - 16s 7ms/step - loss: 0.0211 - acc: 0.9964 - val_loss: 0.0056 - val_acc: 0.9982\n",
      "\n",
      "Epoch 00032: val_loss did not improve from 0.00473\n",
      "Epoch 33/50\n",
      "2247/2247 [==============================] - ETA: 12s - loss: 0.0071 - acc: 1.00 - ETA: 12s - loss: 0.0108 - acc: 1.00 - ETA: 12s - loss: 0.0119 - acc: 1.00 - ETA: 11s - loss: 0.0180 - acc: 0.99 - ETA: 11s - loss: 0.0160 - acc: 0.99 - ETA: 11s - loss: 0.0161 - acc: 0.99 - ETA: 10s - loss: 0.0157 - acc: 0.99 - ETA: 10s - loss: 0.0158 - acc: 0.99 - ETA: 10s - loss: 0.0153 - acc: 0.99 - ETA: 9s - loss: 0.0147 - acc: 0.9984 - ETA: 9s - loss: 0.0147 - acc: 0.998 - ETA: 8s - loss: 0.0167 - acc: 0.997 - ETA: 8s - loss: 0.0178 - acc: 0.996 - ETA: 8s - loss: 0.0185 - acc: 0.996 - ETA: 7s - loss: 0.0204 - acc: 0.995 - ETA: 7s - loss: 0.0205 - acc: 0.995 - ETA: 6s - loss: 0.0204 - acc: 0.995 - ETA: 6s - loss: 0.0204 - acc: 0.995 - ETA: 6s - loss: 0.0203 - acc: 0.995 - ETA: 5s - loss: 0.0199 - acc: 0.996 - ETA: 5s - loss: 0.0210 - acc: 0.994 - ETA: 5s - loss: 0.0212 - acc: 0.994 - ETA: 4s - loss: 0.0213 - acc: 0.994 - ETA: 4s - loss: 0.0211 - acc: 0.994 - ETA: 3s - loss: 0.0212 - acc: 0.995 - ETA: 3s - loss: 0.0208 - acc: 0.995 - ETA: 3s - loss: 0.0207 - acc: 0.995 - ETA: 2s - loss: 0.0208 - acc: 0.995 - ETA: 2s - loss: 0.0214 - acc: 0.994 - ETA: 1s - loss: 0.0217 - acc: 0.994 - ETA: 1s - loss: 0.0238 - acc: 0.994 - ETA: 1s - loss: 0.0235 - acc: 0.994 - ETA: 0s - loss: 0.0231 - acc: 0.994 - ETA: 0s - loss: 0.0228 - acc: 0.994 - ETA: 0s - loss: 0.0224 - acc: 0.994 - 15s 7ms/step - loss: 0.0224 - acc: 0.9947 - val_loss: 0.0049 - val_acc: 0.9982\n",
      "\n",
      "Epoch 00033: val_loss did not improve from 0.00473\n",
      "Epoch 34/50\n",
      "2247/2247 [==============================] - ETA: 12s - loss: 0.0080 - acc: 1.00 - ETA: 11s - loss: 0.0152 - acc: 1.00 - ETA: 11s - loss: 0.0158 - acc: 1.00 - ETA: 11s - loss: 0.0201 - acc: 0.99 - ETA: 11s - loss: 0.0186 - acc: 0.99 - ETA: 11s - loss: 0.0174 - acc: 0.99 - ETA: 10s - loss: 0.0175 - acc: 0.99 - ETA: 10s - loss: 0.0176 - acc: 0.99 - ETA: 9s - loss: 0.0165 - acc: 0.9983 - ETA: 9s - loss: 0.0192 - acc: 0.996 - ETA: 9s - loss: 0.0202 - acc: 0.997 - ETA: 8s - loss: 0.0193 - acc: 0.997 - ETA: 8s - loss: 0.0207 - acc: 0.996 - ETA: 8s - loss: 0.0204 - acc: 0.996 - ETA: 7s - loss: 0.0213 - acc: 0.995 - ETA: 7s - loss: 0.0207 - acc: 0.996 - ETA: 6s - loss: 0.0205 - acc: 0.995 - ETA: 6s - loss: 0.0200 - acc: 0.995 - ETA: 6s - loss: 0.0201 - acc: 0.995 - ETA: 5s - loss: 0.0222 - acc: 0.994 - ETA: 5s - loss: 0.0227 - acc: 0.994 - ETA: 5s - loss: 0.0224 - acc: 0.995 - ETA: 4s - loss: 0.0233 - acc: 0.994 - ETA: 4s - loss: 0.0242 - acc: 0.994 - ETA: 3s - loss: 0.0270 - acc: 0.992 - ETA: 3s - loss: 0.0265 - acc: 0.992 - ETA: 3s - loss: 0.0269 - acc: 0.992 - ETA: 2s - loss: 0.0263 - acc: 0.992 - ETA: 2s - loss: 0.0261 - acc: 0.993 - ETA: 1s - loss: 0.0256 - acc: 0.993 - ETA: 1s - loss: 0.0255 - acc: 0.993 - ETA: 1s - loss: 0.0254 - acc: 0.993 - ETA: 0s - loss: 0.0254 - acc: 0.993 - ETA: 0s - loss: 0.0249 - acc: 0.994 - ETA: 0s - loss: 0.0244 - acc: 0.994 - 15s 7ms/step - loss: 0.0243 - acc: 0.9942 - val_loss: 0.0055 - val_acc: 0.9982\n",
      "\n",
      "Epoch 00034: val_loss did not improve from 0.00473\n",
      "Epoch 35/50\n",
      "2247/2247 [==============================] - ETA: 12s - loss: 0.0102 - acc: 1.00 - ETA: 12s - loss: 0.0098 - acc: 1.00 - ETA: 12s - loss: 0.0083 - acc: 1.00 - ETA: 11s - loss: 0.0093 - acc: 1.00 - ETA: 11s - loss: 0.0097 - acc: 1.00 - ETA: 11s - loss: 0.0108 - acc: 1.00 - ETA: 10s - loss: 0.0117 - acc: 1.00 - ETA: 10s - loss: 0.0126 - acc: 1.00 - ETA: 10s - loss: 0.0135 - acc: 1.00 - ETA: 9s - loss: 0.0130 - acc: 1.0000 - ETA: 9s - loss: 0.0127 - acc: 1.000 - ETA: 8s - loss: 0.0127 - acc: 1.000 - ETA: 8s - loss: 0.0129 - acc: 1.000 - ETA: 8s - loss: 0.0141 - acc: 0.998 - ETA: 7s - loss: 0.0137 - acc: 0.999 - ETA: 7s - loss: 0.0146 - acc: 0.999 - ETA: 6s - loss: 0.0148 - acc: 0.999 - ETA: 6s - loss: 0.0145 - acc: 0.999 - ETA: 6s - loss: 0.0144 - acc: 0.999 - ETA: 5s - loss: 0.0140 - acc: 0.999 - ETA: 5s - loss: 0.0142 - acc: 0.998 - ETA: 4s - loss: 0.0141 - acc: 0.998 - ETA: 4s - loss: 0.0139 - acc: 0.998 - ETA: 4s - loss: 0.0141 - acc: 0.998 - ETA: 3s - loss: 0.0148 - acc: 0.998 - ETA: 3s - loss: 0.0143 - acc: 0.998 - ETA: 3s - loss: 0.0142 - acc: 0.998 - ETA: 2s - loss: 0.0141 - acc: 0.998 - ETA: 2s - loss: 0.0139 - acc: 0.998 - ETA: 1s - loss: 0.0142 - acc: 0.998 - ETA: 1s - loss: 0.0143 - acc: 0.998 - ETA: 1s - loss: 0.0152 - acc: 0.998 - ETA: 0s - loss: 0.0149 - acc: 0.998 - ETA: 0s - loss: 0.0152 - acc: 0.997 - ETA: 0s - loss: 0.0157 - acc: 0.997 - 15s 7ms/step - loss: 0.0156 - acc: 0.9973 - val_loss: 0.0050 - val_acc: 0.9982\n",
      "\n",
      "Epoch 00035: val_loss did not improve from 0.00473\n",
      "Epoch 36/50\n"
     ]
    },
    {
     "name": "stdout",
     "output_type": "stream",
     "text": [
      "2247/2247 [==============================] - ETA: 13s - loss: 0.0254 - acc: 0.98 - ETA: 13s - loss: 0.0215 - acc: 0.99 - ETA: 13s - loss: 0.0173 - acc: 0.99 - ETA: 12s - loss: 0.0155 - acc: 0.99 - ETA: 12s - loss: 0.0175 - acc: 0.99 - ETA: 11s - loss: 0.0160 - acc: 0.99 - ETA: 11s - loss: 0.0159 - acc: 0.99 - ETA: 10s - loss: 0.0180 - acc: 0.99 - ETA: 10s - loss: 0.0179 - acc: 0.99 - ETA: 9s - loss: 0.0169 - acc: 0.9969 - ETA: 9s - loss: 0.0169 - acc: 0.997 - ETA: 9s - loss: 0.0175 - acc: 0.997 - ETA: 8s - loss: 0.0183 - acc: 0.997 - ETA: 8s - loss: 0.0183 - acc: 0.997 - ETA: 7s - loss: 0.0176 - acc: 0.997 - ETA: 7s - loss: 0.0190 - acc: 0.997 - ETA: 7s - loss: 0.0189 - acc: 0.997 - ETA: 6s - loss: 0.0187 - acc: 0.997 - ETA: 6s - loss: 0.0182 - acc: 0.997 - ETA: 5s - loss: 0.0185 - acc: 0.997 - ETA: 5s - loss: 0.0184 - acc: 0.997 - ETA: 5s - loss: 0.0178 - acc: 0.997 - ETA: 4s - loss: 0.0179 - acc: 0.998 - ETA: 4s - loss: 0.0182 - acc: 0.998 - ETA: 3s - loss: 0.0178 - acc: 0.998 - ETA: 3s - loss: 0.0175 - acc: 0.998 - ETA: 3s - loss: 0.0178 - acc: 0.998 - ETA: 2s - loss: 0.0174 - acc: 0.998 - ETA: 2s - loss: 0.0170 - acc: 0.998 - ETA: 2s - loss: 0.0168 - acc: 0.998 - ETA: 1s - loss: 0.0165 - acc: 0.998 - ETA: 1s - loss: 0.0173 - acc: 0.998 - ETA: 0s - loss: 0.0169 - acc: 0.998 - ETA: 0s - loss: 0.0166 - acc: 0.998 - ETA: 0s - loss: 0.0166 - acc: 0.998 - 15s 7ms/step - loss: 0.0165 - acc: 0.9982 - val_loss: 0.0053 - val_acc: 0.9982\n",
      "\n",
      "Epoch 00036: val_loss did not improve from 0.00473\n",
      "Epoch 37/50\n",
      "2247/2247 [==============================] - ETA: 12s - loss: 0.0146 - acc: 1.00 - ETA: 12s - loss: 0.0109 - acc: 1.00 - ETA: 12s - loss: 0.0097 - acc: 1.00 - ETA: 11s - loss: 0.0097 - acc: 1.00 - ETA: 11s - loss: 0.0082 - acc: 1.00 - ETA: 11s - loss: 0.0090 - acc: 1.00 - ETA: 10s - loss: 0.0134 - acc: 0.99 - ETA: 10s - loss: 0.0128 - acc: 0.99 - ETA: 10s - loss: 0.0145 - acc: 0.99 - ETA: 9s - loss: 0.0138 - acc: 0.9984 - ETA: 9s - loss: 0.0129 - acc: 0.998 - ETA: 8s - loss: 0.0124 - acc: 0.998 - ETA: 8s - loss: 0.0123 - acc: 0.998 - ETA: 8s - loss: 0.0123 - acc: 0.998 - ETA: 7s - loss: 0.0122 - acc: 0.999 - ETA: 7s - loss: 0.0128 - acc: 0.999 - ETA: 6s - loss: 0.0126 - acc: 0.999 - ETA: 6s - loss: 0.0124 - acc: 0.999 - ETA: 6s - loss: 0.0122 - acc: 0.999 - ETA: 5s - loss: 0.0118 - acc: 0.999 - ETA: 5s - loss: 0.0123 - acc: 0.998 - ETA: 5s - loss: 0.0125 - acc: 0.998 - ETA: 4s - loss: 0.0124 - acc: 0.998 - ETA: 4s - loss: 0.0125 - acc: 0.998 - ETA: 3s - loss: 0.0134 - acc: 0.998 - ETA: 3s - loss: 0.0132 - acc: 0.998 - ETA: 3s - loss: 0.0132 - acc: 0.998 - ETA: 2s - loss: 0.0129 - acc: 0.998 - ETA: 2s - loss: 0.0136 - acc: 0.997 - ETA: 1s - loss: 0.0140 - acc: 0.997 - ETA: 1s - loss: 0.0145 - acc: 0.997 - ETA: 1s - loss: 0.0144 - acc: 0.997 - ETA: 0s - loss: 0.0142 - acc: 0.997 - ETA: 0s - loss: 0.0140 - acc: 0.997 - ETA: 0s - loss: 0.0144 - acc: 0.997 - 15s 7ms/step - loss: 0.0143 - acc: 0.9978 - val_loss: 0.0074 - val_acc: 0.9982\n",
      "\n",
      "Epoch 00037: val_loss did not improve from 0.00473\n",
      "Epoch 38/50\n",
      "2247/2247 [==============================] - ETA: 13s - loss: 0.0124 - acc: 1.00 - ETA: 12s - loss: 0.0129 - acc: 1.00 - ETA: 12s - loss: 0.0266 - acc: 0.99 - ETA: 12s - loss: 0.0209 - acc: 0.99 - ETA: 11s - loss: 0.0200 - acc: 0.99 - ETA: 11s - loss: 0.0174 - acc: 0.99 - ETA: 10s - loss: 0.0170 - acc: 0.99 - ETA: 10s - loss: 0.0163 - acc: 0.99 - ETA: 9s - loss: 0.0153 - acc: 0.9983 - ETA: 9s - loss: 0.0143 - acc: 0.998 - ETA: 9s - loss: 0.0144 - acc: 0.998 - ETA: 8s - loss: 0.0136 - acc: 0.998 - ETA: 8s - loss: 0.0126 - acc: 0.998 - ETA: 8s - loss: 0.0126 - acc: 0.998 - ETA: 7s - loss: 0.0133 - acc: 0.999 - ETA: 7s - loss: 0.0139 - acc: 0.999 - ETA: 6s - loss: 0.0131 - acc: 0.999 - ETA: 6s - loss: 0.0146 - acc: 0.998 - ETA: 6s - loss: 0.0147 - acc: 0.998 - ETA: 5s - loss: 0.0142 - acc: 0.998 - ETA: 5s - loss: 0.0160 - acc: 0.997 - ETA: 4s - loss: 0.0162 - acc: 0.997 - ETA: 4s - loss: 0.0157 - acc: 0.997 - ETA: 4s - loss: 0.0164 - acc: 0.996 - ETA: 3s - loss: 0.0165 - acc: 0.996 - ETA: 3s - loss: 0.0161 - acc: 0.997 - ETA: 3s - loss: 0.0159 - acc: 0.997 - ETA: 2s - loss: 0.0160 - acc: 0.997 - ETA: 2s - loss: 0.0170 - acc: 0.996 - ETA: 1s - loss: 0.0166 - acc: 0.996 - ETA: 1s - loss: 0.0162 - acc: 0.996 - ETA: 1s - loss: 0.0161 - acc: 0.996 - ETA: 0s - loss: 0.0160 - acc: 0.996 - ETA: 0s - loss: 0.0157 - acc: 0.996 - ETA: 0s - loss: 0.0156 - acc: 0.996 - 15s 7ms/step - loss: 0.0156 - acc: 0.9969 - val_loss: 0.0016 - val_acc: 1.0000\n",
      "\n",
      "Epoch 00038: val_loss improved from 0.00473 to 0.00160, saving model to weight_MobileNet.hdf5\n",
      "Epoch 39/50\n",
      "2247/2247 [==============================] - ETA: 13s - loss: 0.0083 - acc: 1.00 - ETA: 12s - loss: 0.0072 - acc: 1.00 - ETA: 12s - loss: 0.0141 - acc: 0.99 - ETA: 11s - loss: 0.0157 - acc: 0.99 - ETA: 11s - loss: 0.0135 - acc: 0.99 - ETA: 11s - loss: 0.0118 - acc: 0.99 - ETA: 11s - loss: 0.0114 - acc: 0.99 - ETA: 10s - loss: 0.0122 - acc: 0.99 - ETA: 10s - loss: 0.0119 - acc: 0.99 - ETA: 10s - loss: 0.0114 - acc: 0.99 - ETA: 9s - loss: 0.0106 - acc: 0.9986 - ETA: 9s - loss: 0.0106 - acc: 0.998 - ETA: 8s - loss: 0.0102 - acc: 0.998 - ETA: 8s - loss: 0.0141 - acc: 0.997 - ETA: 7s - loss: 0.0135 - acc: 0.997 - ETA: 7s - loss: 0.0131 - acc: 0.998 - ETA: 7s - loss: 0.0128 - acc: 0.998 - ETA: 6s - loss: 0.0128 - acc: 0.998 - ETA: 6s - loss: 0.0125 - acc: 0.998 - ETA: 5s - loss: 0.0123 - acc: 0.998 - ETA: 5s - loss: 0.0125 - acc: 0.998 - ETA: 5s - loss: 0.0124 - acc: 0.998 - ETA: 4s - loss: 0.0120 - acc: 0.998 - ETA: 4s - loss: 0.0120 - acc: 0.998 - ETA: 3s - loss: 0.0116 - acc: 0.998 - ETA: 3s - loss: 0.0120 - acc: 0.998 - ETA: 3s - loss: 0.0119 - acc: 0.998 - ETA: 2s - loss: 0.0117 - acc: 0.998 - ETA: 2s - loss: 0.0123 - acc: 0.997 - ETA: 2s - loss: 0.0121 - acc: 0.997 - ETA: 1s - loss: 0.0118 - acc: 0.998 - ETA: 1s - loss: 0.0119 - acc: 0.998 - ETA: 0s - loss: 0.0119 - acc: 0.998 - ETA: 0s - loss: 0.0118 - acc: 0.998 - ETA: 0s - loss: 0.0118 - acc: 0.998 - 16s 7ms/step - loss: 0.0117 - acc: 0.9982 - val_loss: 0.0031 - val_acc: 0.9982\n",
      "\n",
      "Epoch 00039: val_loss did not improve from 0.00160\n",
      "Epoch 40/50\n",
      "2247/2247 [==============================] - ETA: 14s - loss: 0.0031 - acc: 1.00 - ETA: 13s - loss: 0.0026 - acc: 1.00 - ETA: 12s - loss: 0.0043 - acc: 1.00 - ETA: 12s - loss: 0.0084 - acc: 1.00 - ETA: 11s - loss: 0.0090 - acc: 1.00 - ETA: 11s - loss: 0.0087 - acc: 1.00 - ETA: 11s - loss: 0.0108 - acc: 1.00 - ETA: 10s - loss: 0.0140 - acc: 0.99 - ETA: 10s - loss: 0.0128 - acc: 0.99 - ETA: 9s - loss: 0.0135 - acc: 0.9984 - ETA: 9s - loss: 0.0144 - acc: 0.997 - ETA: 9s - loss: 0.0152 - acc: 0.997 - ETA: 8s - loss: 0.0145 - acc: 0.997 - ETA: 8s - loss: 0.0139 - acc: 0.997 - ETA: 7s - loss: 0.0136 - acc: 0.997 - ETA: 7s - loss: 0.0140 - acc: 0.998 - ETA: 7s - loss: 0.0139 - acc: 0.998 - ETA: 6s - loss: 0.0137 - acc: 0.998 - ETA: 6s - loss: 0.0133 - acc: 0.998 - ETA: 6s - loss: 0.0136 - acc: 0.997 - ETA: 5s - loss: 0.0136 - acc: 0.997 - ETA: 5s - loss: 0.0133 - acc: 0.997 - ETA: 4s - loss: 0.0142 - acc: 0.997 - ETA: 4s - loss: 0.0136 - acc: 0.997 - ETA: 4s - loss: 0.0132 - acc: 0.997 - ETA: 3s - loss: 0.0130 - acc: 0.997 - ETA: 3s - loss: 0.0126 - acc: 0.997 - ETA: 2s - loss: 0.0124 - acc: 0.997 - ETA: 2s - loss: 0.0131 - acc: 0.997 - ETA: 2s - loss: 0.0128 - acc: 0.997 - ETA: 1s - loss: 0.0126 - acc: 0.998 - ETA: 1s - loss: 0.0127 - acc: 0.998 - ETA: 0s - loss: 0.0127 - acc: 0.998 - ETA: 0s - loss: 0.0127 - acc: 0.998 - ETA: 0s - loss: 0.0129 - acc: 0.997 - 15s 7ms/step - loss: 0.0129 - acc: 0.9978 - val_loss: 0.0022 - val_acc: 0.9982\n",
      "\n",
      "Epoch 00040: val_loss did not improve from 0.00160\n",
      "Epoch 41/50\n"
     ]
    },
    {
     "name": "stdout",
     "output_type": "stream",
     "text": [
      "2247/2247 [==============================] - ETA: 14s - loss: 0.0117 - acc: 1.00 - ETA: 13s - loss: 0.0180 - acc: 0.99 - ETA: 12s - loss: 0.0151 - acc: 0.99 - ETA: 12s - loss: 0.0122 - acc: 0.99 - ETA: 11s - loss: 0.0117 - acc: 0.99 - ETA: 11s - loss: 0.0106 - acc: 0.99 - ETA: 11s - loss: 0.0108 - acc: 0.99 - ETA: 10s - loss: 0.0105 - acc: 0.99 - ETA: 10s - loss: 0.0112 - acc: 0.99 - ETA: 9s - loss: 0.0118 - acc: 0.9984 - ETA: 9s - loss: 0.0110 - acc: 0.998 - ETA: 9s - loss: 0.0104 - acc: 0.998 - ETA: 8s - loss: 0.0099 - acc: 0.998 - ETA: 8s - loss: 0.0102 - acc: 0.998 - ETA: 7s - loss: 0.0104 - acc: 0.999 - ETA: 7s - loss: 0.0103 - acc: 0.999 - ETA: 7s - loss: 0.0108 - acc: 0.999 - ETA: 6s - loss: 0.0109 - acc: 0.999 - ETA: 6s - loss: 0.0147 - acc: 0.998 - ETA: 5s - loss: 0.0143 - acc: 0.998 - ETA: 5s - loss: 0.0138 - acc: 0.998 - ETA: 5s - loss: 0.0139 - acc: 0.998 - ETA: 4s - loss: 0.0136 - acc: 0.998 - ETA: 4s - loss: 0.0134 - acc: 0.998 - ETA: 3s - loss: 0.0132 - acc: 0.998 - ETA: 3s - loss: 0.0128 - acc: 0.998 - ETA: 3s - loss: 0.0127 - acc: 0.998 - ETA: 2s - loss: 0.0124 - acc: 0.998 - ETA: 2s - loss: 0.0123 - acc: 0.998 - ETA: 1s - loss: 0.0129 - acc: 0.998 - ETA: 1s - loss: 0.0131 - acc: 0.998 - ETA: 1s - loss: 0.0130 - acc: 0.998 - ETA: 0s - loss: 0.0129 - acc: 0.998 - ETA: 0s - loss: 0.0126 - acc: 0.998 - ETA: 0s - loss: 0.0124 - acc: 0.998 - 15s 7ms/step - loss: 0.0124 - acc: 0.9987 - val_loss: 0.0028 - val_acc: 0.9982\n",
      "\n",
      "Epoch 00041: val_loss did not improve from 0.00160\n",
      "Epoch 42/50\n",
      "2247/2247 [==============================] - ETA: 12s - loss: 0.0030 - acc: 1.00 - ETA: 11s - loss: 0.0165 - acc: 1.00 - ETA: 11s - loss: 0.0156 - acc: 1.00 - ETA: 11s - loss: 0.0139 - acc: 1.00 - ETA: 11s - loss: 0.0131 - acc: 1.00 - ETA: 10s - loss: 0.0145 - acc: 0.99 - ETA: 10s - loss: 0.0141 - acc: 0.99 - ETA: 10s - loss: 0.0138 - acc: 0.99 - ETA: 10s - loss: 0.0127 - acc: 0.99 - ETA: 9s - loss: 0.0120 - acc: 0.9984 - ETA: 9s - loss: 0.0121 - acc: 0.998 - ETA: 9s - loss: 0.0129 - acc: 0.998 - ETA: 8s - loss: 0.0128 - acc: 0.998 - ETA: 8s - loss: 0.0137 - acc: 0.997 - ETA: 7s - loss: 0.0136 - acc: 0.997 - ETA: 7s - loss: 0.0138 - acc: 0.998 - ETA: 7s - loss: 0.0132 - acc: 0.998 - ETA: 6s - loss: 0.0128 - acc: 0.998 - ETA: 6s - loss: 0.0125 - acc: 0.998 - ETA: 6s - loss: 0.0124 - acc: 0.998 - ETA: 5s - loss: 0.0120 - acc: 0.998 - ETA: 5s - loss: 0.0132 - acc: 0.997 - ETA: 5s - loss: 0.0132 - acc: 0.998 - ETA: 4s - loss: 0.0134 - acc: 0.998 - ETA: 4s - loss: 0.0132 - acc: 0.998 - ETA: 3s - loss: 0.0133 - acc: 0.998 - ETA: 3s - loss: 0.0130 - acc: 0.998 - ETA: 2s - loss: 0.0140 - acc: 0.997 - ETA: 2s - loss: 0.0140 - acc: 0.997 - ETA: 2s - loss: 0.0139 - acc: 0.997 - ETA: 1s - loss: 0.0138 - acc: 0.998 - ETA: 1s - loss: 0.0135 - acc: 0.998 - ETA: 0s - loss: 0.0134 - acc: 0.998 - ETA: 0s - loss: 0.0131 - acc: 0.998 - ETA: 0s - loss: 0.0131 - acc: 0.998 - 16s 7ms/step - loss: 0.0130 - acc: 0.9982 - val_loss: 0.0092 - val_acc: 0.9964\n",
      "\n",
      "Epoch 00042: val_loss did not improve from 0.00160\n",
      "Epoch 43/50\n",
      "2247/2247 [==============================] - ETA: 12s - loss: 0.0076 - acc: 1.00 - ETA: 12s - loss: 0.0105 - acc: 1.00 - ETA: 12s - loss: 0.0079 - acc: 1.00 - ETA: 12s - loss: 0.0097 - acc: 1.00 - ETA: 12s - loss: 0.0094 - acc: 1.00 - ETA: 11s - loss: 0.0084 - acc: 1.00 - ETA: 11s - loss: 0.0093 - acc: 1.00 - ETA: 11s - loss: 0.0088 - acc: 1.00 - ETA: 10s - loss: 0.0092 - acc: 1.00 - ETA: 10s - loss: 0.0087 - acc: 1.00 - ETA: 9s - loss: 0.0083 - acc: 1.0000 - ETA: 9s - loss: 0.0081 - acc: 1.000 - ETA: 8s - loss: 0.0083 - acc: 1.000 - ETA: 8s - loss: 0.0088 - acc: 1.000 - ETA: 8s - loss: 0.0085 - acc: 1.000 - ETA: 7s - loss: 0.0082 - acc: 1.000 - ETA: 7s - loss: 0.0085 - acc: 1.000 - ETA: 6s - loss: 0.0091 - acc: 1.000 - ETA: 6s - loss: 0.0090 - acc: 1.000 - ETA: 6s - loss: 0.0097 - acc: 0.999 - ETA: 5s - loss: 0.0099 - acc: 0.999 - ETA: 5s - loss: 0.0119 - acc: 0.998 - ETA: 4s - loss: 0.0116 - acc: 0.998 - ETA: 4s - loss: 0.0112 - acc: 0.998 - ETA: 4s - loss: 0.0109 - acc: 0.998 - ETA: 3s - loss: 0.0105 - acc: 0.998 - ETA: 3s - loss: 0.0109 - acc: 0.998 - ETA: 2s - loss: 0.0108 - acc: 0.998 - ETA: 2s - loss: 0.0105 - acc: 0.998 - ETA: 2s - loss: 0.0106 - acc: 0.999 - ETA: 1s - loss: 0.0103 - acc: 0.999 - ETA: 1s - loss: 0.0101 - acc: 0.999 - ETA: 0s - loss: 0.0099 - acc: 0.999 - ETA: 0s - loss: 0.0099 - acc: 0.999 - ETA: 0s - loss: 0.0097 - acc: 0.999 - 16s 7ms/step - loss: 0.0097 - acc: 0.9991 - val_loss: 0.0076 - val_acc: 0.9964\n",
      "\n",
      "Epoch 00043: val_loss did not improve from 0.00160\n",
      "Epoch 44/50\n",
      "2247/2247 [==============================] - ETA: 14s - loss: 0.0100 - acc: 1.00 - ETA: 13s - loss: 0.0072 - acc: 1.00 - ETA: 12s - loss: 0.0133 - acc: 0.99 - ETA: 12s - loss: 0.0119 - acc: 0.99 - ETA: 11s - loss: 0.0099 - acc: 0.99 - ETA: 11s - loss: 0.0090 - acc: 0.99 - ETA: 10s - loss: 0.0083 - acc: 0.99 - ETA: 10s - loss: 0.0088 - acc: 0.99 - ETA: 10s - loss: 0.0088 - acc: 0.99 - ETA: 9s - loss: 0.0087 - acc: 0.9984 - ETA: 9s - loss: 0.0083 - acc: 0.998 - ETA: 9s - loss: 0.0082 - acc: 0.998 - ETA: 8s - loss: 0.0077 - acc: 0.998 - ETA: 8s - loss: 0.0079 - acc: 0.998 - ETA: 7s - loss: 0.0077 - acc: 0.999 - ETA: 7s - loss: 0.0076 - acc: 0.999 - ETA: 7s - loss: 0.0088 - acc: 0.998 - ETA: 6s - loss: 0.0088 - acc: 0.998 - ETA: 6s - loss: 0.0085 - acc: 0.998 - ETA: 5s - loss: 0.0085 - acc: 0.998 - ETA: 5s - loss: 0.0085 - acc: 0.998 - ETA: 5s - loss: 0.0084 - acc: 0.998 - ETA: 4s - loss: 0.0086 - acc: 0.998 - ETA: 4s - loss: 0.0084 - acc: 0.998 - ETA: 4s - loss: 0.0087 - acc: 0.998 - ETA: 3s - loss: 0.0085 - acc: 0.998 - ETA: 3s - loss: 0.0084 - acc: 0.998 - ETA: 2s - loss: 0.0082 - acc: 0.998 - ETA: 2s - loss: 0.0087 - acc: 0.998 - ETA: 2s - loss: 0.0086 - acc: 0.999 - ETA: 1s - loss: 0.0088 - acc: 0.999 - ETA: 1s - loss: 0.0088 - acc: 0.999 - ETA: 0s - loss: 0.0088 - acc: 0.999 - ETA: 0s - loss: 0.0089 - acc: 0.999 - ETA: 0s - loss: 0.0089 - acc: 0.999 - 15s 7ms/step - loss: 0.0089 - acc: 0.9991 - val_loss: 0.0048 - val_acc: 0.9982\n",
      "\n",
      "Epoch 00044: val_loss did not improve from 0.00160\n",
      "Epoch 45/50\n",
      "2247/2247 [==============================] - ETA: 13s - loss: 0.0015 - acc: 1.00 - ETA: 13s - loss: 0.0094 - acc: 1.00 - ETA: 12s - loss: 0.0077 - acc: 1.00 - ETA: 12s - loss: 0.0066 - acc: 1.00 - ETA: 11s - loss: 0.0064 - acc: 1.00 - ETA: 11s - loss: 0.0059 - acc: 1.00 - ETA: 10s - loss: 0.0057 - acc: 1.00 - ETA: 10s - loss: 0.0086 - acc: 0.99 - ETA: 10s - loss: 0.0084 - acc: 0.99 - ETA: 9s - loss: 0.0080 - acc: 0.9984 - ETA: 9s - loss: 0.0083 - acc: 0.998 - ETA: 9s - loss: 0.0081 - acc: 0.998 - ETA: 8s - loss: 0.0076 - acc: 0.998 - ETA: 8s - loss: 0.0072 - acc: 0.998 - ETA: 7s - loss: 0.0070 - acc: 0.999 - ETA: 7s - loss: 0.0078 - acc: 0.999 - ETA: 7s - loss: 0.0083 - acc: 0.998 - ETA: 6s - loss: 0.0080 - acc: 0.998 - ETA: 6s - loss: 0.0077 - acc: 0.998 - ETA: 5s - loss: 0.0078 - acc: 0.998 - ETA: 5s - loss: 0.0077 - acc: 0.998 - ETA: 5s - loss: 0.0075 - acc: 0.998 - ETA: 4s - loss: 0.0077 - acc: 0.998 - ETA: 4s - loss: 0.0075 - acc: 0.998 - ETA: 3s - loss: 0.0075 - acc: 0.998 - ETA: 3s - loss: 0.0073 - acc: 0.998 - ETA: 3s - loss: 0.0071 - acc: 0.998 - ETA: 2s - loss: 0.0072 - acc: 0.998 - ETA: 2s - loss: 0.0070 - acc: 0.998 - ETA: 1s - loss: 0.0068 - acc: 0.999 - ETA: 1s - loss: 0.0076 - acc: 0.998 - ETA: 1s - loss: 0.0077 - acc: 0.998 - ETA: 0s - loss: 0.0077 - acc: 0.998 - ETA: 0s - loss: 0.0080 - acc: 0.998 - ETA: 0s - loss: 0.0079 - acc: 0.998 - 15s 7ms/step - loss: 0.0080 - acc: 0.9987 - val_loss: 0.0043 - val_acc: 0.9982\n",
      "\n",
      "Epoch 00045: val_loss did not improve from 0.00160\n",
      "Epoch 46/50\n"
     ]
    },
    {
     "name": "stdout",
     "output_type": "stream",
     "text": [
      "2247/2247 [==============================] - ETA: 11s - loss: 0.0358 - acc: 0.98 - ETA: 12s - loss: 0.0203 - acc: 0.99 - ETA: 11s - loss: 0.0209 - acc: 0.99 - ETA: 11s - loss: 0.0168 - acc: 0.99 - ETA: 11s - loss: 0.0146 - acc: 0.99 - ETA: 11s - loss: 0.0134 - acc: 0.99 - ETA: 10s - loss: 0.0131 - acc: 0.99 - ETA: 10s - loss: 0.0121 - acc: 0.99 - ETA: 10s - loss: 0.0111 - acc: 0.99 - ETA: 9s - loss: 0.0123 - acc: 0.9969 - ETA: 9s - loss: 0.0114 - acc: 0.997 - ETA: 9s - loss: 0.0160 - acc: 0.996 - ETA: 8s - loss: 0.0159 - acc: 0.996 - ETA: 8s - loss: 0.0156 - acc: 0.996 - ETA: 7s - loss: 0.0156 - acc: 0.996 - ETA: 7s - loss: 0.0151 - acc: 0.997 - ETA: 7s - loss: 0.0159 - acc: 0.996 - ETA: 6s - loss: 0.0153 - acc: 0.996 - ETA: 6s - loss: 0.0156 - acc: 0.996 - ETA: 5s - loss: 0.0150 - acc: 0.996 - ETA: 5s - loss: 0.0156 - acc: 0.996 - ETA: 5s - loss: 0.0156 - acc: 0.996 - ETA: 4s - loss: 0.0154 - acc: 0.996 - ETA: 4s - loss: 0.0151 - acc: 0.996 - ETA: 3s - loss: 0.0148 - acc: 0.996 - ETA: 3s - loss: 0.0145 - acc: 0.997 - ETA: 3s - loss: 0.0140 - acc: 0.997 - ETA: 2s - loss: 0.0137 - acc: 0.997 - ETA: 2s - loss: 0.0135 - acc: 0.997 - ETA: 2s - loss: 0.0133 - acc: 0.997 - ETA: 1s - loss: 0.0130 - acc: 0.997 - ETA: 1s - loss: 0.0127 - acc: 0.997 - ETA: 0s - loss: 0.0124 - acc: 0.997 - ETA: 0s - loss: 0.0122 - acc: 0.997 - ETA: 0s - loss: 0.0123 - acc: 0.997 - 15s 7ms/step - loss: 0.0122 - acc: 0.9973 - val_loss: 0.0032 - val_acc: 0.9982\n",
      "\n",
      "Epoch 00046: val_loss did not improve from 0.00160\n",
      "Epoch 47/50\n",
      "2247/2247 [==============================] - ETA: 12s - loss: 0.0550 - acc: 0.98 - ETA: 11s - loss: 0.0326 - acc: 0.99 - ETA: 11s - loss: 0.0241 - acc: 0.99 - ETA: 11s - loss: 0.0196 - acc: 0.99 - ETA: 11s - loss: 0.0196 - acc: 0.99 - ETA: 10s - loss: 0.0178 - acc: 0.99 - ETA: 10s - loss: 0.0195 - acc: 0.99 - ETA: 10s - loss: 0.0184 - acc: 0.99 - ETA: 9s - loss: 0.0166 - acc: 0.9948 - ETA: 9s - loss: 0.0186 - acc: 0.993 - ETA: 9s - loss: 0.0176 - acc: 0.994 - ETA: 8s - loss: 0.0178 - acc: 0.993 - ETA: 8s - loss: 0.0175 - acc: 0.994 - ETA: 8s - loss: 0.0170 - acc: 0.994 - ETA: 7s - loss: 0.0161 - acc: 0.994 - ETA: 7s - loss: 0.0154 - acc: 0.995 - ETA: 6s - loss: 0.0149 - acc: 0.995 - ETA: 6s - loss: 0.0149 - acc: 0.995 - ETA: 6s - loss: 0.0149 - acc: 0.995 - ETA: 5s - loss: 0.0144 - acc: 0.996 - ETA: 5s - loss: 0.0142 - acc: 0.996 - ETA: 5s - loss: 0.0140 - acc: 0.996 - ETA: 4s - loss: 0.0137 - acc: 0.996 - ETA: 4s - loss: 0.0132 - acc: 0.996 - ETA: 3s - loss: 0.0130 - acc: 0.996 - ETA: 3s - loss: 0.0129 - acc: 0.997 - ETA: 3s - loss: 0.0131 - acc: 0.996 - ETA: 2s - loss: 0.0128 - acc: 0.996 - ETA: 2s - loss: 0.0128 - acc: 0.996 - ETA: 1s - loss: 0.0125 - acc: 0.996 - ETA: 1s - loss: 0.0121 - acc: 0.997 - ETA: 1s - loss: 0.0119 - acc: 0.997 - ETA: 0s - loss: 0.0122 - acc: 0.996 - ETA: 0s - loss: 0.0122 - acc: 0.996 - ETA: 0s - loss: 0.0123 - acc: 0.996 - 15s 7ms/step - loss: 0.0123 - acc: 0.9969 - val_loss: 0.0038 - val_acc: 0.9982\n",
      "\n",
      "Epoch 00047: val_loss did not improve from 0.00160\n",
      "Epoch 48/50\n",
      "2247/2247 [==============================] - ETA: 12s - loss: 0.0026 - acc: 1.00 - ETA: 12s - loss: 0.0032 - acc: 1.00 - ETA: 12s - loss: 0.0049 - acc: 1.00 - ETA: 11s - loss: 0.0060 - acc: 1.00 - ETA: 11s - loss: 0.0053 - acc: 1.00 - ETA: 11s - loss: 0.0074 - acc: 1.00 - ETA: 10s - loss: 0.0132 - acc: 0.99 - ETA: 10s - loss: 0.0130 - acc: 0.99 - ETA: 9s - loss: 0.0125 - acc: 0.9983 - ETA: 9s - loss: 0.0124 - acc: 0.998 - ETA: 9s - loss: 0.0118 - acc: 0.998 - ETA: 8s - loss: 0.0116 - acc: 0.998 - ETA: 8s - loss: 0.0115 - acc: 0.998 - ETA: 8s - loss: 0.0109 - acc: 0.998 - ETA: 7s - loss: 0.0105 - acc: 0.999 - ETA: 7s - loss: 0.0103 - acc: 0.999 - ETA: 7s - loss: 0.0101 - acc: 0.999 - ETA: 6s - loss: 0.0099 - acc: 0.999 - ETA: 6s - loss: 0.0099 - acc: 0.999 - ETA: 5s - loss: 0.0112 - acc: 0.998 - ETA: 5s - loss: 0.0109 - acc: 0.998 - ETA: 5s - loss: 0.0106 - acc: 0.998 - ETA: 4s - loss: 0.0105 - acc: 0.998 - ETA: 4s - loss: 0.0103 - acc: 0.998 - ETA: 3s - loss: 0.0102 - acc: 0.998 - ETA: 3s - loss: 0.0100 - acc: 0.998 - ETA: 3s - loss: 0.0099 - acc: 0.998 - ETA: 2s - loss: 0.0098 - acc: 0.998 - ETA: 2s - loss: 0.0096 - acc: 0.998 - ETA: 1s - loss: 0.0096 - acc: 0.999 - ETA: 1s - loss: 0.0095 - acc: 0.999 - ETA: 1s - loss: 0.0094 - acc: 0.999 - ETA: 0s - loss: 0.0096 - acc: 0.999 - ETA: 0s - loss: 0.0098 - acc: 0.998 - ETA: 0s - loss: 0.0096 - acc: 0.998 - 15s 7ms/step - loss: 0.0096 - acc: 0.9987 - val_loss: 0.0034 - val_acc: 0.9982\n",
      "\n",
      "Epoch 00048: val_loss did not improve from 0.00160\n",
      "Epoch 49/50\n",
      "2247/2247 [==============================] - ETA: 13s - loss: 0.0030 - acc: 1.00 - ETA: 13s - loss: 0.0061 - acc: 1.00 - ETA: 13s - loss: 0.0043 - acc: 1.00 - ETA: 12s - loss: 0.0087 - acc: 0.99 - ETA: 12s - loss: 0.0130 - acc: 0.99 - ETA: 11s - loss: 0.0110 - acc: 0.99 - ETA: 11s - loss: 0.0136 - acc: 0.99 - ETA: 11s - loss: 0.0136 - acc: 0.99 - ETA: 10s - loss: 0.0134 - acc: 0.99 - ETA: 10s - loss: 0.0123 - acc: 0.99 - ETA: 9s - loss: 0.0118 - acc: 0.9972 - ETA: 9s - loss: 0.0112 - acc: 0.997 - ETA: 8s - loss: 0.0119 - acc: 0.996 - ETA: 8s - loss: 0.0111 - acc: 0.996 - ETA: 8s - loss: 0.0106 - acc: 0.996 - ETA: 7s - loss: 0.0104 - acc: 0.997 - ETA: 7s - loss: 0.0104 - acc: 0.997 - ETA: 6s - loss: 0.0101 - acc: 0.997 - ETA: 6s - loss: 0.0098 - acc: 0.997 - ETA: 5s - loss: 0.0095 - acc: 0.997 - ETA: 5s - loss: 0.0098 - acc: 0.997 - ETA: 5s - loss: 0.0098 - acc: 0.997 - ETA: 4s - loss: 0.0100 - acc: 0.998 - ETA: 4s - loss: 0.0097 - acc: 0.998 - ETA: 3s - loss: 0.0104 - acc: 0.998 - ETA: 3s - loss: 0.0107 - acc: 0.998 - ETA: 3s - loss: 0.0107 - acc: 0.998 - ETA: 2s - loss: 0.0103 - acc: 0.998 - ETA: 2s - loss: 0.0100 - acc: 0.998 - ETA: 1s - loss: 0.0099 - acc: 0.998 - ETA: 1s - loss: 0.0098 - acc: 0.998 - ETA: 1s - loss: 0.0098 - acc: 0.998 - ETA: 0s - loss: 0.0096 - acc: 0.998 - ETA: 0s - loss: 0.0094 - acc: 0.998 - ETA: 0s - loss: 0.0098 - acc: 0.998 - 15s 7ms/step - loss: 0.0098 - acc: 0.9982 - val_loss: 0.0041 - val_acc: 0.9982\n",
      "\n",
      "Epoch 00049: val_loss did not improve from 0.00160\n",
      "Epoch 50/50\n",
      "2247/2247 [==============================] - ETA: 13s - loss: 0.0084 - acc: 1.00 - ETA: 12s - loss: 0.0084 - acc: 1.00 - ETA: 12s - loss: 0.0115 - acc: 0.99 - ETA: 12s - loss: 0.0094 - acc: 0.99 - ETA: 11s - loss: 0.0110 - acc: 0.99 - ETA: 11s - loss: 0.0100 - acc: 0.99 - ETA: 10s - loss: 0.0102 - acc: 0.99 - ETA: 10s - loss: 0.0094 - acc: 0.99 - ETA: 9s - loss: 0.0136 - acc: 0.9931 - ETA: 9s - loss: 0.0133 - acc: 0.993 - ETA: 9s - loss: 0.0127 - acc: 0.994 - ETA: 8s - loss: 0.0125 - acc: 0.994 - ETA: 8s - loss: 0.0123 - acc: 0.995 - ETA: 8s - loss: 0.0116 - acc: 0.995 - ETA: 7s - loss: 0.0111 - acc: 0.995 - ETA: 7s - loss: 0.0114 - acc: 0.996 - ETA: 6s - loss: 0.0109 - acc: 0.996 - ETA: 6s - loss: 0.0105 - acc: 0.996 - ETA: 6s - loss: 0.0103 - acc: 0.996 - ETA: 5s - loss: 0.0099 - acc: 0.996 - ETA: 5s - loss: 0.0095 - acc: 0.997 - ETA: 4s - loss: 0.0093 - acc: 0.997 - ETA: 4s - loss: 0.0091 - acc: 0.997 - ETA: 4s - loss: 0.0091 - acc: 0.997 - ETA: 3s - loss: 0.0090 - acc: 0.997 - ETA: 3s - loss: 0.0089 - acc: 0.997 - ETA: 3s - loss: 0.0086 - acc: 0.997 - ETA: 2s - loss: 0.0085 - acc: 0.997 - ETA: 2s - loss: 0.0082 - acc: 0.997 - ETA: 1s - loss: 0.0084 - acc: 0.997 - ETA: 1s - loss: 0.0084 - acc: 0.998 - ETA: 1s - loss: 0.0083 - acc: 0.998 - ETA: 0s - loss: 0.0081 - acc: 0.998 - ETA: 0s - loss: 0.0087 - acc: 0.998 - ETA: 0s - loss: 0.0085 - acc: 0.998 - 15s 7ms/step - loss: 0.0084 - acc: 0.9982 - val_loss: 0.0052 - val_acc: 0.9982\n",
      "\n",
      "Epoch 00050: val_loss did not improve from 0.00160\n"
     ]
    }
   ],
   "source": [
    "# training the model\n",
    "history = model.fit(X_train, y_train, epochs=50, validation_data=(X_test, y_test), callbacks=[mcp_save], batch_size=64, verbose=1)"
   ]
  },
  {
   "cell_type": "code",
   "execution_count": 19,
   "metadata": {},
   "outputs": [
    {
     "name": "stdout",
     "output_type": "stream",
     "text": [
      "dict_keys(['val_loss', 'val_acc', 'loss', 'acc'])\n"
     ]
    },
    {
     "data": {
      "image/png": "[encoded data removed]",
      "text/plain": [
       "<Figure size 432x288 with 1 Axes>"
      ]
     },
     "metadata": {
      "needs_background": "light"
     },
     "output_type": "display_data"
    },
    {
     "data": {
      "image/png": "[encoded data removed]",
      "text/plain": [
       "<Figure size 432x288 with 1 Axes>"
      ]
     },
     "metadata": {
      "needs_background": "light"
     },
     "output_type": "display_data"
    }
   ],
   "source": [
    "import matplotlib.pyplot as plt\n",
    "\n",
    "# list all data in history\n",
    "print(history.history.keys())\n",
    "# summarize history for accuracy\n",
    "plt.plot(history.history['acc'])\n",
    "plt.plot(history.history['val_acc'])\n",
    "plt.title('model accuracy')\n",
    "plt.ylabel('acc')\n",
    "plt.xlabel('epoch')\n",
    "plt.legend(['train', 'test'], loc='upper left')\n",
    "plt.show()\n",
    "# summarize history for loss\n",
    "plt.plot(history.history['loss'])\n",
    "plt.plot(history.history['val_loss'])\n",
    "plt.title('model loss')\n",
    "plt.ylabel('loss')\n",
    "plt.xlabel('epoch')\n",
    "plt.legend(['train', 'test'], loc='upper left')\n",
    "plt.show()"
   ]
  },
  {
   "cell_type": "code",
   "execution_count": null,
   "metadata": {},
   "outputs": [],
   "source": []
  }
 ],
 "metadata": {
  "kernelspec": {
   "display_name": "Python 3",
   "language": "python",
   "name": "python3"
  },
  "language_info": {
   "codemirror_mode": {
    "name": "ipython",
    "version": 3
   },
   "file_extension": ".py",
   "mimetype": "text/x-python",
   "name": "python",
   "nbconvert_exporter": "python",
   "pygments_lexer": "ipython3",
   "version": "3.6.9"
  }
 },
 "nbformat": 4,
 "nbformat_minor": 2
}
